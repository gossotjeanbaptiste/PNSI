{
 "cells": [
  {
   "cell_type": "markdown",
   "id": "3d6aea56",
   "metadata": {},
   "source": [
    "Nom :\n",
    "\n",
    "Prénom : "
   ]
  },
  {
   "cell_type": "markdown",
   "id": "a3c1d359",
   "metadata": {},
   "source": [
    "# NSI – Interrogation écrite n°4 – 09/02/2023\n",
    "\n",
    "Cette interrogation reprend les questions de la précédente mais se déroule sur machine. Vous disposez de votre copie corrigée ainsi que de tous vos documents sur votre ordinateur ainsi que sur le web.\n",
    "Le dépôt du travail se fera en fin de séance sous forme du présent notebook sur pronote.\n",
    "\n",
    "**N'oubliez pas d'enregistrer ce fichier avant de le déposer.**"
   ]
  },
  {
   "cell_type": "markdown",
   "id": "8e26b6f0",
   "metadata": {},
   "source": [
    "## Exercice 1 : amateurnote\n",
    "On veut créer un logiciel de gestion de notes.\n",
    "Les notes obtenues par un élève dans une matière sont stockées dans un tableau.\n",
    "1. Ecrire la fonction `moyenne` qui prend en argument un tableau de notes et renvoi la moyenne de ces notes."
   ]
  },
  {
   "cell_type": "code",
   "execution_count": null,
   "id": "267f27ff",
   "metadata": {},
   "outputs": [],
   "source": [
    "# Ecrire le code de votre fonction ci-dessous :\n",
    "\n",
    "\n",
    "\n",
    "# Appelez votre fonction pour calculer la moyenne des notes suivantes et affichez le résultat :\n",
    "n = [ 13.5, 1.5, 10.5, 3, 10, 17.5, 6, 7, 2.5, 0, 15.5, 7, 10.5, 4.5 ]\n",
    "\n",
    "\n",
    "# Vous pouvez utiliser l'espace ci-dessous pour écrire d'autres tests :\n",
    "\n"
   ]
  },
  {
   "cell_type": "markdown",
   "id": "889c7304",
   "metadata": {},
   "source": [
    "2. Ecrire la fonction `maximum` qui prend en argument un tableau de notes et renvoi la note la plus élevée obtenue.\n",
    "\n",
    "Votre fonction doit être capable d'opérer sur tout type de tableau de nombres, y compris sur un tableau ne contenant que des nombres négatifs."
   ]
  },
  {
   "cell_type": "code",
   "execution_count": null,
   "id": "291dee6e",
   "metadata": {},
   "outputs": [],
   "source": [
    "# Ecrire le code de votre fonction ci-dessous :\n",
    "\n",
    "\n",
    "\n",
    "# Appelez votre fonction pour trouver le maximum du tableau suivant et affichez le résultat :\n",
    "n = [ 13.5, 1.5, 10.5, 3, 10, 17.5, 6, 7, 2.5, 0, 15.5, 7, 10.5, 4.5 ]\n",
    "\n",
    "\n",
    "# Appelez votre fonction pour trouver le maximum du tableau suivant et affichez le résultat :\n",
    "n2 = [ -13.5, -10.5, -3, -10, -17.5, -6, -7, -15.5, -7, -10.5, -4.5 ]\n",
    "\n",
    "\n",
    "# Vous pouvez utiliser l'espace ci-dessous pour écrire d'autres tests :\n",
    "\n"
   ]
  },
  {
   "cell_type": "markdown",
   "id": "02e2681d",
   "metadata": {},
   "source": [
    "3. Pour détecter des erreurs de saisies, on veut vérifier que toutes les notes sont bien entre 0 et 20. Ecrire la fonction `estCorrect` qui prend en argument un tableau de notes et renvoi True si toutes les notes de ce tableau sont bien entre 0 et 20 ou bien False si au moins une note du tableau a une valeur incorrecte.\n",
    "\n",
    "Pour obtenir l'ensemble des points, votre fonction ne doit lire que les éléments nécessaires."
   ]
  },
  {
   "cell_type": "code",
   "execution_count": null,
   "id": "e266b7c5",
   "metadata": {},
   "outputs": [],
   "source": [
    "# Ecrire le code de votre fonction ci-dessous :\n",
    "\n",
    "\n",
    "\n",
    "# Appelez votre fonction pour vérifier que les notes suivantes sont correctes et affichez le résultat :\n",
    "n = [ 13.5, 1.5, 10.5, 3, 10, 17.5, 6, 7, 2.5, 0, 15.5, 7, 10.5, 4.5 ]\n",
    "\n",
    "\n",
    "# Appelez votre fonction pour vérifier que les notes suivantes sont correctes et affichez le résultat :\n",
    "n2 = [ 13.5, 1.5, -10.5, 3, 17.5, 7, 2.5, 15.5, 7, 10.5, 4.5 ]\n",
    "\n",
    "\n",
    "# Vous pouvez utiliser l'espace ci-dessous pour écrire d'autres tests :\n",
    "\n"
   ]
  },
  {
   "cell_type": "markdown",
   "id": "58c28ef9",
   "metadata": {},
   "source": [
    "4. Ecrire la fonction `plusQueMoy` qui prend en argument un tableau de notes et renvoi le nombre de notes supérieures ou égales à la moyenne de ces notes.\n",
    "\n",
    "Vous pouvez faire appel aux fonctions précédentes.\n",
    "\n",
    "Pour obtenir l'ensemble des points, votre fonction doit avoir la complexité en temps la moins élevée possible."
   ]
  },
  {
   "cell_type": "code",
   "execution_count": null,
   "id": "1868ad4f",
   "metadata": {},
   "outputs": [],
   "source": [
    "# Ecrire le code de votre fonction ci-dessous :\n",
    "\n",
    "\n",
    "\n",
    "# Appelez votre fonction sur le tableau suivant et affichez le résultat :\n",
    "n = [ 13.5, 1.5, 10.5, 3, 10, 17.5, 6, 7, 2.5, 0, 15.5, 7, 10.5, 4.5 ]\n",
    "\n",
    "\n",
    "# Vous pouvez utiliser l'espace ci-dessous pour écrire d'autres tests :\n",
    "\n"
   ]
  },
  {
   "cell_type": "markdown",
   "id": "fc4bd287",
   "metadata": {},
   "source": [
    "5. Ecrire la fonction `bonus` qui prend en argument un tableau de notes et une note bonus. La note bonus doit être intégrée au tableau seulement si elle augmente la moyenne.\n",
    "\n",
    "Cette fonction modifie le tableau de notes en ajoutant la note bonus quand il le faut et elle renvoi `True` si le bonus est ajouté et `False` sinon.\n",
    "\n",
    "Vous pouvez faire appel aux fonctions précédentes."
   ]
  },
  {
   "cell_type": "code",
   "execution_count": null,
   "id": "4631a8d4",
   "metadata": {},
   "outputs": [],
   "source": [
    "# Ecrire le code de votre fonction ci-dessous :\n",
    "\n",
    "\n",
    "\n",
    "# Appelez votre fonction sur le tableau suivant avec la note bonus 9. Affichez le tableau s'il a été modifié.\n",
    "n = [ 13.5, 1.5, 10.5, 3, 10, 17.5, 6, 7, 2.5, 0, 15.5, 7, 10.5, 4.5 ]\n",
    "\n",
    "\n",
    "# Vous pouvez utiliser l'espace ci-dessous pour écrire d'autres tests :\n",
    "\n"
   ]
  },
  {
   "cell_type": "markdown",
   "id": "44de5e0e",
   "metadata": {},
   "source": [
    "## Exercice 2 : Manipulation de tableaux\n",
    "\n",
    "**Dans toutes les fonctions suivantes, les tableaux doivent être modifiés en place (réellement). Les fonctions ne renvoient rien.**\n",
    "\n",
    "1. Ecrire la fonction `plusplus` qui prend en argument un tableau de nombres et ajoute 1 à tous ses éléments.\n",
    "\n",
    "Par exemple, avec `t = [ 1, 2, 3 ]`, après `plusplus(t)`, `t` vaudra `[ 2, 3, 4 ]`.\n"
   ]
  },
  {
   "cell_type": "code",
   "execution_count": null,
   "id": "79ad906e",
   "metadata": {},
   "outputs": [],
   "source": [
    "# Ecrire le code de votre fonction ci-dessous :\n",
    "\n",
    "\n",
    "\n",
    "# Appelez votre fonction sur les tableaux suivants et affichez le tableau obtenu :\n",
    "a = [ i for i in range(7) ]\n",
    "\n",
    "b = [ i * 2 for i in range(4) ]\n",
    "\n",
    "c = [ i for i in range(1, 100) if i % 2 == 1 ]\n",
    "\n",
    "\n",
    "# Vous pouvez utiliser l'espace ci-dessous pour écrire d'autres tests :\n",
    "\n"
   ]
  },
  {
   "cell_type": "markdown",
   "id": "39ba5c64",
   "metadata": {},
   "source": [
    "2. Ecrire la fonction `renverse` qui prend en argument un tableau et renverse ses éléments.\n",
    "\n",
    "Par exemple, avec `t = [ 1, 2, 3 ]`, après `renverse(t)`, `t` vaudra `[ 3, 2, 1 ]`."
   ]
  },
  {
   "cell_type": "code",
   "execution_count": null,
   "id": "7fbd5396",
   "metadata": {},
   "outputs": [],
   "source": [
    "# Ecrire le code de votre fonction ci-dessous :\n",
    "\n",
    "\n",
    "\n",
    "# Appelez votre fonction sur les tableaux suivants et affichez le tableau obtenu :\n",
    "a = [ i for i in range(7) ]\n",
    "\n",
    "b = [ i * 2 for i in range(4) ]\n",
    "\n",
    "c = [ i for i in range(1, 100) if i % 2 == 1 ]\n",
    "\n",
    "\n",
    "# Vous pouvez utiliser l'espace ci-dessous pour écrire d'autres tests :\n",
    "\n"
   ]
  },
  {
   "cell_type": "markdown",
   "id": "f93aaf72",
   "metadata": {},
   "source": [
    "3. Ecrire la fonction `palindrome` qui prend en argument un tableau ajoute des éléments de manière à le transformer en palindrome.\n",
    "Par exemple, avec `t = [ 1, 2, 3 ]`, après `palindrome(t)`, `t` vaudra `[ 1, 2, 3, 2, 1 ]`.\n",
    "Le tableau ainsi obtenu ne sera donc pas modifié par la fonction `renverse`.\n",
    "Le dernier élément du tableau d'origine n'est pas doublé."
   ]
  },
  {
   "cell_type": "code",
   "execution_count": null,
   "id": "470b029c",
   "metadata": {},
   "outputs": [],
   "source": [
    "# Ecrire le code de votre fonction ci-dessous :\n",
    "\n",
    "\n",
    "\n",
    "# Appelez votre fonction sur les tableaux suivants et affichez le tableau obtenu :\n",
    "a = [ i for i in range(7) ]\n",
    "\n",
    "b = [ i * 2 for i in range(4) ]\n",
    "\n",
    "c = [ i for i in range(1, 100) if i % 2 == 1 ]\n",
    "\n",
    "\n",
    "# Vous pouvez utiliser l'espace ci-dessous pour écrire d'autres tests :\n",
    "\n"
   ]
  },
  {
   "cell_type": "markdown",
   "id": "36304852",
   "metadata": {},
   "source": [
    "4. On considère l'algorithme suivant :\n",
    "```\n",
    "    tri_à_bulles(Tableau T)\n",
    "       pour i allant de (taille de T)-1 à 1\n",
    "           pour j allant de 0 à i-1\n",
    "               si T[j+1] < T[j]\n",
    "                   x ← T[j]\n",
    "                   T[j] ← T[j+1]\n",
    "                   T[j+1] ← x\n",
    "```\n",
    "               \n",
    "   Ecrire la fonction `triABulles` implémentant cet algorithme en python."
   ]
  },
  {
   "cell_type": "code",
   "execution_count": null,
   "id": "8777007d",
   "metadata": {},
   "outputs": [],
   "source": [
    "# Ecrire le code de votre fonction ci-dessous :\n",
    "\n",
    "\n",
    "\n",
    "# Appelez votre fonction sur les tableaux suivants et affichez le tableau obtenu :\n",
    "a = [ 12, 5, 28, 98, -2, 27, 13, 9, 7 ]\n",
    "\n",
    "from random import randint\n",
    "b = [ randint(0, 100) for i in range(10) ]\n",
    "\n",
    "\n",
    "# Vous pouvez utiliser l'espace ci-dessous pour écrire d'autres tests :\n",
    "\n"
   ]
  },
  {
   "cell_type": "markdown",
   "id": "c24bf8d8",
   "metadata": {},
   "source": [
    "5. Ecrire au choix une fonction réalisant le tri par insertion ou le tri par sélection."
   ]
  },
  {
   "cell_type": "code",
   "execution_count": null,
   "id": "c4237ff2",
   "metadata": {},
   "outputs": [],
   "source": [
    "# Ecrire le code de votre fonction ci-dessous :\n",
    "\n",
    "\n",
    "\n",
    "# Appelez votre fonction sur les tableaux suivants et affichez le tableau obtenu :\n",
    "a = [ 12, 5, 28, 98, -2, 27, 13, 9, 7 ]\n",
    "\n",
    "from random import randint\n",
    "b = [ randint(0, 100) for i in range(10) ]\n",
    "\n",
    "\n",
    "# Vous pouvez utiliser l'espace ci-dessous pour écrire d'autres tests :\n",
    "\n"
   ]
  }
 ],
 "metadata": {
  "kernelspec": {
   "display_name": "Python 3 (ipykernel)",
   "language": "python",
   "name": "python3"
  },
  "language_info": {
   "codemirror_mode": {
    "name": "ipython",
    "version": 3
   },
   "file_extension": ".py",
   "mimetype": "text/x-python",
   "name": "python",
   "nbconvert_exporter": "python",
   "pygments_lexer": "ipython3",
   "version": "3.11.1"
  }
 },
 "nbformat": 4,
 "nbformat_minor": 5
}
