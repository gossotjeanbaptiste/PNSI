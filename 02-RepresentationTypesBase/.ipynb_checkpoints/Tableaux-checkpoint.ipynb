{
 "cells": [
  {
   "cell_type": "markdown",
   "id": "bbc9f145",
   "metadata": {},
   "source": [
    "# Les tableaux\n",
    "\n",
    "Un tableau est une structure de données permettant de stocker en mémoire vive un grand nombre de données par l'intermédiaire d'une seule variable.\n",
    "\n",
    "Python dispose de ce type de structure de données. Il s'agit du type `list`.\n",
    "\n",
    "**ATTENTION :** le terme liste désigne une structure de données particulière. Un tableau a une taille définie lors de sa création. La taille d'une liste est variable. L'accès à une donnée d'un tableau prend toujours le même temps, quel que soit la taille du tableau et la position de la donnée dans le tableau. Dans le cas d'une liste, plus la liste est longue et plus la donnée est située vers le bout de la liste, plus le temps d'accès sera grand. Python appelle `list` une structure de type tableau (avec un temps d'accès fixe) dont la taille peut varier comme une liste.\n",
    "\n",
    "## Création d'un tableau\n",
    "Pour créer un tableau en Python, il n'y a rien de plus simple. Il suffit d'affecter à une variable les différents éléments du tableau placés entre crochets et séparés par des virgules.\n",
    "\n",
    "En clair, on écrit :"
   ]
  },
  {
   "cell_type": "code",
   "execution_count": 25,
   "id": "330cd131",
   "metadata": {},
   "outputs": [
    {
     "name": "stdout",
     "output_type": "stream",
     "text": [
      "[1, 4, 8.5, -3, 'Hello', 759]\n"
     ]
    }
   ],
   "source": [
    "# Création du tableau\n",
    "monTableau = [ 1, 4, 8.5, -3, \"Hello\", 759 ]\n",
    "# Affichage de monTableau\n",
    "print(monTableau)"
   ]
  },
  {
   "cell_type": "markdown",
   "id": "9f23ad01",
   "metadata": {},
   "source": [
    "Le contenu d'un tableau peut être affiché à l'aide de la fonction `print`.\n",
    "\n",
    "Python nous autorise à mixer les types des éléments d'un tableau. Ainsi, le tableau précédent contient des `int`, un `float`, un `str`. D'autres langages imposent que tous les éléments d'un tableau soient du même type. Il est donc recommandé d'éviter autant que possible de mixer les types des données dans un tableau.\n",
    "\n",
    "Il est possible de créer un tableau vide."
   ]
  },
  {
   "cell_type": "code",
   "execution_count": 26,
   "id": "ac58f448",
   "metadata": {},
   "outputs": [
    {
     "name": "stdout",
     "output_type": "stream",
     "text": [
      "[]\n"
     ]
    }
   ],
   "source": [
    "autreTableau = []\n",
    "print(autreTableau)"
   ]
  },
  {
   "cell_type": "markdown",
   "id": "15350e89",
   "metadata": {},
   "source": [
    "Un tableau étant du type `list`, une autre manière de faire est la suivante:"
   ]
  },
  {
   "cell_type": "code",
   "execution_count": 27,
   "id": "213e1e97",
   "metadata": {},
   "outputs": [
    {
     "name": "stdout",
     "output_type": "stream",
     "text": [
      "[]\n"
     ]
    }
   ],
   "source": [
    "tableau3 = list()\n",
    "print(tableau3)"
   ]
  },
  {
   "cell_type": "markdown",
   "id": "e27c563c",
   "metadata": {},
   "source": [
    "> Bah ça sert à rien un tableau vide\n",
    "\n",
    "En soi, effectivement ça ne sert à rien. Mais on peut y ajouter des choses.\n",
    "\n",
    "## La méthode append\n",
    "Pour commencer, une méthode est une fonction associée à une variable (ou, devrait-on dire à un objet, mais le concept de programmation orientée objet ne sera abordé que l'an prochain). Si vous parlez de fonction, ce n'est pas grave. Mais ne soyez pas étonné si vous entendez parfois le mot méthode.\n",
    "\n",
    "La méthode `append`, donc, permet d'insérer des données au bout d'un tableau :"
   ]
  },
  {
   "cell_type": "code",
   "execution_count": 28,
   "id": "930fba73",
   "metadata": {},
   "outputs": [
    {
     "name": "stdout",
     "output_type": "stream",
     "text": [
      "[1, 8]\n"
     ]
    }
   ],
   "source": [
    "autreTableau.append(1) # N'oubliez pas d'exécuter la cellule ci-dessus pour créer la variable autreTableau\n",
    "autreTableau.append(8)\n",
    "print(autreTableau)    # Si vous exécutez plusieurs fois cette cellule, le tableau va grandir"
   ]
  },
  {
   "cell_type": "markdown",
   "id": "bdedcd7f",
   "metadata": {},
   "source": [
    "### Exercice 1: des 20 par milliers\n",
    "Maintenant, vous allez vous entrainer en créant, dans la variable `ex1` un tableau contenant 1000 fois la valeur 20 (Imaginez un peu le bulletin. Ca fait rêver, non).\n",
    "\n",
    "Bien sûr, il est interdit d'écrire `ex1 = [ 20, 20, 20, ... ]` en tapant 1000 fois 20 dans la liste. De toute façon, j'ai les moyens de compter et s'il n'y en a pas exactement 1000, ça va se transformer en un tableau de 1000 zéros.\n",
    "\n",
    "Hop, au boulot :"
   ]
  },
  {
   "cell_type": "code",
   "execution_count": 24,
   "id": "c25f397b",
   "metadata": {},
   "outputs": [
    {
     "name": "stdout",
     "output_type": "stream",
     "text": [
      "[20, 20, 20, 20, 20, 20, 20, 20, 20, 20, 20, 20, 20, 20, 20, 20, 20, 20, 20, 20, 20, 20, 20, 20, 20, 20, 20, 20, 20, 20, 20, 20, 20, 20, 20, 20, 20, 20, 20, 20, 20, 20, 20, 20, 20, 20, 20, 20, 20, 20, 20, 20, 20, 20, 20, 20, 20, 20, 20, 20, 20, 20, 20, 20, 20, 20, 20, 20, 20, 20, 20, 20, 20, 20, 20, 20, 20, 20, 20, 20, 20, 20, 20, 20, 20, 20, 20, 20, 20, 20, 20, 20, 20, 20, 20, 20, 20, 20, 20, 20, 20, 20, 20, 20, 20, 20, 20, 20, 20, 20, 20, 20, 20, 20, 20, 20, 20, 20, 20, 20, 20, 20, 20, 20, 20, 20, 20, 20, 20, 20, 20, 20, 20, 20, 20, 20, 20, 20, 20, 20, 20, 20, 20, 20, 20, 20, 20, 20, 20, 20, 20, 20, 20, 20, 20, 20, 20, 20, 20, 20, 20, 20, 20, 20, 20, 20, 20, 20, 20, 20, 20, 20, 20, 20, 20, 20, 20, 20, 20, 20, 20, 20, 20, 20, 20, 20, 20, 20, 20, 20, 20, 20, 20, 20, 20, 20, 20, 20, 20, 20, 20, 20, 20, 20, 20, 20, 20, 20, 20, 20, 20, 20, 20, 20, 20, 20, 20, 20, 20, 20, 20, 20, 20, 20, 20, 20, 20, 20, 20, 20, 20, 20, 20, 20, 20, 20, 20, 20, 20, 20, 20, 20, 20, 20, 20, 20, 20, 20, 20, 20, 20, 20, 20, 20, 20, 20, 20, 20, 20, 20, 20, 20, 20, 20, 20, 20, 20, 20, 20, 20, 20, 20, 20, 20, 20, 20, 20, 20, 20, 20, 20, 20, 20, 20, 20, 20, 20, 20, 20, 20, 20, 20, 20, 20, 20, 20, 20, 20, 20, 20, 20, 20, 20, 20, 20, 20, 20, 20, 20, 20, 20, 20, 20, 20, 20, 20, 20, 20, 20, 20, 20, 20, 20, 20, 20, 20, 20, 20, 20, 20, 20, 20, 20, 20, 20, 20, 20, 20, 20, 20, 20, 20, 20, 20, 20, 20, 20, 20, 20, 20, 20, 20, 20, 20, 20, 20, 20, 20, 20, 20, 20, 20, 20, 20, 20, 20, 20, 20, 20, 20, 20, 20, 20, 20, 20, 20, 20, 20, 20, 20, 20, 20, 20, 20, 20, 20, 20, 20, 20, 20, 20, 20, 20, 20, 20, 20, 20, 20, 20, 20, 20, 20, 20, 20, 20, 20, 20, 20, 20, 20, 20, 20, 20, 20, 20, 20, 20, 20, 20, 20, 20, 20, 20, 20, 20, 20, 20, 20, 20, 20, 20, 20, 20, 20, 20, 20, 20, 20, 20, 20, 20, 20, 20, 20, 20, 20, 20, 20, 20, 20, 20, 20, 20, 20, 20, 20, 20, 20, 20, 20, 20, 20, 20, 20, 20, 20, 20, 20, 20, 20, 20, 20, 20, 20, 20, 20, 20, 20, 20, 20, 20, 20, 20, 20, 20, 20, 20, 20, 20, 20, 20, 20, 20, 20, 20, 20, 20, 20, 20, 20, 20, 20, 20, 20, 20, 20, 20, 20, 20, 20, 20, 20, 20, 20, 20, 20, 20, 20, 20, 20, 20, 20, 20, 20, 20, 20, 20, 20, 20, 20, 20, 20, 20, 20, 20, 20, 20, 20, 20, 20, 20, 20, 20, 20, 20, 20, 20, 20, 20, 20, 20, 20, 20, 20, 20, 20, 20, 20, 20, 20, 20, 20, 20, 20, 20, 20, 20, 20, 20, 20, 20, 20, 20, 20, 20, 20, 20, 20, 20, 20, 20, 20, 20, 20, 20, 20, 20, 20, 20, 20, 20, 20, 20, 20, 20, 20, 20, 20, 20, 20, 20, 20, 20, 20, 20, 20, 20, 20, 20, 20, 20, 20, 20, 20, 20, 20, 20, 20, 20, 20, 20, 20, 20, 20, 20, 20, 20, 20, 20, 20, 20, 20, 20, 20, 20, 20, 20, 20, 20, 20, 20, 20, 20, 20, 20, 20, 20, 20, 20, 20, 20, 20, 20, 20, 20, 20, 20, 20, 20, 20, 20, 20, 20, 20, 20, 20, 20, 20, 20, 20, 20, 20, 20, 20, 20, 20, 20, 20, 20, 20, 20, 20, 20, 20, 20, 20, 20, 20, 20, 20, 20, 20, 20, 20, 20, 20, 20, 20, 20, 20, 20, 20, 20, 20, 20, 20, 20, 20, 20, 20, 20, 20, 20, 20, 20, 20, 20, 20, 20, 20, 20, 20, 20, 20, 20, 20, 20, 20, 20, 20, 20, 20, 20, 20, 20, 20, 20, 20, 20, 20, 20, 20, 20, 20, 20, 20, 20, 20, 20, 20, 20, 20, 20, 20, 20, 20, 20, 20, 20, 20, 20, 20, 20, 20, 20, 20, 20, 20, 20, 20, 20, 20, 20, 20, 20, 20, 20, 20, 20, 20, 20, 20, 20, 20, 20, 20, 20, 20, 20, 20, 20, 20, 20, 20, 20, 20, 20, 20, 20, 20, 20, 20, 20, 20, 20, 20, 20, 20, 20, 20, 20, 20, 20, 20, 20, 20, 20, 20, 20, 20, 20, 20, 20, 20, 20, 20, 20, 20, 20, 20, 20, 20, 20, 20, 20, 20, 20, 20, 20, 20, 20, 20, 20, 20, 20, 20, 20, 20, 20, 20, 20, 20, 20, 20, 20, 20, 20, 20, 20, 20, 20, 20, 20, 20, 20, 20, 20, 20, 20, 20, 20, 20, 20, 20, 20, 20, 20, 20, 20, 20, 20, 20, 20, 20, 20, 20, 20, 20, 20, 20, 20, 20, 20, 20, 20, 20, 20, 20, 20, 20, 20, 20, 20, 20, 20, 20, 20, 20, 20, 20, 20, 20, 20, 20, 20, 20, 20, 20, 20, 20, 20, 20, 20, 20, 20, 20, 20, 20, 20, 20, 20, 20, 20, 20, 20, 20, 20, 20, 20, 20, 20, 20, 20, 20, 20, 20, 20, 20, 20, 20, 20, 20, 20, 20, 20, 20, 20, 20, 20, 20, 20, 20, 20, 20, 20, 20, 20, 20, 20, 20, 20, 20, 20, 20, 20, 20, 20, 20, 20, 20, 20, 20, 20, 20, 20, 20, 20, 20, 20, 20, 20, 20, 20, 20, 20, 20, 20, 20, 20, 20]\n"
     ]
    }
   ],
   "source": [
    "# Exercice 1:\n",
    "ex1=[]\n",
    "for i in range(1000):\n",
    "    ex1.append(20)\n",
    "print(ex1)"
   ]
  },
  {
   "cell_type": "markdown",
   "id": "8a602b7a",
   "metadata": {},
   "source": [
    "Alors, ça sert toujours à rien les tableaux vides?\n",
    "\n",
    "Il existe encore une autre façon de créer un tableau:\n",
    "\n",
    "## Les tableaux par compréhension\n",
    "Lorsque le tableau peut être rempli d'une manière régulière, on peut utiliser un tableau par compréhension. L'idée est d'utiliser une boucle for **à l'intérieur des crochets** dès la création du tableau."
   ]
  },
  {
   "cell_type": "code",
   "execution_count": 29,
   "id": "c618ce0b",
   "metadata": {},
   "outputs": [
    {
     "name": "stdout",
     "output_type": "stream",
     "text": [
      "[7, 7, 7]\n"
     ]
    }
   ],
   "source": [
    "jackpot = [ 7 for i in range(3) ]\n",
    "print(jackpot)"
   ]
  },
  {
   "cell_type": "markdown",
   "id": "bf65d3ca",
   "metadata": {},
   "source": [
    "On peut aussi se servir de l'index de la boucle for:"
   ]
  },
  {
   "cell_type": "code",
   "execution_count": 30,
   "id": "2bb85e64",
   "metadata": {},
   "outputs": [
    {
     "name": "stdout",
     "output_type": "stream",
     "text": [
      "[0, 1, 2, 3, 4, 5, 6, 7, 8, 9]\n"
     ]
    }
   ],
   "source": [
    "compte = [ i for i in range(10) ]\n",
    "print(compte)"
   ]
  },
  {
   "cell_type": "markdown",
   "id": "47c76158",
   "metadata": {},
   "source": [
    "Et on peut aussi faire des calculs impliquants cet index:"
   ]
  },
  {
   "cell_type": "code",
   "execution_count": 31,
   "id": "6be1c224",
   "metadata": {},
   "outputs": [
    {
     "name": "stdout",
     "output_type": "stream",
     "text": [
      "[0, 1, 4, 9, 16, 25, 36, 49, 64, 81]\n"
     ]
    }
   ],
   "source": [
    "carres = [ i*i for i in range(10) ]\n",
    "print(carres)"
   ]
  },
  {
   "cell_type": "markdown",
   "id": "a552e4f9",
   "metadata": {},
   "source": [
    "Avec un `if`, on peut même sélectionner certaines valeurs de l'index répondant à un critère donné:"
   ]
  },
  {
   "cell_type": "code",
   "execution_count": 32,
   "id": "3045063e",
   "metadata": {},
   "outputs": [
    {
     "name": "stdout",
     "output_type": "stream",
     "text": [
      "[0, 2, 4, 6, 8]\n"
     ]
    }
   ],
   "source": [
    "pairs = [ i for i in range(10) if i % 2 == 0 ]\n",
    "print(pairs)"
   ]
  },
  {
   "cell_type": "markdown",
   "id": "2dad38a8",
   "metadata": {},
   "source": [
    "### Exercice 2 : Des 20 par milliers, le retour\n",
    "Créez un tableau par compréhension contenant 1000 fois le nombre 20."
   ]
  },
  {
   "cell_type": "code",
   "execution_count": 33,
   "id": "33771cca",
   "metadata": {},
   "outputs": [
    {
     "name": "stdout",
     "output_type": "stream",
     "text": [
      "[20, 20, 20, 20, 20, 20, 20, 20, 20, 20, 20, 20, 20, 20, 20, 20, 20, 20, 20, 20, 20, 20, 20, 20, 20, 20, 20, 20, 20, 20, 20, 20, 20, 20, 20, 20, 20, 20, 20, 20, 20, 20, 20, 20, 20, 20, 20, 20, 20, 20, 20, 20, 20, 20, 20, 20, 20, 20, 20, 20, 20, 20, 20, 20, 20, 20, 20, 20, 20, 20, 20, 20, 20, 20, 20, 20, 20, 20, 20, 20, 20, 20, 20, 20, 20, 20, 20, 20, 20, 20, 20, 20, 20, 20, 20, 20, 20, 20, 20, 20, 20, 20, 20, 20, 20, 20, 20, 20, 20, 20, 20, 20, 20, 20, 20, 20, 20, 20, 20, 20, 20, 20, 20, 20, 20, 20, 20, 20, 20, 20, 20, 20, 20, 20, 20, 20, 20, 20, 20, 20, 20, 20, 20, 20, 20, 20, 20, 20, 20, 20, 20, 20, 20, 20, 20, 20, 20, 20, 20, 20, 20, 20, 20, 20, 20, 20, 20, 20, 20, 20, 20, 20, 20, 20, 20, 20, 20, 20, 20, 20, 20, 20, 20, 20, 20, 20, 20, 20, 20, 20, 20, 20, 20, 20, 20, 20, 20, 20, 20, 20, 20, 20, 20, 20, 20, 20, 20, 20, 20, 20, 20, 20, 20, 20, 20, 20, 20, 20, 20, 20, 20, 20, 20, 20, 20, 20, 20, 20, 20, 20, 20, 20, 20, 20, 20, 20, 20, 20, 20, 20, 20, 20, 20, 20, 20, 20, 20, 20, 20, 20, 20, 20, 20, 20, 20, 20, 20, 20, 20, 20, 20, 20, 20, 20, 20, 20, 20, 20, 20, 20, 20, 20, 20, 20, 20, 20, 20, 20, 20, 20, 20, 20, 20, 20, 20, 20, 20, 20, 20, 20, 20, 20, 20, 20, 20, 20, 20, 20, 20, 20, 20, 20, 20, 20, 20, 20, 20, 20, 20, 20, 20, 20, 20, 20, 20, 20, 20, 20, 20, 20, 20, 20, 20, 20, 20, 20, 20, 20, 20, 20, 20, 20, 20, 20, 20, 20, 20, 20, 20, 20, 20, 20, 20, 20, 20, 20, 20, 20, 20, 20, 20, 20, 20, 20, 20, 20, 20, 20, 20, 20, 20, 20, 20, 20, 20, 20, 20, 20, 20, 20, 20, 20, 20, 20, 20, 20, 20, 20, 20, 20, 20, 20, 20, 20, 20, 20, 20, 20, 20, 20, 20, 20, 20, 20, 20, 20, 20, 20, 20, 20, 20, 20, 20, 20, 20, 20, 20, 20, 20, 20, 20, 20, 20, 20, 20, 20, 20, 20, 20, 20, 20, 20, 20, 20, 20, 20, 20, 20, 20, 20, 20, 20, 20, 20, 20, 20, 20, 20, 20, 20, 20, 20, 20, 20, 20, 20, 20, 20, 20, 20, 20, 20, 20, 20, 20, 20, 20, 20, 20, 20, 20, 20, 20, 20, 20, 20, 20, 20, 20, 20, 20, 20, 20, 20, 20, 20, 20, 20, 20, 20, 20, 20, 20, 20, 20, 20, 20, 20, 20, 20, 20, 20, 20, 20, 20, 20, 20, 20, 20, 20, 20, 20, 20, 20, 20, 20, 20, 20, 20, 20, 20, 20, 20, 20, 20, 20, 20, 20, 20, 20, 20, 20, 20, 20, 20, 20, 20, 20, 20, 20, 20, 20, 20, 20, 20, 20, 20, 20, 20, 20, 20, 20, 20, 20, 20, 20, 20, 20, 20, 20, 20, 20, 20, 20, 20, 20, 20, 20, 20, 20, 20, 20, 20, 20, 20, 20, 20, 20, 20, 20, 20, 20, 20, 20, 20, 20, 20, 20, 20, 20, 20, 20, 20, 20, 20, 20, 20, 20, 20, 20, 20, 20, 20, 20, 20, 20, 20, 20, 20, 20, 20, 20, 20, 20, 20, 20, 20, 20, 20, 20, 20, 20, 20, 20, 20, 20, 20, 20, 20, 20, 20, 20, 20, 20, 20, 20, 20, 20, 20, 20, 20, 20, 20, 20, 20, 20, 20, 20, 20, 20, 20, 20, 20, 20, 20, 20, 20, 20, 20, 20, 20, 20, 20, 20, 20, 20, 20, 20, 20, 20, 20, 20, 20, 20, 20, 20, 20, 20, 20, 20, 20, 20, 20, 20, 20, 20, 20, 20, 20, 20, 20, 20, 20, 20, 20, 20, 20, 20, 20, 20, 20, 20, 20, 20, 20, 20, 20, 20, 20, 20, 20, 20, 20, 20, 20, 20, 20, 20, 20, 20, 20, 20, 20, 20, 20, 20, 20, 20, 20, 20, 20, 20, 20, 20, 20, 20, 20, 20, 20, 20, 20, 20, 20, 20, 20, 20, 20, 20, 20, 20, 20, 20, 20, 20, 20, 20, 20, 20, 20, 20, 20, 20, 20, 20, 20, 20, 20, 20, 20, 20, 20, 20, 20, 20, 20, 20, 20, 20, 20, 20, 20, 20, 20, 20, 20, 20, 20, 20, 20, 20, 20, 20, 20, 20, 20, 20, 20, 20, 20, 20, 20, 20, 20, 20, 20, 20, 20, 20, 20, 20, 20, 20, 20, 20, 20, 20, 20, 20, 20, 20, 20, 20, 20, 20, 20, 20, 20, 20, 20, 20, 20, 20, 20, 20, 20, 20, 20, 20, 20, 20, 20, 20, 20, 20, 20, 20, 20, 20, 20, 20, 20, 20, 20, 20, 20, 20, 20, 20, 20, 20, 20, 20, 20, 20, 20, 20, 20, 20, 20, 20, 20, 20, 20, 20, 20, 20, 20, 20, 20, 20, 20, 20, 20, 20, 20, 20, 20, 20, 20, 20, 20, 20, 20, 20, 20, 20, 20, 20, 20, 20, 20, 20, 20, 20, 20, 20, 20, 20, 20, 20, 20, 20, 20, 20, 20, 20, 20, 20, 20, 20, 20, 20, 20, 20, 20, 20, 20, 20, 20, 20, 20, 20, 20, 20, 20, 20, 20, 20, 20, 20, 20, 20, 20, 20, 20, 20, 20, 20, 20, 20, 20, 20, 20, 20, 20, 20, 20, 20, 20, 20, 20, 20, 20, 20, 20, 20, 20, 20, 20, 20, 20, 20, 20, 20, 20, 20, 20, 20, 20, 20, 20, 20, 20, 20, 20, 20, 20, 20, 20, 20, 20, 20, 20, 20, 20, 20, 20, 20, 20, 20, 20, 20, 20, 20, 20, 20, 20, 20, 20, 20]\n"
     ]
    }
   ],
   "source": [
    "bulletin = [20 for i in range(1000)]\n",
    "print(bulletin)"
   ]
  },
  {
   "cell_type": "markdown",
   "id": "0472c2ee",
   "metadata": {},
   "source": [
    "### Exercice 3 : Impair et passe\n",
    "Créez un tableau par compréhension de tous les nombres impairs de 0 à 20."
   ]
  },
  {
   "cell_type": "code",
   "execution_count": 42,
   "id": "589f7250",
   "metadata": {},
   "outputs": [
    {
     "name": "stdout",
     "output_type": "stream",
     "text": [
      "[1, 3, 5, 7, 9, 11, 13, 15, 17, 19]\n"
     ]
    }
   ],
   "source": [
    "impairs = [i for i in range(20) if i % 2 != 0] #2 * i + 1 for i in range(10)\n",
    "print(impairs)"
   ]
  },
  {
   "cell_type": "markdown",
   "id": "1dcab43f",
   "metadata": {},
   "source": [
    "### Exercice 4 : Compte à rebours\n",
    "Créez un tableau par compréhension pour compter à rebours de 5 à 0."
   ]
  },
  {
   "cell_type": "code",
   "execution_count": 36,
   "id": "7b73d040",
   "metadata": {},
   "outputs": [
    {
     "name": "stdout",
     "output_type": "stream",
     "text": [
      "[5, 4, 3, 2, 1, 0]\n"
     ]
    }
   ],
   "source": [
    "ignition = [i for i in range(5,-1,-1)] #5 - i for i in range(6)\n",
    "print(ignition)"
   ]
  },
  {
   "cell_type": "markdown",
   "id": "4cdfe5bb",
   "metadata": {},
   "source": [
    "### Exercice 5 : Carré de 3\n",
    "Créez un tableau par compréhension des carrés de tous les multiples de 3 de 1 à 30."
   ]
  },
  {
   "cell_type": "code",
   "execution_count": 47,
   "id": "6c654600",
   "metadata": {},
   "outputs": [
    {
     "name": "stdout",
     "output_type": "stream",
     "text": [
      "[0, 9, 36, 81, 144, 225, 324, 441, 576, 729, 900]\n"
     ]
    }
   ],
   "source": [
    "carre3 = [i*i for i in range(0,31,3)]\n",
    "\"\"\"\n",
    "carre3= [i**2 for i in range (1,31) if i%3==0 ]\n",
    "\"\"\"\n",
    "print(carre3)"
   ]
  },
  {
   "cell_type": "markdown",
   "id": "8d407e24",
   "metadata": {},
   "source": [
    "## Lecture d'un élément d'un tableau\n",
    "Comme les chaînes de caractères, un tableau est un type de variable itérable. Pour accéder à l'un de ses éléments, il suffit de mettre l'index de position de l'élément entre crochets après le nom du tableau :"
   ]
  },
  {
   "cell_type": "code",
   "execution_count": 48,
   "id": "c6e0e736",
   "metadata": {},
   "outputs": [
    {
     "name": "stdout",
     "output_type": "stream",
     "text": [
      "4\n"
     ]
    }
   ],
   "source": [
    "tableau = [ 3, 8, 4, 6, 12 ]\n",
    "a = tableau[2]\n",
    "print(a)"
   ]
  },
  {
   "cell_type": "markdown",
   "id": "a4b9ca1f",
   "metadata": {},
   "source": [
    "## Autres similarités avec `str`\n",
    "De même que pour les `str`, on peut extraire une portion de tableau :"
   ]
  },
  {
   "cell_type": "code",
   "execution_count": 49,
   "id": "c60fd5ea",
   "metadata": {},
   "outputs": [
    {
     "name": "stdout",
     "output_type": "stream",
     "text": [
      "[8, 4]\n"
     ]
    }
   ],
   "source": [
    "print(tableau[1:3])"
   ]
  },
  {
   "cell_type": "markdown",
   "id": "8f8603a0",
   "metadata": {},
   "source": [
    "On peut concaténer des tableaux :"
   ]
  },
  {
   "cell_type": "code",
   "execution_count": 55,
   "id": "d40aa7db",
   "metadata": {},
   "outputs": [
    {
     "name": "stdout",
     "output_type": "stream",
     "text": [
      "[1, 2, 3, 4, 5, 6]\n",
      "[4, 5, 6, 1, 2, 3]\n"
     ]
    }
   ],
   "source": [
    "tab1 = [ 1, 2, 3 ]\n",
    "tab2 = [ 4, 5, 6 ]\n",
    "print(tab1 + tab2)\n",
    "print(tab2 + tab1)\n",
    "#operation pythonesque : on pourra que le faire en python"
   ]
  },
  {
   "cell_type": "markdown",
   "id": "a15b47a3",
   "metadata": {},
   "source": [
    "Attention, la concaténation et l'extraction d'une portion de tableau sont assez spécifiques à Python. Pour le faire dans d'autres langages, il peut être nécessaire de coder au préalable soi-même ces fonctionnalités.\n",
    "\n",
    "## Modification d'un élément dans un tableau\n",
    "On peut affecter le contenu d'un élément d'un tableau comme on le fait pour une variable et précisant le nom de la variable contenant le tableau et l'index de position de l'élément à modifier :"
   ]
  },
  {
   "cell_type": "code",
   "execution_count": 51,
   "id": "bccd0729",
   "metadata": {},
   "outputs": [
    {
     "name": "stdout",
     "output_type": "stream",
     "text": [
      "[1, 2, 3, 4]\n",
      "[1, 2, 5, 4]\n"
     ]
    }
   ],
   "source": [
    "tableau = [ 1, 2, 3, 4 ]\n",
    "print(tableau)\n",
    "tableau[2] = 5\n",
    "print(tableau)"
   ]
  },
  {
   "cell_type": "markdown",
   "id": "828c4608",
   "metadata": {},
   "source": [
    "Ca, on ne pouvait pas le faire avec un `str`.\n",
    "\n",
    "Comme on utilise l'affectation, on peut faire tout ce qu'on fait lors de l'affetation d'une variable classique :"
   ]
  },
  {
   "cell_type": "code",
   "execution_count": 52,
   "id": "d7e4a859",
   "metadata": {},
   "outputs": [
    {
     "name": "stdout",
     "output_type": "stream",
     "text": [
      "[6, 7, 8, 9]\n",
      "[6, 8, 8, 9]\n"
     ]
    }
   ],
   "source": [
    "tableau = [ 6, 7, 8, 9 ]\n",
    "print(tableau)\n",
    "tableau[1] += 1 # incrémentation\n",
    "print(tableau)"
   ]
  },
  {
   "cell_type": "markdown",
   "id": "804d2a42",
   "metadata": {},
   "source": [
    "## Parcours d'un tableau\n",
    "On peut parcourir un tableau comme on le fait avec un `str` en utilisant une boucle for:"
   ]
  },
  {
   "cell_type": "code",
   "execution_count": 53,
   "id": "f521ea23",
   "metadata": {},
   "outputs": [
    {
     "name": "stdout",
     "output_type": "stream",
     "text": [
      "[1, 2, 3, 4]\n",
      "[2, 3, 4, 5]\n"
     ]
    }
   ],
   "source": [
    "tableau = [ 1, 2, 3, 4 ]\n",
    "print(tableau)\n",
    "for i in range(len(tableau)):\n",
    "    tableau[i] = tableau[i] + 1 # Incrémentation de chaque élément\n",
    "print(tableau)"
   ]
  },
  {
   "cell_type": "markdown",
   "id": "25ecbf52",
   "metadata": {},
   "source": [
    "La façon de faire précédente permet de connaitre l'index de position dans le tableau. S'il n'est pas nécessaire, on peut toujours utiliser la boucle for d'une autre manière:"
   ]
  },
  {
   "cell_type": "code",
   "execution_count": 54,
   "id": "e6fedc8a",
   "metadata": {},
   "outputs": [
    {
     "name": "stdout",
     "output_type": "stream",
     "text": [
      "[2, 3, 4, 5]\n",
      "3\n",
      "4\n",
      "5\n",
      "6\n",
      "[2, 3, 4, 5]\n"
     ]
    }
   ],
   "source": [
    "print(tableau)\n",
    "for element in tableau:\n",
    "    element = element + 1\n",
    "    print(element) #accès en lecture\n",
    "print(tableau)"
   ]
  },
  {
   "cell_type": "markdown",
   "id": "229a26e0",
   "metadata": {},
   "source": [
    "On remarque que, de cette manière, la variable qui suit le `for` contient à chaque tour de boucle l'élément suivant dans le tableau. Cependant, si cela permet la lecture du tableau, modifier cette variable n'a pas d'impact sur le contenu réel du tableau.\n",
    "\n",
    "Et hop, quelques exercices !\n",
    "\n",
    "### Exercice 6 : Somme des éléments d'un tableau\n",
    "Ecrire une fonction qui prend en argument un tableau de nombres et renvoi la somme de ses éléments."
   ]
  },
  {
   "cell_type": "code",
   "execution_count": 57,
   "id": "1075196c",
   "metadata": {},
   "outputs": [
    {
     "name": "stdout",
     "output_type": "stream",
     "text": [
      "147\n"
     ]
    }
   ],
   "source": [
    "def somme(tableau):\n",
    "    s = 0 # Un peu d'aide pour démarrer\n",
    "    #a recuperer pour ex 9 \n",
    "    for i in range(len(tableau)):\n",
    "        s += tableau[i]\n",
    "    return s\n",
    "\n",
    "t = [ 5, 8, 67, 28, 39 ]\n",
    "print(somme(t))"
   ]
  },
  {
   "cell_type": "markdown",
   "id": "bfb7b655",
   "metadata": {},
   "source": [
    "### Exercice 7 : Maximum d'un tableau\n",
    "Ecrire une fonction qui prend en argument un tableau de nombres et renvoi la valeur de son élément le plus grand."
   ]
  },
  {
   "cell_type": "code",
   "execution_count": null,
   "id": "2cb24d35",
   "metadata": {},
   "outputs": [],
   "source": [
    "def maximum(tableau):\n",
    "    # A vous de jouer\n",
    "    for i in range(len(tableau)):\n",
    "        m = 0 \n",
    "    \n",
    "    return m\n",
    "\n",
    "print(maximum(t))"
   ]
  },
  {
   "cell_type": "markdown",
   "id": "fad62a83",
   "metadata": {},
   "source": [
    "### Exercice 8 : Moyenne d'un tableau\n",
    "Ecrire une fonction qui prend en argument un tableau de nombres et renvoi la moyenne de ces nombres."
   ]
  },
  {
   "cell_type": "code",
   "execution_count": null,
   "id": "c11cffc5",
   "metadata": {},
   "outputs": [],
   "source": [
    "def moyenne(tableau):\n",
    "    \n",
    "    return moy\n",
    "\n",
    "print(moyenne(t))"
   ]
  },
  {
   "cell_type": "markdown",
   "id": "f56a9203",
   "metadata": {},
   "source": [
    "### Exercice 9 : Moyenne pondérée\n",
    "Pour calculer votre moyenne du trimestre dans une matière, vous devez tenir compte des coefficients de chaque devoir.\n",
    "\n",
    "Nous allons créer une fonction qui prend en argument un tableau de notes et un tableau de coefficients et qui renvoi la moyenne pondérée (c'est-à-dire tenant compte des coefficients).\n",
    "\n",
    "Attention: les deux tableaux doivent avoir le même nombre d'éléments.\n",
    "\n",
    "Une des fonctions écrites plus haut peut être utile. N'hésitez pas à l'appeler plutôt que de la réécrire. Chut: je n'ai rien dit."
   ]
  },
  {
   "cell_type": "code",
   "execution_count": null,
   "id": "b46679ab",
   "metadata": {},
   "outputs": [],
   "source": [
    "def moyenneCoeff(notes, coeffs):\n",
    "    \n",
    "    return moy\n",
    "\n",
    "mesNotes= [ ] # A compléter\n",
    "mesCoeffs = [ ] # Là aussi\n",
    "\n",
    "print(moyenneCoeff(mesNotes, mesCoeffs))\n",
    "\n",
    "def somme(tableau):\n",
    "    s = 0 # Un peu d'aide pour démarrer\n",
    "    #a recuperer pour ex 9 \n",
    "    for i in range(len(tableau)):\n",
    "        s += tableau[i]\n",
    "    return s"
   ]
  },
  {
   "cell_type": "markdown",
   "id": "609b41f7",
   "metadata": {},
   "source": [
    "### Exercice 10 : Recherche dans un tableau\n",
    "Ecrire une fonction qui prend en argument un tableau de nombre ainsi qu'un nombre cherché dans ce tableau. Cette fonction va renvoyer un tableau des index de position du nombre cherché dans le tableau.\n",
    "\n",
    "Par exemple, `recherchePositions([ 2, 4, 5, 2, 6, 5 ], 2)` renverra `[ 0, 3 ]` \n",
    "\n",
    "`recherchePositions([ 2, 4, 5, 2, 6, 5 ], 5)` renverra `[ 2, 5 ]`\n",
    "\n",
    "`recherchePositions([ 2, 4, 5, 2, 6, 5 ], 6)` renverra `[ 4 ]`\n",
    "\n",
    "`recherchePositions([ 2, 4, 5, 2, 6, 5 ], 1)` renverra `[ ]`"
   ]
  },
  {
   "cell_type": "code",
   "execution_count": null,
   "id": "99c791da",
   "metadata": {},
   "outputs": [],
   "source": [
    "def recherchePositions(tableau, valeur):\n",
    "    positions = []\n",
    "    \n",
    "    return positions\n",
    "\n",
    "print(recherchePositions([ 2, 4, 5, 2, 6, 5 ], 2))\n",
    "print(recherchePositions([ 2, 4, 5, 2, 6, 5 ], 5))\n",
    "print(recherchePositions([ 2, 4, 5, 2, 6, 5 ], 6))\n",
    "print(recherchePositions([ 2, 4, 5, 2, 6, 5 ], 1))"
   ]
  }
 ],
 "metadata": {
  "kernelspec": {
   "display_name": "Python 3 (ipykernel)",
   "language": "python",
   "name": "python3"
  },
  "language_info": {
   "codemirror_mode": {
    "name": "ipython",
    "version": 3
   },
   "file_extension": ".py",
   "mimetype": "text/x-python",
   "name": "python",
   "nbconvert_exporter": "python",
   "pygments_lexer": "ipython3",
   "version": "3.11.0"
  }
 },
 "nbformat": 4,
 "nbformat_minor": 5
}
