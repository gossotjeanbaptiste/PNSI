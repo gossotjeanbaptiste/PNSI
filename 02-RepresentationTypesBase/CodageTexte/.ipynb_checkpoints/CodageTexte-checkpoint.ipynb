{
 "cells": [
  {
   "cell_type": "markdown",
   "id": "330a96c8",
   "metadata": {},
   "source": [
    "# Les chaînes de caractères : comment coder du texte\n",
    "\n",
    "Avant de s'attaquer aux nombres réels, nous allons nous reposer un peu avec un type de base beaucoup plus simple: le type `str`.\n",
    "\n",
    "## Codage d'un caractère\n",
    "Un ordinateur ne connait que le binaire. Nous avons compris comment coder des nombres en binaire, mais une lettre n'est pas un nombre. Alors comment code-t-on une lettre ? Et de manière générale, comment code-t-on un caractère ?\n",
    "\n",
    "Nous avons déjà évoqué le système hexadécimal dans lequel les lettres de A à F sont utilisées pour compléter les symboles représentant des chiffres de manière à avoir 16 symboles. On peut ainsi dire que le symbole A est associé au nombre décimal 10. B est associé au nombre décimal 11, etc...\n",
    "\n",
    "Ainsi, on peut associer n'importe quel symbole au nombre que l'on veut. L'idée est là. On peut décider d'associer n'importe quelle lettre à n'importe quel nombre. C'est seulement une question de convention. L'ordinateur continue de ne manipuler que des nombres. Seulement, il dispose d'une police de caractères, c'est-à-dire d'informations lui expliquant comment afficher à l'écran le caractère codé par un certain nombre.\n",
    "\n",
    "Une convention d'association entre nombres et caractères est appelée un *jeu de caractères* en français, ou *character set* en anglais. On parle souvent de *charset* (qui est une contraction de character set).\n",
    "\n",
    "Evidemment, si n'importe qui invente son charset, cela ne facilite pas les choses pour se comprendre. Il faut donc se mettre d'accord sur la correspondance à utiliser en définissant un standard.\n",
    "\n",
    "### ASCII : l'ancêtre\n",
    "Un premier standard a vu le jour aux Etats-Unis dans les années 60. C'est [l'*American Standard Code for Information Interchange* ou *ASCII*](https://www.asciitable.com/).\n",
    "\n",
    "Ce standard provenant de la télégraphie, les 32 premières valeurs sont des codes de contôle du télégraphe. De nos jours, assez peu de ces codes sont encore nécessaires. Le saut à la ligne a bien entendu toujours un sens. On peut remarquer que selon le système d'exploitation, il est géré différemment : Windows utilise CR suivi de LF alors que Linux utilise seulement LF et MacOS utilise seulement CR. Cela complique les échanges de fichier texte d'un système à l'autre.\n",
    "\n",
    "Ce standard permet de coder les lettres minuscules et majuscules (a et A doivent bien être désignés par des nombres différents pour qu'on puisse les distinguer), les signes de ponctuations, le symbole espace. Les chiffres doivent être aussi représentés.\n",
    "\n",
    "Ce standard étant d'origine américaine, il ne prévoit pas les caractères accentués ni certains symboles de ponctuation. Il ne nécessite que des valeurs codées sur 7 bits, soit de 0 à 127.\n",
    "\n",
    "### L'ASCII étendu\n",
    "Pour permettre à d'autres pays occidentaux d'utiliser des caractères plus spécifiques, l'ASCII étendu exploite les valeurs de 128 à 255. On en trouve différentes variantes.\n",
    "\n",
    "Le nombre de caractères utilisables est encore trop limité pour gérer des alphabets autres que l'alphabet latin.\n",
    "\n",
    "### UTF-8 : le standard actuel\n",
    "Ce charset a pour objectif d'être universel. Bien entendu, afin d'intégrer les différents alphabets connus, il faut un éventail de valeurs plus large que 0 à 255. Le codage des caractères sur un octet n'est donc plus suffisant. L'UTF-8 reprend l'ASCII d'origine et n'utilise qu'un octet par caractère pour tous les caractères de 0 à 127. Ensuite, si le bit de poids fort est à 1, on utilise 2, 3 ou 4 octets.\n",
    "\n",
    "## Deux fonctions utiles : chr et ord\n",
    "Vous souhaitez savoir quelle est la valeur associée à un caractère ? C'est simple, il existe la fonction `ord` pour cela. Elle prend en argument une chaîne d'un seul caractère et renvoi le nombre correspondant."
   ]
  },
  {
   "cell_type": "code",
   "execution_count": 25,
   "id": "2e975fc9",
   "metadata": {},
   "outputs": [
    {
     "data": {
      "text/plain": [
       "65"
      ]
     },
     "execution_count": 25,
     "metadata": {},
     "output_type": "execute_result"
    }
   ],
   "source": [
    "ord(\"A\")"
   ]
  },
  {
   "cell_type": "markdown",
   "id": "5ab1fac5",
   "metadata": {},
   "source": [
    "La fonction `chr` fait l'inverse : elle prend un nombre en argument et donne le caractère correspondant. La notion de caractère n'existant pas en Python, on obtient une chaîne de caractères (type `str`) d'un seul caractère."
   ]
  },
  {
   "cell_type": "code",
   "execution_count": 2,
   "id": "977dc359",
   "metadata": {},
   "outputs": [
    {
     "data": {
      "text/plain": [
       "'A'"
      ]
     },
     "execution_count": 2,
     "metadata": {},
     "output_type": "execute_result"
    }
   ],
   "source": [
    "chr(65)"
   ]
  },
  {
   "cell_type": "markdown",
   "id": "b1822669",
   "metadata": {},
   "source": [
    "En guise d'exercice, faites afficher les caractères pour toutes les valeurs de 0 à 255. On veut afficher le résultat sous la forme `65 : A`.\n",
    "\n",
    "Pour éviter d'aller à la ligne après chaque print, on peut utiliser l'argument `end` :"
   ]
  },
  {
   "cell_type": "code",
   "execution_count": null,
   "id": "696d43f1",
   "metadata": {},
   "outputs": [],
   "source": [
    "print(\"Comportement habituel de print:\")\n",
    "print(\"A\")\n",
    "print(\"B\")\n",
    "\n",
    "print(\"Avec la valeur \\\"\\\" pour l'argument end\")\n",
    "print(\"A\", end = \"\")\n",
    "print(\"B\")\n",
    "\n",
    "print(\"Avec la valeur \\\"\\\\t\\\" pour l'argument end\")\n",
    "print(\"A\", end = \"\\t\")\n",
    "print(\"B\")"
   ]
  },
  {
   "cell_type": "markdown",
   "id": "48795518",
   "metadata": {},
   "source": [
    "Essayez d'obtenir un résultat comme ci-dessous:\n",
    "\n",
    "![](images/CharsetPython.png)"
   ]
  },
  {
   "cell_type": "code",
   "execution_count": 26,
   "id": "e0a88ae2",
   "metadata": {},
   "outputs": [
    {
     "name": "stdout",
     "output_type": "stream",
     "text": [
      "0 : \u0000\t\t1 : \u0001\t\t2 : \u0002\t\t3 : \u0003\t\t4 : \u0004\t\t5 : \u0005\t\t6 : \u0006\t\t7 : \u0007\t\t\n",
      "8 : \b\t\t9 : \t\t\t10 : \n",
      "\t\t11 : \u000b",
      "\t\t12 : \f",
      "\t\t13 : \r",
      "\t\t14 : \u000e\t\t15 : \u000f\t\t\n",
      "16 : \u0010\t\t17 : \u0011\t\t18 : \u0012\t\t19 : \u0013\t\t20 : \u0014\t\t21 : \u0015\t\t22 : \u0016\t\t23 : \u0017\t\t\n",
      "24 : \u0018\t\t25 : \u0019\t\t26 : \u001a\t\t27 : \u001b\t\t28 : \u001c",
      "\t\t29 : \u001d",
      "\t\t30 : \u001e",
      "\t\t31 : \u001f\t\t\n",
      "32 :  \t\t33 : !\t\t34 : \"\t\t35 : #\t\t36 : $\t\t37 : %\t\t38 : &\t\t39 : '\t\t\n",
      "40 : (\t\t41 : )\t\t42 : *\t\t43 : +\t\t44 : ,\t\t45 : -\t\t46 : .\t\t47 : /\t\t\n",
      "48 : 0\t\t49 : 1\t\t50 : 2\t\t51 : 3\t\t52 : 4\t\t53 : 5\t\t54 : 6\t\t55 : 7\t\t\n",
      "56 : 8\t\t57 : 9\t\t58 : :\t\t59 : ;\t\t60 : <\t\t61 : =\t\t62 : >\t\t63 : ?\t\t\n",
      "64 : @\t\t65 : A\t\t66 : B\t\t67 : C\t\t68 : D\t\t69 : E\t\t70 : F\t\t71 : G\t\t\n",
      "72 : H\t\t73 : I\t\t74 : J\t\t75 : K\t\t76 : L\t\t77 : M\t\t78 : N\t\t79 : O\t\t\n",
      "80 : P\t\t81 : Q\t\t82 : R\t\t83 : S\t\t84 : T\t\t85 : U\t\t86 : V\t\t87 : W\t\t\n",
      "88 : X\t\t89 : Y\t\t90 : Z\t\t91 : [\t\t92 : \\\t\t93 : ]\t\t94 : ^\t\t95 : _\t\t\n",
      "96 : `\t\t97 : a\t\t98 : b\t\t99 : c\t\t100 : d\t\t101 : e\t\t102 : f\t\t103 : g\t\t\n",
      "104 : h\t\t105 : i\t\t106 : j\t\t107 : k\t\t108 : l\t\t109 : m\t\t110 : n\t\t111 : o\t\t\n",
      "112 : p\t\t113 : q\t\t114 : r\t\t115 : s\t\t116 : t\t\t117 : u\t\t118 : v\t\t119 : w\t\t\n",
      "120 : x\t\t121 : y\t\t122 : z\t\t123 : {\t\t124 : |\t\t125 : }\t\t126 : ~\t\t127 : \t\t\n",
      "128 : \t\t129 : \t\t130 : \t\t131 : \t\t132 : \t\t133 : ",
      "\t\t134 : \t\t135 : \t\t\n",
      "136 : \t\t137 : \t\t138 : \t\t139 : \t\t140 : \t\t141 : \t\t142 : \t\t143 : \t\t\n",
      "144 : \t\t145 : \t\t146 : \t\t147 : \t\t148 : \t\t149 : \t\t150 : \t\t151 : \t\t\n",
      "152 : \t\t153 : \t\t154 : \t\t155 : \t\t156 : \t\t157 : \t\t158 : \t\t159 : \t\t\n",
      "160 :  \t\t161 : ¡\t\t162 : ¢\t\t163 : £\t\t164 : ¤\t\t165 : ¥\t\t166 : ¦\t\t167 : §\t\t\n",
      "168 : ¨\t\t169 : ©\t\t170 : ª\t\t171 : «\t\t172 : ¬\t\t173 : ­\t\t174 : ®\t\t175 : ¯\t\t\n",
      "176 : °\t\t177 : ±\t\t178 : ²\t\t179 : ³\t\t180 : ´\t\t181 : µ\t\t182 : ¶\t\t183 : ·\t\t\n",
      "184 : ¸\t\t185 : ¹\t\t186 : º\t\t187 : »\t\t188 : ¼\t\t189 : ½\t\t190 : ¾\t\t191 : ¿\t\t\n",
      "192 : À\t\t193 : Á\t\t194 : Â\t\t195 : Ã\t\t196 : Ä\t\t197 : Å\t\t198 : Æ\t\t199 : Ç\t\t\n",
      "200 : È\t\t201 : É\t\t202 : Ê\t\t203 : Ë\t\t204 : Ì\t\t205 : Í\t\t206 : Î\t\t207 : Ï\t\t\n",
      "208 : Ð\t\t209 : Ñ\t\t210 : Ò\t\t211 : Ó\t\t212 : Ô\t\t213 : Õ\t\t214 : Ö\t\t215 : ×\t\t\n",
      "216 : Ø\t\t217 : Ù\t\t218 : Ú\t\t219 : Û\t\t220 : Ü\t\t221 : Ý\t\t222 : Þ\t\t223 : ß\t\t\n",
      "224 : à\t\t225 : á\t\t226 : â\t\t227 : ã\t\t228 : ä\t\t229 : å\t\t230 : æ\t\t231 : ç\t\t\n",
      "232 : è\t\t233 : é\t\t234 : ê\t\t235 : ë\t\t236 : ì\t\t237 : í\t\t238 : î\t\t239 : ï\t\t\n",
      "240 : ð\t\t241 : ñ\t\t242 : ò\t\t243 : ó\t\t244 : ô\t\t245 : õ\t\t246 : ö\t\t247 : ÷\t\t\n",
      "248 : ø\t\t249 : ù\t\t250 : ú\t\t251 : û\t\t252 : ü\t\t253 : ý\t\t254 : þ\t\t255 : ÿ\t\t\n"
     ]
    }
   ],
   "source": [
    "for i in range(256):\n",
    "    print(str(i) + \" : \" + chr(i), end = \"\\t\\t\")\n",
    "    if (i + 1) % 8 == 0:\n",
    "        print()"
   ]
  },
  {
   "cell_type": "markdown",
   "id": "b59df279",
   "metadata": {},
   "source": [
    "On peut remarquer que Python exploite les caractères obsolètes dans les valeurs de 0 à 31.\n",
    "\n",
    "Avez-vous remarqué ce que fait le caractère n°13 (CR) ?\n",
    "\n",
    "## Les chaînes de caractères (type str)\n",
    "Un texte est une suite de caractères. On met donc l'une derrière l'autre les valeurs qui codent chaque caractère. Chaque caractère a un numéro. Le premier caractère de la chaîne porte le numéro 0.\n",
    "\n",
    "On peut obtenir un caractère de la chaîne en écrivant son numéro entre crochets :"
   ]
  },
  {
   "cell_type": "code",
   "execution_count": 27,
   "id": "65aa388c",
   "metadata": {},
   "outputs": [
    {
     "name": "stdout",
     "output_type": "stream",
     "text": [
      "Bonjour\n",
      "n\n",
      "r\n"
     ]
    },
    {
     "ename": "IndexError",
     "evalue": "string index out of range",
     "output_type": "error",
     "traceback": [
      "\u001b[1;31m---------------------------------------------------------------------------\u001b[0m",
      "\u001b[1;31mIndexError\u001b[0m                                Traceback (most recent call last)",
      "Cell \u001b[1;32mIn [27], line 6\u001b[0m\n\u001b[0;32m      4\u001b[0m \u001b[38;5;28mprint\u001b[39m(texte[\u001b[38;5;241m2\u001b[39m])  \u001b[38;5;66;03m# affiche le caractère n°2 de la chaîne (n)\u001b[39;00m\n\u001b[0;32m      5\u001b[0m \u001b[38;5;28mprint\u001b[39m(texte[\u001b[38;5;241m-\u001b[39m\u001b[38;5;241m1\u001b[39m]) \u001b[38;5;66;03m# un numéro négatif permet de partir de la fin de la chaîne\u001b[39;00m\n\u001b[1;32m----> 6\u001b[0m \u001b[38;5;28mprint\u001b[39m(\u001b[43mtexte\u001b[49m\u001b[43m[\u001b[49m\u001b[38;5;241;43m7\u001b[39;49m\u001b[43m]\u001b[49m)\n",
      "\u001b[1;31mIndexError\u001b[0m: string index out of range"
     ]
    }
   ],
   "source": [
    "texte = \"Bonjour\"\n",
    "# numéro 0123456\n",
    "print(texte)     # affiche toute la chaîne\n",
    "print(texte[2])  # affiche le caractère n°2 de la chaîne (n)\n",
    "print(texte[-1]) # un numéro négatif permet de partir de la fin de la chaîne\n",
    "print(texte[7])  # Erreur: cette position n'existe pas\n"
   ]
  },
  {
   "cell_type": "markdown",
   "id": "077f1a5b",
   "metadata": {},
   "source": [
    "On peut aussi obtenir un portion de la chaîne en indiquant le numéro du premier caractère de la portion et le numéro du caractère juste après cette portion en les séparant par `:`."
   ]
  },
  {
   "cell_type": "code",
   "execution_count": 28,
   "id": "ef834256",
   "metadata": {},
   "outputs": [
    {
     "name": "stdout",
     "output_type": "stream",
     "text": [
      "nj\n"
     ]
    }
   ],
   "source": [
    "print(texte[2:4])"
   ]
  },
  {
   "cell_type": "markdown",
   "id": "2ab00e0b",
   "metadata": {},
   "source": [
    "Si le premier numéro est plus grand que le second, on obtient une chaîne vide.\n",
    "\n",
    "On peut aussi omettre un des numéros (mais en mettant quand même les deux points, sinon on n'obtient qu'un caractère). Si on omet le premier numéro, la portion de chaîne commencera au début de la chaîne initiale. Si on omet le deuxième numéro, on ira jusqu'à la fin de la chaîne initiale.\n",
    "\n",
    "Il n'y a pas d'erreur si un numéro n'existe pas."
   ]
  },
  {
   "cell_type": "code",
   "execution_count": 29,
   "id": "ad7d76ff",
   "metadata": {},
   "outputs": [
    {
     "name": "stdout",
     "output_type": "stream",
     "text": [
      "\n",
      "Bon\n",
      "jour\n",
      "Bonjour\n",
      "\n",
      "ou\n",
      "ur\n",
      "\n"
     ]
    }
   ],
   "source": [
    "print(texte[4:2])\n",
    "print(texte[:3])\n",
    "print(texte[3:])\n",
    "print(texte[:])\n",
    "print(texte[-1:2])\n",
    "print(texte[-3:6])\n",
    "print(texte[5:10])\n",
    "print(texte[8:10])"
   ]
  },
  {
   "cell_type": "markdown",
   "id": "2b202a75",
   "metadata": {},
   "source": [
    "Maintenant que la manipulation des chaînes de caractères n'a plus de secret pour vous, écrivez un programme qui épèle une chaîne. On veut que chaque caractère soit affiché sur une nouvelle ligne."
   ]
  },
  {
   "cell_type": "code",
   "execution_count": 1,
   "id": "f86862ed",
   "metadata": {},
   "outputs": [
    {
     "name": "stdout",
     "output_type": "stream",
     "text": [
      "1er méthode\n",
      "B\n",
      "o\n",
      "n\n",
      "j\n",
      "o\n",
      "u\n",
      "r\n",
      "2e methode\n",
      "B\n",
      "o\n",
      "n\n",
      "j\n",
      "o\n",
      "u\n",
      "r\n"
     ]
    }
   ],
   "source": [
    "texte = \"Bonjour\"\n",
    "print('1er méthode')\n",
    "for i in range(len(texte)):\n",
    "    print(texte[i])\n",
    "\n",
    "print('2e methode')\n",
    "for lettre in texte:\n",
    "    print(lettre)"
   ]
  },
  {
   "cell_type": "markdown",
   "id": "43c3aebb",
   "metadata": {},
   "source": [
    "### HEIN ? QU'EST-CE QUE TU DIS ?\n",
    "Pour ceux qui ne le savent pas, on considère sur Internet qu'écrire en majuscule, c'est crier. Cette excellente blague (comme toujours) vient introduire l'exercice suivant.\n",
    "\n",
    "On veut maintenant créer une fonction qui prend un texte et réécrit toutes les lettres en majuscules.\n",
    "\n",
    "> Bah ça existe déjà !"
   ]
  },
  {
   "cell_type": "code",
   "execution_count": null,
   "id": "2376cd03",
   "metadata": {},
   "outputs": [],
   "source": [
    "print(texte.upper())"
   ]
  },
  {
   "cell_type": "markdown",
   "id": "25399793",
   "metadata": {},
   "source": [
    "Oui, mais on veut faire un EXERCICE. Donc on va écrire notre version.\n",
    "\n",
    "La fonction `majuscule` va donc prendre en argument une chaîne de caractères et construire une nouvelle chaîne correspondant à la première mais avec toutes les lettres en majuscules.\n",
    "\n",
    "Le principe est simple : on lit la chaîne initiale caractère par caractère (comme quand on épelait le texte, sauf que là, on n'affiche pas le caractère). On construit la chaîne résultat en partant d'une chaîne vide à laquelle on ajoute progressivement les caractères de la chaîne initiale par concaténation.\n",
    "\n",
    "Attention : il ne faut toucher qu'aux lettres en minuscule. Les autres caractères doivent rester inchangés.\n",
    "\n",
    "Pour savoir si un caractère est une lettre minuscule, il faut savoir si le nombre qui représente ce caractère est entre celui qui représente `a` et celui qui représente `z`. Puis, pour le mettre en majuscule, il faut modifier cette valeur pour qu'elle corresponde à la même lettre en majuscule."
   ]
  },
  {
   "cell_type": "code",
   "execution_count": 23,
   "id": "354c5820",
   "metadata": {},
   "outputs": [
    {
     "name": "stdout",
     "output_type": "stream",
     "text": [
      "HEIN ? QU'EST-CE QUE TU DIS ?\n"
     ]
    }
   ],
   "source": [
    "def majuscule(texte):\n",
    "    resultat = \"\"\n",
    "    # votre code ici\n",
    "    for i in range(len(texte)):\n",
    "        caractere = texte[i]\n",
    "        if (ord(caractere) >= ord(\"a\")) and (ord(caractere) <= ord(\"z\")): #si on détecte une minuscule\n",
    "            #caractere = \"*\"\n",
    "            valeur_lettre = ord(caractere)\n",
    "            valeur_lettre -= 32 #equivalent en maj\n",
    "            caractere = chr(valeur_lettre) #transfo valeur de la lettre en lettre\n",
    "        resultat += caractere\n",
    "    \n",
    "    return resultat\n",
    "\n",
    "# Appel à la fonction pour vérifier qu'on obtient le résultat recherché:\n",
    "print(majuscule(\"Hein ? Qu'est-ce que tu dis ?\"))"
   ]
  },
  {
   "cell_type": "markdown",
   "id": "411ab686",
   "metadata": {},
   "source": [
    "### Compte-mots\n",
    "On continue avec un nouvel exercice. On va créer un programme qui compte le nombre de mots dans un texte.\n",
    "\n",
    "On considère comme un mot tout caractère ou groupe de caractère entouré par un espace. Est considéré comme espace un espace normal`\" \"`, une tabulation`\"\\t\"`, un retour à la ligne `\"\\n\"`, le début et la fin de la chaîne.\n",
    "\n",
    "La fonction nbMots doit prendre en argument une chaîne de caractères et renvoyer le nombre de mots qu'elle contient."
   ]
  },
  {
   "cell_type": "code",
   "execution_count": 26,
   "id": "f5eda859",
   "metadata": {},
   "outputs": [
    {
     "name": "stdout",
     "output_type": "stream",
     "text": [
      "6\n"
     ]
    }
   ],
   "source": [
    "def nbMots(texte):\n",
    "    resultat = 0\n",
    "    # C'est à vous\n",
    "    for i in range(len(texte)):\n",
    "        caractere = texte[i]\n",
    "        if caractere == \" \" or caractere == \"\\t\" or caractere == \"\\n\":\n",
    "            resultat += 1\n",
    "    return resultat\n",
    "print(nbMots(\"Hein ? Qu'est-ce que tu dis ?\"))"
   ]
  }
 ],
 "metadata": {
  "kernelspec": {
   "display_name": "Python 3 (ipykernel)",
   "language": "python",
   "name": "python3"
  },
  "language_info": {
   "codemirror_mode": {
    "name": "ipython",
    "version": 3
   },
   "file_extension": ".py",
   "mimetype": "text/x-python",
   "name": "python",
   "nbconvert_exporter": "python",
   "pygments_lexer": "ipython3",
   "version": "3.10.8"
  }
 },
 "nbformat": 4,
 "nbformat_minor": 5
}
