{
 "cells": [
  {
   "cell_type": "markdown",
   "id": "fa2c5a94",
   "metadata": {},
   "source": [
    "# Algorithmes gloutons\n",
    "\n",
    "## Rendu de monnaie\n",
    "On veut programmer une machine pour le rendu de monnaie. On se donne pour objectif d'utiliser le moins de pièces possibles.\n",
    "\n",
    "### Exposé du problème\n",
    "Nous raisonnerons sur des sommes d'argent exprimées **en centimes** afin d'utiliser des nombres entiers.\n",
    "\n",
    "Les pièces disponibles sont donc 200, 100, 50, 20, 10, 5, 2 et 1 centimes. On suppose que les réserves de pièces de la machine sont inépuisables. On dispose donc d'autant de pièces de chaque sorte que l'on veut.\n",
    "\n",
    "Ecrire un algorithme qui, à partir du montant à rendre, donne la liste des pièces à utiliser.\n",
    "\n",
    "Implémenter cet algorithme à l'aide d'une fonction python."
   ]
  },
  {
   "cell_type": "markdown",
   "id": "97228d7e",
   "metadata": {},
   "source": [
    "algorithme:\n",
    "\n"
   ]
  },
  {
   "cell_type": "code",
   "execution_count": 2,
   "id": "c999c6bb",
   "metadata": {},
   "outputs": [
    {
     "data": {
      "text/plain": [
       "[200, 50, 5, 2, 1]"
      ]
     },
     "execution_count": 2,
     "metadata": {},
     "output_type": "execute_result"
    }
   ],
   "source": [
    "def distributeur_de_canettes(montant):\n",
    "  pieces = [200, 100, 50, 20, 10, 5, 2, 1]\n",
    "  rendu = []\n",
    "  for piece in pieces:\n",
    "    nombre_de_pieces = montant // piece\n",
    "    rendu.extend([piece] * nombre_de_pieces)\n",
    "    montant = montant % piece\n",
    "  return rendu\n",
    "distributeur_de_canettes(258)"
   ]
  },
  {
   "cell_type": "markdown",
   "id": "bdef27df",
   "metadata": {},
   "source": [
    "### Notion d'algorithme glouton\n",
    "Quand on cherche à minimiser le nombre de pièces à utiliser, on adopte la stratégie suivante: étant donné la somme à rendre, on va choisir dans la liste des pièces disponibles la pièce de valeur la plus élevée tout en étant inférieure à la somme à rendre. On actualise la somme à rendre en retirant la valeur de la pièce ainsi choisie et on recommence avec la nouvelle somme à rendre.\n",
    "\n",
    "A chaque étape on choisit donc la pièce la plus grande possible dans le but d'utiliser le moins de pièces possibles. On opte donc pour un optimum local afin d'aboutir à une solution globale optimale.\n",
    "\n",
    "### Et là, c'est le drame...\n",
    "Une réforme monétaire a lieu. Les pièces de 2 et 5 centimes sont retirées de la circulation. On dispose maintenant de pièces de 1, 3 et 4 centimes.\n",
    "\n",
    "Utilisez votre algorithme pour rendre la monnaie sur 6 centimes. Quelles pièces va-t-on utiliser?\n",
    "\n",
    "Cette solution est-elle celle qui utilise le moins de pièces?\n",
    "\n",
    "L'algorithme glouton est optimal lorsque le système de pièces est dit canonique. Quand ce n'est pas le cas, l'algorithme glouton ne donne pas la solution optimale.\n",
    "\n",
    "## Le problème du sac à dos\n",
    "On dispose d'un sac permettant de transporter au maximum 12 kg et d'objets à mettre dedans:\n",
    "\n",
    "Objet | A | B | C \n",
    " - | - | - | - \n",
    " Masse (kg) | 9 | 12 | 2 \n",
    " Valeur (€) | 200 | 500 | 400\n",
    "\n",
    "Quel(s) objet(s) va-t-on emporter de manière à maximiser la valeur transportée?\n",
    "\n",
    "\n",
    "Même question avec la configuration suivante:\n",
    "\n",
    "On dispose d'un sac permettant de transporter au maximum 15 kg et d'objets à mettre dedans:\n",
    "\n",
    "Objet | A | B | C | D | E\n",
    " - | - | - | - | - | - \n",
    " Masse (kg) | 9 | 12 | 2 | 7 | 5\n",
    " Valeur (€) | 300 | 210 | 30 | 90 | 60\n",
    " \n",
    "\n",
    "Aussi simple soit-il dans sa formulation, ce problème peut s'avérer très difficile à résoudre. Il peut-être décliné en d'autres versions (ex: comment découper un maximum de formes dans une plaque de manière à minimiser les chutes?).\n",
    "\n",
    "Comme pour le rendu de monnaie, l'approche gloutonne ne donne pas toujours la solution optimale. Elle est cependant facile à concevoir et peut donner des résultats satisfaisants."
   ]
  }
 ],
 "metadata": {
  "kernelspec": {
   "display_name": "Python 3 (ipykernel)",
   "language": "python",
   "name": "python3"
  },
  "language_info": {
   "codemirror_mode": {
    "name": "ipython",
    "version": 3
   },
   "file_extension": ".py",
   "mimetype": "text/x-python",
   "name": "python",
   "nbconvert_exporter": "python",
   "pygments_lexer": "ipython3",
   "version": "3.11.1"
  }
 },
 "nbformat": 4,
 "nbformat_minor": 5
}
