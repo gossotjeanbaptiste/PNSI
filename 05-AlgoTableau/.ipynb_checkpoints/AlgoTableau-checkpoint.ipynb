{
 "cells": [
  {
   "cell_type": "markdown",
   "id": "31af33c5",
   "metadata": {},
   "source": [
    "# Un peu d'algorithmique avec les tableaux\n",
    "\n",
    "*Previously on NSI*\n",
    "### Exercice 10 : Recherche dans un tableau\n",
    "Ecrire une fonction qui prend en argument un tableau de nombre ainsi qu'un nombre cherché dans ce tableau. Cette fonction va renvoyer un tableau des index de position du nombre cherché dans le tableau."
   ]
  },
  {
   "cell_type": "code",
   "execution_count": 2,
   "id": "461ccac3",
   "metadata": {},
   "outputs": [
    {
     "name": "stdout",
     "output_type": "stream",
     "text": [
      "[0, 3]\n"
     ]
    }
   ],
   "source": [
    "def recherchePositions(tableau, valeur):\n",
    "    positions = []\n",
    "    for i in range(len(tableau)):\n",
    "        if tableau[i] == valeur:\n",
    "            positions.append(i)\n",
    "    return positions\n",
    "\n",
    "print(recherchePositions([ 2, 4, 5, 2, 6, 5 ], 2))"
   ]
  },
  {
   "cell_type": "markdown",
   "id": "c958a2cc",
   "metadata": {},
   "source": [
    "*And now...*\n",
    "\n",
    "## Complexité en temps d'un algorithme\n",
    "Dans cette partie, nous allons étudier le temps que nécessite un algorithme pour se terminer. \n",
    "\n",
    "L'idée n'est pas de déterminer le temps exact que cela prend. En effet, ce temps dépend de plusieurs facteurs:\n",
    "- le nombre de données à traiter,\n",
    "- la répartition de ces données,\n",
    "- le système matériel (processeur, RAM,...) et logiciel (système d'exploitation, langage de programmation utilisé,...) sur lequel se déroule l'algorithme,\n",
    "- l'utilisation de ce système par d'autres logiciels (sur un système multitâche, notre algorithme doit partager son temps d'exécution avec d'autres),\n",
    "- ...\n",
    "\n",
    "Nous allons plutôt chercher comment va évoluer le temps de traitement en fonction du nombre `n` de données à traiter: si on double ce nombre, comment va évoluer la durée d'exécution de l'algorithme? Et si on multiplie par 10, 100 ou 1000 ce nombre de données? Bref, nous allons chercher une fonction de `n` qui représente comment évolue le temps nécessaire à opérer sur les données.\n",
    "\n",
    "### Exemple: complexité d'un algorithme de recherche dans un tableau\n",
    "Dans la fonction `recherchePositions`, on traite un tableau contenant `n` valeurs (on suppose qu'elles sont toutes de type `int`). On remarque que `len(tableau)` est égal à `n`.\n",
    "\n",
    "Pour simplifier les choses, on suppose que chaque opération élémentaire effectuée prend le même temps $t$.\n",
    "\n",
    "`positions = []` correspond à 2 opérations élémentaires: la création d'un tableau vide (`[]`) et son affectation dans la variable `position` (`position =`). Il faut donc un temps $2 \\times t$ pour exécuter cette ligne.\n",
    "\n",
    "`for i in range(len(tableau))` nous fait entrer dans une boucle qui va se dérouler `n` fois. La durée d'un tour de boucle devra donc être multipliée par `n` pour avoir le temps total d'exécution de la boucle.\n",
    "\n",
    "`i in range(len(tableau))` va affecter une valeur dans la variable `i`.  Cela prend un temps $t$.\n",
    "\n",
    "`if tableau[i] == valeur` va lire la valeur à la position `i` du tableau et comparer son égalité avec `valeur`. Cela prend donc un temps $2 \\times t$\n",
    "\n",
    " `positions.append(i)` va ajouter dans le tableau `positions` la valeur de `i`. Cela prend un temps $t$\n",
    " \n",
    " Au total, un tour de la boucle prend un temps $4 \\times t$. La boucle complète met donc un temps $4 \\times n \\times t$.\n",
    " \n",
    "Enfin, `return positions` renvoi le tableau à la partie du programme qui a appelé notre fonction. Cela prend un temps $t$.\n",
    " \n",
    "Il faut donc un temps total $(4 \\times n + 3) \\times t$ pour terminer notre algorithme.\n",
    "\n",
    "> Ah ben non!\n",
    "\n",
    "Comment ça non?\n",
    "\n",
    "> Dans la boucle, `positions.append(i)` n'est pas toujours effectué.\n",
    "\n",
    "C'est vrai, il est même possible que ce soit rarement le cas. Et si le tableau ne contient jamais de valeur en double, cela n'aura lieu qu'une fois.\n",
    "\n",
    "> Ah!\n",
    "\n",
    "Mais nous allons voir que cela n'a pas d'importance.\n",
    "\n",
    "> Oh!\n",
    "\n",
    "Pour commencer, nous allons toujours examiner le pire des cas. Même si on n'utilise notre fonction qu'avec des tableaux ne contenant jamais de doublons, nous devons envisager cette possibilité, et même imaginer un tableau qui contient toujours la même valeur et qu'elle correspond à la valeur cherchée. Dans ce cas, `positions.append(i)` sera toujours effectué.\n",
    "\n",
    "> Bon d'accord.\n",
    "\n",
    "Ensuite, nous nous intéresserons toujours à ce qui se passe pour une grande valeur de `n`. Si, par exemple, `n` vaut 1000, y a-t-il une grande différence entre $4 \\times n + 3$ et $4 \\times n$?\n",
    "\n",
    "> Bah, entre 4003 et 4000, la différence n'est pas très importante.\n",
    "\n",
    "Donc, on peut dire que notre algorithme prend un temps $4 \\times n \\times t$.\n",
    "\n",
    "Le coefficient 4 n'a pas réellement d'importance. Ce qui compte, c'est que si on multiplie `n` par une certaine valeur, la durée d'exécution sera multipliée par la même valeur. La durée d'exécution de notre algorithme varie ici proportionnellement à `n`. On dit que la complexité de notre algorithme est $O(n)$.\n",
    "\n",
    "**ATTENTION:** Il faut bien écrire un $O$ **majuscule**. En effet, $O(n)$ (lire \"grand O de n\") et $o(n)$ (lire \"petit o de n\") sont deux notations mathématiques différentes qui ont chacune leur signification.\n",
    "\n",
    "**CONCLUSION:** La complexité d'un algorithme de recherche dans un tableau est $O(n)$. On peut aussi dire que le coût de la recherche est linéaire (cela nous coûte un temps qui croit linéairement avec la taille des données à explorer).\n",
    "\n",
    "### Importance de la notion de complexité\n",
    "Savoir écrire un algorithme, c'est bien. Mais savoir écrire un algorithme d'une complexité minimale, c'est mieux!\n",
    "\n",
    "Il existe différentes complexités. Les principales sont les suivantes:\n",
    "\n",
    "Complexité    | Notation $O$\n",
    " ---          | ---\n",
    "linéaire      | $ O(n) $\n",
    "quadratique   | $ O(n^2) $\n",
    "cubique       | $ O(n^3) $\n",
    "logarithmique | $ O(log(n)) $ \n",
    "exponentielle | $ O(2^n) $\n",
    "\n",
    "\n",
    "Pour bien comprendre l'importance de la complexité, imaginons un algorithme qui nécessite 2 nanosecondes (2 milliardièmes de secondes) pour traiter $n = 2$ données. Le tableau ci-dessous montre selon la valeur du nombre n de données le temps, en nanosecondes, nécessaire pour d'autres complexités:\n",
    "\n",
    "Nombre de données | $O(log n)$ | $O(n)$ | $O(n^2)$  | $O(n^3)$           | $O(2^n)$\n",
    "------------------|------------|--------|-----------|--------------------|---------\n",
    "$2$               | $1$        | $2$    | $4$       | $8$                | $4$\n",
    "$16$              | $4$        | $16$   | $256$     | $4096$             | $65536$\n",
    "$128$             | $7$        | $128$  | $16384$   | $2097192$          | $3,4 \\times 10^38$\n",
    "$1024$            | $10$       | $1024$ | $1048576$ | $1,07 \\times 10^9$ | $1,8 \\times 10^308$\n",
    "\n",
    "\n",
    "Ainsi, si un algorithme en $O(n)$ est capable de traiter un volume de 128 données en 128 ns (soit en un dix millionième de secondes), il faudra, pour traiter le même volume de données:\n",
    "- 16 millionièmes de secondes à un algorithme en $O(n^2)$,\n",
    "- 0,002 s à un algorithme en $O(n^3)$\n",
    "- $10^22$ années (ou 800 milliards de fois l'âge de l'Univers!) à un algorithme en $O(2^n)$\n",
    "\n",
    "Avec ces chiffres, on comprend l'intérêt d'être capable d'évaluer et, si possible, d'améliorer la complexité d'un algorithme.\n",
    "\n",
    "### Un petit exercice\n",
    "Ecrivez un algorithme cherchant dans un tableau la **première occurence d'une valeur** et implémentez cet algorithme dans une fonction python `recherche` qui prend en argument le tableau, la valeur cherchée et renvoi la position trouvée (ou -1 si la valeur n'apparait pas dans le tableau)."
   ]
  },
  {
   "cell_type": "code",
   "execution_count": 3,
   "id": "581acd17",
   "metadata": {},
   "outputs": [
    {
     "name": "stdout",
     "output_type": "stream",
     "text": [
      "-1\n",
      "-1\n",
      "-1\n",
      "-1\n"
     ]
    }
   ],
   "source": [
    "def recherche(tableau, valeur):\n",
    "    return -1\n",
    "\n",
    "print(recherche([ 2, 4, 5, 2, 6, 5 ], 2))\n",
    "print(recherche([ 2, 4, 5, 2, 6, 5 ], 5))\n",
    "print(recherche([ 2, 4, 5, 2, 6, 5 ], 6))\n",
    "print(recherche([ 2, 4, 5, 2, 6, 5 ], 1))"
   ]
  },
  {
   "cell_type": "markdown",
   "id": "86ed345b",
   "metadata": {},
   "source": [
    "Donnez la complexité de l'algorithme utilisé.\n",
    "\n",
    "## Une recherche plus performante\n",
    "Nous allons améliorer la complexité de la recherche. Ce ne sera possible que si le tableau répond à un critère que nous allons déterminer avec l'exemple ci-dessous.\n",
    "\n",
    "Est-il simple de trouver si le tableau suivant contient la valeur 18745 ?"
   ]
  },
  {
   "cell_type": "code",
   "execution_count": 4,
   "id": "c6ba78c7",
   "metadata": {
    "scrolled": false
   },
   "outputs": [
    {
     "name": "stdout",
     "output_type": "stream",
     "text": [
      "[5732, 36662, 44538, 1991, 85285, 50100, 53451, 52764, 56267, 95059, 14986, 94772, 14556, 39281, 95717, 9030, 91503, 65829, 94196, 21085, 88379, 32144, 24589, 8736, 20035, 62191, 92546, 23001, 68555, 66768, 18166, 24459, 61469, 65310, 78663, 82609, 83156, 49164, 13996, 91127, 44269, 36989, 68913, 70412, 7976, 21005, 69015, 23239, 61169, 92076, 97349, 28242, 63846, 11761, 95027, 56378, 4896, 1718, 39784, 85110, 20284, 73284, 92712, 23034, 73627, 62861, 13969, 4515, 26180, 88565, 12921, 56455, 48834, 24714, 4440, 81757, 18878, 47572, 59970, 91423, 9633, 52432, 29565, 25800, 5533, 19060, 83649, 26901, 21706, 12354, 72341, 46706, 87775, 51633, 98768, 84857, 80708, 62926, 34404, 93304, 82092, 88387, 75163, 30256, 58200, 42812, 76458, 19675, 57852, 16353, 99514, 7853, 54765, 29800, 26518, 60845, 37283, 11508, 63852, 74453, 74671, 3884, 30157, 94907, 42972, 10620, 36807, 94603, 45544, 61071, 74405, 26409, 24045, 24476, 56919, 55045, 82427, 61509, 14073, 52881, 32207, 55160, 4355, 3210, 88235, 83426, 62546, 98266, 42943, 43859, 76878, 82448, 18551, 53154, 15369, 97435, 82403, 35924, 32376, 11041, 49778, 16519, 3614, 66844, 41705, 34077, 43885, 48306, 99090, 84372, 84243, 52994, 9981, 38880, 16220, 92096, 49295, 26654, 48696, 37601, 86364, 96352, 20024, 24430, 47000, 87174, 41309, 94222, 49272, 72088, 94352, 90505, 90531, 51541, 35506, 55085, 69135, 69437, 55237, 64307, 2994, 51464, 70220, 60126, 67357, 742, 52313, 75540, 33011, 30119, 50231, 88447, 97861, 82687, 58906, 37283, 52227, 22230, 83347, 21307, 97862, 56607, 84301, 55972, 38667, 16932, 69274, 5168, 86951, 92433, 94927, 76791, 96444, 44404, 98405, 20948, 65075, 78467, 56787, 63509, 91330, 80580, 28253, 37284, 57941, 91720, 45146, 64312, 81729, 62392, 90833, 48070, 13818, 20074, 19154, 33493, 46496, 71395, 79216, 35819, 98526, 70382, 29293, 64519, 18082, 41774, 5010, 20842, 49419, 34222, 29609, 52654, 79057, 84193, 25199, 80897, 7665, 9146, 43723, 87583, 86571, 64298, 66486, 70870, 20281, 85849, 28666, 39845, 40973, 80259, 55649, 61283, 45869, 53226, 86963, 71368, 10231, 70280, 21709, 16348, 78366, 50731, 12653, 78980, 24225, 73071, 41152, 66685, 28683, 90407, 89558, 46253, 879, 90157, 98227, 81340, 74502, 69591, 50337, 51255, 90306, 64061, 24836, 85951, 54256, 7968, 26116, 39975, 84944, 26304, 49601, 62353, 19489, 3846, 82888, 40976, 80510, 99061, 81284, 5308, 84460, 87385, 68122, 58712, 21326, 74873, 59088, 92482, 10287, 22306, 45775, 63262, 2296, 10405, 64912, 99032, 91422, 52113, 60086, 88721, 7156, 72491, 96480, 53841, 67027, 38036, 54050, 18352, 577, 20162, 48751, 41252, 24060, 45159, 33480, 29096, 3878, 66488, 44561, 57099, 62509, 5537, 27964, 53315, 51046, 94856, 94415, 96730, 41634, 83686, 36338, 26025, 86624, 88481, 88019, 38968, 98347, 44405, 68993, 9064, 6005, 38763, 10284, 71572, 21198, 98216, 46468, 25544, 82203, 6342, 55820, 13761, 20647, 50213, 54184, 18342, 81714, 3793, 38561, 31238, 68690, 81636, 56842, 75781, 48610, 26233, 7047, 64011, 58604, 67390, 70981, 50093, 7665, 27072, 22959, 27281, 13805, 60151, 58831, 33083, 40323, 43855, 19060, 82386, 64804, 35887, 36796, 17416, 9108, 90601, 2677, 5566, 43425, 79655, 39276, 26335, 46506, 70671, 3333, 71497, 32699, 59475, 20648, 10812, 72980, 87353, 45180, 47844, 5277, 36418, 55538, 77685, 45014, 37199, 26399, 96168, 34349, 497, 86723, 1418, 76429, 19825, 2107, 20043, 84399, 81555, 67861, 7536, 45041, 13250, 49031, 68520, 57856, 44482, 88011, 96703, 41962, 36578, 63774, 33952]\n"
     ]
    }
   ],
   "source": [
    "import prepTableau\n",
    "print(prepTableau.tableau1())\n",
    "# Exécutez la cellule pour voir le tableau"
   ]
  },
  {
   "cell_type": "markdown",
   "id": "890942b9",
   "metadata": {},
   "source": [
    "Est-ce plus simple avec le tableau suivant ?"
   ]
  },
  {
   "cell_type": "code",
   "execution_count": 44,
   "id": "8fc85891",
   "metadata": {
    "scrolled": true
   },
   "outputs": [
    {
     "name": "stdout",
     "output_type": "stream",
     "text": [
      "[198, 301, 344, 350, 582, 746, 853, 1291, 1369, 1437, 1525, 1593, 1648, 1732, 1961, 2092, 2323, 2515, 2863, 2885, 2920, 3068, 3557, 3849, 4097, 4415, 4516, 4593, 4727, 5005, 6031, 6236, 6443, 6709, 6719, 6795, 7072, 7125, 7153, 7583, 7763, 7917, 7987, 8445, 8509, 8891, 9021, 9324, 9470, 10039, 10406, 10502, 10511, 11091, 11812, 12374, 12656, 12882, 13123, 13155, 13163, 13196, 13213, 13432, 13885, 14331, 14390, 14481, 14644, 14773, 15103, 15254, 15288, 15571, 16112, 16162, 16527, 17380, 17685, 17942, 18110, 18507, 18517, 18678, 18878, 19123, 19144, 19243, 19505, 19707, 19744, 20032, 20119, 20481, 20915, 21013, 21049, 21146, 21360, 22211, 22646, 22647, 23315, 23895, 24055, 24056, 24180, 24357, 24373, 24417, 24652, 24675, 24768, 24886, 24967, 25106, 25128, 25217, 25328, 25336, 25486, 26003, 26463, 26573, 26640, 26921, 27146, 27393, 27626, 27627, 27785, 27999, 28232, 28716, 28857, 29082, 29267, 29276, 29313, 29577, 29702, 29743, 29974, 30076, 30203, 30220, 30810, 30923, 31116, 31259, 31625, 31635, 31654, 31658, 31892, 31946, 32119, 32272, 32892, 32939, 32941, 33162, 33315, 33762, 33945, 34090, 34206, 34505, 34613, 34789, 34848, 35023, 35126, 35443, 35731, 35903, 36016, 36101, 36156, 36242, 36288, 36458, 36706, 36750, 36861, 36969, 37104, 37196, 37567, 37582, 37584, 37657, 38354, 38601, 39135, 39251, 39520, 40070, 40093, 40518, 40711, 40739, 42105, 42282, 42743, 42919, 42973, 43021, 43269, 43490, 43584, 43666, 44498, 44527, 44660, 44692, 44766, 44854, 45302, 45757, 45814, 46338, 46460, 46480, 47082, 47214, 47358, 47400, 47430, 47702, 47867, 48117, 48410, 48532, 48866, 49142, 49288, 49404, 49434, 49606, 49664, 49758, 49879, 49914, 50258, 50334, 50428, 50840, 50938, 50964, 51040, 51803, 52240, 52498, 52883, 53076, 53569, 53800, 53815, 53816, 53993, 54047, 54205, 54232, 54500, 54793, 54817, 54885, 54995, 55106, 55225, 55703, 55716, 55887, 55905, 55935, 56112, 56199, 56346, 56386, 56524, 56598, 56653, 56896, 56907, 57173, 57263, 57296, 57554, 57556, 57837, 57870, 57908, 58019, 58077, 58122, 58170, 58194, 58202, 58447, 58475, 58498, 58580, 58626, 58724, 58834, 58848, 59032, 59181, 59201, 59226, 59772, 59782, 59915, 60050, 60164, 60427, 60453, 60840, 61341, 61417, 61627, 61656, 61743, 61810, 62043, 62268, 62305, 62541, 62945, 62964, 63023, 63194, 63455, 63607, 63866, 64647, 64901, 64942, 65325, 65625, 65730, 65770, 66494, 66551, 66911, 67045, 67151, 67261, 67683, 67886, 68165, 68310, 68379, 68413, 68503, 68644, 68870, 68969, 69611, 69801, 70012, 70025, 70632, 70678, 70699, 70786, 70891, 71061, 71209, 71895, 71981, 72355, 72384, 72567, 72571, 72692, 72816, 72983, 73194, 73282, 73535, 73957, 74407, 74466, 74613, 74793, 74838, 75577, 75643, 75659, 75789, 76062, 76162, 76482, 76976, 77007, 77280, 77645, 77707, 77875, 77966, 78334, 78521, 78540, 79073, 79275, 79323, 79793, 80080, 80095, 80212, 80241, 81162, 81700, 82056, 82148, 82255, 82625, 82720, 82877, 83189, 83356, 83559, 83859, 83949, 84251, 85033, 85073, 85152, 85510, 85987, 86001, 86118, 86210, 86315, 88151, 88206, 88217, 88298, 88571, 88696, 88718, 89032, 89049, 89093, 89159, 89478, 89543, 89892, 89907, 90085, 90286, 90484, 90521, 90618, 91586, 91684, 91726, 91850, 91893, 92087, 92171, 92240, 92662, 92819, 93363, 93409, 93606, 93752, 93818, 94417, 94749, 95120, 95339, 95470, 95500, 95501, 95885, 96043, 96098, 96644, 96910, 97168, 97318, 97530, 97754, 98465, 98474, 98493, 98520, 98598, 98987, 99030, 99107, 99123, 99139, 99569, 99822, 99849]\n"
     ]
    }
   ],
   "source": [
    "print(prepTableau.tableau2())\n",
    "# Exécutez la cellule pour voir le tableau"
   ]
  },
  {
   "cell_type": "markdown",
   "id": "6d8e6395",
   "metadata": {},
   "source": [
    "A quel condition va-t-il être plus facile de chercher une valeur dans un tableau ?\n",
    "\n",
    "> Euh, si ses éléments sont triés ?\n",
    "\n",
    "Effectivement. Il est beaucoup plus rapide de retrouver un élément dans un tableau trié. C'est pourquoi les algorithmes de tri sont très importants en informatique. Et c'est aussi pour ça que vos parents vous demandent de ranger vos chambres.\n",
    "\n",
    "Nous allons donc apprendre à trier. Et pour ça, place aux cartes.\n",
    "\n",
    "Par petits groupes, vous allez vous répartir un jeu de 52 cartes. Le but est d'étudier comment vous triez les cartes que vous avez en main afin d'élaborer un algorithme de tri.\n",
    "\n",
    "## Tri d'un tableau\n",
    "Maintenant que vous vous êtes bien amusé avec vos cartes, vous allez écrire un algorithme de tri et l'implémenter dans une fonction python. Votre fonction tri devra prendre en argument un tableau.\n",
    "\n",
    "Il existe généralement deux options:\n",
    "- votre fonction peut modifier directement le tableau. Dans ce cas, elle ne renvoi rien, mais le tableau qu'elle a pris en argument est modifié lors de son exécution. On dit que le tri est fait en place.\n",
    "- votre fonction peut renvoyer une copie triée du tableau et ne pas modifier celui qu'elle a pris en argument.\n",
    "\n",
    "A vous de jouer:"
   ]
  },
  {
   "cell_type": "code",
   "execution_count": 6,
   "id": "3d6c0837",
   "metadata": {},
   "outputs": [
    {
     "name": "stdout",
     "output_type": "stream",
     "text": [
      "[1, 2, 3, 4, 5, 6]\n"
     ]
    }
   ],
   "source": [
    "def algo_tri(tableau):\n",
    "    n = len(tableau)\n",
    "\n",
    "    # On parcourt tous les éléments du tableau\n",
    "    for i in range(n):\n",
    "        # On parcourt le reste du tableau à la recherche d'un élément à échanger\n",
    "        for j in range(i+1, n):\n",
    "            # Si l'élément courant est plus grand que l'élément suivant, on échange les deux éléments\n",
    "            if tableau[i] > tableau[j]:\n",
    "                tableau[i], tableau[j] = tableau[j], tableau[i]\n",
    "\n",
    "# Exemple d'utilisation\n",
    "tableau = [5, 3, 6, 2, 1, 4]\n",
    "algo_tri(tableau)\n",
    "print(tableau) # affiche [1, 2, 3, 4, 5, 6]\n"
   ]
  },
  {
   "cell_type": "markdown",
   "id": "c6216a4c",
   "metadata": {},
   "source": [
    "Déterminez ensuite la complexité de votre algorithme.\n",
    "\n",
    "### Tri par insertion, tri par sélection\n",
    "Nous allons étudier les deux algorithmes de tri au programme cette année. Sans doute avez-vous déjà écrit l'un des deux ci-dessus. Puis nous aborderons la question de leur complexité."
   ]
  },
  {
   "cell_type": "code",
   "execution_count": 7,
   "id": "ed87739c",
   "metadata": {
    "scrolled": true
   },
   "outputs": [
    {
     "name": "stdout",
     "output_type": "stream",
     "text": [
      "[1, 5, 8, 6, 10, -6, 8]\n",
      "[1, 5, 8, 6, 10, -6, 8]\n",
      "[1, 5, 6, 8, 10, -6, 8]\n",
      "[1, 5, 6, 8, 10, -6, 8]\n",
      "[-6, 1, 5, 6, 8, 10, 8]\n",
      "[-6, 1, 5, 6, 8, 8, 10]\n",
      "\n",
      "[-6, 1, 8, 6, 10, 5, 8]\n",
      "[-6, 1, 8, 6, 10, 5, 8]\n",
      "[-6, 1, 5, 6, 10, 8, 8]\n",
      "[-6, 1, 5, 6, 10, 8, 8]\n",
      "[-6, 1, 5, 6, 8, 10, 8]\n",
      "[-6, 1, 5, 6, 8, 8, 10]\n"
     ]
    }
   ],
   "source": [
    "def triInsertion(tableau):\n",
    "    for i in range (1, len(tableau)):\n",
    "        x = tableau[i]\n",
    "        j = i \n",
    "        while j > 0 and tableau[j - 1] > x:\n",
    "            tableau[j] = tableau[j - 1]\n",
    "            j -= 1\n",
    "        tableau[j] = x\n",
    "        print(tableau)\n",
    "triInsertion([5, 1, 8, 6, 10, -6, 8])\n",
    "\n",
    "print(\"\")\n",
    "    \n",
    "# Complexité: O(n²)\n",
    "\n",
    "def triSelection(tableau):\n",
    "    for debut in range (len(tableau) - 1):\n",
    "        minimum = tableau[debut]\n",
    "        postMinimum = debut\n",
    "        #Cherche le minimum\n",
    "        for i in range(debut + 1, len(tableau)):\n",
    "            if minimum > tableau[i]:\n",
    "                minimum = tableau[i]\n",
    "                postMinimum = i\n",
    "        tableau[postMinimum] = tableau[debut]\n",
    "        tableau[debut] = minimum\n",
    "        print(tableau)\n",
    "\n",
    "\n",
    "    \n",
    "triSelection([5, 1, 8, 6, 10, -6, 8])\n",
    "    \n",
    "    \n",
    "\n",
    "# Complexité: O(n²)\n"
   ]
  },
  {
   "cell_type": "markdown",
   "id": "43d70ee2",
   "metadata": {},
   "source": [
    "Il existe des algorithmes de tri avec des complexités en temps moins élevées (mais s'ils sont moins complexes en temps, ils sont un peu plus complexes à écrire).\n",
    "\n",
    "Maintenant que nous savons trier un tableau, il est temps d'améliorer notre recherche.\n",
    "\n",
    "## Recherche dichotomique\n",
    "Cette méthode de recherche ne fonctionne que sur un tableau trié. Le principe est simple: puisque le tableau est trié, si on connait le contenu d'une case, toutes les cases d'index inférieur contienne des valeurs plus petites et toutes les cases d'index supérieur contiennent des valeurs plus grandes.\n",
    "\n",
    "Ainsi, si on cherche la valeur 573 dans un tableau et que la case d'index 51 contient 754, alors on sait que si la valeur 573 est bien dans le tableau, elle est forcément dans une case entre les index 0 à 50. Tous les index supérieurs à 51 ne sont pas intéressants à inspecter.\n",
    "\n",
    "Sur un tableau de n cases, la valeur cherchée dans une case d'index 0 à n. Notre recherche se fait donc entre les bornes `inf = 0` et `sup = n`.\n",
    "Puisqu'on cherche dans l'intervalle `[inf, sup]`,  on va aller chercher le contenu de la case au milieu de cet intervalle. Son  index est `n/2`, ou plutôt `inf + (sup - inf) / 2`:\n",
    "- si elle contient ce qu'on cherche, pas besoin d'aller plus loin et on renvoi l'index de cette case.\n",
    "- si elle contient une valeur supérieure à ce qu'on cherche, alors on va chercher dans la partie du tableau allant de `inf` à la case inspectée, donc on ne modifie pas `inf` et on remplace `sup` par le numéro de la case (`inf + (sup - inf) / 2`) **moins 1** (parce qu'on vient de regarder la case `inf + (sup - inf) / 2` et on sait qu'il faut aller chercher avant.\n",
    "- si elle contient une valeur inférieure à ce qu'on cherche, alors on va chercher dans la partie du tableau allant de la case inspectée à `sup` donc on ne modifie pas `sup` et on remplace `inf` par le numéro de la case (`inf + (sup - inf) / 2`) **plus 1**.\n",
    "Et on recommence.\n",
    "\n",
    "Si la valeur cherchée est dans la tableau, on va finir par tomber dessus. Sinon, l'intervalle `[inf, sup]` va tellement se réduire que l'on va arriver dans la situation où `inf` sera supérieur à `sup`.\n",
    "Nous avons donc une boucle qui se déroule tant qu'on n'a pas trouvé et tant que `inf` est inférieur ou égal à `sup`.\n",
    "\n",
    "Comme d'habitude, on écrit l'algorithme, on l'implémente dans une fonction python et on donne sa complexité (pour ça, je vais vous aider)."
   ]
  },
  {
   "cell_type": "code",
   "execution_count": 48,
   "id": "6be31778",
   "metadata": {},
   "outputs": [
    {
     "name": "stdout",
     "output_type": "stream",
     "text": [
      "-1\n"
     ]
    }
   ],
   "source": [
    "import prepTableau\n",
    "def rechercheDichotomique(tableau, valeur):\n",
    "    position = -1\n",
    "    inf = 0 \n",
    "    sup = len(tableau) - 1\n",
    "    \n",
    "    while inf <= sup and  position == -1:\n",
    "        mid = (sup - inf) // 2 + inf\n",
    "        if valeur == tableau[mid]:\n",
    "            position = mid \n",
    "        elif valeur < tableau[mid]:\n",
    "            sup = mid - 1\n",
    "        else:\n",
    "            inf = mid + 1\n",
    "    return position\n",
    "\n",
    "tab = prepTableau.tableau2()\n",
    "x = rechercheDichotomique(tab, 5876)\n",
    "print(x)\n",
    "\n"
   ]
  },
  {
   "cell_type": "code",
   "execution_count": 49,
   "id": "b1a25dd9",
   "metadata": {},
   "outputs": [],
   "source": [
    "def rechercheDichotomique2(tableau, valeur):\n",
    "    inf = 0\n",
    "    sup = len(tableau) - 1\n",
    "    \n",
    "    #inf et sup sont les bornes de l'intervalle de recherche, initialement c'est tout le tableau.\n",
    "    \n",
    "    while inf <= sup:\n",
    "        mid = inf + (sup - inf) // 2\n",
    "        #mid est la case du milieu de l'intervalle de recherche\n",
    "        #La boucle continue tant qu'on n'a pas trouvé la valeur et tant que les bornes ne se croisent pas\n",
    "        \n",
    "        if tableau[mid] == valeur:\n",
    "            return mid\n",
    "        #Si la valeur de la case de l'index mid est égale à la valeur recherchée, la fonction renvoie l'index mid\n",
    "        \n",
    "        elif tableau[mid] < valeur:\n",
    "            inf = mid + 1 \n",
    "        #Si la valeur de la case de l'index mid est inférieure à la valeur recherchée, on met à jour inf pour la moitié supérieure\n",
    "        \n",
    "        else:\n",
    "            sup = mid - 1\n",
    "        #Sinon, on met à jour sup pour la moitié inférieure\n",
    "        \n",
    "    return -1  #Si on ne trouve pas la valeur, la fonction renvoie -1 pour indiquer qu'elle n'est pas présente dans le tableau."
   ]
  }
 ],
 "metadata": {
  "kernelspec": {
   "display_name": "Python 3 (ipykernel)",
   "language": "python",
   "name": "python3"
  },
  "language_info": {
   "codemirror_mode": {
    "name": "ipython",
    "version": 3
   },
   "file_extension": ".py",
   "mimetype": "text/x-python",
   "name": "python",
   "nbconvert_exporter": "python",
   "pygments_lexer": "ipython3",
   "version": "3.11.1"
  }
 },
 "nbformat": 4,
 "nbformat_minor": 5
}
