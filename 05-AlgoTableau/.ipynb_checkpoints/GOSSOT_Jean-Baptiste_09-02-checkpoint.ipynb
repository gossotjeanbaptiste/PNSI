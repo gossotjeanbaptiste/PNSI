{
 "cells": [
  {
   "cell_type": "markdown",
   "id": "3d6aea56",
   "metadata": {},
   "source": [
    "Nom : GOSSOT\n",
    "\n",
    "Prénom : Jean-Baptiste"
   ]
  },
  {
   "cell_type": "markdown",
   "id": "1a2d9821",
   "metadata": {},
   "source": [
    "> Note: 15,5 / 20"
   ]
  },
  {
   "cell_type": "markdown",
   "id": "a3c1d359",
   "metadata": {},
   "source": [
    "# NSI – Interrogation écrite n°4 – 09/02/2023\n",
    "\n",
    "Cette interrogation reprend les questions de la précédente mais se déroule sur machine. Vous disposez de votre copie corrigée ainsi que de tous vos documents sur votre ordinateur ainsi que sur le web.\n",
    "Le dépôt du travail se fera en fin de séance sous forme du présent notebook sur pronote.\n",
    "\n",
    "**N'oubliez pas d'enregistrer ce fichier avant de le déposer.**"
   ]
  },
  {
   "cell_type": "markdown",
   "id": "8e26b6f0",
   "metadata": {},
   "source": [
    "## Exercice 1 : amateurnote\n",
    "On veut créer un logiciel de gestion de notes.\n",
    "Les notes obtenues par un élève dans une matière sont stockées dans un tableau.\n",
    "1. Ecrire la fonction `moyenne` qui prend en argument un tableau de notes et renvoi la moyenne de ces notes."
   ]
  },
  {
   "cell_type": "code",
   "execution_count": 19,
   "id": "267f27ff",
   "metadata": {},
   "outputs": [
    {
     "name": "stdout",
     "output_type": "stream",
     "text": [
      "7.785714285714286\n"
     ]
    }
   ],
   "source": [
    "# Ecrire le code de votre fonction ci-dessous :\n",
    "\n",
    "def moyenne(tableau):\n",
    "    somme = 0\n",
    "    for i in range(len(tableau)):\n",
    "        somme += tableau[i]\n",
    "    moy = somme/len(tableau)\n",
    "    return moy\n",
    "# Appelez votre fonction pour calculer la moyenne des notes suivantes et affichez le résultat :\n",
    "n = [ 13.5, 1.5, 10.5, 3, 10, 17.5, 6, 7, 2.5, 0, 15.5, 7, 10.5, 4.5 ]\n",
    "\n",
    "print(moyenne(n))\n",
    "# Vous pouvez utiliser l'espace ci-dessous pour écrire d'autres tests :\n",
    "\n"
   ]
  },
  {
   "cell_type": "markdown",
   "id": "341db2d5",
   "metadata": {},
   "source": [
    "> Bien\n",
    "\n",
    "> 2 / 2"
   ]
  },
  {
   "cell_type": "markdown",
   "id": "889c7304",
   "metadata": {},
   "source": [
    "2. Ecrire la fonction `maximum` qui prend en argument un tableau de notes et renvoi la note la plus élevée obtenue.\n",
    "\n",
    "Votre fonction doit être capable d'opérer sur tout type de tableau de nombres, y compris sur un tableau ne contenant que des nombres négatifs."
   ]
  },
  {
   "cell_type": "code",
   "execution_count": 21,
   "id": "291dee6e",
   "metadata": {},
   "outputs": [
    {
     "name": "stdout",
     "output_type": "stream",
     "text": [
      "17.5\n",
      "-3\n"
     ]
    }
   ],
   "source": [
    "# Ecrire le code de votre fonction ci-dessous :\n",
    "\n",
    "def maximum(tableau):\n",
    "    maximum = tableau[0]\n",
    "    for i in range(1, len(tableau)):\n",
    "        if tableau[i] >= maximum:\n",
    "            maximum = tableau[i]\n",
    "    return maximum\n",
    "\n",
    "# Appelez votre fonction pour trouver le maximum du tableau suivant et affichez le résultat :\n",
    "n = [ 13.5, 1.5, 10.5, 3, 10, 17.5, 6, 7, 2.5, 0, 15.5, 7, 10.5, 4.5 ]\n",
    "print(maximum(n))\n",
    "\n",
    "# Appelez votre fonction pour trouver le maximum du tableau suivant et affichez le résultat :\n",
    "n2 = [ -13.5, -10.5, -3, -10, -17.5, -6, -7, -15.5, -7, -10.5, -4.5 ]\n",
    "print(maximum(n2))\n",
    "\n",
    "# Vous pouvez utiliser l'espace ci-dessous pour écrire d'autres tests :\n",
    "\n"
   ]
  },
  {
   "cell_type": "markdown",
   "id": "6f445f36",
   "metadata": {},
   "source": [
    "> Bien\n",
    "\n",
    "> `range(1, len(n))` permet d'éviter de lire deux fois le premier élément du tableau.\n",
    "\n",
    "> 2 / 2"
   ]
  },
  {
   "cell_type": "markdown",
   "id": "02e2681d",
   "metadata": {},
   "source": [
    "3. Pour détecter des erreurs de saisies, on veut vérifier que toutes les notes sont bien entre 0 et 20. Ecrire la fonction `estCorrect` qui prend en argument un tableau de notes et renvoi True si toutes les notes de ce tableau sont bien entre 0 et 20 ou bien False si au moins une note du tableau a une valeur incorrecte.\n",
    "\n",
    "Pour obtenir l'ensemble des points, votre fonction ne doit lire que les éléments nécessaires."
   ]
  },
  {
   "cell_type": "code",
   "execution_count": null,
   "id": "e266b7c5",
   "metadata": {},
   "outputs": [],
   "source": [
    "# Ecrire le code de votre fonction ci-dessous :\n",
    "\n",
    "def estCorrect(tableau):\n",
    "    correct = True\n",
    "    i = 0\n",
    "    while correct:\n",
    "        if tableau[i] < 0 or tableau[i] > 20:\n",
    "            correct = False\n",
    "            i += 1\n",
    "    return correct\n",
    "# Appelez votre fonction pour vérifier que les notes suivantes sont correctes et affichez le résultat :\n",
    "n = [ 13.5, 1.5, 10.5, 3, 10, 17.5, 6, 7, 2.5, 0, 15.5, 7, 10.5, 4.5 ]\n",
    "estCorrect(n)\n",
    "\n",
    "# Appelez votre fonction pour vérifier que les notes suivantes sont correctes et affichez le résultat :\n",
    "n2 = [ 13.5, 1.5, -10.5, 3, 17.5, 7, 2.5, 15.5, 7, 10.5, 4.5 ]\n",
    "estCorrect(n2)\n",
    "\n",
    "# Vous pouvez utiliser l'espace ci-dessous pour écrire d'autres tests :\n",
    "\n"
   ]
  },
  {
   "cell_type": "markdown",
   "id": "1d176adc",
   "metadata": {},
   "source": [
    "> On peut s'arrêter de lire le tableau dès qu'une note incorrecte est détectée. Une boucle `while` est donc plus optimale.\n",
    "\n",
    "> 1,5 / 2"
   ]
  },
  {
   "cell_type": "markdown",
   "id": "58c28ef9",
   "metadata": {},
   "source": [
    "4. Ecrire la fonction `plusQueMoy` qui prend en argument un tableau de notes et renvoi le nombre de notes supérieures ou égales à la moyenne de ces notes.\n",
    "\n",
    "Vous pouvez faire appel aux fonctions précédentes.\n",
    "\n",
    "Pour obtenir l'ensemble des points, votre fonction doit avoir la complexité en temps la moins élevée possible."
   ]
  },
  {
   "cell_type": "code",
   "execution_count": 20,
   "id": "1868ad4f",
   "metadata": {},
   "outputs": [
    {
     "name": "stdout",
     "output_type": "stream",
     "text": [
      "6\n"
     ]
    }
   ],
   "source": [
    "# Ecrire le code de votre fonction ci-dessous :\n",
    "\n",
    "def plusQueMoy(tableau):\n",
    "    j = 0\n",
    "    moy = moyenne(tableau)\n",
    "    for i in range(len(tableau)):\n",
    "        if tableau[i] >= moy:\n",
    "            j += 1\n",
    "        else:\n",
    "            pass\n",
    "    return j\n",
    "# Appelez votre fonction sur le tableau suivant et affichez le résultat :\n",
    "n = [ 13.5, 1.5, 10.5, 3, 10, 17.5, 6, 7, 2.5, 0, 15.5, 7, 10.5, 4.5 ]\n",
    "\n",
    "print(plusQueMoy(n))\n",
    "# Vous pouvez utiliser l'espace ci-dessous pour écrire d'autres tests :\n",
    "\n"
   ]
  },
  {
   "cell_type": "markdown",
   "id": "63e55541",
   "metadata": {},
   "source": [
    "> Ta fonction parait avoir une complexité O(n), mais la fonction moyenne a elle-même une complexité O(n), or, tu l'appelles dans la boucle, ce qui provoque, sans le voir, un deuxième parcourt du tableau pour chaque case lue lors du premier parcours. Tu as donc une complexité O(n²).\n",
    "\n",
    "> Il fallait stocker le résultat de l'appel à `moyenne` dans une variable avant ta boucle `for` puis comparer chaque élément lu avec le contenu de cette variable.\n",
    "\n",
    "> 1,5 / 2"
   ]
  },
  {
   "cell_type": "markdown",
   "id": "fc4bd287",
   "metadata": {},
   "source": [
    "5. Ecrire la fonction `bonus` qui prend en argument un tableau de notes et une note bonus. La note bonus doit être intégrée au tableau seulement si elle augmente la moyenne.\n",
    "\n",
    "Cette fonction modifie le tableau de notes en ajoutant la note bonus quand il le faut et elle renvoi `True` si le bonus est ajouté et `False` sinon.\n",
    "\n",
    "Vous pouvez faire appel aux fonctions précédentes."
   ]
  },
  {
   "cell_type": "code",
   "execution_count": null,
   "id": "4631a8d4",
   "metadata": {},
   "outputs": [],
   "source": [
    "# Ecrire le code de votre fonction ci-dessous :\n",
    "def bonus(tableau):\n",
    "    somme = 0\n",
    "    bonus = 9\n",
    "    for i in range(len(tableau)):\n",
    "        somme += tableau[i]\n",
    "    moy = somme/len(tableau)\n",
    "    #print(moy)\n",
    "    if somme + bonus /len(tableau) + 1 >= moy:\n",
    "        moy = (somme + bonus) / len(tableau) + 1\n",
    "    return moy\n",
    "        \n",
    "\n",
    "# Appelez votre fonction sur le tableau suivant avec la note bonus 9. Affichez le tableau s'il a été modifié.\n",
    "n = [ 13.5, 1.5, 10.5, 3, 10, 17.5, 6, 7, 2.5, 0, 15.5, 7, 10.5, 4.5 ]\n",
    "print(bonus(n)) \n",
    "\n",
    "# Vous pouvez utiliser l'espace ci-dessous pour écrire d'autres tests :\n",
    "\n"
   ]
  },
  {
   "cell_type": "markdown",
   "id": "eb3b6183",
   "metadata": {},
   "source": [
    "> Le but de la fonction est mal compris. On veut, à la fin, que le tableau de notes contienne la note bonus si elle est supérieure à la moyenne sans elle. On ne cherche pas à calculer la nouvelle moyenne.\n",
    "\n",
    "> Pourquoi ne pas avoir appeler `moyenne` à nouveau ?\n",
    "\n",
    "> 2 / 2 (tu as fait plus dur que ce qui était demandé)."
   ]
  },
  {
   "cell_type": "markdown",
   "id": "44de5e0e",
   "metadata": {},
   "source": [
    "## Exercice 2 : Manipulation de tableaux\n",
    "\n",
    "**Dans toutes les fonctions suivantes, les tableaux doivent être modifiés en place (réellement). Les fonctions ne renvoient rien.**\n",
    "\n",
    "1. Ecrire la fonction `plusplus` qui prend en argument un tableau de nombres et ajoute 1 à tous ses éléments.\n",
    "\n",
    "Par exemple, avec `t = [ 1, 2, 3 ]`, après `plusplus(t)`, `t` vaudra `[ 2, 3, 4 ]`.\n"
   ]
  },
  {
   "cell_type": "code",
   "execution_count": 28,
   "id": "79ad906e",
   "metadata": {},
   "outputs": [],
   "source": [
    "# Ecrire le code de votre fonction ci-dessous :\n",
    "\n",
    "def plusplus(tableau):\n",
    "    for i in range(len(tableau)):\n",
    "        tableau[i] += 1\n",
    "\n",
    "# Appelez votre fonction sur les tableaux suivants et affichez le tableau obtenu :\n",
    "a = [ i for i in range(7) ]\n",
    "\n",
    "b = [ i * 2 for i in range(4) ]\n",
    "\n",
    "c = [ i for i in range(1, 100) if i % 2 == 1 ]\n",
    "\n",
    "\n",
    "\n",
    "plusplus(a)\n",
    "plusplus(b)\n",
    "plusplus(c)\n",
    "\n",
    "# Vous pouvez utiliser l'espace ci-dessous pour écrire d'autres tests :\n",
    "#d = [1, 2, 3]\n",
    "#plusplus(d)"
   ]
  },
  {
   "cell_type": "markdown",
   "id": "25e81416",
   "metadata": {},
   "source": [
    "> Bien\n",
    "\n",
    "> 2 / 2"
   ]
  },
  {
   "cell_type": "markdown",
   "id": "39ba5c64",
   "metadata": {},
   "source": [
    "2. Ecrire la fonction `renverse` qui prend en argument un tableau et renverse ses éléments.\n",
    "\n",
    "Par exemple, avec `t = [ 1, 2, 3 ]`, après `renverse(t)`, `t` vaudra `[ 3, 2, 1 ]`."
   ]
  },
  {
   "cell_type": "code",
   "execution_count": null,
   "id": "373cf9d4",
   "metadata": {},
   "outputs": [],
   "source": [
    "### Ecrire le code de votre fonction ci-dessous :\n",
    "\n",
    "def renverse(tableau):\n",
    "    for i in range(len(tableau)//2):\n",
    "        temp = tableau[j]\n",
    "        tableau[j] = tableau[i]\n",
    "        tableau[i] = temp\n",
    "\n",
    "# Appelez votre fonction sur les tableaux suivants et affichez le tableau obtenu :\n",
    "a = [ i for i in range(7) ]\n",
    "\n",
    "b = [ i * 2 for i in range(4) ]\n",
    "\n",
    "c = [ i for i in range(1, 100) if i % 2 == 1 ]\n",
    "\n",
    "print(a)\n",
    "renverse(a)\n",
    "print(a)\n",
    "\n",
    "print(b)\n",
    "renverse(b)\n",
    "print(b)\n",
    "\n",
    "print(c)\n",
    "renverse(c)\n",
    "print(c)\n",
    "# Vous pouvez utiliser l'espace ci-dessous pour écrire d'autres tests :\n",
    "\n"
   ]
  },
  {
   "cell_type": "markdown",
   "id": "961f7080",
   "metadata": {},
   "source": [
    "> Ta fonction va, de façon compliquée et longue, remplacer tous les éléments du tableau par le dernier.\n",
    "\n",
    "> Code de l'échange:\n",
    ">```python\n",
    "temp = tableau[j]         # case j sauvegardée dans variable temporaire\n",
    "tableau[j] = tableau[i]   # case j remplacée par contenu de la case i \n",
    "                          # (les cases i et j contiennent la même chose)\n",
    "tableau[i] = temp         # case i remplacée par l'ancien contenu de  la case j\n",
    "\n",
    "> 0,5 / 2"
   ]
  },
  {
   "cell_type": "markdown",
   "id": "f93aaf72",
   "metadata": {},
   "source": [
    "3. Ecrire la fonction `palindrome` qui prend en argument un tableau ajoute des éléments de manière à le transformer en palindrome.\n",
    "Par exemple, avec `t = [ 1, 2, 3 ]`, après `palindrome(t)`, `t` vaudra `[ 1, 2, 3, 2, 1 ]`.\n",
    "Le tableau ainsi obtenu ne sera donc pas modifié par la fonction `renverse`.\n",
    "Le dernier élément du tableau d'origine n'est pas doublé."
   ]
  },
  {
   "cell_type": "code",
   "execution_count": 10,
   "id": "470b029c",
   "metadata": {},
   "outputs": [
    {
     "name": "stdout",
     "output_type": "stream",
     "text": [
      "[0, 1, 2, 3, 4, 5, 6]\n",
      "[0, 1, 2, 3, 4, 5, 6, 6, 5, 4, 3, 2, 1, 0]\n"
     ]
    }
   ],
   "source": [
    "# Ecrire le code de votre fonction ci-dessous :\n",
    "\n",
    "def palindrome(tableau):\n",
    "    for i in range(len(tableau), 0, -1):\n",
    "        tableau.append(tableau[i-1])\n",
    "\n",
    "# Appelez votre fonction sur les tableaux suivants et affichez le tableau obtenu :\n",
    "a = [ i for i in range(7) ]\n",
    "\n",
    "b = [ i * 2 for i in range(4) ]\n",
    "\n",
    "c = [ i for i in range(1, 100) if i % 2 == 1 ]\n",
    "\n",
    "print(a)\n",
    "palindrome(a)\n",
    "print(a)\n",
    "\n",
    "palindrome(b)\n",
    "palindrome(c)\n",
    "# Vous pouvez utiliser l'espace ci-dessous pour écrire d'autres tests :\n",
    "\n"
   ]
  },
  {
   "cell_type": "markdown",
   "id": "4b7b8578",
   "metadata": {},
   "source": [
    "> `range` mal défini.\n",
    "\n",
    "> 1 / 2"
   ]
  },
  {
   "cell_type": "markdown",
   "id": "36304852",
   "metadata": {},
   "source": [
    "4. On considère l'algorithme suivant :\n",
    "```\n",
    "    tri_à_bulles(Tableau T)\n",
    "       pour i allant de (taille de T)-1 à 1\n",
    "           pour j allant de 0 à i-1\n",
    "               si T[j+1] < T[j]\n",
    "                   x ← T[j]\n",
    "                   T[j] ← T[j+1]\n",
    "                   T[j+1] ← x\n",
    "```\n",
    "               \n",
    "   Ecrire la fonction `triABulles` implémentant cet algorithme en python."
   ]
  },
  {
   "cell_type": "code",
   "execution_count": 17,
   "id": "8777007d",
   "metadata": {},
   "outputs": [
    {
     "name": "stdout",
     "output_type": "stream",
     "text": [
      "[-2, 5, 7, 9, 12, 13, 27, 28, 98]\n",
      "[6, 9, 15, 40, 50, 55, 57, 68, 81, 91]\n"
     ]
    }
   ],
   "source": [
    "# Ecrire le code de votre fonction ci-dessous :\n",
    "\n",
    "def triABulles(t):\n",
    "    n = len(t)\n",
    "    for i in range(n-1):\n",
    "        for j in range(i+1, n):\n",
    "            if t[i] > t[j]:\n",
    "                t[i], t[j] = t[j], t[i]\n",
    "\n",
    "a = [ 12, 5, 28, 98, -2, 27, 13, 9, 7 ]\n",
    "\n",
    "triABulles(a)\n",
    "print(a)\n",
    "\n",
    "from random import randint\n",
    "b = [ randint(0, 100) for i in range(10) ]\n",
    "triABulles(b)\n",
    "print(b)\n",
    "\n",
    "# Vous pouvez utiliser l'espace ci-dessous pour écrire d'autres tests :\n",
    "\n"
   ]
  },
  {
   "cell_type": "markdown",
   "id": "dddc8b48",
   "metadata": {},
   "source": [
    "> A nouveau, les `range` sont mal définis.\n",
    "\n",
    "> 1 / 2"
   ]
  },
  {
   "cell_type": "markdown",
   "id": "c24bf8d8",
   "metadata": {},
   "source": [
    "5. Ecrire au choix une fonction réalisant le tri par insertion ou le tri par sélection."
   ]
  },
  {
   "cell_type": "code",
   "execution_count": 2,
   "id": "c4237ff2",
   "metadata": {},
   "outputs": [],
   "source": [
    "# Ecrire le code de votre fonction ci-dessous :\n",
    "\n",
    "def triParInsertion(tableau):\n",
    "    for i in range (1, len(tableau)):\n",
    "        x = tableau[i]\n",
    "        j = i \n",
    "        while j > 0 and tableau[j - 1] > x:\n",
    "            tableau[j] = tableau[j - 1]\n",
    "            j -= 1\n",
    "        tableau[j] = x\n",
    "# Appelez votre fonction sur les tableaux suivants et affichez le tableau obtenu :\n",
    "a = [ 12, 5, 28, 98, -2, 27, 13, 9, 7 ]\n",
    "triParInsertion(a)\n",
    "\n",
    "from random import randint\n",
    "b = [ randint(0, 100) for i in range(10) ]\n",
    "triParInsertion(b)\n",
    "\n",
    "# Vous pouvez utiliser l'espace ci-dessous pour écrire d'autres tests :\n",
    "\n"
   ]
  },
  {
   "cell_type": "markdown",
   "id": "4ed87d8b",
   "metadata": {},
   "source": [
    "> Bien\n",
    "\n",
    "> 2 / 2"
   ]
  }
 ],
 "metadata": {
  "kernelspec": {
   "display_name": "Python 3 (ipykernel)",
   "language": "python",
   "name": "python3"
  },
  "language_info": {
   "codemirror_mode": {
    "name": "ipython",
    "version": 3
   },
   "file_extension": ".py",
   "mimetype": "text/x-python",
   "name": "python",
   "nbconvert_exporter": "python",
   "pygments_lexer": "ipython3",
   "version": "3.11.1"
  }
 },
 "nbformat": 4,
 "nbformat_minor": 5
}
