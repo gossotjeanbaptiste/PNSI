{
 "cells": [
  {
   "cell_type": "markdown",
   "id": "3e6d4534",
   "metadata": {},
   "source": [
    "# D'autres structures de données\n",
    "\n",
    "Après les tableaux, nous allons aborder d'autres manières de stocker des collections de données.\n",
    "\n",
    "## Les p-uplets\n",
    "Un p-uplet est une suite de valeurs finies. En Python, on utilise le type `tuple`.\n",
    "\n",
    "Pour créer un `tuple`, on procède un peu comme pour un tableau, sauf qu'on utilise des parenthèses `()` au lieu de crochets `[]`.\n"
   ]
  },
  {
   "cell_type": "code",
   "execution_count": 1,
   "id": "4c628876",
   "metadata": {},
   "outputs": [
    {
     "name": "stdout",
     "output_type": "stream",
     "text": [
      "(5, 7, 2, 6, 4)\n"
     ]
    }
   ],
   "source": [
    "a = (5, 7, 2, 6, 4)\n",
    "print(a)"
   ]
  },
  {
   "cell_type": "markdown",
   "id": "c3714c4e",
   "metadata": {},
   "source": [
    "Pour accéder aux éléments, on procède comme pour un tableau: en indiquant le numéro de l'élément entre crochets après le nom du tuple."
   ]
  },
  {
   "cell_type": "code",
   "execution_count": 2,
   "id": "1d695d5d",
   "metadata": {},
   "outputs": [
    {
     "name": "stdout",
     "output_type": "stream",
     "text": [
      "6\n"
     ]
    }
   ],
   "source": [
    "print(a[3])"
   ]
  },
  {
   "cell_type": "markdown",
   "id": "79af383c",
   "metadata": {},
   "source": [
    "> A part les parenthèses à la place des crochets, il n'y a pas de différences alors?\n",
    "\n",
    "En lecture, non. Mais essayez d'écrire dans un `tuple`:"
   ]
  },
  {
   "cell_type": "code",
   "execution_count": 3,
   "id": "28555da6",
   "metadata": {},
   "outputs": [
    {
     "ename": "TypeError",
     "evalue": "'tuple' object does not support item assignment",
     "output_type": "error",
     "traceback": [
      "\u001b[1;31m---------------------------------------------------------------------------\u001b[0m",
      "\u001b[1;31mTypeError\u001b[0m                                 Traceback (most recent call last)",
      "Cell \u001b[1;32mIn[3], line 1\u001b[0m\n\u001b[1;32m----> 1\u001b[0m \u001b[43ma\u001b[49m\u001b[43m[\u001b[49m\u001b[38;5;241;43m0\u001b[39;49m\u001b[43m]\u001b[49m \u001b[38;5;241m=\u001b[39m \u001b[38;5;241m1\u001b[39m\n",
      "\u001b[1;31mTypeError\u001b[0m: 'tuple' object does not support item assignment"
     ]
    }
   ],
   "source": [
    "a[0] = 1"
   ]
  },
  {
   "cell_type": "markdown",
   "id": "4f76e4e0",
   "metadata": {},
   "source": [
    "> Ca marche pas!\n",
    "\n",
    "Et si on essaye d'ajouter un élément à la fin du `tuple`?"
   ]
  },
  {
   "cell_type": "code",
   "execution_count": 4,
   "id": "9b4328a8",
   "metadata": {},
   "outputs": [
    {
     "ename": "AttributeError",
     "evalue": "'tuple' object has no attribute 'append'",
     "output_type": "error",
     "traceback": [
      "\u001b[1;31m---------------------------------------------------------------------------\u001b[0m",
      "\u001b[1;31mAttributeError\u001b[0m                            Traceback (most recent call last)",
      "Cell \u001b[1;32mIn[4], line 1\u001b[0m\n\u001b[1;32m----> 1\u001b[0m \u001b[43ma\u001b[49m\u001b[38;5;241;43m.\u001b[39;49m\u001b[43mappend\u001b[49m(\u001b[38;5;241m12\u001b[39m)\n",
      "\u001b[1;31mAttributeError\u001b[0m: 'tuple' object has no attribute 'append'"
     ]
    }
   ],
   "source": [
    "a.append(12)"
   ]
  },
  {
   "cell_type": "markdown",
   "id": "29fa8558",
   "metadata": {},
   "source": [
    "> Ca marche pas non plus.\n",
    "\n",
    "Effectivement, un `tuple` n'est accessible qu'en lecture. Une fois qu'on l'a créé, il n'est pas modifiable comme une `list`.\n",
    "\n",
    "> C'est nul. Ca fait moins de choses qu'un tableau. Autant toujours utiliser des tableaux. Qui peut le plus peut le moins.\n",
    "\n",
    "Si les deux existent, c'est bien qu'il doit y avoir un intérêt.\n",
    "\n",
    "Pour comprendre, écrivons une fonction qui calcule la distance entre deux points dans un espace en 2 dimensions.\n",
    "\n",
    "Un point sera représenté par un tuple de 2 valeurs, la première correspondant à son abscisse et la deuxième à son ordonnée. [Ce petit rappel mathématique vous explique comment faire.](https://www.kartable.fr/ressources/mathematiques/methode/calculer-la-distance-entre-deux-points-dans-un-repere-orthonorme/3536)\n",
    "\n",
    "Voici une manière d'écrire cette fonction:"
   ]
  },
  {
   "cell_type": "code",
   "execution_count": 1,
   "id": "2819e0d1",
   "metadata": {},
   "outputs": [],
   "source": [
    "def distance(pointA, pointB):\n",
    "    dx = pointA[0] - pointB[0]\n",
    "    dy = pointA[1] - pointB[1]\n",
    "    dist = (dx ** 2 + dy ** 2) ** 0.5   # Remarque: la racine carrée est la même chose que la puissance 1/2\n",
    "    return dist"
   ]
  },
  {
   "cell_type": "markdown",
   "id": "8fa2bd6c",
   "metadata": {},
   "source": [
    "Testons notre fonction:"
   ]
  },
  {
   "cell_type": "code",
   "execution_count": 6,
   "id": "85354ecc",
   "metadata": {},
   "outputs": [
    {
     "name": "stdout",
     "output_type": "stream",
     "text": [
      "5.0\n"
     ]
    }
   ],
   "source": [
    "a = (1, 3)\n",
    "b = (4, -1)\n",
    "d = distance(a, b)\n",
    "print(d)"
   ]
  },
  {
   "cell_type": "markdown",
   "id": "630fdb28",
   "metadata": {},
   "source": [
    "Puisque l'accès à un `tuple` se fait comme l'accès à une `list`, rien ne nous empêche de donner les coordonnées des points en utilisant une `list`."
   ]
  },
  {
   "cell_type": "code",
   "execution_count": 7,
   "id": "ad3812ec",
   "metadata": {},
   "outputs": [
    {
     "name": "stdout",
     "output_type": "stream",
     "text": [
      "5.0\n"
     ]
    }
   ],
   "source": [
    "a = [1, 3]\n",
    "b = [4, -1]\n",
    "d = distance(a, b)\n",
    "print(d)"
   ]
  },
  {
   "cell_type": "markdown",
   "id": "9e30920d",
   "metadata": {},
   "source": [
    "On pourrait aussi écrire la fonction de la manière suivante:"
   ]
  },
  {
   "cell_type": "code",
   "execution_count": 14,
   "id": "6104c798",
   "metadata": {},
   "outputs": [],
   "source": [
    "def distanceV2(pointA, pointB):\n",
    "    dist = 0\n",
    "    for i in range(2):\n",
    "        pointA[i] -= pointB[i]\n",
    "        dist += pointA[i] ** 2\n",
    "    dist = dist ** 0.5\n",
    "    return dist"
   ]
  },
  {
   "cell_type": "markdown",
   "id": "d147a0ba",
   "metadata": {},
   "source": [
    "C'est une façon un peu étrange de l'écrire. En particulier, on utilise pointA pour stocker les différences des coordonnées.\n",
    "\n",
    "Testons le résultat avec des `list`."
   ]
  },
  {
   "cell_type": "code",
   "execution_count": 9,
   "id": "55e8f68a",
   "metadata": {},
   "outputs": [
    {
     "name": "stdout",
     "output_type": "stream",
     "text": [
      "5.0\n"
     ]
    }
   ],
   "source": [
    "a = [1, 3]\n",
    "b = [4, -1]\n",
    "d = distanceV2(a, b)\n",
    "print(d)"
   ]
  },
  {
   "cell_type": "markdown",
   "id": "5d6d6001",
   "metadata": {},
   "source": [
    "Cela fonctionne, mais:"
   ]
  },
  {
   "cell_type": "code",
   "execution_count": 10,
   "id": "4119fa66",
   "metadata": {},
   "outputs": [
    {
     "name": "stdout",
     "output_type": "stream",
     "text": [
      "[-3, 4]\n",
      "[4, -1]\n"
     ]
    }
   ],
   "source": [
    "print(a)\n",
    "print(b)"
   ]
  },
  {
   "cell_type": "markdown",
   "id": "900e1ea9",
   "metadata": {},
   "source": [
    "Le point `a` est modifié. En effet, une variable de type simple est copiée lorsqu'elle est passée en argument à une fonction, et donc lorsque l'on passe une variable en argument, la fonction travail sur une copie. Si on modifie le contenu de la variable dans la fonction, on touche à la copie.\n",
    "\n",
    "Exemple:"
   ]
  },
  {
   "cell_type": "code",
   "execution_count": 11,
   "id": "ff864c43",
   "metadata": {},
   "outputs": [
    {
     "name": "stdout",
     "output_type": "stream",
     "text": [
      "6\n",
      "5\n"
     ]
    }
   ],
   "source": [
    "def f(x):\n",
    "    x += 1\n",
    "    print(x)\n",
    "\n",
    "y = 5\n",
    "f(y)\n",
    "print(y)"
   ]
  },
  {
   "cell_type": "markdown",
   "id": "2632b595",
   "metadata": {},
   "source": [
    "Quand on passe la variable `y` à la fonction `f`, tout se passe comme si on avait un `x = y` au début de la fonction. La valeur contenue dans `y` est copiée dans `x`. Modifier le contenu de `x` n'a donc pas d'impact sur le contenu de `y`.\n",
    "\n",
    "Oui, mais..."
   ]
  },
  {
   "cell_type": "code",
   "execution_count": 12,
   "id": "2659b0d2",
   "metadata": {},
   "outputs": [
    {
     "name": "stdout",
     "output_type": "stream",
     "text": [
      "[2, 5, 8]\n",
      "[2, 5, 8]\n"
     ]
    }
   ],
   "source": [
    "original = [ 1, 5, 8 ]\n",
    "copie = original\n",
    "copie[0] = 2\n",
    "print(copie)\n",
    "print(original)"
   ]
  },
  {
   "cell_type": "markdown",
   "id": "11363072",
   "metadata": {},
   "source": [
    "Quand on écrit `copie = original`, avec des tableaux, cela ne réalise pas une vraie copie du tableau. Cela copie simplement la référence à l'emplacement occupé par le tableau dans la mémoire. On travaille sur le même endroit de la mémoire et donc nos modifications s'appliquent autant à la copie qu'à l'original.\n",
    "\n",
    "Une fonction qui prend un tableau en argument et qui modifie le contenu du tableau va donc réellement modifier le tableau. Le concepteur de `distanceV2` n'y a pas pensé et le premier point sera modifié par l'appel à sa fonction.\n",
    "\n",
    "Mais si on utilise des `tuple`:"
   ]
  },
  {
   "cell_type": "code",
   "execution_count": 15,
   "id": "b9b64e2e",
   "metadata": {},
   "outputs": [
    {
     "ename": "TypeError",
     "evalue": "'tuple' object does not support item assignment",
     "output_type": "error",
     "traceback": [
      "\u001b[1;31m---------------------------------------------------------------------------\u001b[0m",
      "\u001b[1;31mTypeError\u001b[0m                                 Traceback (most recent call last)",
      "Cell \u001b[1;32mIn[15], line 3\u001b[0m\n\u001b[0;32m      1\u001b[0m a \u001b[38;5;241m=\u001b[39m (\u001b[38;5;241m1\u001b[39m, \u001b[38;5;241m3\u001b[39m)\n\u001b[0;32m      2\u001b[0m b \u001b[38;5;241m=\u001b[39m (\u001b[38;5;241m4\u001b[39m, \u001b[38;5;241m-\u001b[39m\u001b[38;5;241m1\u001b[39m)\n\u001b[1;32m----> 3\u001b[0m d \u001b[38;5;241m=\u001b[39m \u001b[43mdistanceV2\u001b[49m\u001b[43m(\u001b[49m\u001b[43ma\u001b[49m\u001b[43m,\u001b[49m\u001b[43m \u001b[49m\u001b[43mb\u001b[49m\u001b[43m)\u001b[49m\n\u001b[0;32m      4\u001b[0m \u001b[38;5;28mprint\u001b[39m(d)\n",
      "Cell \u001b[1;32mIn[14], line 4\u001b[0m, in \u001b[0;36mdistanceV2\u001b[1;34m(pointA, pointB)\u001b[0m\n\u001b[0;32m      2\u001b[0m dist \u001b[38;5;241m=\u001b[39m \u001b[38;5;241m0\u001b[39m\n\u001b[0;32m      3\u001b[0m \u001b[38;5;28;01mfor\u001b[39;00m i \u001b[38;5;129;01min\u001b[39;00m \u001b[38;5;28mrange\u001b[39m(\u001b[38;5;241m2\u001b[39m):\n\u001b[1;32m----> 4\u001b[0m     \u001b[43mpointA\u001b[49m\u001b[43m[\u001b[49m\u001b[43mi\u001b[49m\u001b[43m]\u001b[49m \u001b[38;5;241m-\u001b[39m\u001b[38;5;241m=\u001b[39m pointB[i]\n\u001b[0;32m      5\u001b[0m     dist \u001b[38;5;241m+\u001b[39m\u001b[38;5;241m=\u001b[39m pointA[i] \u001b[38;5;241m*\u001b[39m\u001b[38;5;241m*\u001b[39m \u001b[38;5;241m2\u001b[39m\n\u001b[0;32m      6\u001b[0m dist \u001b[38;5;241m=\u001b[39m dist \u001b[38;5;241m*\u001b[39m\u001b[38;5;241m*\u001b[39m \u001b[38;5;241m0.5\u001b[39m\n",
      "\u001b[1;31mTypeError\u001b[0m: 'tuple' object does not support item assignment"
     ]
    }
   ],
   "source": [
    "a = (1, 3)\n",
    "b = (4, -1)\n",
    "d = distanceV2(a, b)\n",
    "print(d)"
   ]
  },
  {
   "cell_type": "markdown",
   "id": "0afbc8c0",
   "metadata": {},
   "source": [
    "Cette fois, on obtient une erreur puisqu'un `tuple` ne peut pas être modifié. Cela nous protège d'une modification accidentelle.\n",
    "\n",
    "### Valeur de retour d'une fonction\n",
    "Puisqu'une fonction ne modifie pas ses arguments (sauf cas particulier), le seul moyen pour une fonction de transmettre une information à la partie du programme qui l'a appelée est de renvoyer une valeur de retour.\n",
    "\n",
    "Comment faire si la fonction doit nous renvoyer plusieurs informations? Puisqu'on ne peut renvoyer qu'une chose, on va renvoyer un `tuple` qui contiendra tout ce qu'on veut renvoyer.\n",
    "\n",
    "Exemple: écrire une fonction `divisionEntiere` qui prend en argument deux nombres entiers et renvoi un `tuple` constitué, dans l'ordre, du quotient et du reste de la division entière du premier nombre par le deuxième."
   ]
  },
  {
   "cell_type": "code",
   "execution_count": 11,
   "id": "c8b9ce48",
   "metadata": {},
   "outputs": [
    {
     "data": {
      "text/plain": [
       "(3, 1)"
      ]
     },
     "execution_count": 11,
     "metadata": {},
     "output_type": "execute_result"
    }
   ],
   "source": [
    "def divisionEntiere(n1, n2):\n",
    "    return (n1//n2, n1 % n2)\n",
    "divisionEntiere(13, 4)"
   ]
  },
  {
   "cell_type": "markdown",
   "id": "b311fcab",
   "metadata": {},
   "source": [
    "Pourquoi renvoyer un `tuple` plutôt qu'une `list`? Et bien parce que la valeur de retour forme un tout. Si on modifie son contenu, cela n'a plus de sens. Il faut donc que le contenu ne soit pas modifiable.\n",
    "\n",
    "### Taille d'un `tuple`\n",
    "Puisqu'un `tuple` n'est pas modifiable, la seule manière de modifier une variable contenant un `tuple` est de remplacer l'ancien `tuple` par un nouveau. Il faut donc que la suite de valeurs ne soit pas trop longue.\n",
    "\n",
    "## Les p-uplets nommés\n",
    "Imaginons que l'on veuille représenter un élève par un `tuple` constitué de son nom, son prénom et sa classe. Si on veut gérer une liste d'élèves, il faudra se souvenir que, chaque fois que l'on crée un nouveau `tuple`, il faut indiquer dans l'ordre exact le nom, le prénom et la classe.\n",
    "\n",
    "Si on a besoin d'accéder au nom, il faut savoir qu'il est dans le premier élément du `tuple` et donc rajouter `[0]` après le nom du `tuple`. Pour la classe, il faudra le faire suivre de `[2]`. \n",
    "\n",
    "Il est possible de se tromper et l'ensemble rend le programme difficile à lire. Il faudrait pouvoir créer des `tuple` en donnant un nom à leurs éléments et ainsi pouvoir accéder aux éléments par leur nom. On peut aussi créer le `tuple` sans se soucier de l'ordre dans lequel on rentre les données, mais en les identifiants par leur nom. C'est ce que l'on peut faire avec des p-uplets nommés.\n",
    "\n",
    "En Python, on parle de `namedtuple`. Ce type n'est pas disponible directement. Il faut l'importer depuis la bibliothèque `collections`:"
   ]
  },
  {
   "cell_type": "code",
   "execution_count": 2,
   "id": "5b023cd5",
   "metadata": {},
   "outputs": [],
   "source": [
    "from collections import namedtuple"
   ]
  },
  {
   "cell_type": "markdown",
   "id": "0775ee52",
   "metadata": {},
   "source": [
    "Il faut ensuite définir un type de p-uplet nommé:"
   ]
  },
  {
   "cell_type": "code",
   "execution_count": 3,
   "id": "bb7612c1",
   "metadata": {},
   "outputs": [],
   "source": [
    "Eleve = namedtuple(\"Eleve\", [\"nom\", \"prenom\", \"classe\"])"
   ]
  },
  {
   "cell_type": "markdown",
   "id": "2b8a88de",
   "metadata": {},
   "source": [
    "Puis, on peut créer des `namedtuple` de type `Eleve`:"
   ]
  },
  {
   "cell_type": "code",
   "execution_count": 4,
   "id": "efd3f550",
   "metadata": {},
   "outputs": [
    {
     "name": "stdout",
     "output_type": "stream",
     "text": [
      "Eleve(nom='DUPONT', prenom='Jean', classe='P03')\n"
     ]
    }
   ],
   "source": [
    "a = Eleve(nom = \"DUPONT\", prenom = \"Jean\", classe = \"P03\")\n",
    "print(a)"
   ]
  },
  {
   "cell_type": "markdown",
   "id": "dd43efbd",
   "metadata": {},
   "source": [
    "Il n'est pas obligatoire de rentrer les données dans l'ordre nom, prénom et classe:"
   ]
  },
  {
   "cell_type": "code",
   "execution_count": 5,
   "id": "6a1a5f5a",
   "metadata": {},
   "outputs": [
    {
     "name": "stdout",
     "output_type": "stream",
     "text": [
      "Eleve(nom='DURAND', prenom='Paul', classe='P05')\n"
     ]
    }
   ],
   "source": [
    "b = Eleve(prenom = \"Paul\", classe = \"P05\", nom = \"DURAND\")\n",
    "print(b)"
   ]
  },
  {
   "cell_type": "markdown",
   "id": "1c6a11e6",
   "metadata": {},
   "source": [
    "On peut rentrer les informations comme pour un `tuple` sans avoir à préciser les noms des champs. Dans ce cas, il faut entrer les valeurs des champs dans le bon ordre:"
   ]
  },
  {
   "cell_type": "code",
   "execution_count": 6,
   "id": "743635be",
   "metadata": {},
   "outputs": [
    {
     "name": "stdout",
     "output_type": "stream",
     "text": [
      "Eleve(nom='BOND', prenom='James', classe='P007')\n"
     ]
    }
   ],
   "source": [
    "c = Eleve(\"BOND\", \"James\", \"P007\")\n",
    "print(c)"
   ]
  },
  {
   "cell_type": "markdown",
   "id": "a4f804c5",
   "metadata": {},
   "source": [
    "Pour accéder à l'un des champs, il suffit d'écrire le nom de la variable contenant un `namedtuple` suivie de `.` et du nom du champ voulu:"
   ]
  },
  {
   "cell_type": "code",
   "execution_count": 7,
   "id": "73aaf02f",
   "metadata": {},
   "outputs": [
    {
     "name": "stdout",
     "output_type": "stream",
     "text": [
      "DUPONT\n",
      "P05\n",
      "James\n"
     ]
    }
   ],
   "source": [
    "print(a.nom)\n",
    "print(b.classe)\n",
    "print(c.prenom)"
   ]
  },
  {
   "cell_type": "markdown",
   "id": "fda9ced2",
   "metadata": {},
   "source": [
    "On peut aussi accéder aux champs par les numéros de position comme pour des `tuple` classiques:"
   ]
  },
  {
   "cell_type": "code",
   "execution_count": 8,
   "id": "1fadff56",
   "metadata": {},
   "outputs": [
    {
     "name": "stdout",
     "output_type": "stream",
     "text": [
      "Jean\n",
      "P05\n",
      "BOND\n"
     ]
    }
   ],
   "source": [
    "print(a[1])\n",
    "print(b[2])\n",
    "print(c[0])"
   ]
  },
  {
   "cell_type": "markdown",
   "id": "e3a81d18",
   "metadata": {},
   "source": [
    "Si on veut créer un nouveau type de `namedtuple`, il faut:\n",
    "\n",
    "_1_ donner un nom à ce type avant d'écrire `=`. C'est ce qui servira à créer de nouveaux `namedtuple` de ce type en écrivant ce nom avant les parenthèses. Par convention, on commence ce nom par une majuscule.\n",
    "\n",
    "_2_ donner le nom d'affichage. C'est un `str` qui s'affichera si on passe un `namedtuple` à la fonction `print`. Il est conseillé de mettre dans ce `str` la même chose qu'en _1_, mais ce n'est pas obligatoire.\n",
    "\n",
    "_3_ donner la liste des noms des champs. Chaque nom de champ est un `str`.\n",
    "\n",
    "```python\n",
    "_1_ = namedtuple( _2_, _3_ )\n",
    "```\n",
    "\n",
    "Autre exemple:"
   ]
  },
  {
   "cell_type": "code",
   "execution_count": 19,
   "id": "0f817a4d",
   "metadata": {},
   "outputs": [
    {
     "name": "stdout",
     "output_type": "stream",
     "text": [
      "Professeur(nom='TOURNESOL', prenom='Tryphon', classes=['S4', 'P3', 'P8'])\n",
      "['S4', 'P3', 'P8']\n"
     ]
    }
   ],
   "source": [
    "Prof = namedtuple(\"Professeur\", [\"nom\", \"prenom\", \"classes\"])\n",
    "p = Prof(prenom = \"Tryphon\", nom = \"TOURNESOL\", classes = [\"S4\", \"P3\", \"P8\"])\n",
    "print(p)\n",
    "print(p.classes)"
   ]
  },
  {
   "cell_type": "markdown",
   "id": "e9a781b1",
   "metadata": {},
   "source": [
    "On voit ici que les champs peuvent être de n'importe quel type. Ici, le champ `classes` est une `list` de `str` alors que `nom` est un simple `str`.\n",
    "\n",
    "Créez un type de `namedtuple` pour stocker des informations sur un pays avec pour champ, son nom, sa capitale, sa superficie, sa population et créez quelques variables de ce type en affichant tout le `namedtuple` ou seulement l'un de ses champs."
   ]
  },
  {
   "cell_type": "code",
   "execution_count": 21,
   "id": "681c1ef6",
   "metadata": {},
   "outputs": [
    {
     "name": "stdout",
     "output_type": "stream",
     "text": [
      "France\n",
      "10Millions de km²\n"
     ]
    }
   ],
   "source": [
    "Pays = namedtuple(\"Monde\", [\"nom_du_pays\", \"nombre_dhabitants\", \"capital\", \"superficie\"])\n",
    "france = Pays(nom_du_pays = \"France\", nombre_dhabitants = \"67,5 Millions d'habitants\", capital = \"Paris\", superficie=\"552000KM²\" )\n",
    "#print(france)\n",
    "print(france.nom_du_pays)\n",
    "canada = Pays(\"Canada\", \"38.2Millions\", \"Ottawa\", \"10Millions de km²\")\n",
    "print(canada.superficie)"
   ]
  },
  {
   "cell_type": "markdown",
   "id": "726d89d1",
   "metadata": {},
   "source": [
    "## Les dictionnaires\n",
    "Un dictionnaire est une structure de données assez particulière. \n",
    "\n",
    "Quand nous avons vu les tableaux, nous y avons stocké des valeurs et nous pouvions retrouver ces valeurs par leurs numéros de position. Dans un dictionnaire, il n'y a pas de numéro de position, mais une **clé**. Cette clé peut être n'importe quoi: un nombre (même s'il n'est pas entier), un `str`, un tableau, une image,... Attention cependant avec les types trop complexes. Généralement, les clés des dictionnaires sont des `str`.\n",
    "\n",
    "Pour créer un dictionnaire (`dict` en Python), on utilise des accolades `{}`. A l'intérieur, on y met des paires `clé: valeur` séparées par des virgules.\n",
    "\n",
    "Ex:"
   ]
  },
  {
   "cell_type": "code",
   "execution_count": 26,
   "id": "18f4bc2a",
   "metadata": {},
   "outputs": [
    {
     "name": "stdout",
     "output_type": "stream",
     "text": [
      "{'farine': '250 g', 'sucre': '20 g', 'oeufs': 3, 'lait': '75 cL'}\n"
     ]
    }
   ],
   "source": [
    "ingredients = { \"farine\": \"250 g\", \"sucre\": \"20 g\", \"oeufs\": 3, \"lait\": \"75 cL\" }\n",
    "print(ingredients)"
   ]
  },
  {
   "cell_type": "markdown",
   "id": "d6d053d5",
   "metadata": {},
   "source": [
    "On accède à une valeur en indiquant la clé correspondante entre crochets après le nom du dictionnaire:"
   ]
  },
  {
   "cell_type": "code",
   "execution_count": 27,
   "id": "a12cda86",
   "metadata": {},
   "outputs": [
    {
     "name": "stdout",
     "output_type": "stream",
     "text": [
      "75 cL\n"
     ]
    }
   ],
   "source": [
    "print(ingredients[\"lait\"])"
   ]
  },
  {
   "cell_type": "markdown",
   "id": "e9d809d6",
   "metadata": {},
   "source": [
    "On peut accéder aux valeurs en lecture mais aussi en écriture:"
   ]
  },
  {
   "cell_type": "code",
   "execution_count": 22,
   "id": "00732289",
   "metadata": {},
   "outputs": [
    {
     "name": "stdout",
     "output_type": "stream",
     "text": [
      "{'stylo': 48, 'crayon': 27, 'gomme': 35}\n",
      "{'stylo': 43, 'crayon': 27, 'gomme': 35}\n"
     ]
    }
   ],
   "source": [
    "stock = { \"stylo\": 48, \"crayon\": 27, \"gomme\": 35 }\n",
    "print(stock)\n",
    "\n",
    "# vente de 5 stylos:\n",
    "stock[\"stylo\"] -= 5\n",
    "\n",
    "print(stock)"
   ]
  },
  {
   "cell_type": "markdown",
   "id": "1c6d495f",
   "metadata": {},
   "source": [
    "Si on essaye d'écrire dans une clé qui n'existe pas, elle sera créée:"
   ]
  },
  {
   "cell_type": "code",
   "execution_count": 23,
   "id": "eb2cd5dc",
   "metadata": {},
   "outputs": [
    {
     "name": "stdout",
     "output_type": "stream",
     "text": [
      "{'stylo': 43, 'crayon': 27, 'gomme': 35, 'cahier': 59}\n"
     ]
    }
   ],
   "source": [
    "stock[\"cahier\"] = 59\n",
    "print(stock)"
   ]
  },
  {
   "cell_type": "markdown",
   "id": "4cbe49de",
   "metadata": {},
   "source": [
    "Comme on peut mettre ce que l'on veut comme clé, on peut aussi mettre un nombre entier. Dans ce cas, l'accès au dictionnaire fera penser à l'accès à un tableau:"
   ]
  },
  {
   "cell_type": "code",
   "execution_count": 30,
   "id": "d24ec228",
   "metadata": {},
   "outputs": [
    {
     "name": "stdout",
     "output_type": "stream",
     "text": [
      "{0: 'a', 1: 'b', 2: 'c', 5: 'f', 6: 'g'}\n",
      "c\n"
     ]
    }
   ],
   "source": [
    "fauxTableau = { 0: \"a\", 1: \"b\", 2: \"c\", 5: \"f\", 6: \"g\" }\n",
    "print(fauxTableau)\n",
    "print(fauxTableau[2])"
   ]
  },
  {
   "cell_type": "markdown",
   "id": "620ec5ac",
   "metadata": {},
   "source": [
    "Seulement, comme il ne s'agit pas d'un tableau, il peut y avoir des trous dans les index:"
   ]
  },
  {
   "cell_type": "code",
   "execution_count": 31,
   "id": "1f113251",
   "metadata": {},
   "outputs": [
    {
     "ename": "KeyError",
     "evalue": "4",
     "output_type": "error",
     "traceback": [
      "\u001b[1;31m---------------------------------------------------------------------------\u001b[0m",
      "\u001b[1;31mKeyError\u001b[0m                                  Traceback (most recent call last)",
      "Cell \u001b[1;32mIn[31], line 1\u001b[0m\n\u001b[1;32m----> 1\u001b[0m \u001b[38;5;28mprint\u001b[39m(\u001b[43mfauxTableau\u001b[49m\u001b[43m[\u001b[49m\u001b[38;5;241;43m4\u001b[39;49m\u001b[43m]\u001b[49m)\n",
      "\u001b[1;31mKeyError\u001b[0m: 4"
     ]
    }
   ],
   "source": [
    "print(fauxTableau[4])"
   ]
  },
  {
   "cell_type": "markdown",
   "id": "e2ee86db",
   "metadata": {},
   "source": [
    "Et on obtient une `KeyError` quand on essaye de lire la valeur associée à une clé qui n'existe pas.\n",
    "\n",
    "### Parcourir un dictionnaire\n",
    "Comme pour les tableaux, si on veut parcourir un dictionnaire, on utilise une boucle `for`. Seulement, comme la clé est rarement un nombre entier, on ne peut pas utiliser `for i in range...`\n",
    "\n",
    "On utilise donc la boucle `for` sans avoir accès au numéro de position (qui n'existe pas dans un dictionnaire):"
   ]
  },
  {
   "cell_type": "code",
   "execution_count": 24,
   "id": "40e378ae",
   "metadata": {},
   "outputs": [
    {
     "name": "stdout",
     "output_type": "stream",
     "text": [
      "stylo\n",
      "crayon\n",
      "gomme\n",
      "cahier\n"
     ]
    }
   ],
   "source": [
    "for entree in stock:\n",
    "    print(entree)"
   ]
  },
  {
   "cell_type": "markdown",
   "id": "4e960ca9",
   "metadata": {},
   "source": [
    "On voit qu'à chaque tour de boucle, la variable `entree` contient une nouvelle clé du dictionnaire. On obtient la même chose avec la méthode `keys` des dictionnaires (une méthode est une fonction. Il faut donc l'appeler. Elle ne prend pas d'arguments)."
   ]
  },
  {
   "cell_type": "code",
   "execution_count": 33,
   "id": "93a6dbfa",
   "metadata": {},
   "outputs": [
    {
     "name": "stdout",
     "output_type": "stream",
     "text": [
      "stylo\n",
      "crayon\n",
      "gomme\n",
      "cahier\n"
     ]
    }
   ],
   "source": [
    "for cle in stock.keys():\n",
    "    print(cle)"
   ]
  },
  {
   "cell_type": "markdown",
   "id": "c480550c",
   "metadata": {},
   "source": [
    "Trouvez un moyen d'afficher les valeurs associées à ces clés (soit 43, 27, 35, 59 si vous n'avez pas modifié le dictionnaire)."
   ]
  },
  {
   "cell_type": "code",
   "execution_count": 25,
   "id": "88725c32",
   "metadata": {},
   "outputs": [
    {
     "name": "stdout",
     "output_type": "stream",
     "text": [
      "stylo\n",
      "crayon\n",
      "gomme\n",
      "cahier\n"
     ]
    }
   ],
   "source": [
    "for cle in stock.keys():\n",
    "    print(cle)"
   ]
  },
  {
   "cell_type": "markdown",
   "id": "aa449c99",
   "metadata": {},
   "source": [
    "Il est possible de le faire plus simplement avec la méthode `values`:"
   ]
  },
  {
   "cell_type": "code",
   "execution_count": 26,
   "id": "80a2ab55",
   "metadata": {},
   "outputs": [
    {
     "name": "stdout",
     "output_type": "stream",
     "text": [
      "43\n",
      "27\n",
      "35\n",
      "59\n"
     ]
    }
   ],
   "source": [
    "for valeur in stock.values():\n",
    "    print(valeur)"
   ]
  },
  {
   "cell_type": "markdown",
   "id": "a20a8467",
   "metadata": {},
   "source": [
    "Cette méthode ne permet cependant pas d'avoir accès à la clé, mais seulement à la valeur. Si on a besoin d'avoir accès aux deux, on doit utiliser la méthode `items`:"
   ]
  },
  {
   "cell_type": "code",
   "execution_count": 1,
   "id": "83c925e1",
   "metadata": {},
   "outputs": [
    {
     "ename": "SyntaxError",
     "evalue": "invalid syntax (3322446602.py, line 3)",
     "output_type": "error",
     "traceback": [
      "\u001b[1;36m  Cell \u001b[1;32mIn[1], line 3\u001b[1;36m\u001b[0m\n\u001b[1;33m    stock.del(x)\u001b[0m\n\u001b[1;37m          ^\u001b[0m\n\u001b[1;31mSyntaxError\u001b[0m\u001b[1;31m:\u001b[0m invalid syntax\n"
     ]
    }
   ],
   "source": [
    "for x in stock.items():\n",
    "    print(x)"
   ]
  },
  {
   "cell_type": "markdown",
   "id": "eb6b7c18",
   "metadata": {},
   "source": [
    "Cette méthode donnant, à chaque tour de boucle, un `tuple` formé de la clé suivie de sa valeur, on peut **dépaqueter** ce `tuple` dans deux variables différentes:"
   ]
  },
  {
   "cell_type": "code",
   "execution_count": 28,
   "id": "38696bfe",
   "metadata": {},
   "outputs": [
    {
     "name": "stdout",
     "output_type": "stream",
     "text": [
      "La clé \"stylo\" a pour valeur : \"43\"\n",
      "La clé \"crayon\" a pour valeur : \"27\"\n",
      "La clé \"gomme\" a pour valeur : \"35\"\n",
      "La clé \"cahier\" a pour valeur : \"59\"\n"
     ]
    }
   ],
   "source": [
    "for cle, val in stock.items():\n",
    "    print(\"La clé \\\"\" + str(cle) + \"\\\" a pour valeur : \\\"\" + str(val) + \"\\\"\")"
   ]
  }
 ],
 "metadata": {
  "kernelspec": {
   "display_name": "Python 3 (ipykernel)",
   "language": "python",
   "name": "python3"
  },
  "language_info": {
   "codemirror_mode": {
    "name": "ipython",
    "version": 3
   },
   "file_extension": ".py",
   "mimetype": "text/x-python",
   "name": "python",
   "nbconvert_exporter": "python",
   "pygments_lexer": "ipython3",
   "version": "3.12.0"
  }
 },
 "nbformat": 4,
 "nbformat_minor": 5
}
