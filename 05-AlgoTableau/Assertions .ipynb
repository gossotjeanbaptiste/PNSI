{
 "cells": [
  {
   "cell_type": "markdown",
   "id": "606b9f12",
   "metadata": {},
   "source": [
    "# Assertions, préconditions, postconditions\n",
    "\n",
    "Commençons par quelques petits exercices.\n",
    "\n",
    "## Exercice 1: Insertion en début de tableau\n",
    "On connait déjà la fonction `append` qui permet d'ajouter un nouvel élément à la fin d'un tableau.\n",
    "\n",
    "On veut maintenant pouvoir insérer un élément au début d'un tableau.\n",
    "\n",
    "Voici l'algorithme utilisé:\n",
    "```\n",
    "FONCTION insertionDebut(tableau t, valeur v)\n",
    "\n",
    "    taille <- longueur(t) # Cherche la taille du tableau\n",
    "\n",
    "    # On ajoute le dernier élément du tableau à la fin (permet d'étendre la taille du tableau)\n",
    "    insertionFin(t, t[taille - 1])\n",
    "    \n",
    "    # Décaler les éléments vers la case suivante\n",
    "    POUR i de taille - 1 à 1\n",
    "        t[i] <- t[i - 1]\n",
    "    FINPOUR\n",
    "    \n",
    "    # Mettre v dans la première case du tableau\n",
    "    t[0] <- v\n",
    "    \n",
    "FINFONCTION\n",
    "```\n",
    "\n",
    "Implémentez cet algorithme en python et donnez sa complexité en fonction de la taille n du tableau."
   ]
  },
  {
   "cell_type": "code",
   "execution_count": 1,
   "id": "44372a66",
   "metadata": {},
   "outputs": [
    {
     "name": "stdout",
     "output_type": "stream",
     "text": [
      "[2, 3, 4, 5, 6, 6]\n",
      "[2, 3, 4, 5, 5, 6]\n",
      "[2, 3, 4, 4, 5, 6]\n",
      "[2, 3, 3, 4, 5, 6]\n",
      "[2, 2, 3, 4, 5, 6]\n",
      "[1, 2, 3, 4, 5, 6]\n"
     ]
    }
   ],
   "source": [
    "def insertionDebut(t, v):\n",
    "    n = len(t)\n",
    "    t.append(t[n - 1])\n",
    "    print(t)\n",
    "    for i in range(n - 1, 0, -1):\n",
    "        t[i] = t[i - 1]\n",
    "        print(t)\n",
    "    t[0] = v\n",
    "\n",
    "test = [ 2, 3, 4, 5, 6 ]\n",
    "insertionDebut(test, 1)\n",
    "print(test)\n"
   ]
  },
  {
   "cell_type": "markdown",
   "id": "47a7f35d",
   "metadata": {},
   "source": [
    "## Exercice 2: Insertion dans le tableau\n",
    "On veut maintenant créer une fonction qui insère une valeur dans un tableau à une position donnée.\n",
    "\n",
    "Elle prendra en argument le tableau (t), la position de l'insertion (pos), et la valeur v à insérer.\n",
    "\n",
    "Cette fonction est une généralisation de la précédente. Ainsi, `insertionDebut(t, v)` est équivalent à `insertion(t, 0, v)`.\n",
    "\n",
    "Remarque: il existe déjà la fonction `insert` en python et `insertion(t, pos, v)` est équivalent à `t.insert(pos, v)`. Bien entendu, notre objectif est de nous entrainer en recréant le comportement de cette fonction et non de se contenter de l'utiliser."
   ]
  },
  {
   "cell_type": "code",
   "execution_count": 14,
   "id": "864e164d",
   "metadata": {},
   "outputs": [
    {
     "name": "stdout",
     "output_type": "stream",
     "text": [
      "[1, 2, 3, 5, 6, 7, 7]\n",
      "[1, 2, 3, 5, 6, 6, 7]\n",
      "[1, 2, 3, 5, 5, 6, 7]\n",
      "[1, 2, 3, 4, 5, 6, 7]\n"
     ]
    }
   ],
   "source": [
    "def insertion(t,  pos, v):\n",
    "    assert type(pos) == int\n",
    "    if not (pos >= 0 and pos <= len(t)):\n",
    "        raise AssertionError(\"Position incorrecte: \" + str(pos))\n",
    "    n = len(t)\n",
    "    t.append(t[n - 1])\n",
    "    print(t)\n",
    "    for i in range(n - 1, pos, -1):\n",
    "        t[i] = t[i - 1]\n",
    "        print(t)\n",
    "    t[pos] = v\n",
    "    \n",
    "test = [ 1, 2, 3, 5, 6, 7 ]\n",
    "insertion(test, 3, 4)\n",
    "print(test)"
   ]
  },
  {
   "cell_type": "markdown",
   "id": "584620a7",
   "metadata": {},
   "source": [
    "Que va-t-il se passer si on appelle cette fonction avec une valeur de pos strictement supérieure à la taille du tableau? Ou encore avec une position négative?\n",
    "\n",
    "Cela va bien sûr provoquer une erreur.\n",
    "\n",
    "Imaginons que notre fonction fasse partie d'un projet très vaste. En testant ce projet, on obtient une erreur lors de l'exécution de la fonction `insertion`. Est-ce parce que nous avons fait une erreur dans le code de la fonction `insertion` ou est-ce parce qu'on l'a appelée avec des arguments invalides?\n",
    "\n",
    "## Les préconditions\n",
    "Appeler notre fonction `insertion` nécessite que l'argument `pos` ait une valeur comprise entre `0` et la taille du tableau. Dans le cas contraire, la fonction va planter, mais ce n'est pas parce qu'elle est mal programmée. C'est parce qu'on l'appelle de manière absurde et c'est la partie du programme qui a appelé la fonction qui est responsable.\n",
    "\n",
    "Nous allons donc imposer nos conditions d'utilisation de notre fonction. Ces conditions qui doivent être réunies avant l'exécution de la fonction sont appelées des préconditions.\n",
    "\n",
    "### Le mot clé `assert`\n",
    "Pour insérer une précondition dans notre fonction, nous allons utiliser le mot clé `assert`. Il est suivi d'une expression booléenne.\n",
    "\n",
    "Notre précondition étant que `pos` soit entre 0 et la taille du tableau, nous allons donc ajouter la ligne `assert pos >= 0 and pos <= len(t)` au tout début de notre fonction.\n",
    "\n",
    "Essayez ensuite d'appeler la fonction avec des valeurs interdites par notre précondition."
   ]
  },
  {
   "cell_type": "code",
   "execution_count": 15,
   "id": "9d6400bc",
   "metadata": {},
   "outputs": [
    {
     "ename": "AssertionError",
     "evalue": "Position incorrecte: 3",
     "output_type": "error",
     "traceback": [
      "\u001b[1;31m---------------------------------------------------------------------------\u001b[0m",
      "\u001b[1;31mAssertionError\u001b[0m                            Traceback (most recent call last)",
      "Cell \u001b[1;32mIn [15], line 2\u001b[0m\n\u001b[0;32m      1\u001b[0m test \u001b[38;5;241m=\u001b[39m [ \u001b[38;5;241m1\u001b[39m,\u001b[38;5;241m2\u001b[39m ]\n\u001b[1;32m----> 2\u001b[0m \u001b[43minsertion\u001b[49m\u001b[43m(\u001b[49m\u001b[43mtest\u001b[49m\u001b[43m,\u001b[49m\u001b[43m \u001b[49m\u001b[38;5;241;43m3\u001b[39;49m\u001b[43m,\u001b[49m\u001b[43m \u001b[49m\u001b[38;5;241;43m3\u001b[39;49m\u001b[43m)\u001b[49m\n",
      "Cell \u001b[1;32mIn [14], line 4\u001b[0m, in \u001b[0;36minsertion\u001b[1;34m(t, pos, v)\u001b[0m\n\u001b[0;32m      2\u001b[0m \u001b[38;5;28;01massert\u001b[39;00m \u001b[38;5;28mtype\u001b[39m(pos) \u001b[38;5;241m==\u001b[39m \u001b[38;5;28mint\u001b[39m\n\u001b[0;32m      3\u001b[0m \u001b[38;5;28;01mif\u001b[39;00m \u001b[38;5;129;01mnot\u001b[39;00m (pos \u001b[38;5;241m>\u001b[39m\u001b[38;5;241m=\u001b[39m \u001b[38;5;241m0\u001b[39m \u001b[38;5;129;01mand\u001b[39;00m pos \u001b[38;5;241m<\u001b[39m\u001b[38;5;241m=\u001b[39m \u001b[38;5;28mlen\u001b[39m(t)):\n\u001b[1;32m----> 4\u001b[0m     \u001b[38;5;28;01mraise\u001b[39;00m \u001b[38;5;167;01mAssertionError\u001b[39;00m(\u001b[38;5;124m\"\u001b[39m\u001b[38;5;124mPosition incorrecte: \u001b[39m\u001b[38;5;124m\"\u001b[39m \u001b[38;5;241m+\u001b[39m \u001b[38;5;28mstr\u001b[39m(pos))\n\u001b[0;32m      5\u001b[0m n \u001b[38;5;241m=\u001b[39m \u001b[38;5;28mlen\u001b[39m(t)\n\u001b[0;32m      6\u001b[0m t\u001b[38;5;241m.\u001b[39mappend(t[n \u001b[38;5;241m-\u001b[39m \u001b[38;5;241m1\u001b[39m])\n",
      "\u001b[1;31mAssertionError\u001b[0m: Position incorrecte: 3"
     ]
    }
   ],
   "source": [
    "test = [ 1,2 ]\n",
    "insertion(test, 3, 3)"
   ]
  },
  {
   "cell_type": "markdown",
   "id": "9afcdb27",
   "metadata": {},
   "source": [
    "> Ah bah ça plante toujours!\n",
    "\n",
    "Oui, mais pas de la même façon. Cette fois nous avons une `AssertionError` alors qu'avant on avait une `IndexError`.\n",
    "\n",
    "> Et alors, qu'est-ce que ça change ?\n",
    "\n",
    "Ca change que ça veut dire que notre fonction n'est pas en cause. On l'a mal appelée. L'erreur vient donc de la portion de notre code qui appelle mal cette fonction. Par contre, si, à la place d'une `AssertionError`, on avait eu une `IndexError`, cela montrait que notre fonction avait été appelée correctement, mais qu'une erreur dans la fonction elle-même conduisait à utiliser un mauvais index de position pour accéder au tableau.\n",
    "\n",
    "La dernière ligne du message d'erreur se termine par `AssertionError: `. Les deux points à la fin indiquent qu'un message devrait suivre. C'est à nous de le donner. \n",
    "\n",
    "Modifiez le code de la manière suivante:\n",
    "```\n",
    "assert pos >= 0 and pos <= len(t), \"Position incorrecte: \" + str(pos)\n",
    "```\n",
    "\n",
    "On voit cette fois un message derrière les deux points. Ce message nous informe sur ce qui a provoqué l'erreur.\n",
    "\n",
    "> Ouais, ben moi je sais faire mieux.\n",
    "> ### Le mot clé `raise` (Hey, c'est moi qui fait le cours!)\n",
    "> J'ai vu qu'on pouvait déclencher une erreur avec le mot-clé `raise`. Il faut faire `raise typeDeLErreur(message)` donc on écrit:\n",
    ">```\n",
    "if not (pos >= 0 and pos <= len(t)):\n",
    "    raise AssertionError(\"Position incorrecte: \" + str(pos))```\n",
    "\n",
    "Oui, c'est bien, tu as même pensé à prendre la négative de notre précondition. Il faut effectivement provoquer une erreur quand elle n'est pas réalisée. Mais...\n",
    "\n",
    "> Mais ?\n",
    "\n",
    "Mais tu utilises un `if` au lieu d'un `assert`.\n",
    "\n",
    "> Oui, mais ce que je fais donne la même chose, c'est donc équivalent, non?\n",
    "\n",
    "Oui et non, ça dépend pour qui on programme.\n",
    "\n",
    "> Comment ça?\n",
    "\n",
    "Si on programme pour soi de manière occasionnelle, il peut paraître superflu d'utiliser `assert`. \n",
    "\n",
    "Par contre, si on programme de manière professionnelle, cela change tout. On va d'abord programmer en mode développement. Le code obtenu contient tous les mécanismes de détection de bug liés aux utilisation d'`assert`. Une fois que le programme fontionne correctement, on va devoir le livrer au client. \n",
    "\n",
    "Les utilisations d'`assert` ou de `if` ne sont plus nécessaires. Cela prend un peu plus de temps lors de l'exécution du code et cela le rend plus lourd. On va donc passer en mode production. Cela désactive les utilisations d'`assert`, par contre, un `if` sera toujours effectué et quand on est absolument sûr qu'il ne sert à rien, c'est dommage de perdre du temps à vérifier la condition.\n",
    "\n",
    "Le mot clé `assert` doit donc servir pour les préconditions. Pour le reste, on continue avec `if`.\n",
    "\n",
    "## Les postconditions\n",
    "Nous venons de voir les préconditions. Elles permettent, par l'intermédiaire du mot clé `assert`, de vérifier que certaines conditions sont réunies avant de commencer réellement l'exécution d'une fonction.\n",
    "\n",
    "On sait donc en cas de plantage si l'erreur provient d'un mauvais appel à la fonction, ou si la fonction est mal écrite. Mais imaginons que notre fonction soit mal écrite, mais pas suffisamment pour la faire planter.\n",
    "\n",
    "Par exemple, une fonction qui trie un tableau pourrait être mal écrite et donner, dans certains cas, un tableau mal trié. Tout se passe pourtant sans erreur et la fonction se termine sans qu'on détecte le moindre problème. Un peu plus tard, une autre partie du programme plante (ou pire: qu'elle se comporte de manière étrange) parce qu'elle a besoin d'un tableau bien trié. Dans ce cas, on va perdre du temps à chercher l'erreur au mauvais endroit.\n",
    "\n",
    "Pour éviter cela et être plus efficace dans la détection et la correction d'erreur, on va utiliser des postconditions. C'est comme les préconditions, mais au lieu d'être au début de la fonction, elles sont à la fin, avant **LE** `return`. Et j'ai bien dit **LE** car il ne doit y en avoir qu'un. Sinon, on sera obligé de recopier les mêmes conditions avant chaque `return`. D'où l'utilité de programmer proprement au lieu de frimer en mettant des `return` partout et en faisant semblant de savoir ce qu'on fait.\n",
    "\n",
    "> Pfff\n",
    "\n",
    "Et ouais!\n",
    "\n",
    "Bon, entrainons-nous en mettant une postcondition dans l'une de nos fonctions de tri.\n",
    "\n",
    "On va d'abord écrire une fonction `estTrie` qui prend en argument un tableau est renvoi `True` s'il est trié et `False` sinon.\n",
    "\n",
    "Il suffira ensuite d'ajouter dans notre fonction de tri un `assert` suivi de l'appel à `estTrie` avec le tableau résultat.\n",
    "\n",
    "Si on a crée une fonction de tri en place, il n'y a pas de `return`. Les postconditions sont alors simplement à la fin de la fonction.\n",
    "\n",
    "Vérifiez que ça fonctionne correctement en introduisant volontairement une erreur dans le tri (par exemple en échangeant les deux premiers éléments du tableau).\n",
    "\n",
    "Les postconditions empêcherons qu'on poursuive l'exécution du programme si la fonction a mal fait son travail. On saura donc qu'il faut la corriger et si une erreur se produit plus tard, ce ne sera pas de sa faute."
   ]
  },
  {
   "cell_type": "code",
   "execution_count": 5,
   "id": "d9dda845",
   "metadata": {},
   "outputs": [
    {
     "ename": "AssertionError",
     "evalue": "",
     "output_type": "error",
     "traceback": [
      "\u001b[1;31m---------------------------------------------------------------------------\u001b[0m",
      "\u001b[1;31mAssertionError\u001b[0m                            Traceback (most recent call last)",
      "Cell \u001b[1;32mIn [5], line 36\u001b[0m\n\u001b[0;32m     32\u001b[0m     \u001b[38;5;28;01massert\u001b[39;00m estTrie(tableau)\n\u001b[0;32m     34\u001b[0m t \u001b[38;5;241m=\u001b[39m [\u001b[38;5;241m5\u001b[39m, \u001b[38;5;241m1\u001b[39m, \u001b[38;5;241m8\u001b[39m, \u001b[38;5;241m6\u001b[39m, \u001b[38;5;241m10\u001b[39m, \u001b[38;5;241m-\u001b[39m\u001b[38;5;241m6\u001b[39m, \u001b[38;5;241m8\u001b[39m]\n\u001b[1;32m---> 36\u001b[0m \u001b[43mtriSelection\u001b[49m\u001b[43m(\u001b[49m\u001b[43mt\u001b[49m\u001b[43m)\u001b[49m\n\u001b[0;32m     38\u001b[0m \u001b[38;5;28mprint\u001b[39m(t)\n",
      "Cell \u001b[1;32mIn [5], line 32\u001b[0m, in \u001b[0;36mtriSelection\u001b[1;34m(tableau)\u001b[0m\n\u001b[0;32m     29\u001b[0m     tableau[debut] \u001b[38;5;241m=\u001b[39m minimum\n\u001b[0;32m     31\u001b[0m tableau[\u001b[38;5;241m0\u001b[39m] \u001b[38;5;241m=\u001b[39m \u001b[38;5;241m1000\u001b[39m\n\u001b[1;32m---> 32\u001b[0m \u001b[38;5;28;01massert\u001b[39;00m estTrie(tableau)\n",
      "\u001b[1;31mAssertionError\u001b[0m: "
     ]
    }
   ],
   "source": [
    "def estTrie(tableau):\n",
    "    n = len(tableau)\n",
    "    i = 0\n",
    "    ok = True\n",
    "    \n",
    "    while i + 1 < n and ok:\n",
    "        \n",
    "        if tableau[i] > tableau[i + 1]:\n",
    "            ok =  False\n",
    "            \n",
    "        i += 1\n",
    "    \n",
    "    return ok\n",
    "\n",
    "    \n",
    "\n",
    "    \n",
    "    \n",
    "def triSelection(tableau):\n",
    "    for debut in range(len(tableau)-1):\n",
    "        minimum = tableau[debut]\n",
    "        posMinimum = debut\n",
    "        # Cherche le minimum\n",
    "        for i in range(debut + 1, len(tableau)):\n",
    "            if minimum > tableau[i]:\n",
    "                minimum = tableau[i]\n",
    "                posMinimum = i\n",
    "        tableau[posMinimum] = tableau[debut]\n",
    "        tableau[debut] = minimum\n",
    "        \n",
    "    tableau[0] = 1000\n",
    "    assert estTrie(tableau)\n",
    "\n",
    "t = [5, 1, 8, 6, 10, -6, 8]\n",
    "    \n",
    "triSelection(t)\n",
    "\n",
    "print(t)"
   ]
  },
  {
   "cell_type": "markdown",
   "id": "f2809ab3",
   "metadata": {},
   "source": [
    "Bon, on ne va pas forcément mettre `assert` à toutes les sauces, mais il est bon que vous en ayez entendu parler si vous envisagez de faire de l'informatique de manière professionnelle.\n",
    "\n",
    "On va se reposer un peu.\n",
    "\n",
    "> Ah!\n",
    "\n",
    "Avec quelques exercices.\n",
    "\n",
    "> Oh!\n",
    "\n",
    "C'est bien de s'entrainer. Allez hop!\n",
    "\n",
    "Pour chaque fonction que vous écrirez, refléchissez à sa complexité.\n",
    "\n",
    "## Exercice 3:\n",
    "Etant donné deux tableaux de même taille, créez une fonction qui renvoi un tableau correspondant à la somme des éléments de même rang.\n",
    "\n",
    "Ex: avec `[ 2, 5, 3 ]` et `[ 7, 2, 1 ]`, cette fonction renverra `[ 9, 7, 4 ]`.\n",
    "\n",
    "On en profitera pour mettre une précondition qui vérifiera que les deux tableaux sont de même taille."
   ]
  },
  {
   "cell_type": "code",
   "execution_count": 11,
   "id": "463df4fc",
   "metadata": {},
   "outputs": [
    {
     "name": "stdout",
     "output_type": "stream",
     "text": [
      "[9, 7, 4]\n"
     ]
    }
   ],
   "source": [
    "# A vous de jouer\n",
    "def addition_liste(tableau1,tableau2):\n",
    "    tableau=[]\n",
    "    assert len(tableau1)==len(tableau2),\"les tableaux ne sont pas de meme longueur\"\n",
    "    for i in range(len(tableau1)):\n",
    "        tableau.append(tableau1[i]+tableau2[i])\n",
    "    return tableau\n",
    "\n",
    "tableau1=[2,5,3]\n",
    "tableau2=[7,2,1]\n",
    "\n",
    "tableau=addition_liste(tableau1,tableau2)\n",
    "print(tableau)"
   ]
  },
  {
   "cell_type": "markdown",
   "id": "71dcd11d",
   "metadata": {},
   "source": [
    "## Exercice 4: La tête à l'envers\n",
    "Ecrire une fonction qui retourne les éléments d'un tableau. A vous de voir si vous voulez écrire une version en place ou pas.\n",
    "\n",
    "Ex: `[ 1, 2, 3 ]` deviendra `[ 3, 2, 1 ]`"
   ]
  },
  {
   "cell_type": "code",
   "execution_count": 17,
   "id": "06bc66de",
   "metadata": {},
   "outputs": [
    {
     "name": "stdout",
     "output_type": "stream",
     "text": [
      "[12, 8, 6, 10]\n"
     ]
    }
   ],
   "source": [
    "def retourne(tableau):\n",
    "    tableauRetourne = []\n",
    "    \n",
    "    for i in range(len(tableau) -1, -1, -1):\n",
    "        tableauRetourne.append(tableau[i])\n",
    "        \n",
    "    return tableauRetourne\n",
    "\n",
    "def retourneEnplace(tableau):\n",
    "    \n",
    "    for i in range(len(tableau) // 2): # échanger case i avec case n-i-1\n",
    "        tableau[i], tableau[len(tableau) - i - 1] = \\\n",
    "        tableau[len(tableau) - i - 1], tableau[i]\n",
    "        \n",
    "        \n",
    "tableau1 = [ 10, 6, 8, 12 ]\n",
    "retourneEnplace(tableau1)\n",
    "print(tableau1)"
   ]
  },
  {
   "cell_type": "markdown",
   "id": "176c0c73",
   "metadata": {},
   "source": [
    "## Exercice 5: Décalage circulaire\n",
    "Ecrire une fonction qui décale circulairement les éléments d'un tableau vers la gauche.\n",
    "\n",
    "Ex: `[ 1, 2, 3, 4 ]` deviendra `[ 2, 3, 4, 1 ]` (avec un décalage non circulaire, on aurait eu `[ 2, 3, 4 ]`)."
   ]
  },
  {
   "cell_type": "code",
   "execution_count": 20,
   "id": "4a73665c",
   "metadata": {},
   "outputs": [
    {
     "name": "stdout",
     "output_type": "stream",
     "text": [
      "i = 0 : [2, 2, 3, 4]\n",
      "i = 1 : [2, 3, 3, 4]\n",
      "i = 2 : [2, 3, 4, 4]\n",
      "[2, 3, 4, 1]\n"
     ]
    }
   ],
   "source": [
    "def decalGauche(tableau):\n",
    "    if len(tableau) > 0:   # Pas de assert: \n",
    "    # notre fonction peut décaler un tableau vide (il ne se passe alors rien)\n",
    "        # Sauvegarde de la 1ere case\n",
    "        x = tableau[0]\n",
    "        # Parcours du tableau\n",
    "        for i in range(len(tableau) - 1):\n",
    "            # On recopie la case suivante dans celle où on se trouve\n",
    "            tableau[i] = tableau[i + 1]\n",
    "            # pour visualiser la progression. Le print est à désactiver\n",
    "            # Il n'est là que dans un but pédagogique\n",
    "            print(\"i = \" + str(i) + \" : \" + str(tableau))  \n",
    "        # Le premier tour de boucle a écrasé la 1ère case, mais on l'a\n",
    "        # sauvegardée dans x et on la restaure dans la dernière case:\n",
    "        tableau[len(tableau) - 1] = x\n",
    "\n",
    "t = [ 1, 2, 3, 4 ]\n",
    "decalGauche(t)\n",
    "print(t)"
   ]
  },
  {
   "cell_type": "markdown",
   "id": "5e532103",
   "metadata": {},
   "source": [
    "## Exercice 6: Tableau 2D\n",
    "On veut le symétrique d'un tableau 2D par rapport à sa diagonale:\n",
    "```\n",
    "[ [ 1, 2, 3 ], \\\n",
    "  [ 4, 5, 6 ], \\\n",
    "  [ 7, 8, 9 ] ]\n",
    "```\n",
    "deviendra\n",
    "```\n",
    "[ [ 1, 4, 7 ], \\\n",
    "  [ 2, 5, 8 ], \\\n",
    "  [ 3, 6, 9 ] ]\n",
    "```\n",
    "\n",
    "Les tableaux 2D utilisés doivent avoir le même nombre de lignes que de colonnes.\n"
   ]
  },
  {
   "cell_type": "code",
   "execution_count": 26,
   "id": "ec6ee98a",
   "metadata": {},
   "outputs": [
    {
     "name": "stdout",
     "output_type": "stream",
     "text": [
      "[1, 4, 7]\n",
      "[2, 5, 8]\n",
      "[3, 6, 9]\n"
     ]
    }
   ],
   "source": [
    "def tab2D(tableau2D):\n",
    "    for i in range(1, len(tableau2D)):\n",
    "        for j in range(i):\n",
    "            x = tableau2D[i][j]\n",
    "            tableau2D[i][j] = tableau2D[j][i]\n",
    "            tableau2D[j][i] = x\n",
    "\n",
    "def afficheTableau(tableau):\n",
    "    for i in range(len(tableau)):\n",
    "        print(tableau[i])\n",
    "        \n",
    "tab = [ [1, 2, 3], \\\n",
    "        [4, 5, 6], \\\n",
    "        [7, 8, 9] ]\n",
    "tab2D(tab)\n",
    "afficheTableau(tab)"
   ]
  },
  {
   "cell_type": "code",
   "execution_count": 33,
   "id": "2ab335bc",
   "metadata": {},
   "outputs": [
    {
     "name": "stdout",
     "output_type": "stream",
     "text": [
      "[1, 4, 7]\n",
      "[2, 5, 8]\n",
      "[3, 6, 9]\n"
     ]
    }
   ],
   "source": [
    "def tab2D2(t):\n",
    "    for i in range(1, len(t)):\n",
    "        for j in range(i):\n",
    "            t[i][j], t[j][i] = t[j][i], t[i][j]\n",
    "\n",
    "def afficheTableau(tableau):\n",
    "    for i in range(len(tableau)):\n",
    "        print(tableau[i])\n",
    "        \n",
    "tab = [ [1, 2, 3], \\\n",
    "        [4, 5, 6], \\\n",
    "        [7, 8, 9] ]\n",
    "tab2D2(tab)\n",
    "afficheTableau(tab)"
   ]
  }
 ],
 "metadata": {
  "kernelspec": {
   "display_name": "Python 3 (ipykernel)",
   "language": "python",
   "name": "python3"
  },
  "language_info": {
   "codemirror_mode": {
    "name": "ipython",
    "version": 3
   },
   "file_extension": ".py",
   "mimetype": "text/x-python",
   "name": "python",
   "nbconvert_exporter": "python",
   "pygments_lexer": "ipython3",
   "version": "3.11.1"
  }
 },
 "nbformat": 4,
 "nbformat_minor": 5
}
