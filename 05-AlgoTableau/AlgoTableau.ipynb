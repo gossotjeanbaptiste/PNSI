{
 "cells": [
  {
   "cell_type": "markdown",
   "id": "31af33c5",
   "metadata": {},
   "source": [
    "# Un peu d'algorithmique avec les tableaux\n",
    "\n",
    "*Previously on NSI*\n",
    "### Exercice 10 : Recherche dans un tableau\n",
    "Ecrire une fonction qui prend en argument un tableau de nombre ainsi qu'un nombre cherché dans ce tableau. Cette fonction va renvoyer un tableau des index de position du nombre cherché dans le tableau."
   ]
  },
  {
   "cell_type": "code",
   "execution_count": 2,
   "id": "461ccac3",
   "metadata": {},
   "outputs": [
    {
     "name": "stdout",
     "output_type": "stream",
     "text": [
      "[0, 3]\n"
     ]
    }
   ],
   "source": [
    "def recherchePositions(tableau, valeur):\n",
    "    positions = []\n",
    "    for i in range(len(tableau)):\n",
    "        if tableau[i] == valeur:\n",
    "            positions.append(i)\n",
    "    return positions\n",
    "\n",
    "print(recherchePositions([ 2, 4, 5, 2, 6, 5 ], 2))"
   ]
  },
  {
   "cell_type": "markdown",
   "id": "c958a2cc",
   "metadata": {},
   "source": [
    "*And now...*\n",
    "\n",
    "## Complexité en temps d'un algorithme\n",
    "Dans cette partie, nous allons étudier le temps que nécessite un algorithme pour se terminer. \n",
    "\n",
    "L'idée n'est pas de déterminer le temps exact que cela prend. En effet, ce temps dépend de plusieurs facteurs:\n",
    "- le nombre de données à traiter,\n",
    "- la répartition de ces données,\n",
    "- le système matériel (processeur, RAM,...) et logiciel (système d'exploitation, langage de programmation utilisé,...) sur lequel se déroule l'algorithme,\n",
    "- l'utilisation de ce système par d'autres logiciels (sur un système multitâche, notre algorithme doit partager son temps d'exécution avec d'autres),\n",
    "- ...\n",
    "\n",
    "Nous allons plutôt chercher comment va évoluer le temps de traitement en fonction du nombre `n` de données à traiter: si on double ce nombre, comment va évoluer la durée d'exécution de l'algorithme? Et si on multiplie par 10, 100 ou 1000 ce nombre de données? Bref, nous allons chercher une fonction de `n` qui représente comment évolue le temps nécessaire à opérer sur les données.\n",
    "\n",
    "### Exemple: complexité d'un algorithme de recherche dans un tableau\n",
    "Dans la fonction `recherchePositions`, on traite un tableau contenant `n` valeurs (on suppose qu'elles sont toutes de type `int`). On remarque que `len(tableau)` est égal à `n`.\n",
    "\n",
    "Pour simplifier les choses, on suppose que chaque opération élémentaire effectuée prend le même temps $t$.\n",
    "\n",
    "`positions = []` correspond à 2 opérations élémentaires: la création d'un tableau vide (`[]`) et son affectation dans la variable `position` (`position =`). Il faut donc un temps $2 \\times t$ pour exécuter cette ligne.\n",
    "\n",
    "`for i in range(len(tableau))` nous fait entrer dans une boucle qui va se dérouler `n` fois. La durée d'un tour de boucle devra donc être multipliée par `n` pour avoir le temps total d'exécution de la boucle.\n",
    "\n",
    "`i in range(len(tableau))` va affecter une valeur dans la variable `i`.  Cela prend un temps $t$.\n",
    "\n",
    "`if tableau[i] == valeur` va lire la valeur à la position `i` du tableau et comparer son égalité avec `valeur`. Cela prend donc un temps $2 \\times t$\n",
    "\n",
    " `positions.append(i)` va ajouter dans le tableau `positions` la valeur de `i`. Cela prend un temps $t$\n",
    " \n",
    " Au total, un tour de la boucle prend un temps $4 \\times t$. La boucle complète met donc un temps $4 \\times n \\times t$.\n",
    " \n",
    "Enfin, `return positions` renvoi le tableau à la partie du programme qui a appelé notre fonction. Cela prend un temps $t$.\n",
    " \n",
    "Il faut donc un temps total $(4 \\times n + 3) \\times t$ pour terminer notre algorithme.\n",
    "\n",
    "> Ah ben non!\n",
    "\n",
    "Comment ça non?\n",
    "\n",
    "> Dans la boucle, `positions.append(i)` n'est pas toujours effectué.\n",
    "\n",
    "C'est vrai, il est même possible que ce soit rarement le cas. Et si le tableau ne contient jamais de valeur en double, cela n'aura lieu qu'une fois.\n",
    "\n",
    "> Ah!\n",
    "\n",
    "Mais nous allons voir que cela n'a pas d'importance.\n",
    "\n",
    "> Oh!\n",
    "\n",
    "Pour commencer, nous allons toujours examiner le pire des cas. Même si on n'utilise notre fonction qu'avec des tableaux ne contenant jamais de doublons, nous devons envisager cette possibilité, et même imaginer un tableau qui contient toujours la même valeur et qu'elle correspond à la valeur cherchée. Dans ce cas, `positions.append(i)` sera toujours effectué.\n",
    "\n",
    "> Bon d'accord.\n",
    "\n",
    "Ensuite, nous nous intéresserons toujours à ce qui se passe pour une grande valeur de `n`. Si, par exemple, `n` vaut 1000, y a-t-il une grande différence entre $4 \\times n + 3$ et $4 \\times n$?\n",
    "\n",
    "> Bah, entre 4003 et 4000, la différence n'est pas très importante.\n",
    "\n",
    "Donc, on peut dire que notre algorithme prend un temps $4 \\times n \\times t$.\n",
    "\n",
    "Le coefficient 4 n'a pas réellement d'importance. Ce qui compte, c'est que si on multiplie `n` par une certaine valeur, la durée d'exécution sera multipliée par la même valeur. La durée d'exécution de notre algorithme varie ici proportionnellement à `n`. On dit que la complexité de notre algorithme est $O(n)$.\n",
    "\n",
    "**ATTENTION:** Il faut bien écrire un $O$ **majuscule**. En effet, $O(n)$ (lire \"grand O de n\") et $o(n)$ (lire \"petit o de n\") sont deux notations mathématiques différentes qui ont chacune leur signification.\n",
    "\n",
    "**CONCLUSION:** La complexité d'un algorithme de recherche dans un tableau est $O(n)$. On peut aussi dire que le coût de la recherche est linéaire (cela nous coûte un temps qui croit linéairement avec la taille des données à explorer).\n",
    "\n",
    "### Importance de la notion de complexité\n",
    "Savoir écrire un algorithme, c'est bien. Mais savoir écrire un algorithme d'une complexité minimale, c'est mieux!\n",
    "\n",
    "Il existe différentes complexités. Les principales sont les suivantes:\n",
    "\n",
    "Complexité    | Notation $O$\n",
    " ---          | ---\n",
    "linéaire      | $ O(n) $\n",
    "quadratique   | $ O(n^2) $\n",
    "cubique       | $ O(n^3) $\n",
    "logarithmique | $ O(log(n)) $ \n",
    "exponentielle | $ O(2^n) $\n",
    "\n",
    "\n",
    "Pour bien comprendre l'importance de la complexité, imaginons un algorithme qui nécessite 2 nanosecondes (2 milliardièmes de secondes) pour traiter $n = 2$ données. Le tableau ci-dessous montre selon la valeur du nombre n de données le temps, en nanosecondes, nécessaire pour d'autres complexités:\n",
    "\n",
    "Nombre de données | $O(log n)$ | $O(n)$ | $O(n^2)$  | $O(n^3)$           | $O(2^n)$\n",
    "------------------|------------|--------|-----------|--------------------|---------\n",
    "$2$               | $1$        | $2$    | $4$       | $8$                | $4$\n",
    "$16$              | $4$        | $16$   | $256$     | $4096$             | $65536$\n",
    "$128$             | $7$        | $128$  | $16384$   | $2097192$          | $3,4 \\times 10^38$\n",
    "$1024$            | $10$       | $1024$ | $1048576$ | $1,07 \\times 10^9$ | $1,8 \\times 10^308$\n",
    "\n",
    "\n",
    "Ainsi, si un algorithme en $O(n)$ est capable de traiter un volume de 128 données en 128 ns (soit en un dix millionième de secondes), il faudra, pour traiter le même volume de données:\n",
    "- 16 millionièmes de secondes à un algorithme en $O(n^2)$,\n",
    "- 0,002 s à un algorithme en $O(n^3)$\n",
    "- $10^22$ années (ou 800 milliards de fois l'âge de l'Univers!) à un algorithme en $O(2^n)$\n",
    "\n",
    "Avec ces chiffres, on comprend l'intérêt d'être capable d'évaluer et, si possible, d'améliorer la complexité d'un algorithme.\n",
    "\n",
    "### Un petit exercice\n",
    "Ecrivez un algorithme cherchant dans un tableau la **première occurence d'une valeur** et implémentez cet algorithme dans une fonction python `recherche` qui prend en argument le tableau, la valeur cherchée et renvoi la position trouvée (ou -1 si la valeur n'apparait pas dans le tableau)."
   ]
  },
  {
   "cell_type": "code",
   "execution_count": 11,
   "id": "581acd17",
   "metadata": {},
   "outputs": [
    {
     "name": "stdout",
     "output_type": "stream",
     "text": [
      "0\n",
      "2\n",
      "4\n"
     ]
    },
    {
     "ename": "IndexError",
     "evalue": "list index out of range",
     "output_type": "error",
     "traceback": [
      "\u001b[1;31m---------------------------------------------------------------------------\u001b[0m",
      "\u001b[1;31mIndexError\u001b[0m                                Traceback (most recent call last)",
      "Cell \u001b[1;32mIn[11], line 11\u001b[0m\n\u001b[0;32m      9\u001b[0m \u001b[39mprint\u001b[39m(recherche([ \u001b[39m2\u001b[39m, \u001b[39m4\u001b[39m, \u001b[39m5\u001b[39m, \u001b[39m2\u001b[39m, \u001b[39m6\u001b[39m, \u001b[39m5\u001b[39m ], \u001b[39m5\u001b[39m))\n\u001b[0;32m     10\u001b[0m \u001b[39mprint\u001b[39m(recherche([ \u001b[39m2\u001b[39m, \u001b[39m4\u001b[39m, \u001b[39m5\u001b[39m, \u001b[39m2\u001b[39m, \u001b[39m6\u001b[39m, \u001b[39m5\u001b[39m ], \u001b[39m6\u001b[39m))\n\u001b[1;32m---> 11\u001b[0m \u001b[39mprint\u001b[39m(recherche([ \u001b[39m2\u001b[39;49m, \u001b[39m4\u001b[39;49m, \u001b[39m5\u001b[39;49m, \u001b[39m2\u001b[39;49m, \u001b[39m6\u001b[39;49m, \u001b[39m5\u001b[39;49m ], \u001b[39m1\u001b[39;49m))\n",
      "Cell \u001b[1;32mIn[11], line 4\u001b[0m, in \u001b[0;36mrecherche\u001b[1;34m(tableau, valeur)\u001b[0m\n\u001b[0;32m      2\u001b[0m i \u001b[39m=\u001b[39m \u001b[39m0\u001b[39m\n\u001b[0;32m      3\u001b[0m j \u001b[39m=\u001b[39m \u001b[39mlen\u001b[39m(tableau)\n\u001b[1;32m----> 4\u001b[0m \u001b[39mwhile\u001b[39;00m tableau[i] \u001b[39m!=\u001b[39m valeur:\n\u001b[0;32m      5\u001b[0m     i \u001b[39m+\u001b[39m\u001b[39m=\u001b[39m \u001b[39m1\u001b[39m\n\u001b[0;32m      6\u001b[0m \u001b[39mreturn\u001b[39;00m i\n",
      "\u001b[1;31mIndexError\u001b[0m: list index out of range"
     ]
    }
   ],
   "source": [
    "def recherche(tableau, valeur):\n",
    "    i = 0\n",
    "    j = len(tableau)\n",
    "    while tableau[i] != valeur:\n",
    "        i += 1\n",
    "    return i\n",
    "\n",
    "print(recherche([ 2, 4, 5, 2, 6, 5 ], 2))\n",
    "print(recherche([ 2, 4, 5, 2, 6, 5 ], 5))\n",
    "print(recherche([ 2, 4, 5, 2, 6, 5 ], 6))\n",
    "print(recherche([ 2, 4, 5, 2, 6, 5 ], 1))"
   ]
  },
  {
   "cell_type": "markdown",
   "id": "86ed345b",
   "metadata": {},
   "source": [
    "Donnez la complexité de l'algorithme utilisé.\n",
    "\n",
    "## Une recherche plus performante\n",
    "Nous allons améliorer la complexité de la recherche. Ce ne sera possible que si le tableau répond à un critère que nous allons déterminer avec l'exemple ci-dessous.\n",
    "\n",
    "Est-il simple de trouver si le tableau suivant contient la valeur 18745 ?"
   ]
  },
  {
   "cell_type": "code",
   "execution_count": 1,
   "id": "c6ba78c7",
   "metadata": {},
   "outputs": [
    {
     "name": "stdout",
     "output_type": "stream",
     "text": [
      "[50458, 32086, 96518, 21116, 67370, 73098, 4690, 72660, 22986, 72478, 64645, 61239, 97665, 26423, 76033, 77093, 22912, 61012, 73264, 10262, 16494, 65055, 14078, 61169, 41739, 55684, 348, 49652, 90602, 78084, 39907, 4361, 63934, 99513, 68451, 42654, 19313, 74618, 37806, 61010, 97328, 9477, 31300, 20190, 50216, 972, 56096, 96915, 38082, 9425, 39, 96739, 30111, 52065, 44926, 1372, 68236, 54223, 46252, 3490, 95945, 40765, 63501, 48669, 95097, 80522, 88165, 36780, 92755, 40666, 14369, 43959, 68778, 93938, 3012, 72192, 43696, 96211, 81247, 49464, 59783, 23495, 23066, 2600, 25791, 66469, 88461, 52273, 70414, 41069, 71000, 15535, 38002, 65840, 15695, 66594, 26167, 89804, 66157, 69454, 35613, 19917, 22754, 54431, 35175, 13171, 25443, 42952, 17522, 18518, 38795, 39199, 9052, 62883, 51101, 11648, 83481, 56542, 68296, 62679, 78891, 86423, 23264, 53336, 81062, 72848, 51633, 61815, 84046, 32782, 50230, 2935, 53037, 44997, 91000, 91271, 27189, 56608, 83384, 38391, 41422, 43123, 25470, 42320, 72120, 36225, 71384, 42390, 30384, 1381, 5382, 13156, 65683, 97439, 19948, 48459, 4328, 71056, 9722, 42707, 83358, 68506, 30458, 783, 55730, 92748, 81003, 71149, 52903, 16802, 81793, 56712, 35093, 26480, 34786, 52433, 54677, 45621, 29164, 44323, 18634, 67411, 51397, 35841, 54851, 63431, 16170, 99853, 53294, 83482, 69817, 83800, 53120, 14141, 70612, 67589, 98921, 33149, 39401, 38286, 519, 87828, 31444, 68643, 48760, 17103, 13502, 91562, 35750, 64328, 81762, 54729, 22218, 60863, 72077, 76585, 55634, 32640, 25234, 58506, 94825, 47909, 57707, 27340, 4076, 30831, 92580, 43499, 90759, 44495, 81125, 57774, 15238, 69596, 4381, 12934, 88231, 55523, 5142, 87900, 13240, 25575, 31661, 87459, 21037, 61732, 36763, 67623, 88423, 35378, 90482, 73137, 20294, 27505, 61727, 48298, 52594, 674, 63011, 66073, 42383, 76285, 19968, 16764, 93916, 79273, 81653, 97289, 21281, 76908, 86532, 39713, 47715, 42831, 69580, 87509, 78889, 31912, 68979, 21305, 13948, 37760, 11769, 14344, 800, 2781, 96270, 49530, 23681, 71863, 5390, 65818, 90639, 53635, 19359, 97581, 49774, 45792, 96471, 32368, 47091, 37482, 70951, 40053, 60533, 61317, 90375, 59291, 76678, 99342, 51800, 9912, 2710, 55987, 24942, 78392, 63446, 76839, 11043, 32524, 50323, 38750, 6420, 31304, 40363, 74624, 34167, 37939, 19497, 35539, 31928, 91866, 51503, 35514, 81231, 18024, 33446, 18670, 3446, 82136, 64966, 60172, 34152, 32097, 14991, 78476, 48991, 10232, 35316, 5018, 39406, 12426, 7183, 53014, 61206, 43481, 86817, 65623, 11690, 43696, 77699, 18666, 83221, 38924, 22175, 77989, 91754, 8235, 35896, 22234, 62200, 51359, 61334, 21187, 84002, 23780, 88820, 97569, 58186, 48709, 72659, 67980, 11481, 49209, 8356, 27972, 82952, 15967, 19011, 32651, 73455, 5428, 12579, 42580, 29659, 32544, 93695, 88948, 25282, 35178, 33735, 51648, 54964, 35839, 37351, 39257, 54678, 22118, 57128, 58635, 75741, 50101, 10301, 32377, 40351, 10082, 22688, 43180, 15781, 44902, 88790, 96124, 16311, 6480, 16017, 3980, 52904, 95747, 8174, 73589, 89952, 66847, 70010, 47944, 90430, 14092, 34668, 54268, 74069, 72301, 75360, 66843, 88272, 36342, 825, 7465, 42299, 83608, 31034, 57938, 58718, 94779, 70421, 49510, 27499, 22122, 88893, 56140, 84493, 47245, 77699, 97550, 64878, 68846, 69269, 5701, 96659, 10677, 91742, 71278, 27007, 47232, 58366, 46349, 34527, 39432, 85139, 84546, 10334, 30305, 64256, 49556, 81078, 22316, 63670, 37654, 86821, 79967, 88706, 97730, 6725, 91655, 24536, 91997, 12883, 29688, 88628, 98088, 73068, 74634]\n"
     ]
    }
   ],
   "source": [
    "import prepTableau\n",
    "print(prepTableau.tableau1())\n",
    "# Exécutez la cellule pour voir le tableau"
   ]
  },
  {
   "cell_type": "markdown",
   "id": "890942b9",
   "metadata": {},
   "source": [
    "Est-ce plus simple avec le tableau suivant ?"
   ]
  },
  {
   "cell_type": "code",
   "execution_count": 2,
   "id": "8fc85891",
   "metadata": {
    "scrolled": true
   },
   "outputs": [
    {
     "name": "stdout",
     "output_type": "stream",
     "text": [
      "[295, 652, 940, 972, 1352, 1464, 1734, 1885, 2085, 2085, 2358, 2488, 2711, 2817, 2905, 2952, 3393, 3406, 3443, 3620, 3775, 4219, 4219, 4293, 4703, 5356, 5596, 5623, 5651, 5961, 6611, 6854, 7525, 7659, 7852, 8410, 8455, 8567, 9136, 9233, 10098, 10253, 10298, 10342, 10422, 10442, 10486, 10526, 10702, 10885, 10915, 11113, 11939, 11981, 12198, 12423, 12631, 12728, 13429, 13663, 13925, 14009, 14207, 14346, 14519, 14740, 14749, 15261, 15571, 15720, 16077, 16521, 16656, 16911, 17021, 17026, 17131, 17192, 17351, 17363, 17417, 17420, 17445, 17637, 17728, 17885, 17935, 18102, 18140, 18189, 18311, 18818, 18870, 19250, 19331, 19354, 19403, 19868, 20312, 20349, 20471, 20664, 20893, 21032, 21080, 21351, 21564, 21674, 21886, 21953, 22438, 23310, 23325, 23345, 23541, 23645, 23945, 24228, 24477, 24546, 24948, 24954, 24958, 25199, 25359, 25394, 25518, 25524, 25605, 25616, 25697, 25728, 25729, 25948, 26515, 26681, 26989, 27082, 27219, 27239, 27501, 27616, 27778, 28052, 28117, 28369, 28495, 28702, 28773, 29516, 29889, 30158, 30450, 31267, 31453, 31461, 31558, 31563, 31587, 31633, 31655, 31693, 32162, 32339, 32563, 32621, 32746, 33027, 33128, 33296, 33683, 34572, 34617, 34671, 34700, 35163, 35351, 35425, 35774, 35864, 35899, 35966, 37013, 37082, 37390, 37607, 37739, 37915, 38084, 38120, 38220, 38446, 38560, 38589, 38663, 38757, 38801, 38922, 39261, 39345, 39407, 40104, 40511, 40537, 40995, 41032, 41165, 41359, 41411, 41703, 42089, 42563, 42657, 42972, 43119, 43132, 43274, 43595, 43635, 44301, 44379, 44596, 44693, 44996, 45012, 45098, 45261, 45719, 46057, 46177, 46312, 46414, 46524, 46732, 46892, 46904, 46926, 47105, 47286, 47884, 47968, 48719, 48794, 49081, 49159, 49275, 49630, 49776, 50002, 50038, 50442, 50524, 50526, 50751, 50803, 50985, 51161, 51210, 51268, 51536, 51735, 51903, 51950, 52020, 52033, 52320, 52487, 52635, 52949, 53338, 53527, 53743, 53820, 53918, 54916, 54993, 55017, 55167, 56167, 56527, 56643, 56764, 56877, 57357, 57987, 58075, 58230, 58324, 58340, 58526, 58654, 58976, 59016, 59045, 59330, 59563, 59574, 60128, 60154, 60362, 60650, 60713, 60922, 61031, 61126, 61552, 61566, 61741, 62211, 62344, 62385, 62435, 62440, 62730, 63177, 63207, 63536, 63573, 63614, 63999, 64057, 64630, 64779, 65138, 65308, 65435, 65436, 65530, 65677, 66126, 66323, 66653, 67191, 67314, 67484, 67539, 67658, 67667, 67674, 67866, 68118, 68345, 69434, 69680, 69739, 70152, 70242, 70385, 71116, 71156, 71411, 71863, 72458, 72529, 72589, 72680, 72875, 72966, 73168, 73175, 73449, 73520, 73600, 73746, 74124, 74144, 74464, 74649, 75123, 75363, 75446, 75618, 75759, 75832, 76194, 76233, 76233, 76353, 76491, 76564, 76614, 76738, 76739, 76793, 76960, 77315, 77326, 77749, 77763, 78094, 78448, 78753, 78853, 79516, 79563, 79976, 80047, 80321, 80352, 80381, 80659, 81225, 81279, 81377, 81465, 81850, 82119, 82168, 82261, 82290, 82543, 82701, 83049, 83133, 83370, 83410, 83529, 83711, 83832, 83878, 83900, 83962, 84268, 84343, 84407, 84707, 84919, 84951, 85241, 85279, 85345, 85470, 86842, 86918, 87237, 87384, 87440, 87622, 87649, 88158, 88260, 88363, 88497, 88778, 89184, 89236, 89288, 89323, 89439, 89980, 90174, 90217, 90376, 90441, 90706, 90924, 90947, 90969, 91210, 91574, 91975, 92384, 92616, 92772, 92899, 92939, 92971, 93234, 93440, 93482, 93826, 94096, 94416, 94617, 94650, 95029, 95036, 95237, 95374, 95747, 95749, 95855, 96028, 96045, 96362, 96749, 96987, 97073, 97554, 98045, 98517, 98780, 98931, 99045, 99046, 99061, 99290, 99379, 99744, 99927]\n"
     ]
    }
   ],
   "source": [
    "print(prepTableau.tableau2())\n",
    "# Exécutez la cellule pour voir le tableau"
   ]
  },
  {
   "cell_type": "markdown",
   "id": "6d8e6395",
   "metadata": {},
   "source": [
    "A quel condition va-t-il être plus facile de chercher une valeur dans un tableau ?\n",
    "\n",
    "> Euh, si ses éléments sont triés ?\n",
    "\n",
    "Effectivement. Il est beaucoup plus rapide de retrouver un élément dans un tableau trié. C'est pourquoi les algorithmes de tri sont très importants en informatique. Et c'est aussi pour ça que vos parents vous demandent de ranger vos chambres.\n",
    "\n",
    "Nous allons donc apprendre à trier. Et pour ça, place aux cartes.\n",
    "\n",
    "Par petits groupes, vous allez vous répartir un jeu de 52 cartes. Le but est d'étudier comment vous triez les cartes que vous avez en main afin d'élaborer un algorithme de tri.\n",
    "\n",
    "## Tri d'un tableau\n",
    "Maintenant que vous vous êtes bien amusé avec vos cartes, vous allez écrire un algorithme de tri et l'implémenter dans une fonction python. Votre fonction tri devra prendre en argument un tableau.\n",
    "\n",
    "Il existe généralement deux options:\n",
    "- votre fonction peut modifier directement le tableau. Dans ce cas, elle ne renvoi rien, mais le tableau qu'elle a pris en argument est modifié lors de son exécution. On dit que le tri est fait en place.\n",
    "- votre fonction peut renvoyer une copie triée du tableau et ne pas modifier celui qu'elle a pris en argument.\n",
    "\n",
    "A vous de jouer:"
   ]
  },
  {
   "cell_type": "code",
   "execution_count": 6,
   "id": "3d6c0837",
   "metadata": {},
   "outputs": [
    {
     "name": "stdout",
     "output_type": "stream",
     "text": [
      "[1, 2, 3, 4, 5, 6]\n"
     ]
    }
   ],
   "source": [
    "def algo_tri(tableau):\n",
    "    n = len(tableau)\n",
    "\n",
    "    # On parcourt tous les éléments du tableau\n",
    "    for i in range(n):\n",
    "        # On parcourt le reste du tableau à la recherche d'un élément à échanger\n",
    "        for j in range(i+1, n):\n",
    "            # Si l'élément courant est plus grand que l'élément suivant, on échange les deux éléments\n",
    "            if tableau[i] > tableau[j]:\n",
    "                tableau[i], tableau[j] = tableau[j], tableau[i]\n",
    "\n",
    "# Exemple d'utilisation\n",
    "tableau = [5, 3, 6, 2, 1, 4]\n",
    "algo_tri(tableau)\n",
    "print(tableau) # affiche [1, 2, 3, 4, 5, 6]\n"
   ]
  },
  {
   "cell_type": "markdown",
   "id": "c6216a4c",
   "metadata": {},
   "source": [
    "Déterminez ensuite la complexité de votre algorithme.\n",
    "\n",
    "### Tri par insertion, tri par sélection\n",
    "Nous allons étudier les deux algorithmes de tri au programme cette année. Sans doute avez-vous déjà écrit l'un des deux ci-dessus. Puis nous aborderons la question de leur complexité."
   ]
  },
  {
   "cell_type": "code",
   "execution_count": 1,
   "id": "ed87739c",
   "metadata": {
    "scrolled": true
   },
   "outputs": [
    {
     "name": "stdout",
     "output_type": "stream",
     "text": [
      "[1, 5, 8, 6, 10, -6, 8]\n",
      "[1, 5, 8, 6, 10, -6, 8]\n",
      "[1, 5, 6, 8, 10, -6, 8]\n",
      "[1, 5, 6, 8, 10, -6, 8]\n",
      "[-6, 1, 5, 6, 8, 10, 8]\n",
      "[-6, 1, 5, 6, 8, 8, 10]\n",
      "\n",
      "[-6, 1, 8, 6, 10, 5, 8]\n",
      "[-6, 1, 8, 6, 10, 5, 8]\n",
      "[-6, 1, 5, 6, 10, 8, 8]\n",
      "[-6, 1, 5, 6, 10, 8, 8]\n",
      "[-6, 1, 5, 6, 8, 10, 8]\n",
      "[-6, 1, 5, 6, 8, 8, 10]\n"
     ]
    }
   ],
   "source": [
    "def triInsertion(tableau):\n",
    "    for i in range (1, len(tableau)):\n",
    "        x = tableau[i]\n",
    "        j = i \n",
    "        while j > 0 and tableau[j - 1] > x:\n",
    "            tableau[j] = tableau[j - 1]\n",
    "            j -= 1\n",
    "        tableau[j] = x\n",
    "        print(tableau)\n",
    "triInsertion([5, 1, 8, 6, 10, -6, 8])\n",
    "\n",
    "print(\"\")\n",
    "    \n",
    "# Complexité: O(n²)\n",
    "\n",
    "def triSelection(tableau):\n",
    "    for debut in range (len(tableau) - 1):\n",
    "        minimum = tableau[debut]\n",
    "        postMinimum = debut\n",
    "        #Cherche le minimum\n",
    "        for i in range(debut + 1, len(tableau)):\n",
    "            if minimum > tableau[i]:\n",
    "                minimum = tableau[i]\n",
    "                postMinimum = i\n",
    "        tableau[postMinimum] = tableau[debut]\n",
    "        tableau[debut] = minimum\n",
    "        print(tableau)\n",
    "\n",
    "\n",
    "    \n",
    "triSelection([5, 1, 8, 6, 10, -6, 8])\n",
    "    \n",
    "    \n",
    "\n",
    "# Complexité: O(n²)\n"
   ]
  },
  {
   "cell_type": "markdown",
   "id": "43d70ee2",
   "metadata": {},
   "source": [
    "Il existe des algorithmes de tri avec des complexités en temps moins élevées (mais s'ils sont moins complexes en temps, ils sont un peu plus complexes à écrire).\n",
    "\n",
    "Maintenant que nous savons trier un tableau, il est temps d'améliorer notre recherche.\n",
    "\n",
    "## Recherche dichotomique\n",
    "Cette méthode de recherche ne fonctionne que sur un tableau trié. Le principe est simple: puisque le tableau est trié, si on connait le contenu d'une case, toutes les cases d'index inférieur contienne des valeurs plus petites et toutes les cases d'index supérieur contiennent des valeurs plus grandes.\n",
    "\n",
    "Ainsi, si on cherche la valeur 573 dans un tableau et que la case d'index 51 contient 754, alors on sait que si la valeur 573 est bien dans le tableau, elle est forcément dans une case entre les index 0 à 50. Tous les index supérieurs à 51 ne sont pas intéressants à inspecter.\n",
    "\n",
    "Sur un tableau de n cases, la valeur cherchée dans une case d'index 0 à n. Notre recherche se fait donc entre les bornes `inf = 0` et `sup = n`.\n",
    "Puisqu'on cherche dans l'intervalle `[inf, sup]`,  on va aller chercher le contenu de la case au milieu de cet intervalle. Son  index est `n/2`, ou plutôt `inf + (sup - inf) / 2`:\n",
    "- si elle contient ce qu'on cherche, pas besoin d'aller plus loin et on renvoi l'index de cette case.\n",
    "- si elle contient une valeur supérieure à ce qu'on cherche, alors on va chercher dans la partie du tableau allant de `inf` à la case inspectée, donc on ne modifie pas `inf` et on remplace `sup` par le numéro de la case (`inf + (sup - inf) / 2`) **moins 1** (parce qu'on vient de regarder la case `inf + (sup - inf) / 2` et on sait qu'il faut aller chercher avant.\n",
    "- si elle contient une valeur inférieure à ce qu'on cherche, alors on va chercher dans la partie du tableau allant de la case inspectée à `sup` donc on ne modifie pas `sup` et on remplace `inf` par le numéro de la case (`inf + (sup - inf) / 2`) **plus 1**.\n",
    "Et on recommence.\n",
    "\n",
    "Si la valeur cherchée est dans la tableau, on va finir par tomber dessus. Sinon, l'intervalle `[inf, sup]` va tellement se réduire que l'on va arriver dans la situation où `inf` sera supérieur à `sup`.\n",
    "Nous avons donc une boucle qui se déroule tant qu'on n'a pas trouvé et tant que `inf` est inférieur ou égal à `sup`.\n",
    "\n",
    "Comme d'habitude, on écrit l'algorithme, on l'implémente dans une fonction python et on donne sa complexité (pour ça, je vais vous aider)."
   ]
  },
  {
   "cell_type": "code",
   "execution_count": 68,
   "id": "6be31778",
   "metadata": {},
   "outputs": [
    {
     "name": "stdout",
     "output_type": "stream",
     "text": [
      "-1\n"
     ]
    }
   ],
   "source": [
    "from random import randint\n",
    "\n",
    "def tableau1():\n",
    "    return [randint(1, 100000) for i in range(500)]\n",
    "\n",
    "def rechercheDichotomique(tableau, valeur):\n",
    "    position = -1\n",
    "    inf = 0 \n",
    "    sup = len(tableau) - 1\n",
    "    \n",
    "    while inf <= sup and  position == -1:\n",
    "        mid = (sup - inf) // 2 + inf\n",
    "        if valeur == tableau[mid]:\n",
    "            position = mid \n",
    "        elif valeur < tableau[mid]:\n",
    "            sup = mid - 1\n",
    "        else:\n",
    "            inf = mid + 1\n",
    "    return position\n",
    "\n",
    "tab = tableau1()\n",
    "x = rechercheDichotomique(tab, randint(1, 100000))\n",
    "print(x)\n",
    "\n"
   ]
  },
  {
   "cell_type": "code",
   "execution_count": 49,
   "id": "b1a25dd9",
   "metadata": {},
   "outputs": [],
   "source": [
    "def rechercheDichotomique2(tableau, valeur):\n",
    "    inf = 0\n",
    "    sup = len(tableau) - 1\n",
    "    \n",
    "    #inf et sup sont les bornes de l'intervalle de recherche, initialement c'est tout le tableau.\n",
    "    \n",
    "    while inf <= sup:\n",
    "        mid = inf + (sup - inf) // 2\n",
    "        #mid est la case du milieu de l'intervalle de recherche\n",
    "        #La boucle continue tant qu'on n'a pas trouvé la valeur et tant que les bornes ne se croisent pas\n",
    "        \n",
    "        if tableau[mid] == valeur:\n",
    "            return mid\n",
    "        #Si la valeur de la case de l'index mid est égale à la valeur recherchée, la fonction renvoie l'index mid\n",
    "        \n",
    "        elif tableau[mid] < valeur:\n",
    "            inf = mid + 1 \n",
    "        #Si la valeur de la case de l'index mid est inférieure à la valeur recherchée, on met à jour inf pour la moitié supérieure\n",
    "        \n",
    "        else:\n",
    "            sup = mid - 1\n",
    "        #Sinon, on met à jour sup pour la moitié inférieure\n",
    "        \n",
    "    return -1  #Si on ne trouve pas la valeur, la fonction renvoie -1 pour indiquer qu'elle n'est pas présente dans le tableau."
   ]
  }
 ],
 "metadata": {
  "kernelspec": {
   "display_name": "Python 3 (ipykernel)",
   "language": "python",
   "name": "python3"
  },
  "language_info": {
   "codemirror_mode": {
    "name": "ipython",
    "version": 3
   },
   "file_extension": ".py",
   "mimetype": "text/x-python",
   "name": "python",
   "nbconvert_exporter": "python",
   "pygments_lexer": "ipython3",
   "version": "3.12.1"
  },
  "vscode": {
   "interpreter": {
    "hash": "944e036508d6b92039cee9c46ef5dd88b0f8b6b513a20a9edeafd46fc196735b"
   }
  }
 },
 "nbformat": 4,
 "nbformat_minor": 5
}
