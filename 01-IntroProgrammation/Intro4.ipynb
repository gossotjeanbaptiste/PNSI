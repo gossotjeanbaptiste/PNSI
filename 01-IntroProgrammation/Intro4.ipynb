{
 "cells": [
  {
   "cell_type": "markdown",
   "id": "6b8a62f1",
   "metadata": {},
   "source": [
    "# Introduction à la programmation (4ème partie)\n",
    "\n",
    "Maintenant que vous savez écrire des fonctions, vous allez peut-être avoir envie de réutiliser certaines de vos fonctions dans plusieurs projets. Nous allons donc apprendre à créer et importer des modules.\n",
    "\n",
    "## Les modules\n",
    "Les modules sont simplement des fichiers py. Ils peuvent contenir ce que l'on veut :\n",
    "- une ou plusieurs fonctions\n",
    "- des variables (qui seront alors globales)\n",
    "- et même du code\n",
    "\n",
    "### Création d'un module\n",
    "La création d'un module est simple : utilisez un éditeur de texte pour écrire du code dans un fichier py.\n",
    "\n",
    "Nous allons créer un fichier appelé `outilsConsole.py` dans lequel nous pourrons mettre toutes nos fonctions utiles pour nos programmes en console. Pour l'instant, nous n'avons que la fonction `inputEntier`. Recopiez donc son code dans le fichier py. Enregistrez (dans le même dossier que ce notebook de préférence) et voilà !\n",
    "\n",
    "### Importation d'un module\n",
    "Il existe deux manières d'importer un module. Elles reposent toutes les deux sur le mot clé `import`.\n",
    "\n",
    "Pour que la cellule suivante réussisse à trouver le module, il est indispensable que le ficher `outilsConsole.py` soit bien dans le même dossier que ce notebook.\n",
    "\n",
    "La première méthode n'utilise que le mot clé `import` :"
   ]
  },
  {
   "cell_type": "code",
   "execution_count": 1,
   "id": "931c83a6",
   "metadata": {},
   "outputs": [
    {
     "name": "stdout",
     "output_type": "stream",
     "text": [
      "Quel nombre ? 56\n",
      "OutilsConsole v0.0.1\n",
      "Entrez un nombre : 56\n"
     ]
    },
    {
     "data": {
      "text/plain": [
       "56"
      ]
     },
     "execution_count": 1,
     "metadata": {},
     "output_type": "execute_result"
    }
   ],
   "source": [
    "# Ces deux lignes sont nécessaires pour que le notebook sache où aller chercher le module.\n",
    "import sys\n",
    "sys.path.append(\".\")\n",
    "# Si vous importez un module depuis un fichier py, les deux lignes précédentes ne sont pas utiles.\n",
    "# Mais votre module devra être dans le même dossier que le fichier qui va l'importer.\n",
    "\n",
    "import outilsConsole #as 'o' qui sert a faire une appelation spé pour un module # importation du module\n",
    "outilsConsole.inputEntier(\"Entrez un nombre : \")  # appel de la fonction inputEntier du module outilsConsole"
   ]
  },
  {
   "cell_type": "markdown",
   "id": "58772197",
   "metadata": {},
   "source": [
    "Avec cette méthode, pour appeler une fonction d'un module, il faut écrire le nom du module, un point et le nom de la fonction suivi, comme d'habitude de ses arguments.\n",
    "\n",
    "> pff. C'est long d'écrire tout ça.\n",
    "\n",
    "C'est pour cela qu'il existe une autre méthode. Pour cela, il faut ajouter le mot clé `from` :"
   ]
  },
  {
   "cell_type": "code",
   "execution_count": 2,
   "id": "1abedacd",
   "metadata": {},
   "outputs": [
    {
     "name": "stdout",
     "output_type": "stream",
     "text": [
      "Entrez un nombre : 45\n"
     ]
    },
    {
     "data": {
      "text/plain": [
       "45"
      ]
     },
     "execution_count": 2,
     "metadata": {},
     "output_type": "execute_result"
    }
   ],
   "source": [
    "from outilsConsole import * # importation de tout ce que contient le module\n",
    "inputEntier(\"Entrez un nombre : \")  # appel de la fonction inputEntier"
   ]
  },
  {
   "cell_type": "markdown",
   "id": "9027645d",
   "metadata": {},
   "source": [
    "> Ah, c'est mieux ça, j'importerai tous mes modules comme ça.\n",
    "\n",
    "C'est vrai que c'est plus pratique, mais...\n",
    "\n",
    "> Mais quoi ?\n",
    "\n",
    "Imaginons que l'on veuille importer deux modules : `superModule` et `moduleTropCool` et que dans chacun d'eux il existe une fonction `fonctionMagique` qui fait des choses différente selon le module.\n",
    "\n",
    "Avec la première méthode, on aura deux fonctions : `superModule.fonctionMagique` et `moduleTropCool.fonctionMagique`. On pourra donc utiliser l'une ou l'autre en sachant avec certitude quelle `fonctionMagique` on appelle.\n",
    "\n",
    "Avec la seconde méthode, on n'aura qu'une `fonctionMagique` ce sera celle du dernier module importé. En effet, le mot clé `def` est une forme d'affectation pour les fonctions. Si on définit plusieurs fois la même fonction, alors c'est la dernière version définie au moment de l'appel qui sera utilisée :"
   ]
  },
  {
   "cell_type": "code",
   "execution_count": 4,
   "id": "d52896a3",
   "metadata": {},
   "outputs": [
    {
     "name": "stdout",
     "output_type": "stream",
     "text": [
      "bidon bidon bidon \n",
      "hello hello hello \n"
     ]
    }
   ],
   "source": [
    "def f(x):\n",
    "    return \"toto \" * x\n",
    "\n",
    "def f(x):\n",
    "    return \"bidon \" * x\n",
    "\n",
    "print(f(3))\n",
    "\n",
    "def f(x):\n",
    "    return \"hello \" * x\n",
    "\n",
    "print(f(3))"
   ]
  },
  {
   "cell_type": "markdown",
   "id": "46c8e63c",
   "metadata": {},
   "source": [
    "On peut ainsi voir les fonctions comme des variables particulières. Elles sont soumises aux mêmes contraintes pour les nommer que les variables.\n",
    "\n",
    "On peut même passer une fonction en argument à une autre fonction:"
   ]
  },
  {
   "cell_type": "code",
   "execution_count": 5,
   "id": "a4f6a695",
   "metadata": {},
   "outputs": [
    {
     "name": "stdout",
     "output_type": "stream",
     "text": [
      "La fonction carre avec 2 comme argument donne 4\n",
      "La fonction cube avec 2 comme argument donne 8\n"
     ]
    }
   ],
   "source": [
    "def carre(x):\n",
    "    return x * x\n",
    "\n",
    "def cube(x):\n",
    "    return x * x * x\n",
    "\n",
    "def affiche_f_de_2(fonction):\n",
    "    calcul = fonction(2)\n",
    "    print(\"La fonction \" + str(fonction.__name__) + \" avec 2 comme argument donne \" + str(calcul))\n",
    "    \n",
    "affiche_f_de_2(carre)\n",
    "affiche_f_de_2(cube)\n"
   ]
  },
  {
   "cell_type": "markdown",
   "id": "8fa099e7",
   "metadata": {},
   "source": [
    "Si on prend le cas de la fonction `cube`, écrire `cube` dans le code source fera référence à la fonction alors qu'écrire `cube(x)` fera référence au résultat de la fonction `cube` avec comme argument le contenu de la variable `x`.\n",
    "\n",
    "C'est pour cela qu'il faut quand même mettre les parenthèses pour appeler une fonction sans arguments :"
   ]
  },
  {
   "cell_type": "code",
   "execution_count": 6,
   "id": "1be72c7e",
   "metadata": {},
   "outputs": [
    {
     "name": "stdout",
     "output_type": "stream",
     "text": [
      "print(sansArguments)\n",
      "<function sansArguments at 0x000002266395BD90>\n",
      "print(sansArguments())\n",
      "Cette fonction ne prend pas d'arguments\n",
      "None\n"
     ]
    }
   ],
   "source": [
    "def sansArguments():\n",
    "    print(\"Cette fonction ne prend pas d'arguments\")\n",
    "    \n",
    "print(\"print(sansArguments)\")\n",
    "print(sansArguments)\n",
    "print(\"print(sansArguments())\")\n",
    "print(sansArguments())\n"
   ]
  },
  {
   "cell_type": "markdown",
   "id": "c2512bb4",
   "metadata": {},
   "source": [
    "Pour en revenir à l'importation de modules, la première méthode pour importer les modules montre aussi qu'un module est aussi un peu comme une variable. C'est pourquoi il est important de nommer vos fichier py en respectant les mêmes contraintes que pour les noms de variables dans les noms de fichers py. Si un fichier py ne respecte pas ces contraintes (par exemple si son nom contient un espace), alors on pourra l'exécuter mais pas l'importer.\n",
    "\n",
    "### Priorité de l'importation des modules\n",
    "On peut importer un module qui se trouve dans le même dossier que le fichier qui l'importe (c'est ce qu'on fait avec notre module `outilsConsole`) ou importer un module qui se trouve dans le dossier d'installation de Python. Si un module dans le dossier du fichier qui l'importe porte le même nom qu'un module dans le dossier d'installation de Python, alors c'est le module dans le dossier du fichier qui l'importe qui sera réellement importé.\n",
    "\n",
    "> Hein ?\n",
    "\n",
    "Par exemple, nous utiliserons peut-être le module (enfin, plutôt la bibliothèque) `pygame`. Si vous écrivez un code source dans un fichier py et que le dossier qui contient ce fichier contient aussi un fichier `pygame.py`, c'est ce dernier qui sera importé au lieu de la bibliothèque `pygame`. Ainsi, certains élèves ont appelé `pygame.py` leur premier programme utilisant `pygame`. Et bien quand leur programme cherchait à importer `pygame`, il s'importait lui-même. Il y avait peu de chances pour que ça marche.\n",
    "\n",
    "### Importation d'une partie d'un module\n",
    "La deuxième méthode permet aussi d'importer seulement certaines fonctions d'un module.\n",
    "\n",
    "En effet, quand on écrit `from outilsConsole import *`, le `*` est un joker qui veut dire \"tout\". Si on veut, on peut mettre juste le nom de la fonction qu'on veut importer : `from outilsConsole import inputEntier`.\n",
    "\n",
    "Si un module contient 10 fonctions et qu'on ne veut en importer que 3, il suffit donc d'écrire `from module import` suivi des noms des 3 fonctions à importer séparés par des virgules.\n",
    "\n",
    "> A quoi ça sert ? Autant tout importer !\n",
    "\n",
    "Oui et non. Importer des fonctions utilise de la RAM. Si on importe des choses inutiles, on mobilise de la RAM pour rien. Dans des machines avec des ressources modestes, cela peut avoir un impact. Sur votre PC, il ne devrait pas y avoir de problèmes.\n",
    "\n",
    "### Exécution du code d'un module\n",
    "\n",
    "Importer un module revient à rajouter son code source à celui qui l'importe. Ce code fait partie de l'espace global. Tout ce qui se trouve dans l'espace global et n'est pas dans une fonction sera exécuté lors de la première importation.\n",
    "\n",
    "> Pourquoi on importerait un module plusieurs fois ?\n",
    "\n",
    "Imaginons que notre programme principal importe deux modules A et B. Peut-être que le module A importe lui aussi le module B. Donc le module B sera importé par notre programme principal et par le module A. Il est donc importé deux fois, mais le code qu'il contient dans son espace global ne sera exécuté que la première fois.\n",
    "\n",
    "Vous pouvez rajouter du code dans l'espace global de `outilsConcole.py`. Par exemple, utilisez un `print` pour afficher un message confirmant l'importation du module et affichant son numéro de version (pourquoi pas 0.1 ?). Attention, pour voir que ce code s'exécute, il ne suffit pas de remonter exécuter l'une des deux cellules en début de ce notebook, mais il faut redémarrer le noyau. En effet, nous avons déjà importé le module. En redémarrant le noyau, on revient à zéro comme si on ne l'avait jamais importé.\n",
    "\n",
    "### Fonction principale\n",
    "\n",
    "Si vous créez un nouveau fichier python avec Geany, le code proposé pour démarrer sera :\n",
    "```python\n",
    "def main():\n",
    "\t\n",
    "\treturn 0\n",
    "\n",
    "if __name__ == '__main__':\n",
    "\tmain()\n",
    "```\n",
    "\n",
    "En anglais, `main` vaut dire principal(e). L'idée est de mettre dans cette fonction `main` tout le code que nous aurions mis dans l'espace global. Ce dernier ne contenant que :\n",
    "```python\n",
    "if __name__ == '__main__':\n",
    "\tmain()\n",
    "```\n",
    "La variable `__name__` est une variable associée à tout fichier py. Quand on exécute du code dans le fichier py que l'on a lancé, elle contient `\"__main__\"`, mais quand on exécute le code d'un fichier py que l'on importe, cette variable contient autre chose. Le `if __name__ == '__main__':` permet donc de s'assurer que l'on a lancé manuellement le fichier qui contient cette ligne et que l'on n'est pas en train de l'importer depuis un autre fichier.\n",
    "\n",
    "Quand on a lancé manuellement le fichier, on exécute le code de la fonction `main`. Si on est plutôt en train de l'importer, aucun code ne sera exécuté.\n",
    "\n",
    "## Bibliothèque\n",
    "\n",
    "Une bibliothèque est un ensemble de module. C'est tout simplement un dossier qui contient un ou plusieurs fichiers py et peut-être des sous-dossiers avec eux-mêmes des fichiers py.\n",
    "\n",
    "Comme pour un module, on place ce dossier dans le même dossier que la bibliothèque principale et on importe la bibliothèque comme on importerait un module.\n",
    "\n",
    "Avec `import bibliotheque`, on peut accèder à une fonction particulière en écrivant `bibliotheque.sous_dossier.module.fonction`\n",
    "\n",
    "Bien entendu, le nom de la bibliothèque doit respecter les mêmes règles qu'un nom de variable.\n",
    "\n",
    "\n",
    "## Un petit projet\n",
    "Ouf, on a fini l'introduction à la programmation.\n",
    "\n",
    "Je vous propose un petit jeu pour fêter ça. D'abord, apprenons à obtenir un nombre aléatoire :"
   ]
  },
  {
   "cell_type": "code",
   "execution_count": 7,
   "id": "70ad32af",
   "metadata": {},
   "outputs": [
    {
     "name": "stdout",
     "output_type": "stream",
     "text": [
      "42\n",
      "39\n",
      "61\n",
      "63\n",
      "45\n",
      "30\n",
      "56\n",
      "80\n",
      "40\n",
      "33\n"
     ]
    }
   ],
   "source": [
    "from random import randint\n",
    "for i in range(10):\n",
    "    nb = randint(20, 80)  # tirage au sort d'un entier aléatoire entre 20 et 80\n",
    "    print(nb)"
   ]
  },
  {
   "cell_type": "markdown",
   "id": "d576d3f5",
   "metadata": {},
   "source": [
    "La fonction `randint` permet de tirer un nombre au sort dans un intervalle donné.\n",
    "\n",
    "### C'est plus ou c'est moins ?\n",
    "Je vous propose d'écrire un petit jeu qui demande au joueur de deviner un nombre entre 1 et 1000. Le joueur a droit à 10 essais.\n",
    "\n",
    "On va réutiliser notre fonction `inputEntier`. Plutôt qu'un copier-coller, importez-la depuis notre beau module `outilsConsole`.\n",
    "\n",
    "Quand on ne devine pas le nombre après 10 essais, on a perdu.\n",
    "\n",
    "Faites en sorte que le programme propose de refaire une partie à la fin et ne s'arrête que si on choisit de ne pas recommencer.\n",
    "\n",
    "Ecrivez votre programme dans un fichier py avec Geany. Utiliser la fonction `main` pour le coder proprement.\n",
    "\n",
    "A vos marques... Codez !"
   ]
  }
 ],
 "metadata": {
  "kernelspec": {
   "display_name": "Python 3 (ipykernel)",
   "language": "python",
   "name": "python3"
  },
  "language_info": {
   "codemirror_mode": {
    "name": "ipython",
    "version": 3
   },
   "file_extension": ".py",
   "mimetype": "text/x-python",
   "name": "python",
   "nbconvert_exporter": "python",
   "pygments_lexer": "ipython3",
   "version": "3.10.7"
  }
 },
 "nbformat": 4,
 "nbformat_minor": 5
}
