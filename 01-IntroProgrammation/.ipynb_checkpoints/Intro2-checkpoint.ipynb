{
 "cells": [
  {
   "cell_type": "markdown",
   "id": "52f4e6e3",
   "metadata": {},
   "source": [
    "# Introduction à la programmation (2ème partie)\n",
    "## Les types\n",
    "A la fin du notebook précédent, nous avions pour objectif de demander l'année de naissance d'une personne pour calculer son âge.\n",
    "\n",
    "\n",
    "Vous avez peut-être essayé le code suivant:"
   ]
  },
  {
   "cell_type": "code",
   "execution_count": 8,
   "id": "bec2852e",
   "metadata": {},
   "outputs": [
    {
     "name": "stdout",
     "output_type": "stream",
     "text": [
      "Quel est votre nom ? '(-\n",
      "En quelle année êtes-vous né(e) ?567\n"
     ]
    },
    {
     "ename": "TypeError",
     "evalue": "unsupported operand type(s) for -: 'int' and 'str'",
     "output_type": "error",
     "traceback": [
      "\u001b[1;31m---------------------------------------------------------------------------\u001b[0m",
      "\u001b[1;31mTypeError\u001b[0m                                 Traceback (most recent call last)",
      "Cell \u001b[1;32mIn [8], line 4\u001b[0m\n\u001b[0;32m      2\u001b[0m annee \u001b[38;5;241m=\u001b[39m \u001b[38;5;28minput\u001b[39m(\u001b[38;5;124m\"\u001b[39m\u001b[38;5;124mEn quelle année êtes-vous né(e) ?\u001b[39m\u001b[38;5;124m\"\u001b[39m)\n\u001b[0;32m      3\u001b[0m \u001b[38;5;66;03m# Complétez la suite\u001b[39;00m\n\u001b[1;32m----> 4\u001b[0m age \u001b[38;5;241m=\u001b[39m \u001b[38;5;241;43m2022\u001b[39;49m\u001b[43m \u001b[49m\u001b[38;5;241;43m-\u001b[39;49m\u001b[43m \u001b[49m\u001b[43mannee\u001b[49m\n\u001b[0;32m      5\u001b[0m \u001b[38;5;28mprint\u001b[39m(\u001b[38;5;124m\"\u001b[39m\u001b[38;5;124mAinsi, \u001b[39m\u001b[38;5;124m\"\u001b[39m \u001b[38;5;241m+\u001b[39m nom \u001b[38;5;241m+\u001b[39m \u001b[38;5;124m\"\u001b[39m\u001b[38;5;124m, vous avez \u001b[39m\u001b[38;5;124m\"\u001b[39m \u001b[38;5;241m+\u001b[39m age \u001b[38;5;241m+\u001b[39m \u001b[38;5;124m\"\u001b[39m\u001b[38;5;124m ans.\u001b[39m\u001b[38;5;124m\"\u001b[39m)\n",
      "\u001b[1;31mTypeError\u001b[0m: unsupported operand type(s) for -: 'int' and 'str'"
     ]
    }
   ],
   "source": [
    "nom = input(\"Quel est votre nom ? \")\n",
    "annee = input(\"En quelle année êtes-vous né(e) ?\")\n",
    "# Complétez la suite\n",
    "age = 2022 - annee\n",
    "print(\"Ainsi, \" + nom + \", vous avez \" + age + \" ans.\")"
   ]
  },
  {
   "cell_type": "markdown",
   "id": "770ffd7a",
   "metadata": {},
   "source": [
    "> Ah bah ça marche pas du tout.\n",
    "\n",
    "Oui, on obtient une belle erreur.\n",
    "\n",
    "Chaque fois que l'on sera confronté à une erreur, il faudra bien regarder ce que l'interpréteur Python nous dit à son sujet.\n",
    "\n",
    "Ici, l'erreur est signalée à la ligne 4. Dans le notebook, on surligne même la portion `2022 - annee` (en ligne de commande, nous n'aurons pas le luxe du surlignage).\n",
    "\n",
    "Remarque: quand une erreur est signalée sur une ligne et qu'on ne trouve rien, il est possible que l'erreur vienne de la ligne précédente. Pensez-y.\n",
    "\n",
    "L'erreur signalée est la suivante :\n",
    "`TypeError: unsupported operand type(s) for -: 'int' and 'str'`\n",
    "\n",
    "> Rien compris. 'str' toi-même.\n",
    "\n",
    "Ah ça, quand Python ne comprend pas, il ne mâche pas ses mots.\n",
    "\n",
    "> En vrai, ça veut dire quoi tout ça ?\n",
    "\n",
    "Python nous explique qu'il y a un problème au niveau du type de la variable `annee` (je devrais plutôt dire au niveau du type de son contenu: en Python, les variables ne sont pas typées, c'est ce qu'elles contiennent qui l'est).\n",
    "\n",
    "La fonction `input` est conçue pour que l'utilisateur entre du texte. Ce texte est ensuite stocké dans la variable `annee`. Pour Python, cette variable contient donc du texte, c'est-à-dire une chaîne de caractères. En anglais, c'est le type string que Python abrège en `str`.\n",
    "\n",
    "La manière de représenter cela en RAM n'est pas du tout la même que pour représenter un nombre. Nous ne tarderons pas à en parler.\n",
    "\n",
    "Comme `2022` est un nombre, et que `annee` est du texte, Python nous dit qu'il ne sait pas utiliser l'opérande `-` entre un nombre entier (un integer, ou `int`) et du texte (`str`).\n",
    "\n",
    "> Oui, mais le texte qu'on a tapé est un nombre.\n",
    "\n",
    "Ca ne change rien. Pour Python, ça reste du texte. Si on a effectivement tapé un nombre, on peut convertir ce texte en nombre entier. Pour convertir un type en un autre, on utilise le nom du nouveau type comme si c'était le nom d'une fonction. Ainsi, en écrivant `int(annee)`, on transformera le texte contenu dans `annee` en un nombre. On peut stocker ce nombre dans une variable ou s'en servir directement dans la soustraction.\n",
    "\n",
    "Corrigez le code dans la cellule ci-dessous:"
   ]
  },
  {
   "cell_type": "code",
   "execution_count": 5,
   "id": "eefed96f",
   "metadata": {},
   "outputs": [
    {
     "name": "stdout",
     "output_type": "stream",
     "text": [
      "Quel est votre nom ? zet\n",
      "En quelle année êtes-vous né(e) ?56\n",
      "Ainsi, zet, vous avez 1966 ans.\n"
     ]
    }
   ],
   "source": [
    "nom = input(\"Quel est votre nom ? \")\n",
    "annee = input(\"En quelle année êtes-vous né(e) ? \")\n",
    "# Complétez la suite\n",
    "age = 2022 - int(annee)\n",
    "print(\"Ainsi, \" + nom + \", vous avez \" + str(age) + \" ans.\")"
   ]
  },
  {
   "cell_type": "markdown",
   "id": "872167e5",
   "metadata": {},
   "source": [
    "Si vous avez opté pour stocker le résultat de la conversion en entier dans une variable, il est possible de réutiliser la variable `annee`.\n",
    "\n",
    "**On ne le fera pas. C'est mal!**\n",
    "\n",
    "> Eh, vous fâchez pas. Pourquoi c'est mal?\n",
    "\n",
    "Comme je l'ai écrit plus haut, en Python, les variables ne sont pas typées. Il n'y a donc aucun problème pour qu'une même variable contienne d'abord du texte puis un nombre entier. Cependant, cela a un certain impact sur la gestion de la RAM. De plus, si vous prenez l'habitude de changer le type de ce que contient une variable, vous pourriez le faire dans un programme si complexe que l'on ne saurait plus quel type contient la variable et qu'on forcerait une conversion inutile juste pour s'assurer qu'on travaille avec le bon type.\n",
    "\n",
    "Pour finir, d'autres langages utilisent des variables typées. Souvenez-vous de la déclaration des variables : dans ces langages, on doit dire de quel type est une variable lors de sa création. A partir de là, on n'en change plus. Si l'on veut pouvoir s'adapter à ces langages, on va éviter de prendre l'habitude de programmer d'une manière qui pourrait ne pas fonctionner.\n",
    "\n",
    "> Euh, m'sieur, le programme marche bien, mais moi j'ai des gros doigts, et quand j'ai validé, j'ai appuyé sur `*` en même temps et j'ai une erreur.\n",
    "\n",
    "La fonction `int` ne fait pas de miracles. Si le texte qu'on veut convertir en entier est `2005`, alors c'est possible, mais si on veut convertir `2005*`, Python ne va pas réussir à interpréter ça comme un nombre entier et il va s'arrêter là.\n",
    "\n",
    "> Donc si je veux créer un jeu dans lequel je demande un nombre, ça va planter ?\n",
    "\n",
    "Oui.\n",
    "\n",
    "> Et si ça fait 2 heures que je joue et que j'ai bien fait attention jusque là, mais que je fais une nouvelle faute de frappe, ma partie va s'arrêter comme ça ?\n",
    "\n",
    "Hélas oui.\n",
    "\n",
    "> Mais y a rien à faire.\n",
    "\n",
    "Si.\n",
    "\n",
    "> Ah ouf!\n",
    "\n",
    "La fonction `input` pose problème lorsque l'on attend des nombres. Mais rassurez-vous, quand vous ferez des programmes avec une interface graphique, vous ne l'utiliserez plus. Vous aurez généralement des widgets pour interagir avec l'utilisateur et vous pourrez vous arranger pour qu'ils n'acceptent que ce qui respecte certaines contraintes.\n",
    "\n",
    "Si vous avez absolument besoin d'utiliser la fonction `input` pour récupérer un nombre, il existe différentes manières de faire. Le plus simple est d'utiliser une fonction qui analyse le texte et nous dit si elle reconnait un nombre entier. Si c'est le cas, on sait que la conversion va fonctionner. Sinon, on va s'adapter, pourquoi pas en demandant à l'utilisateur de renouveller sa saisie."
   ]
  },
  {
   "cell_type": "markdown",
   "id": "f9c1df44",
   "metadata": {},
   "source": [
    "## Les structures conditionnelles\n",
    "Ce que nous venons de dire nous montre la nécessité de pouvoir s'adapter à une situation donnée. Jusqu'ici, nos programmes se déroulaient de manière très linéaire.\n",
    "\n",
    "Ici, nous envisageons un programme qui, selon le texte contenu dans `annee`, va effectuer une action ou une autre.\n",
    "\n",
    "L'exécution d'un programme peut être modifiée par une condition. L'idée peut se formuler de la manière suivante : \"Si *condition* alors *faire ceci* (sinon *faire cela*).\"\n",
    "\n",
    "### La condition et les booléens\n",
    "Dans la phrase précédente, ce qui occupe la place de la condition est quelque chose qui peut-être soit vrai soit faux. Quand cela correspond à vrai, alors on \"fait ceci\".\n",
    "\n",
    "Il existe un type de variable qui ne peut avoir que deux valeurs : vrai (`True` en Python) ou faux (`False` en Python). Ce sont les booléens (le type `bool` en Python). C'est le mathématicien anglais **Georges BOOLE (1815-1864)** qui a posé les bases du concept.\n",
    "\n",
    "En Python, une structure conditionnelle commencera par une ligne de la forme :\n",
    "```python\n",
    "if expression_booleenne :\n",
    "```\n",
    "\n",
    "Pour l'`expression_booleenne`, on peut utiliser :\n",
    "- une valeur booléenne: `True` ou `False`. C'est peu utile avec un `if`.\n",
    "- une variable dont le contenu est un booléen.\n",
    "- une expression dont le résultat est un booléen.\n",
    "C'est ce dernier cas que l'on utilisera souvent.\n",
    "\n",
    "Imaginons que l'on consomme une potion de soin qui reconstitue 100 HP. Si on dépasse le nombre de HP maximum du personnage, il faudra remettre le nombre de HP du personnage à la valeur maximale. On écrira alors:\n",
    "```python\n",
    "hp += 100\n",
    "if hp > hp_max :\n",
    "```\n",
    "\n",
    "Une expression booléenne peut ainsi être une comparaison vérifiant:\n",
    "- une inégalité stricte : `>` ou `<`\n",
    "- une inégalité large : `>=` ou `<=`\n",
    "- une différence : `!=`\n",
    "- une égalité : `==`\n",
    "\n",
    "> Euh, m'sieur, il y a une faute de frappe, vous avez tapé deux fois `=`.\n",
    "\n",
    "Ce n'est pas une erreur : `=` est l'opérateur d'affectation. Il sert à mettre du contenu dans une variable. Pour tester l'égalité de deux choses, il faut utiliser l'opérateur `==`. Si je parle de *\"choses\"*, c'est parce que cet opérateur peut servir à savoir si deux chaînes de caractères contiennent le même texte (en respectant la même casse).\n",
    "\n",
    "**Attention avec les nombres à virgules :**\n",
    "Testez le code suivant :"
   ]
  },
  {
   "cell_type": "code",
   "execution_count": 9,
   "id": "6f883463",
   "metadata": {},
   "outputs": [
    {
     "name": "stdout",
     "output_type": "stream",
     "text": [
      "Dis-nous Python : est-ce que 1 + 2 est égal à 3 ?\n",
      "True\n",
      "Dis-nous Python : est-ce que 0,1 + 0,2 est égal à 0,3 ?\n",
      "False\n"
     ]
    }
   ],
   "source": [
    "print(\"Dis-nous Python : est-ce que 1 + 2 est égal à 3 ?\")\n",
    "print(1 + 2 == 3) # Egalité vérifiée\n",
    "print(\"Dis-nous Python : est-ce que 0,1 + 0,2 est égal à 0,3 ?\")\n",
    "print(0.1 + 0.2 == 0.3) # Egalité vérifiée, mais pas pour Python"
   ]
  },
  {
   "cell_type": "markdown",
   "id": "d09cac6b",
   "metadata": {},
   "source": [
    "Ce problème vient de la manière de représenter les nombres à virgule en mémoire. On retiendra qu'on ne peut pas tester l'égalité de deux nombres non entiers. A la place, il faut regarder si la valeur absolue de leur différence est plus petite qu'une certaine quantité. Si on ne le sait pas, on pense écrire un programme juste et on ne comprend pas pourquoi il ne fonctionne pas.\n",
    "\n",
    "Bien que certaines version de Python permettent de vérifier un encadrement (`if 5 < x < 10:`), il est plutôt recommandé de tester si les deux inégalités sont vraies toutes les deux :\n",
    "```python\n",
    "if 5 < x and x < 10 :\n",
    "```\n",
    "En plus de l'opérateur `and` qui vérifie si deux conditions sont vraies simultanément, il existe l'opérateur `or` qui vérifie si une condition est vraie **ou** une autre.\n",
    "\n",
    "Il existe aussi l'opérateur `not` qui transforme `True` en `False` et inversement.\n",
    "\n",
    "### L'action ou les actions à effectuer\n",
    "Si la condition est vérifiée, on peut vouloir exécuter une seule instruction, mais on peut aussi vouloir en exécuter plusieurs. Ensuite, on revient à des instructions qui sont exécutées dans tous les cas. Il faut donc délimiter quelle portion du code est exécutée seulement si la condition est vraie et à partir d'où on va retrouver des instructions exécutées dans tous les cas.\n",
    "\n",
    "Pour cela, après la ligne du if, on va s'écarter de la marge (rappelez-vous, on a déjà parlé de l'indentation). Quand on veut revenir à du code qui est exécuté dans tous les cas, on revient plus près de la marge.\n",
    "```python\n",
    "if x > 5:\n",
    "    instruction1\n",
    "    instruction2\n",
    "instruction3\n",
    "instruction4\n",
    "```\n",
    "Les instructions 1 et 2 ne seront exécutées qui si x est supérieur à 5. Les instructions 3 et 4 seront exécutées quoiqu'il arrive.\n",
    "\n",
    "On peut imbriquer les blocs de code les uns dans les autres. L'indentation augmente alors :\n",
    "```python\n",
    "if x > 5:\n",
    "    instruction1\n",
    "    instruction2\n",
    "    if y < 10:\n",
    "        instruction3\n",
    "        instruction4\n",
    "instruction5\n",
    "```\n",
    "Ici, l'instruction 5 est toujours exécutée. Les instructions 1 et 2 le seront seulement si x est supérieur à 5. Et pour que les instructions 3 et 4 soient exécutées, il faut que y soit inférieur à 10 **mais aussi** que x soit supérieur à 5. Ce n'est pas la même chose dans le code suivant :\n",
    "```python\n",
    "if x > 5:\n",
    "    instruction1\n",
    "    instruction2\n",
    "if y < 10:\n",
    "    instruction3\n",
    "    instruction4\n",
    "instruction5\n",
    "```\n",
    "Ici, les instructions 3 et 4 seront exécutées lorsque y sera inférieur à 10, même si x n'est pas supérieur à 5.\n",
    "\n",
    "On voit que l'**indentation est très importante** lorsque l'on code en Python et qu'il faut réfléchir à la logique de notre programme. De nombreux bugs proviennent d'erreurs dans la délimitation des blocs de codes ou dans l'écriture des conditions (surtout lorsqu'on emploie des `and` et des `or`).\n",
    "\n",
    "### Le sinon\n",
    "La partie entre parenthèses est optionnelle. On s'en sert quand on a du code a exécuter lorsque la condition est fausse. Cette partie est identifiée par un `else:` indenté de la même manière que le `if` auquel il est associé:\n",
    "```python\n",
    "if x > 5:\n",
    "    instruction1\n",
    "    instruction2\n",
    "else:\n",
    "    instruction3\n",
    "    instruction4\n",
    "instruction5\n",
    "```\n",
    "Ici, l'instruction 5 est toujours exécutée. Les instructions 1 et 2 le seront seulement si x est supérieur à 5. Et  les instructions 3 et 4 sont exécutées lorsque x est inférieur ou égal à 5.\n",
    "\n",
    "**Attention :**\n",
    "On peut penser que le code suivant est équivalent à celui que nous venons de voir :\n",
    "```python\n",
    "if x > 5:\n",
    "    instruction1\n",
    "    instruction2\n",
    "if x <= 5:\n",
    "    instruction3\n",
    "    instruction4\n",
    "instruction5\n",
    "```\n",
    "Cela dépend des instructions 1 et 2.\n",
    "\n",
    "Imaginons que l'instruction 1 soit : `x = 2` et qu'au moment où on arrive sur ces lignes x contient 10.\n",
    "\n",
    "Comme x vaut 10, les instructions 1 et 2 sont exécutées et donc x vaut 2 après l'instruction 1.\n",
    "\n",
    "- Dans la version avec `else`, les instructions 3 et 4 sont ignorées et on continue sur l'instruction 5.\n",
    "- Dans la version avec `if x <= 5`, au moment où on lit cette ligne, x vaut 2 et donc les instructions 3 et 4 sont exécutées.\n",
    "\n",
    "> O_o Ho là là!\n",
    "\n",
    "Quand je vous disais qu'il faut bien réfléchir à la logique de notre programme.\n",
    "\n",
    "> Donc il faut toujours utiliser `else`, non ?\n",
    "\n",
    "Et bien pas forcément. Tout dépend de ce qu'on veut faire. La 2ème version peut avoir sa raison d'être et dans ce cas, on peut avoir du mal à le comprendre quand on reprend le code longtemps après. La tentation est alors grande de remettre un `else`. Dans ce cas, il vaut mieux mettre un commentaire pour bien se souvenir qu'il ne faut surtout pas toucher au deuxième `if`.\n",
    "\n",
    "### Un peu d'entrainement\n",
    "Si une variable `texte`, de type `str`, contient un texte représentant un nombre entier positif, l'instruction `texte.isnumeric()` donnera `True`. On obtiendra `False` dans le cas contraire.\n",
    "\n",
    "Complétez le programme ci-dessous pour qu'il affiche \"Nombre\" quand on a saisi un nombre entier positif lors du `input` et \"Texte\" dans le cas contraire.\n",
    "\n",
    "Ensuite, ajoutez une instruction que, après avoir affiché \"Nombre\", le programme affiche le nombre entré multiplié par 3."
   ]
  },
  {
   "cell_type": "code",
   "execution_count": null,
   "id": "bde2f093",
   "metadata": {},
   "outputs": [],
   "source": [
    "saisie = input(\"Votre saisie : \")\n",
    "# C'est à vous de jouer."
   ]
  },
  {
   "cell_type": "markdown",
   "id": "d8655e04",
   "metadata": {},
   "source": [
    "### Sinon si\n",
    "On peut vouloir remettre un `if` dans le `else`.\n",
    "```python\n",
    "if x > 5:\n",
    "    instruction1\n",
    "    instruction2\n",
    "else:\n",
    "    if x < 2:\n",
    "        instruction3\n",
    "        instruction4\n",
    "instruction5\n",
    "```\n",
    "Dans ce cas, on peut utiliser `elif` (contraction de `else` et `if`) : \n",
    "```python\n",
    "if x > 5:\n",
    "    instruction1\n",
    "    instruction2\n",
    "elif x < 2:\n",
    "    instruction3\n",
    "    instruction4\n",
    "instruction5\n",
    "```\n",
    "C'est intéressant quand on veut faire un menu :"
   ]
  },
  {
   "cell_type": "code",
   "execution_count": 10,
   "id": "93cff841",
   "metadata": {},
   "outputs": [
    {
     "name": "stdout",
     "output_type": "stream",
     "text": [
      "Choisissez votre malbouffe :\n",
      "1. Burger\n",
      "2. Pizza\n",
      "3. Kebab\n",
      "Entrez votre choix : 3\n",
      "Vous prendrez de la sauce blanche avec ?\n"
     ]
    }
   ],
   "source": [
    "print(\"Choisissez votre malbouffe :\")\n",
    "print(\"1. Burger\")\n",
    "print(\"2. Pizza\")\n",
    "print(\"3. Kebab\")\n",
    "choix = input(\"Entrez votre choix : \")\n",
    "if choix == \"1\":\n",
    "    print(\"Vous prendrez du ketchup ou de la moutarde ?\")\n",
    "elif choix == \"2\":\n",
    "    print(\"Voulez-vous un peu d'huile piquante ?\")\n",
    "elif choix == \"3\":\n",
    "    print(\"Vous prendrez de la sauce blanche avec ?\")\n",
    "else:\n",
    "    print(\"Ce n'est pas au menu.\")"
   ]
  },
  {
   "cell_type": "markdown",
   "id": "88e7d00f",
   "metadata": {},
   "source": [
    "Attention, avec un code de ce type :\n",
    "```python\n",
    "if x > 5:\n",
    "    instruction1\n",
    "    instruction2\n",
    "else:\n",
    "    instruction3\n",
    "    if x < 2:\n",
    "        instruction4\n",
    "instruction5\n",
    "```\n",
    "ou\n",
    "```python\n",
    "if x > 5:\n",
    "    instruction1\n",
    "    instruction2\n",
    "else:\n",
    "    if x < 2:\n",
    "        instruction3\n",
    "    instruction4\n",
    "instruction5\n",
    "```\n",
    "il n'est pas possible d'utiliser un `elif`.\n",
    "\n",
    "### On vise la mention\n",
    "Entrainez-vous avec le programme suivant. Pour ne pas s'embêter avec la conversion d'une chaîne de caractères en nombre, on n'utilisera pas d'`input`. A la place, on modifiera la valeur de la variable note directement en éditant le programme.\n",
    "\n",
    "Le but est d'afficher la mention correspondant à une note donnée. On affichera ainsi :\n",
    "- \"Excellent\" pour une note entre 18 et 20.\n",
    "- \"Très bien\" pour une note entre 16 et 18 (18 non compris).\n",
    "- \"Bien\" pour une note entre 14 et 16 (16 non compris).\n",
    "- \"Assez bien\" pour une note entre 12 et 14 (14 non compris).\n",
    "- \"Passable\" pour une note entre 10 et 12 (12 non compris).\n",
    "- \"Refusé\" pour une note entre 0 et 10 (10 non compris).\n",
    "- \"Erreur\" pour une note négative ou strictement supérieure à 20.\n",
    "\n",
    "*Remarque : on évitera les caractères accentués dans les codes sources sous forme de fichier .py car ils peuvent ne pas s'afficher correctement dans la console.*"
   ]
  },
  {
   "cell_type": "code",
   "execution_count": 10,
   "id": "29b830e0",
   "metadata": {},
   "outputs": [
    {
     "name": "stdout",
     "output_type": "stream",
     "text": [
      "Vous avez obtenue la mention Excellent.\n"
     ]
    }
   ],
   "source": [
    "note = 18\n",
    "# Au boulot!\n",
    "if note >= 18 and note <= 20:\n",
    "    print(\"Vous avez obtenue la mention Excellent.\")\n",
    "elif note >= 16 and note < 18: \n",
    "    print (\"Vous avez obtenue la mention Très Bien.\")\n",
    "elif note >= 14 and note < 16:\n",
    "    print(\"Vous avez obtenue la mention Bien.\")\n",
    "elif note >= 12 and note < 14:\n",
    "    print (\"Vous avez obtenue la mention Assez Bien.\")\n",
    "elif note >= 10 and note < 12:\n",
    "    print (\"Vous n'avez pas obtenue de mention.\")\n",
    "elif note >= 0 and note < 10:\n",
    "    print (\"Désolé vous n'avez pas réussi.\")\n",
    "elif note < 0 or note > 20: \n",
    "    print (\"Erreur.\")"
   ]
  },
  {
   "cell_type": "code",
   "execution_count": 18,
   "id": "7a9e3942",
   "metadata": {},
   "outputs": [
    {
     "name": "stdout",
     "output_type": "stream",
     "text": [
      "Vous avez obtenue la mention Très Bien.\n"
     ]
    }
   ],
   "source": [
    "note = 16\n",
    "# Au boulot!\n",
    "if note < 0 or note > 20: \n",
    "    print (\"Erreur.\")\n",
    "elif note >= 18:\n",
    "    print(\"Vous avez obtenue la mention Excellent.\")\n",
    "elif note >= 16: \n",
    "    print (\"Vous avez obtenue la mention Très Bien.\")\n",
    "elif note >= 14:\n",
    "    print(\"Vous avez obtenue la mention Bien.\")\n",
    "elif note >= 12:\n",
    "    print (\"Vous avez obtenue la mention Assez Bien.\")\n",
    "elif note >= 10:\n",
    "    print (\"Vous n'avez pas obtenue de mention.\")\n",
    "elif note >= 0:\n",
    "    print (\"Désolé vous n'avez pas réussi.\")"
   ]
  },
  {
   "cell_type": "markdown",
   "id": "baf4afcd",
   "metadata": {},
   "source": [
    "### Et maintenant, on le calcule cet âge ?\n",
    "Avec tout ce que vous avez appris, vous pouvez reprendre le code qui demande l'année de naissance d'une personne pour calculer son âge.\n",
    "\n",
    "Il va falloir transformer le texte saisi pour l'année de naissance en un entier. Pour cela, il faut vérifier qu'un entier positif a été saisi (on ne calculera pas l'âge d'une personne dont l'année de naissance est négative).\n",
    "\n",
    "Si ce n'est pas le cas, on signale une erreur de saisie.\n",
    "\n",
    "On peut savoir si une chaine de caractères dans la variable `texte` ne contient que des chiifres en écrivant `texte.isnumeric()`.\n",
    "\n",
    "On peut améliorer le programme en signalant une erreur si l'âge nous parait impossible : de 0 à 100 ans, tout va bien; de 100 à 120 ans, émet un léger doute et pour toute autre valeur, on signale une erreur."
   ]
  },
  {
   "cell_type": "code",
   "execution_count": 7,
   "id": "ee2cd462",
   "metadata": {},
   "outputs": [
    {
     "name": "stdout",
     "output_type": "stream",
     "text": [
      "Quel est votre nom ? AZERTY\n",
      "En quelle année êtes-vous né(e) ?-16\n",
      "Je ne suis pas sur.\n"
     ]
    }
   ],
   "source": [
    "nom = input(\"Quel est votre nom ? \")\n",
    "annee = input(\"En quelle année êtes-vous né(e) ?\")\n",
    "# Complétez la suite\n",
    "age = 2022 - int(annee)\n",
    "if age < 100: \n",
    "    print (\"Ainsi \" + nom + \" vous avez \" + str(age) + \" ans.\")\n",
    "elif age >= 100 and age <= 120:\n",
    "    print(\"Es-tu sur d'avoir \" + str(age) + \" ans ?\")\n",
    "elif age > 120 or age < 0:\n",
    "    print(\"Je ne suis pas sur.\")"
   ]
  }
 ],
 "metadata": {
  "kernelspec": {
   "display_name": "Python 3 (ipykernel)",
   "language": "python",
   "name": "python3"
  },
  "language_info": {
   "codemirror_mode": {
    "name": "ipython",
    "version": 3
   },
   "file_extension": ".py",
   "mimetype": "text/x-python",
   "name": "python",
   "nbconvert_exporter": "python",
   "pygments_lexer": "ipython3",
   "version": "3.10.7"
  }
 },
 "nbformat": 4,
 "nbformat_minor": 5
}
