{
 "cells": [
  {
   "cell_type": "markdown",
   "metadata": {},
   "source": [
    "# Introduction à la programmation\n",
    "\n",
    "Dans ce premier chapitre, nous allons apprendre à programmer en utilisant le langage python.\n",
    "\n",
    "> Beuh, python c'est trop nul. On fait déjà ça en math.\n",
    "\n",
    "D'accord, vous avez peut-être déjà écrit quelques petits programmes en math. Et généralement, tout se passe en ligne de commande. Mais il est aussi possible d'utiliser python pour faire des jeux avec de jolis graphismes grâce à la bibliothèque `pygame` ou des programmes en interface graphique avec la bibliothèque `tkinter`.\n",
    "\n",
    "> Ouais, mais bon, personne n'écrit de _vrai_ programme en python.\n",
    "\n",
    "Alors là, détrompez-vous. Vous utilisez certainement déjà des applications écrites en python.\n",
    "Regardez donc [cette liste](https://learn.onemonth.com/fr/10-sites-web-celebres-construits-avec-python/).\n",
    "* Google\n",
    "* Instagram\n",
    "* ...\n",
    "\n",
    "> O_o Ah ouais! Mais pourquoi on utilise ça?\n",
    "\n",
    "Python est un langage portable: si vous écrivez un programme en python, il peut tourner sur n'importe quelle machine avec n'importe quel système d'exploitation. Il suffit qu'il existe pour ce système sur cette machine un interpréteur python qui lira le code source de votre programme et le traduira pour la machine qui fera tourner le programme.\n",
    "\n",
    "Un inconvénient des langages interprétés est qu'ils nécessitent cette traduction à chaque exécution du programme. Cela prend du temps. Un programme écrit dans un langage interprété est donc plus lent qu'un programme écrit dans un langage compilé dans lequel le code source est traduit une seule fois pour être transformé en un programme exécutable.\n",
    "\n",
    "> Si c'est plus lent, pourquoi on apprend ça et pas quelque chose de plus rapide ?\n",
    "\n",
    "Parce que la plupart du temps, nous ne verrons pas la différence avec les programmes que nous écrirons.\n",
    "\n",
    "Parce que beaucoup de choses sont plus simples à écrire avec python qu'avec des langages comme C ou C++.\n",
    "\n",
    "Parce qu'on nous demande d'utiliser ce langage.\n",
    "\n",
    "\n",
    "Avant de commencer, savez-vous d'où vient le nom de ce langage ?\n",
    "\n",
    "> C'est parce que celui qui a inventé Python était fan des serpents ?\n",
    "\n",
    "On pourrait le croire étant donné que des bibliothèques de Python utilisent des noms de serpents (Jupyter exploite la bibliothèque Anaconda). En réalité, le concepteur de Python était fan des Monty Python. Si vous ne connaissez pas et que vous aimez l'humour absurde, je vous invite à les découvrir."
   ]
  },
  {
   "cell_type": "markdown",
   "metadata": {},
   "source": [
    "## Notre premier programme\n",
    "\n",
    "On commence toujours à programmer en demandant à notre ordinateur de nous dire bonjour. C'est le point de départ de tout programmeur: le `hello world`!\n",
    "\n",
    "Vous savez sans doute déjà faire ça, mais ce sera aussi l'occasion de voir comment on programme directement dans un notebook Jupyter.\n",
    "\n",
    ">voila donc on mets pour faire un sorte de commentaire '>\"ton texte pour un genre de commentaire\"' c'est comme un /quote sur Notion\n",
    "\n",
    "La cellule ci-dessous permet d'écrire et de modifier du code. On peut observer le résultat.\n",
    "\n",
    "Pour exécuter le programme, il suffit d'aller dans la cellule ci-dessous et d'appuyer sur Ctrl+Entrée."
   ]
  },
  {
   "cell_type": "code",
   "execution_count": 2,
   "metadata": {},
   "outputs": [
    {
     "name": "stdout",
     "output_type": "stream",
     "text": [
      "Hello world!\n"
     ]
    }
   ],
   "source": [
    "print(\"Hello world!\")"
   ]
  },
  {
   "cell_type": "markdown",
   "metadata": {},
   "source": [
    "> pour voir l'effet du code on clique sur le code on fait ctrl+enter et si on veut supprimer suffit juste de faire Cell > Current Output > Clear pour effacer uniquement si c'est selectionné.\n",
    "\n",
    "Sous la cellule, on peut voir ce qui s'affiche en ligne de commande.\n",
    "Le menu Cell ci-dessus permet d'effacer la sortie des cellules ou de les exécuter, etc...\n",
    "Il existe bien d'autres moyens d'exécuter un programme python:\n",
    "- dans la console de l'interpréteur python\n",
    "- en exécutant un fichier de code source python (extension .py)\n",
    "- depuis un Environnement de Développement Intégré (IDE) comme PyScripter d'EduPython\n",
    "Les fichiers py sont de simples fichiers texte contenant le code source python. Un éditeur de texte comme le bloc-notes permet de les éditer. Un éditeur comme Geany offre un peu plus de confort et se rapproche d'un IDE. La différence entre Edupython et Geany étant qu'EduPython contient l'interpréteur Python déjà préinstallé avec de nombreuses bibliothèque. Avec Geany, il est nécessaire d'installer l'interpréteur Python soi-même ainsi que toutes les bibliothèques dont on a besoin."
   ]
  },
  {
   "cell_type": "markdown",
   "metadata": {},
   "source": [
    "Histoire de faire un peu le tour de toutes ces possibilités, on va faire la même chose dans l'interpréteur Python.\n",
    "Pour l'ouvrir, il faut aller dans le menu de Windows et chercher \"Python 3.10 (64 bits)\".\n",
    "Vous devriez vous retrouver en face de ça:\n",
    "![](images/ConsolePython.PNG)\n",
    "C'est sans doute difficile à lire. Pour augmenter la taille de la police, faites un clic-droit sur la barre de titre de la fenêtre et choisissez \"Propriétés\". Puis choisissez une taille convenable (la capture d'écran ci-dessus est en taille 20).\n",
    "\n",
    "On va taper la commande `print(\"Hello world\")` dans la console et valider. On voit s'afficher `Hello world` sur la ligne suivante puis on retrouve l'invite de commande.\n",
    "\n",
    "> Euh, m'sieur, moi j'ai juste tapé `\"Hello world\"` et ça marche aussi.\n",
    "\n",
    "Oui, mais ce n'est pas tout à fait pareil. Avec `print(\"Hello world\")`, on affiche le texte de la *chaîne de caractères* `Hello world`, alors qu'avec `\"Hello world\"`, on crée cette chaîne de caractères. Comme on n'en fait rien et que notre commande s'arrête là, cette chaîne de caractères est redirigée vers la sortie standard. On peut voir des simples guillemets autour (`'Hello world'`), ce qui montre qu'on à affaire à une chaîne de caractère en sortie.\n",
    "![](images/HelloWorld.PNG)\n",
    "D'ailleurs, essayez dans la cellule ci-dessous:"
   ]
  },
  {
   "cell_type": "code",
   "execution_count": 3,
   "metadata": {},
   "outputs": [
    {
     "data": {
      "text/plain": [
       "'Hello World'"
      ]
     },
     "execution_count": 3,
     "metadata": {},
     "output_type": "execute_result"
    }
   ],
   "source": [
    "\"Hello World\""
   ]
  },
  {
   "cell_type": "markdown",
   "metadata": {},
   "source": [
    "On voit bien qu'il s'agit d'une sortie et non d'un simple affichage puisque le notebook indique `Out[...]`.\n",
    "Maintenant, avec Geany, créez un fichier `HelloWorld.py` contenant le code:\n",
    "```python\n",
    "print(\"Hello world\")\n",
    "\"Hello world\"\n",
    "```\n",
    "Exécutez ce code et vous verrez:\n",
    "![](images/HelloWorldGeany.PNG)\n",
    "Cette fois, il n'y a que le `print(\"Hello world\")` qui affiche quelque chose. Seules les instructions `print` afficheront quelque chose dans la console lorsque l'interpréteur Python lira un code source dans un fichier .py.\n",
    "\n",
    "Vous pouvez aussi essayer de double cliquer sur le fichier `HelloWorld.py` depuis l'explorateur de fichiers. Il ne se passera pas grand chose. Vous verrez une fenêtre de console s'ouvrir pour se refermer aussi rapidement. En effet, c'est Geany qui rajoute une pause (Le `Appuyez sur une touche pour continuer...`) après l'exécution du code source.\n",
    "\n",
    "Dans la suite, chaque fois que nous testerons des portions de code dans le notebook, essayez de tester aussi dans la console Python et/ou dans un fichier .py avec Geany.\n",
    "\n",
    "## Présentons nous\n",
    "Maintenant, nous allons demander à notre programme de nous dire bonjour en utilisant notre nom.\n",
    "\n",
    "Bien sûr, l'ordinateur ne peut pas le deviner. Il faudra donc qu'il nous demande notre nom avant. Pour cela, nous utiliserons la fonction `input`."
   ]
  },
  {
   "cell_type": "code",
   "execution_count": 4,
   "metadata": {},
   "outputs": [
    {
     "name": "stdout",
     "output_type": "stream",
     "text": [
      "Comment vous appelez-vous ? Jean-Baptiste\n",
      "Bonjour Jean-Baptiste.\n"
     ]
    }
   ],
   "source": [
    "nom = input(\"Comment vous appelez-vous ? \")\n",
    "print(\"Bonjour \" + nom + \".\")"
   ]
  },
  {
   "cell_type": "markdown",
   "metadata": {},
   "source": [
    "Essayez de faire la même chose dans la console de Python et dans un fichier py.\n",
    "\n",
    "Faites des modifications pour comprendre comment cela fonctionne. On peut poser d'autres questions pour afficher un texte s'appuyant sur les réponses. Par exemple, on peut demander l'âge de la personne pour afficher ensuite `Vous avez ?? ans`. *Je vous préviens: le premier qui m'affiche des points d'interrogations à la place de l'âge saisi, il sort.*"
   ]
  },
  {
   "cell_type": "code",
   "execution_count": 11,
   "metadata": {},
   "outputs": [
    {
     "name": "stdout",
     "output_type": "stream",
     "text": [
      "Comment vous appelez-vous ? Jean-Baptiste\n",
      "Bonjour Jean-Baptiste.\n",
      "Et quel âge as-tu ? 64789\n",
      "Ah donc tu as 64789 ans.\n"
     ]
    }
   ],
   "source": [
    "# Le caractère # indique un commentaire. Tout ce qu'il y a après \n",
    "# jusqu'à la fin de la ligne est ignoré par l'interpréteur Python\n",
    "# C'est utile pour se laisser des indications sur ce que fait telle\n",
    "# ou telle partie du code.\n",
    "# Utilisez autant de commentaires que nécessaires.\n",
    "# Demande du nom\n",
    "nom = input(\"Comment vous appelez-vous ? \")\n",
    "print(\"Bonjour \" + nom + \".\")\n",
    "# Demande de l'âge (complétez la suite)\n",
    "age = input(\"Et quel âge as-tu ? \")\n",
    "#Demande l'âge.\n",
    "print(\"Ah donc tu as \" + age + \" ans.\")\n",
    "#Réponse avec le input de l'âge demandez."
   ]
  },
  {
   "cell_type": "markdown",
   "metadata": {},
   "source": [
    "## Les variables\n",
    "Dans nos programmes, nous aurons souvent besoin de nous souvenirs de certaines données.\n",
    "\n",
    "Dans l'exemple du nom, on devait d'abord demander le nom de la personne, puis il fallait s'en souvenir pour l'afficher entre `\"Bonjour \"` et `\".\"`. Pour cela, on a stocké le nom entré par l'utilisateur via la fonction input dans une variable.\n",
    "\n",
    "La mémoire vive (RAM) de l'ordinateur est une longue suite d'octets. Il faut être capable d'y retrouver ce qu'on y a stocké. Pour le processeur, chaque octet est identifié par une adresse, qui n'est autre qu'un numéro de position dans la mémoire. Pour le programmeur, il serait difficile de se souvenir de tous ces numéros pour retrouver ce que l'on a stocké. On a donc plutôt recours à des mots : les noms des variables.\n",
    "\n",
    "### Noms des variables\n",
    "Ainsi, pour stocker quelque chose dans la RAM, il nous suffira de lui donner un nom. Ce nom identifiera une zone de la mémoire.\n",
    "\n",
    "Ce nom doit respecter certaines contraintes :\n",
    "- il ne peut contenir que des lettres, majuscules ou minuscules, des chiffres ou le symbole `_` (trait de soulignement, ou underscore),\n",
    "- il ne peut pas commencer par un chiffre,\n",
    "- il ne peut pas contenir d'espace ou d'autres caractères que ceux mentionnés ci-dessus,\n",
    "- il ne peut pas s'écrire comme un mot clé du langage.\n",
    "Ces règles s'appliquent à Python ainsi qu'à de nombreux autres langages (mais pas tous).\n",
    "Enfreindre ces règles conduit inévitablement à une erreur.\n",
    "\n",
    "Les noms des variables sont sensibles à la casse (majuscule ou minuscule), ainsi x et X sont des noms différents, de même pour nom et nOm.\n",
    "\n",
    "Il existe aussi des conventions concernant les noms de variables:\n",
    "- un nom de variable ne commence jamais par une majuscule\n",
    "- un nom de variable doit être parlant : il ne faut pas hésiter à utiliser des noms longs (mais pas trop quand même). Heureusement, l'auto-complétion fournie par Geany nous permettra d'utiliser des noms longs sans avoir à les taper entièrement.\n",
    "- si on veut un nom composé de plusieurs mots, on marque le début de chaque mot par une majuscule, c'est le camelCase (ex: pointsDeVieJoueur, pointsDeVieBoss) ou par un underscore c'est l'underscore_case (ex: vitesse_vaisseau, position_missile)\n",
    "Si vous ne respectez pas ces conventions, rien de grave n'arrivera. Il n'y aura pas d'erreur et l'interpréteur Python ne vous insultera pas. Un programmeur un peu plus sérieux par contre...\n",
    "\n",
    "En ce qui concerne le choix entre camelCase et underscore_case, c'est une question de choix. J'ai l'impression qu'en Python on utilise plus l'underscore_case alors que l'on utilise le camelCase en C, C++, java.\n",
    "\n",
    "Ma préférence va au camelCase que JE trouve plus lisible, mais les opinions divergent. J'ai trouvé ce [fil de discussion](https://softwareengineering.stackexchange.com/questions/27264/naming-conventions-camelcase-versus-underscore-case-what-are-your-thoughts-ab) sur le sujet. C'est en anglais. Le camelCase donne des noms moins longs, ce qui réduit la taille en mémoire du code source, mais c'est un argument discutable si l'on s'intéresse à la taille des fichiers sur le disque dur.\n",
    "\n",
    "Bref, testez l'un et l'autre et choisissez ce qui vous convient. Evitez juste de mélanger les styles dans un même code source.\n",
    "\n",
    "En guise d'exercice, indiquez en commentaires dans la cellule suivante quelles sont les noms de variables incorrects, ceux qui ne respectent pas les conventions mais fonctionnent tout de même et ceux qui respectent toutes les bonnes pratiques."
   ]
  },
  {
   "cell_type": "code",
   "execution_count": null,
   "metadata": {},
   "outputs": [],
   "source": [
    "1ma_variable       #non commence par un chiffre\n",
    "motDePasse         #oui format camelCase\n",
    "_d                 #oui mais nom non parlant.\n",
    "titre-programme    #non c'est une soustraction \n",
    "input              #non commande de python\n",
    "contenu_cellule    #oui underscore_case\n",
    "texteBouton        #oui camelCase\n",
    "ident utilisateur  #non espace au lieu d'avoir mis un underscore (ident_utilisateur fonctionne)\n",
    "moyenne            #oui nom normal\n",
    "Print              #utilisable, mais confusion possible avec print et ne devrait pas commencer par une maj"
   ]
  },
  {
   "cell_type": "markdown",
   "metadata": {},
   "source": [
    "### Gestion des variables\n",
    "Trois concepts sont à maîtrise pour bien manipuler les variables :\n",
    "- la déclaration\n",
    "- l'affectation\n",
    "- l'utilisation\n",
    "\n",
    "Pour commencer, une variable doit être déclarée. Cela veut dire que l'on informe la machine que l'on va avoir besoin de stocker des données en RAM et on l'informe du nom que l'on va donner à cette zone de la RAM.\n",
    "\n",
    "L'affectation est l'écriture d'une donnée dans la variable.\n",
    "\n",
    "En Python, il n'y a pas de déclaration. Les concepteurs de Python se sont dit qu'il était inutile de demander de la place en mémoire tant qu'on n'a rien à y mettre. En pratique, dans les langages où la déclaration existe, on réalise la première affectation lors de la déclaration, donc cela revient un peu au même (juste un peu).\n",
    "\n",
    "Pour affecter du contenu à une variable, on écrit le nom de la variable, puis le symbole égal, puis ce que l'on veut stocker dans cette variable.\n",
    "\n",
    "ex :\n",
    "```python\n",
    "texteBouton = \"Annuler\"\n",
    "hp_joueur = 250\n",
    "```\n",
    "\n",
    "Il ne peut jamais rien y avoir d'autre qu'un nom de variable à gauche du `=`. A droite, on peut mettre à peu près ce qu'on veut du moment que cela correspond à quelque chose de valide.\n",
    "\n",
    "L'affectation permet d'écrire dans la RAM.\n",
    "\n",
    "Pour utiliser une variable, il suffit d'écrire son nom. Cela permet de lire le contenu de la RAM à l'endroit repéré par la variable. Ecrire simplement le nom d'une variable ne fait que lire la mémoire. Quand on exécute un fichier py, cela n'a pas d'intérêt. Il faut se servir de ce qu'on a lu en l'utilisant dans un calcul, en le passant à une fonction, etc...\n",
    "\n",
    "Essayez les exemples suivants :"
   ]
  },
  {
   "cell_type": "code",
   "execution_count": 1,
   "metadata": {},
   "outputs": [
    {
     "name": "stdout",
     "output_type": "stream",
     "text": [
      "Toto\n"
     ]
    }
   ],
   "source": [
    "nom = \"Toto\" # Affectation du texte \"Toto\" à la variable nom\n",
    "nom          # Lecture du contenu de la variable nom\n",
    "print(nom)   # Lecture du contenu de la variable nom et transmission à la fonction print pour affichage"
   ]
  },
  {
   "cell_type": "markdown",
   "metadata": {},
   "source": [
    "Comme d'habitude, testez la même chose en ligne de commande (inutile de retaper les commentaires) et dans un fichier py."
   ]
  },
  {
   "cell_type": "code",
   "execution_count": 3,
   "metadata": {},
   "outputs": [
    {
     "name": "stdout",
     "output_type": "stream",
     "text": [
      "3\n",
      "2\n",
      "1\n"
     ]
    }
   ],
   "source": [
    "a = 1\n",
    "b = 2\n",
    "a = 3\n",
    "k = 1\n",
    "print(a)\n",
    "print(b)\n",
    "print(k)"
   ]
  },
  {
   "cell_type": "markdown",
   "metadata": {},
   "source": [
    "Expliquez ce qui se passe dans le code ci-dessus.\n",
    "\n",
    "## Un peu de calcul\n",
    "\n",
    "> Beuh, non, pas de calcul, j'aime pas ça.\n",
    "\n",
    "Mais là, c'est l'ordinateur qui va faire le calcul.\n",
    "\n",
    "> Ah bon, alors ça va.\n",
    "\n",
    "On peut écrire n'importe quel calcul et Python nous donnera le résultat."
   ]
  },
  {
   "cell_type": "code",
   "execution_count": 4,
   "metadata": {},
   "outputs": [
    {
     "data": {
      "text/plain": [
       "17"
      ]
     },
     "execution_count": 4,
     "metadata": {},
     "output_type": "execute_result"
    }
   ],
   "source": [
    "2 + 3 * 5"
   ]
  },
  {
   "cell_type": "markdown",
   "metadata": {},
   "source": [
    "On remarque que la priorité des opérations est respectée. Une calculatrice bas de gamme aurait donné 25.\n",
    "Le résultat du calcul n'étant pas utilisé, il est placé en sortie dans le notebook ou l'interpréteur Python. Rien ne s'affiche avec un fichier py. Pour voir le résultat dans ce cas, utilisez `print(2 + 3 * 5)`.\n",
    "\n",
    "Remarque :\n",
    "On peut écrire `print(2+3*5)` ou `nom=\"Toto\"`, mais vous avez dû remarquer que je mets toujours des espaces. Là encore, cela correspond à de bonnes pratiques. Les opérateurs (`+`, `*`, `=`, etc...) sont ainsi plus visibles.\n",
    "Un code bien écrit est un code facile à débugger.\n",
    "\n",
    "On peut aussi utiliser des variables pour nos calculs :"
   ]
  },
  {
   "cell_type": "code",
   "execution_count": 5,
   "metadata": {},
   "outputs": [
    {
     "name": "stdout",
     "output_type": "stream",
     "text": [
      "120\n",
      "120\n"
     ]
    }
   ],
   "source": [
    "a = 15\n",
    "b = 8\n",
    "print(a * b)        # On affiche le produit de a et b\n",
    "produit = a * b\n",
    "print(produit)      # Même chose, mais on a stocké le résultat du produit dans c."
   ]
  },
  {
   "cell_type": "markdown",
   "metadata": {},
   "source": [
    "On a parlé d'opérateurs. En informatique, l'opérateur `=` n'a pas la même signification qu'en mathématiques où il veut dire que l'on a la même chose des deux côtés. Ce n'est pas non plus la même chose que la touche = d'une calculatrice qui demande simplement à la calculatrice d'effectuer le calcul pour afficher le résultat (que l'on peut réutiliser pour poursuivre le calcul).\n",
    "\n",
    "Ainsi, en mathématiques, écrire n = n + 1 n'a aucun sens car il n'existe aucun nombre n qui soit la même chose que n + 1.\n",
    "\n",
    "Essayez d'expliquer le code suivant:"
   ]
  },
  {
   "cell_type": "code",
   "execution_count": 6,
   "metadata": {},
   "outputs": [
    {
     "name": "stdout",
     "output_type": "stream",
     "text": [
      "2\n"
     ]
    }
   ],
   "source": [
    "n = 1      # variable n a 1\n",
    "n = n + 1  # rappelle de n on ajoute 1 a n et le résultat sera désormais n\n",
    "print(n)   # affiche la variable après le calcul."
   ]
  },
  {
   "cell_type": "markdown",
   "metadata": {},
   "source": [
    "Il arrive assez souvent que l'on ait besoin d'augmenter le contenu d'une variable d'une certaine valeur. Par exemple, si dans un jeu, un personnage doit être décalé de 10 pixels chaque fois qu'il se déplace, son abscisse x doit augmenter de 10 chaque fois qu'on veut le déplacer vers la droite. On écrira `x = x + 10`.\n",
    "\n",
    "C'est même tellement courant que l'on a inventé des opérateurs pour ce genre de chose. Ainsi :\n",
    "\n",
    "Le code : | peut s'écrire :\n",
    ":-------- | --------------:\n",
    "`x = x + 5` | `x += 5`\n",
    "`x = x - 5` | `x -= 5`\n",
    "`x = x * 5` | `x *= 5`\n",
    "`x = x / 5` | `x /= 5`\n",
    "\n",
    "Il n'existe pas de manière plus rapide d'écrire `x = 5 - x` ou `x = 5 / x`.\n",
    "\n",
    "Augmenter le contenu d'une variable de 1 est une opération très courante en informatique. On appelle cela l'incrémentation. C'est tellement courant que dans certains langages, on a inventé un opérateur exprès. Ainsi, en C, `x = x + 1` s'écrit `x++`. Le langage C++ doit son nom à l'opérateur `++`. C'est une incrémentation de C.\n",
    "\n",
    "Malheureusement, cet opérateur n'existe pas en Python. Nous devrons donc nous contenter de ` x += 1`.\n",
    "\n",
    "Testez des divisions ci-dessous :"
   ]
  },
  {
   "cell_type": "code",
   "execution_count": 12,
   "metadata": {},
   "outputs": [
    {
     "name": "stdout",
     "output_type": "stream",
     "text": [
      "16.0\n",
      "2.6666666666666665\n"
     ]
    }
   ],
   "source": [
    "print(80 / 5)\n",
    "a = 16\n",
    "b = 6\n",
    "print(a / b)"
   ]
  },
  {
   "cell_type": "markdown",
   "metadata": {},
   "source": [
    "Tiens, mais pourquoi `80 / 5` nous donne `16.0` et pas simplement `16` ?\n",
    "\n",
    "Essayez la version suivante :"
   ]
  },
  {
   "cell_type": "code",
   "execution_count": 13,
   "metadata": {},
   "outputs": [
    {
     "name": "stdout",
     "output_type": "stream",
     "text": [
      "16\n",
      "2\n"
     ]
    }
   ],
   "source": [
    "print(80 // 5)\n",
    "a = 16\n",
    "b = 6\n",
    "print(a // b)"
   ]
  },
  {
   "cell_type": "markdown",
   "metadata": {},
   "source": [
    "Il y a deux opérateurs pour la division : \n",
    "- `/` est une division dont le résultat est un nombre à virgule.\n",
    "- `//` est une division entière.\n",
    "\n",
    "Et s'il existe une division entière, il serait intéressant de connaitre le reste de cette division. Pour cela, on utilise l'opérateur **modulo** : `%`."
   ]
  },
  {
   "cell_type": "code",
   "execution_count": 7,
   "metadata": {},
   "outputs": [
    {
     "name": "stdout",
     "output_type": "stream",
     "text": [
      "7\n",
      "2\n"
     ]
    }
   ],
   "source": [
    "print(30 // 4)\n",
    "print(30 % 4)"
   ]
  },
  {
   "cell_type": "markdown",
   "metadata": {},
   "source": [
    "Dans 30, il y a 7 fois 4 et il reste 2.\n",
    "\n",
    "Souvenez-vous du modulo. C'est un opérateur super utile.\n",
    "\n",
    "## Les types\n",
    "\n",
    "Et maintenant, on va mettre en pratique ce qu'on a vu sur les calculs.\n",
    "\n",
    "On va redemander le nom de l'utilisateur et au lieu de son âge, on va lui demander son année de naissance. A partir de là, on veut afficher : *Ainsi,* nom *, vous avez* age *ans.*\n",
    "\n",
    "Je vous rassure tout de suite : vous n'y arriverez pas. Mais c'est en se trompant qu'on apprend. On va utiliser cet exercice pour comprendre la notion de types."
   ]
  },
  {
   "cell_type": "code",
   "execution_count": 17,
   "metadata": {},
   "outputs": [
    {
     "name": "stdout",
     "output_type": "stream",
     "text": [
      "Quel est votre nom ? jeanbaptiste\n",
      "En quelle année êtes-vous né(e) ? 2006\n"
     ]
    },
    {
     "ename": "TypeError",
     "evalue": "unsupported operand type(s) for -: 'int' and 'str'",
     "output_type": "error",
     "traceback": [
      "\u001b[1;31m---------------------------------------------------------------------------\u001b[0m",
      "\u001b[1;31mTypeError\u001b[0m                                 Traceback (most recent call last)",
      "Cell \u001b[1;32mIn [17], line 4\u001b[0m\n\u001b[0;32m      2\u001b[0m annee \u001b[38;5;241m=\u001b[39m \u001b[38;5;28minput\u001b[39m(\u001b[38;5;124m\"\u001b[39m\u001b[38;5;124mEn quelle année êtes-vous né(e) ? \u001b[39m\u001b[38;5;124m\"\u001b[39m)\n\u001b[0;32m      3\u001b[0m \u001b[38;5;66;03m# Complétez la suite\u001b[39;00m\n\u001b[1;32m----> 4\u001b[0m age \u001b[38;5;241m=\u001b[39m \u001b[38;5;241;43m2022\u001b[39;49m\u001b[43m \u001b[49m\u001b[38;5;241;43m-\u001b[39;49m\u001b[43m \u001b[49m\u001b[43mannee\u001b[49m\n\u001b[0;32m      5\u001b[0m \u001b[38;5;28mprint\u001b[39m(\u001b[38;5;124m\"\u001b[39m\u001b[38;5;124mAinsi \u001b[39m\u001b[38;5;124m\"\u001b[39m \u001b[38;5;241m+\u001b[39m nom \u001b[38;5;241m+\u001b[39m \u001b[38;5;124m\"\u001b[39m\u001b[38;5;124m vous avez\u001b[39m\u001b[38;5;124m\"\u001b[39m \u001b[38;5;241m+\u001b[39m age \u001b[38;5;241m+\u001b[39m \u001b[38;5;124m\"\u001b[39m\u001b[38;5;124m ans.\u001b[39m\u001b[38;5;124m\"\u001b[39m)\n",
      "\u001b[1;31mTypeError\u001b[0m: unsupported operand type(s) for -: 'int' and 'str'"
     ]
    }
   ],
   "source": [
    "nom = input(\"Quel est votre nom ? \")\n",
    "annee = input(\"En quelle année êtes-vous né(e) ? \")\n",
    "# Complétez la suite\n",
    "age = 2022 - annee\n",
    "print(\"Ainsi \" + nom + \" vous avez\" + age + \" ans.\")\n",
    "\n",
    "#VOIR INTRO 2 POUR LA SUITE"
   ]
  }
 ],
 "metadata": {
  "kernelspec": {
   "display_name": "Python 3 (ipykernel)",
   "language": "python",
   "name": "python3"
  },
  "language_info": {
   "codemirror_mode": {
    "name": "ipython",
    "version": 3
   },
   "file_extension": ".py",
   "mimetype": "text/x-python",
   "name": "python",
   "nbconvert_exporter": "python",
   "pygments_lexer": "ipython3",
   "version": "3.10.7"
  }
 },
 "nbformat": 4,
 "nbformat_minor": 4
}
