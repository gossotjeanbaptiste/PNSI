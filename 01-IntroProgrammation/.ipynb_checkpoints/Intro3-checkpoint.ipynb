{
 "cells": [
  {
   "cell_type": "markdown",
   "id": "b2f5369c",
   "metadata": {},
   "source": [
    "# Introduction à la programmation (3ème partie)\n",
    "Nous avons écrit un programme qui calcule l'âge d'une personne à partir de son année de naissance.\n",
    "\n",
    "On a pu, par exemple, utiliser le code suivant :"
   ]
  },
  {
   "cell_type": "code",
   "execution_count": null,
   "id": "69c08770",
   "metadata": {},
   "outputs": [],
   "source": [
    "nom = input(\"Quel est votre nom ? \")\n",
    "annee = input(\"En quelle année êtes-vous né(e) ?\")\n",
    "# Complétez la suite\n",
    "if annee.isnumeric():\n",
    "    age = 2022 - int(annee)\n",
    "    if age > 0 and age <= 100 :\n",
    "        print(\"Ainsi, \" + nom + \", vous avez \" + str(age) + \" ans.\")\n",
    "    elif age <= 120 :\n",
    "        print(nom + \", vous avez \" + str(age) + \" ans. Etes-vous sûr(e) de ne pas avoir fait d'erreur ?\")\n",
    "    else:\n",
    "        print(nom + \", vous ne pouvez pas avoir \" + str(age) + \" ans.\")\n",
    "else:\n",
    "    print(\"La saisie n'est pas valide.\")"
   ]
  },
  {
   "cell_type": "markdown",
   "id": "76aa380f",
   "metadata": {},
   "source": [
    "D'accord, ça fonctionne, mais il y a quand même un léger problème : si la saisie n'est pas valide, le programme s'arrête et il faut tout relancer pour tout saisir à nouveau, y compris son nom.\n",
    "\n",
    "Il serait préférable de redemander de saisir l'année de naissance. Et on insiste jusqu'à ce que l'utilisateur ait enfin tapé un entier positif et rien d'autre (même un espace en début ou fin de saisie pose problème).\n",
    "\n",
    "> Bah, c'est pas compliqué. On fait un copier-coller du code pour redemander, non ?\n",
    "\n",
    "Le problème, c'est qu'on ne peut pas savoir à l'avance combien d'essais cela va prendre. La saisie sera sans doute correcte du premier coup. Dans certains cas, il faudra demander de corriger la saisie une seule fois. Mais dans de rares cas, il faudra insister jusqu'à ce que l'utilisateur enlève enfin ses moufles.\n",
    "\n",
    "> Alors on peut pas faire de copier-coller ?\n",
    "\n",
    "Ce n'est jamais une bonne idée de faire du copier-coller. En plus, ici, on ne sait pas du tout combien de fois on doit redemander.\n",
    "\n",
    "Heureusement, tout est prévu. On va avoir recours à une nouvelle notion :\n",
    "\n",
    "## Les boucles\n",
    "### 1, 2, 3 ou la boucle bornée\n",
    "Commençons par les boucles bornées.\n",
    "\n",
    "Dans la plupart des langages, ce type de boucle est associée au mot clé `for`. A l'origine, ce type de boucle utilise une variable servant de compteur. Ce compteur a une valeur de départ, une valeur finale et un incrément.\n",
    "\n",
    "En python, on utilise aussi le mot clé `for`, mais la notion de compteur peut être utilisée ou pas.\n",
    "\n",
    "Lorsque l'on veut utiliser un boucle `for` avec un compteur, on doit utiliser `range`. La manière la plus simple d'utiliser une boucle `for` est, par exemple :\n",
    "```python\n",
    "for i in range(10):\n",
    "```\n",
    "Dans cet exemple, la variable `i` va servir de compteur (on utilise le nom i en référence au suites mathématiques). Elle être initialisée à `0` pour le premier tour de boucle, puis elle va être incrémentée (augmentée de 1 à chaque tour). Au dernier tour de boucle, `i` vaudra 9 (10 - 1). On aura ainsi fait au total 10 tours de la boucle.\n",
    "\n",
    "Les deux points à la fin de la ligne du `for` indiquent que l'on va commencer un bloc de code, comme on l'a déjà vu avec `if`. C'est à nouveau l'indentation qui va déterminer quelle partie du code est dans la boucle et quelle partie vient après."
   ]
  },
  {
   "cell_type": "code",
   "execution_count": null,
   "id": "c4dd9785",
   "metadata": {},
   "outputs": [],
   "source": [
    "for i in range(10):\n",
    "    print(\"C'est le tour de boucle n°\" + str(i + 1))\n",
    "    print(\"      i vaut \" + str(i))\n",
    "print(\"Fin de la boucle\")\n",
    "print(\"i vaut \" + str(i))"
   ]
  },
  {
   "cell_type": "markdown",
   "id": "3185be45",
   "metadata": {},
   "source": [
    "Une autre manière d'utiliser `range` permet de faire des choses plus complexes avec le compteur. On peut ainsi utiliser la syntaxe : `range(debut, fin [, pas])`.\n",
    "\n",
    "Ainsi, on indique la première valeur du compteur, sa valeur de fin et le pas (de combien on fait varier le compteur). Il n'est pas obligatoire d'indiquer le pas (les crochets indiquent une valeur optionnelle). Si on ne précise rien, le pas sera de `1`.\n",
    "\n",
    "Attention, la valeur de fin n'est jamais atteinte par le compteur. Sa dernière valeur est toujours inférieure à la valeur de fin (ou supérieure si le pas est négatif).\n",
    "\n",
    "Utilisez la cellule suivante pour faire des tests pour voir l'évolution du compteur avec différentes valeurs :"
   ]
  },
  {
   "cell_type": "code",
   "execution_count": null,
   "id": "647bb61a",
   "metadata": {},
   "outputs": [],
   "source": [
    "for i in range(15, 28, 2):\n",
    "    print(i)"
   ]
  },
  {
   "cell_type": "markdown",
   "id": "d5e084eb",
   "metadata": {},
   "source": [
    "Entrainez-vous maintenant en formant un triangle de `#`.\n",
    "\n",
    "Vous connaissez déjà la concaténation des chaînes de caractères: `\"a\"+\"b\"` donne `\"ab\"`. On peut aussi utiliser l'opérateur `*` en multipliant une chaîne de caractères par un nombre entier. Ainsi `\"un\"*3` va donner `\"ununun\"`.\n",
    "\n",
    "Utilisez cela avec une boucle for pour dessiner un triangle comme ceci :\n",
    "```python\n",
    "#\n",
    "##\n",
    "###\n",
    "####\n",
    "```\n",
    "On veut que la dernière ligne du triangle fasse 15 caractères de long.\n",
    "\n",
    "Vous pouvez aussi trouver une variante utilisant seulement la concaténation."
   ]
  },
  {
   "cell_type": "code",
   "execution_count": null,
   "id": "e4ba6856",
   "metadata": {},
   "outputs": [],
   "source": [
    "for i in range(1,16):\n",
    "    print(\"#\"*int(i))"
   ]
  },
  {
   "cell_type": "markdown",
   "id": "8a67d432",
   "metadata": {},
   "source": [
    "Essayez de faire la même chose, mais avec la pointe du triangle vers le bas."
   ]
  },
  {
   "cell_type": "code",
   "execution_count": null,
   "id": "0809a41f",
   "metadata": {},
   "outputs": [],
   "source": [
    "for i in range(15,0,-1):\n",
    "    print(\"#\"*int(i))"
   ]
  },
  {
   "cell_type": "markdown",
   "id": "4f47f126",
   "metadata": {},
   "source": [
    "Pour terminer, utilisez une boucle for pour calculer la somme des entiers impairs de 5 à 101 (vous devriez trouver 2597)."
   ]
  },
  {
   "cell_type": "code",
   "execution_count": null,
   "id": "4b6e25a9",
   "metadata": {},
   "outputs": [],
   "source": [
    "somme = 0\n",
    "for i in range(5,102,2):\n",
    "    somme += i\n",
    "print(somme)"
   ]
  },
  {
   "cell_type": "markdown",
   "id": "3a4f698c",
   "metadata": {},
   "source": [
    "Pour finir, sachez qu'il existe une autre façon d'utiliser les boucles for en Python. Dans d'autres langages, on parle de boucles foreach, mais Python a d'une certaine manière fusionné les boucles for et foreach. Nous ne pouvons pas encore en parler car nous n'avons pas encore vu ce qu'est un tuple.\n",
    "\n",
    "### Tant que ou la boucle conditionnelle\n",
    "Les boucles for sont utiles dans certains cas, mais notre objectif était de demander à un utilisateur de répéter sa saisie **tant que** celle-ci n'est pas bonne. On ne peut pas savoir combien de tours de boucle cela va nécessiter. Il est même possible que l'utilisateur ne réussisse jamais à faire une saisie correcte.\n",
    "\n",
    "Il nous faut donc un type de boucle différent : une boucle que l'on recommence tant qu'une condition est vraie. Ce type de boucle utilise le mot clé `while`. Pour l'amorcer, rien de plus simple. Il suffit d'écrire :\n",
    "\n",
    "`while *condition* :` \n",
    "\n",
    "On écrit en-dessous le bloc de code qui s'exécutera en boucle.\n",
    "\n",
    "La condition est, comme nous l'avons déjà vu avec les `if`, quelque chose qui donne un booléen.\n",
    "\n",
    "Remarque : il serait stupide d'écrire `if True` car le bloc qui suivrait serait toujours exécuté comme si l'on n'avait pas mis de `if`. De même, avec `if False`, le bloc qui suivrait serait toujours ignoré. Dans le cas de `while True`, on obtient une boucle infinie dont on ne sort jamais. **Il ne faut surtout jamais faire cela! On ne pourrait pas arrêter le programme.** Certains programmeurs ont recours à de telles boucles et utilisent une instruction qui permet de \"casser\" la boucle si nécessaire. Cette façon de faire n'est pas correcte. Il existe toujours un moyen de coder la boucle proprement.\n",
    "\n",
    "> Et `while False` ? On peut ?\n",
    "\n",
    "Si vous voulez, mais comme `if False`, cela ignore le bloc de code qui suit. C'est donc sans intérêt.\n",
    "\n",
    "Pour illustrer le fonctionnement d'une boucle while, je vous propose un petit jeu :"
   ]
  },
  {
   "cell_type": "code",
   "execution_count": null,
   "id": "2db4f421",
   "metadata": {},
   "outputs": [],
   "source": [
    "rejouer = \"O\"\n",
    "while rejouer == \"O\":\n",
    "    print(\"Vous avez gagne.\")\n",
    "    rejouer = input(\"Voulez-vous rejouer (O/N) ? \").upper()\n",
    "print(\"Au revoir.\")"
   ]
  },
  {
   "cell_type": "markdown",
   "id": "b10d3085",
   "metadata": {},
   "source": [
    "Pour ne pas avoir de boucle infinie, il faut que ce qui se passe dans la boucle puisse rendre la condition fausse à un moment.\n",
    "\n",
    "> Mais qu'est-ce que ça change d'avoir une boucle infinie ?\n",
    "\n",
    "Votre ordinateur vous a déjà affiché : \"Ce programme ne répond pas\" ?\n",
    "\n",
    "> Oui.\n",
    "\n",
    "Ca se produit quand un programme passe un temps trop long sans répondre aux interactions de l'utilisateur. Il s'est peut-être embarqué dans une opération très longue qu'il finira par achever, ou bien il est entré dans une boucle infinie. Dans ce cas, le système d'exploitation peut \"tuer\" le programme pour éviter que ce dernier ne monopolise toutes les ressources de l'ordinateur (ce qui consomme aussi beaucoup d'énergie). Si on peut éviter de rentrer dans une boucle infinie, cela évite de nombreux problèmes (perte de données car le programme doit être arrêté sans avoir pu sauvegarder ses données, surconsommation d'énergie, usure du processeur, ...)\n",
    "\n",
    "Maintenant, reprenez le programme qui demande l'année de naissance. et faites en sorte de sécuriser la saisie en redemandant l'année de naissance tant qu'elle ne correspond pas à un entier positif."
   ]
  },
  {
   "cell_type": "code",
   "execution_count": null,
   "id": "0c278edd",
   "metadata": {},
   "outputs": [],
   "source": [
    "nom = input(\"Quel est votre nom ? \")\n",
    "annee = input(\"En quelle année êtes-vous né(e) ?\")\n",
    "# Complétez la suite\n",
    "while not annee.isnumeric():\n",
    "    print(\"Erreur\")\n",
    "    annee = input(\"En quelle année est vous né(e) ? \")\n",
    "\n",
    "age = 2022 - int(annee)\n",
    "    \n",
    "if age > 0 and age <= 100 : \n",
    "    print(\"Ainsi, \" + nom + \", vous avez \" + str(age) + \" ans.\")\n",
    "elif age <= 120 :\n",
    "    print(nom + \", vous avez \" + str(age) + \" ans. Etes-vous sûr(e) de ne pas avoir fait d'erreur ?\")\n",
    "else:\n",
    "    print(nom + \", vous ne pouvez pas avoir \" + str(age) + \" ans.\")"
   ]
  },
  {
   "cell_type": "markdown",
   "id": "367e17f7",
   "metadata": {},
   "source": [
    "### for ou while ?\n",
    "Il est toujours possible de faire une boucle for en utilisant une boucle while.\n",
    "\n",
    "Les deux codes ci-dessous sont équivalents:"
   ]
  },
  {
   "cell_type": "code",
   "execution_count": null,
   "id": "7a6cd954",
   "metadata": {},
   "outputs": [],
   "source": [
    "# Version boucle for:\n",
    "for i in range (5, 19, 2):\n",
    "    print(i)"
   ]
  },
  {
   "cell_type": "code",
   "execution_count": null,
   "id": "bc70875c",
   "metadata": {},
   "outputs": [],
   "source": [
    "# Version boucle while:\n",
    "i = 5\n",
    "while i < 19:\n",
    "    print(i)\n",
    "    i += 2"
   ]
  },
  {
   "cell_type": "markdown",
   "id": "d54162da",
   "metadata": {},
   "source": [
    "Il est un peu plus difficile en Python de faire une boucle while avec une boucle for, mais c'est possible. Dans certains langages, c'est assez facile.\n",
    "\n",
    "> Alors pourquoi on a deux types de boucles ?\n",
    "\n",
    "On utilise une boucle for lorsque le nombre de fois qu'elle va être exécutée ne dépend pas de ce qui se passe dans la boucle. On sait donc combien de fois on en fera le tour avant même d'avoir commencé.\n",
    "\n",
    "On utilise une boucle while quand on ne sait pas, avant le premier tour de boucle, combien de fois il faudra la recommencer.\n",
    "\n",
    "### Et maintenant ?\n",
    "On a *presque* tout ce qu'il nous faut pour commencer à écrire nos programmes.\n",
    "\n",
    "On vient de trouver le moyen de sécuriser un input pour s'assurer que l'utilisateur a bien saisi un entier. Ca peut être utile  à plusieurs endroits d'un même programme. Ca peut même être utile dans plusieurs programmes différents. Plutôt que de réécrire toujours le même morceau de code un peu partout, on va apprendre à écrire une :\n",
    "\n",
    "## Fonction\n",
    "f(x), ça vous rappelle quelque chose ?\n",
    "\n",
    "f est une fonction. On lui donne la valeur de x qui est l'argument de cette fonction, et elle nous donne un résultat en lien avec ce x. On peut passer n'importe quelle valeur en argument: f(5), f(16), f(42), ...\n",
    "\n",
    "Certaines fonctions prennent plusieurs arguments. Ainsi, en physique, on peut modéliser la température dans une pièce comme étant une fonction de la position selon trois axes formants un repère d'espace : T(x, y, z)\n",
    "\n",
    "En informatique, une fonction va utiliser un certain nombre d'arguments et nous renvoyer *quelque chose* (ou des fois rien, mais dans ce cas, il se passera quand même quelque chose).\n",
    "\n",
    "### Définir une fonction\n",
    "Pour créer une fonction en Python, on utilise le mot clé `def`. Ensuite, on indique le nom de la fonction. On indique ensuite entre parenthèse les noms de variables que porteront les arguments à l'intérieur de la fonction. Enfin, on termine la ligne par `:` et on place le bloc de code de la fonction en-dessous (en l'indentant comme tous les blocs de code).\n",
    "\n",
    "Quand on veut que la fonction renvoie quelque chose, on utilise le mot clé `return` suivi de ce que l'on veut renvoyer. Attention, après ce return, la fonction est terminée. S'il reste du code dans la suite, il ne sera pas exécuté.\n",
    "\n",
    "Voici un exemple :"
   ]
  },
  {
   "cell_type": "code",
   "execution_count": null,
   "id": "ca852799",
   "metadata": {},
   "outputs": [],
   "source": [
    "def bonAnniversaire(prenom, nbBougies):\n",
    "    message = \"Bon anniversaire \"\n",
    "    message = message + prenom\n",
    "    message += \", voici tes bougies : \"    # L'opérateur += fonctionne aussi pour la concaténation des chaînes de caractères\n",
    "    # On pourrait écrire 'bougies = \"i\" * nbBougies', mais on va utiliser une boucle for et une concaténation.\n",
    "    bougies = \"\" # chaîne vide\n",
    "    for n in range(nbBougies): # Il n'est pas obligatoire d'appeler le compteur i\n",
    "        bougies += \"i\"         # chaque i représente une bougie\n",
    "    message += bougies\n",
    "    return message\n",
    "    print(\"Vous ne lirez jamais ca.\")   # Cette ligne est dans la définition de la fonction, mais ne sera jamais exécutée.\n",
    "\n",
    "print(\"Bravo, vous avez defini votre premiere fonction.\")"
   ]
  },
  {
   "cell_type": "markdown",
   "id": "59d61646",
   "metadata": {},
   "source": [
    "Essayez de comprendre ce que fait cette fonction.\n",
    "\n",
    "> Elle fait pas grand chose. Ca affiche juste \"Bravo...\"\n",
    "\n",
    "Pour l'instant, on a juste défini la fonction. On a expliqué à Python ce qu'il devra faire quand on voudra utiliser la fonction. Le code ne sera exécuté qu'à ce moment-là. Le \"Bravo...\" n'est pas dans le code de la fonction. Je l'ai mis pour que l'on voie que l'on est sorti de la définition de la fonction pour reprendre la suite du code. De plus, cela permet de voir que l'on a bien exécuté la cellule ci-dessus. Sans cela, la cellule suivante va provoquer une erreur car la fonction ne serait pas définie.\n",
    "\n",
    "### Appeler une fonction\n",
    "Quand on veut utiliser une fonction, on écrit son nom, puis entre parenthèses on indique les valeurs des arguments.\n",
    "\n",
    "Démonstration :"
   ]
  },
  {
   "cell_type": "code",
   "execution_count": null,
   "id": "4ca68824",
   "metadata": {},
   "outputs": [],
   "source": [
    "texte = bonAnniversaire(\"Riri\", 8)\n",
    "print(texte)"
   ]
  },
  {
   "cell_type": "markdown",
   "id": "70479349",
   "metadata": {},
   "source": [
    "On peut aussi utiliser la fonction directement dans le print (qui est une autre fonction) :"
   ]
  },
  {
   "cell_type": "code",
   "execution_count": null,
   "id": "6b1b066a",
   "metadata": {},
   "outputs": [],
   "source": [
    "print(bonAnniversaire(\"Fifi\", 9))"
   ]
  },
  {
   "cell_type": "markdown",
   "id": "099a20aa",
   "metadata": {},
   "source": [
    "On peut aussi utiliser des variables pour les arguments et même des résultats de calculs :"
   ]
  },
  {
   "cell_type": "code",
   "execution_count": null,
   "id": "8ce8e3a5",
   "metadata": {},
   "outputs": [],
   "source": [
    "nom = \"Loulou\"\n",
    "a = 3\n",
    "texte = bonAnniversaire(nom, a * 4)\n",
    "print(texte)\n"
   ]
  },
  {
   "cell_type": "markdown",
   "id": "63df5428",
   "metadata": {},
   "source": [
    "> Mais m'sieur, le premier argument s'appelle prenom et pas nom. J'suis perdu.\n",
    "\n",
    "Revenons un moment sur les variables. Il est temps de parler de :\n",
    "\n",
    "### La portée des variables\n",
    "\n",
    "> On va faire de la musique ?\n",
    "\n",
    "Nan, cela veut dire que les noms de variables existent sur une certaine étendue du programme. Si chaque nom de variable existait sur toute l'étendue du programme, on arriverait vite à cours de noms. Heureusement, les noms de variables ne sont reconnus que sur une certaine étendue. Cela permet de réutiliser des noms à d'autres endroits pour désigner autre chose.\n",
    "\n",
    "Quand vous définissez une fonction, les noms des variables en argument sont valables dans le bloc de code de la fonction. Si une autre variable porte le même nom dans le programme principal (on parle de variable globale), alors elle est ignorée le temps de l'exécution de la fonction.\n",
    "\n",
    "Si une variable est créée (par une affectation) dans une fonction, elle n'existe que dans cette fonction et est détruite après l'appel à la fonction. Si cette variable porte le même nom qu'une variable de l'espace global, alors tout se passe comme s'il s'agissait de deux variables différentes. il existe un moyen de demander à utiliser la variable de l'espace global, mais ce n'est pas une très bonne idée.\n",
    "\n",
    "Si une fonction se contente de lire le contenu d'une variable globale, elle y a accès, sauf si une variable portant le même nom a été créée dans la fonction. Dans ce cas, c'est la variable créée dans la fonction qui est lue.\n",
    "\n",
    "Pour illustrer cela, on va regarder ce qui se passe dans la cellule suivante :"
   ]
  },
  {
   "cell_type": "code",
   "execution_count": null,
   "id": "d1683d50",
   "metadata": {},
   "outputs": [],
   "source": [
    "def fonctionBidon(x, y):\n",
    "    a = 1\n",
    "    x = 2\n",
    "    c = 8\n",
    "    return b\n",
    "\n",
    "x = 3\n",
    "b = 4\n",
    "c = 7\n",
    "z = fonctionBidon(5, 6)\n",
    "# Que va-t-il s'afficher ?\n",
    "print(x)\n",
    "print(z)\n",
    "print(c)\n",
    "print(b)\n",
    "#print(a) #erreur\n",
    "print(y)  #erreur\n"
   ]
  },
  {
   "cell_type": "markdown",
   "id": "d9515e8e",
   "metadata": {},
   "source": [
    "> C'est un peu compliqué.\n",
    "\n",
    "Oui, mais si vous ne comptez pas sur les variables globales, c'est plus simple : une variable n'est reconnue que dans la fonction qui l'utilise. Nous verrons qu'il est préférable de ne pas avoir de variables ni de code dans l'espace global. Le seul code que nos fichiers py contiendront dans l'espace global sera pour lancer une fonction que nous considèrerons comme la fonction principale.\n",
    "\n",
    "Si rien n'est dans l'espace global, alors tous les noms que nous utiliserons n'auront forcément cours que dans l'espace de la fonction qui les a créés.\n",
    "\n",
    "> Mais si notre fonction doit avoir accès à une variable créée dans une autre fonction ?\n",
    "\n",
    "Dans ce cas, on passe le contenu de cette variable en argument à la fonction qui l'utilise. Cet argument peut avoir un autre nom que la variable de départ, ou avoir le même nom. Pour ce qui se passe dans la fonction appelée de toute façon, ce sera considéré comme un autre nom (voir le `x` dans la cellule ci-dessus).\n",
    "\n",
    "En maintenant le cloisonnement, on peut recycler des noms de variables et ne pas avoir à se soucier des interférences. Le but est de pouvoir comprendre ce qui se passe dans une fonction sans avoir à se soucier de ce qu'il y a autour dans l'espace global ou les autres fonctions.\n",
    "\n",
    "> Mais si une fonction doit connaitre beaucoup de variables, il faut toutes les passer en argument ? Genre, s'il y en a 1000 ?\n",
    "\n",
    "Oui, mais il est possible de s'organiser. Nous verrons que certains types de variables peuvent contenir plusieurs choses. Il est donc possible de regrouper ces 1000 variables en une seule. En terminale, la notion de programmation orientée objet permet d'avoir comme des sous-variables dans une variable. Cette année, nous verrons d'autres façons de faire.\n",
    "\n",
    "> C'est quand même un peu extrême de tout cloisonner comme ça.\n",
    "\n",
    "Un autre extrême est d'avoir tout dans l'espace global. Dans ce cas, il faut trouver des noms différents à toutes nos variables. On peut vite arriver à court d'imagination. En Python, on trouvera parfois des variables globales. On est un peu plus laxiste sur le sujet. De même, si on programme une carte arduino en C, on est amené aussi à utiliser des variables globales, alors que généralement en C, on évite rigoureusement ce genre de choses.\n",
    "\n",
    "Il est plus sain et plus sûr d'apprendre à éviter les variables globales. Il faut se creuser un peu la tête au début, mais une fois qu'on a pris les bonnes habitudes, cela vient tout naturellement.\n",
    "\n",
    "### Et maintenant, inputEntier\n",
    "Maintenant que vous savez écrire une fonction, reprenons notre code pour redemander l'année de naissance. Le but est d'écrire une fonction `inputEntier` dont le but est de poser une question comme avec `input` mais d'insister jusqu'à ce qu'on ait saisi un nombre entier positif.\n",
    "\n",
    "On va parler prototypage : le prototype d'une fonction décrit ce que cette fonction prend en argument. Dans le cas d'`inputEntier`, on va dire qu'elle doit recevoir deux choses : le texte à afficher à la première saisie et le texte à afficher lorsqu'il faut recommencer la saisie.\n",
    "\n",
    "Pour le deuxième argument, il est possible de le rendre optionnel. Par exemple, dans le code suivant :\n",
    "```python\n",
    "def fonction(argument1, argument2 = 1):\n",
    "```\n",
    "la fonction prend deux arguments. Il faut donc l'appeler de la manière suivante :\n",
    "```python\n",
    "fonction(5, 8)\n",
    "```\n",
    "Dans ce cas, `argument1` vaudra 5 et `argument2` vaudra 8. Cependant, on peut aussi l'appeler par :\n",
    "```python\n",
    "fonction(5)\n",
    "```\n",
    "Dans ce cas, `argument1` vaudra 5 et `argument2` vaudra 1 car c'est la valeur par défaut de `argument2`. \n",
    "Tous les arguments qui n'ont pas de valeur par défaut doivent être placé au début. Quand un argument a une valeur par défaut, tous les arguments suivants doivent aussi en avoir une.\n",
    "\n",
    "Dans le cas de `inputEntier`, on attend deux arguments de type `str`. Si la question à poser lors d'une mauvaise saisie est la même que celle à poser au départ, on peut imaginer que l'argument par défaut pour la 2ème question sera une chaîne vide. Si on détecte que la 2ème question est une chaîne vide, alors la 1ère question sera réutilisée.\n",
    "\n",
    "Notre fonction renverra le nombre saisi en tant que `int`.\n",
    "\n",
    "C'est parti, codez :"
   ]
  },
  {
   "cell_type": "code",
   "execution_count": 2,
   "id": "b2b3a260",
   "metadata": {},
   "outputs": [
    {
     "name": "stdout",
     "output_type": "stream",
     "text": [
      "Quel nombre ? zertyuio\n",
      "On a dit un nombre : quel nombre ?? 23456\n"
     ]
    },
    {
     "data": {
      "text/plain": [
       "23456"
      ]
     },
     "execution_count": 2,
     "metadata": {},
     "output_type": "execute_result"
    }
   ],
   "source": [
    "def inputEntier(question1 = \"\", question2 = \"\"):\n",
    "    nombre = input(question1) #demande un numéro\n",
    "    while not nombre.isnumeric():\n",
    "        nombre = input(question2) #si saisie non valide alors répeté la question et récuperer le numéro \n",
    "    return int(nombre)\n",
    "inputEntier(\"Quel nombre ? \", \"On a dit un nombre : quel nombre ?? \") #appelle de la fonction"
   ]
  }
 ],
 "metadata": {
  "kernelspec": {
   "display_name": "Python 3 (ipykernel)",
   "language": "python",
   "name": "python3"
  },
  "language_info": {
   "codemirror_mode": {
    "name": "ipython",
    "version": 3
   },
   "file_extension": ".py",
   "mimetype": "text/x-python",
   "name": "python",
   "nbconvert_exporter": "python",
   "pygments_lexer": "ipython3",
   "version": "3.10.7"
  }
 },
 "nbformat": 4,
 "nbformat_minor": 5
}
