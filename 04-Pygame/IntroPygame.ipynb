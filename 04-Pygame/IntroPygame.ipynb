{
 "cells": [
  {
   "cell_type": "markdown",
   "id": "fc754e76",
   "metadata": {},
   "source": [
    "# Amusons-nous avec pygame\n",
    "Vous en avez assez de l'austérité de la ligne de commande ?\n",
    "> Ouais\n",
    "\n",
    "Vous voulez développer vos compétences en programmation de façon ludique ?\n",
    "> Ouais\n",
    "\n",
    "Bon, alors on va faire une petite pause dans le programme et apprendre à se servir de la bibliothèque pygame.\n",
    "\n",
    "## Présentation de la bibliothèque\n",
    "Pygame est une bibliothèque pour python conçue dans le but de faciliter le développement de jeu. Elle s'appuie sur une bibliothèque C appelée SDL dont elle enrichi les fonctionnalités.\n",
    "\n",
    "Avec pygame, vous allez pouvoir:\n",
    "- ouvrir une fenêtre graphique\n",
    "- afficher ce que vous voulez dans cette fenêtre\n",
    "- interagir avec l'utilisateur en prenant connaissance de ce qu'il fait au clavier, à la souris, au joystick...\n",
    "- émettre des sons (bruitages et/ou musiques)\n",
    "- et bien d'autres choses encore\n",
    "\n",
    "Un petit coup d'oeil sur la [page d'accueil](https://www.pygame.org/news) vous donnera une idée de différents projets développés avec pygame.\n",
    "\n",
    "Nous n'apprendrons qu'une partie de la gestion des graphismes ainsi que des interactions avec l'utilisateur (ce qu'on appelle les évènements). Pour tout le reste, il faudra vous débrouiller tout seul et faire preuve d'imagination. Nous ne traiterons pas la partie sons. A vous d'approfondir le sujet si vous voulez en inclure dans vos productions.\n",
    "\n",
    "## Votre meilleure amie : la doc\n",
    "Il serait trop long de faire un cours complet sur pygame. Les fonctionnalités sont trop nombreuses et évoluent sans cesse.\n",
    "\n",
    "L'important est de comprendre certaines bases. Ensuite, quand on a besoin de quelque chose en particulier, on apprend en s'appuyant sur la documentation.\n",
    "\n",
    "Pour voir la doc, [ça se passe par ici](https://www.pygame.org/docs).\n",
    "\n",
    "> Beuh, c'est tout en anglais.\n",
    "\n",
    "Oui, mais si vous regardez bien, il y a un tuto en coréen et un autre en espagnol.\n",
    "\n",
    "> ...\n",
    "\n",
    "Bon d'accord, c'est pas drôle. Mais vous devez quand même avoir compris depuis le temps qu'en programmation, il faut comprendre un minimum l'anglais.\n",
    "\n",
    "Rassurez-vous, on va voir ensemble de quoi démarrer et on expliquera un peu comment faire pour utiliser la documentation.\n",
    "\n",
    "Gardez juste le lien vers la doc précieusement (par exemple en le mettant dans vos marques pages (Firefox), ou favoris(Edge), ou je ne sais pas comment votre navigateur préféré appelle ça).\n",
    "\n",
    "Vous êtes prêts ? Alors c'est parti !\n",
    "\n",
    "## Importer la bibliothèque\n",
    "Comme avec toute bibliothèque, pour se servir des fonctionnalités de pygame, il faut importer la bibliothèque :"
   ]
  },
  {
   "cell_type": "code",
   "execution_count": 1,
   "id": "aa4ff9b8",
   "metadata": {},
   "outputs": [
    {
     "name": "stdout",
     "output_type": "stream",
     "text": [
      "pygame 2.1.3.dev8 (SDL 2.0.22, Python 3.11.0)\n",
      "Hello from the pygame community. https://www.pygame.org/contribute.html\n"
     ]
    }
   ],
   "source": [
    "import pygame"
   ]
  },
  {
   "cell_type": "markdown",
   "id": "c0500dbf",
   "metadata": {},
   "source": [
    "On a droit à un petit message d'accueil dans la ligne de commande python. On peut voir le numéro de version de pygame que nous utilisons. On peut aussi voir notre numéro de version de python. A part ça, rien d'extraordinaire.\n",
    "\n",
    "Si vous vous souvenez du cours sur l'importation de bibliothèques, vous savez que l'on va devoir commencer tout les appels à des fonctions de cette bibliothèque par `pygame.`. Au moins, on saura quand on utilise des fonctions de pygame.\n",
    "\n",
    "Cependant, nous aurons recours à quelques constantes intégrées dans pygame (code de touches du clavier, drapeaux pour configurer différentes choses, ...). Toutes ces constantes sont créées dans le module `locals` de pygame. Par exemple, la flèche vers la gauche est associée à un code de touche que l'on ne veut surtout pas avoir à mémoriser (1073741904 si vous voulez tout savoir). On a donc associé le code de cette touche à une variable nommée `K_LEFT`.\n",
    "\n",
    "**ATTENTION :** Les programmeurs ont pour convention d'utiliser des noms en majuscule pour désigner des constantes. La notion de constante n'existe pas en python. Donc `K_LEFT` reste une variable que l'on peut modifier. Il ne faut surtout pas s'amuser à le faire. D'une manière général, si vous voyez un nom de variable écrit tout en majuscule, c'est le signe que vous devez vous interdire de modifier son contenu.\n",
    "\n",
    "Pour l'instant, pour avoir accès à ces *constantes*, il faut écrire quelque chose comme `pygame.K_LEFT`. Cela peut vite devenir pénible. Il est donc courant d'importer ces constantes en ajoutant :"
   ]
  },
  {
   "cell_type": "code",
   "execution_count": 2,
   "id": "a1fa8cd6",
   "metadata": {},
   "outputs": [],
   "source": [
    "from pygame.locals import *"
   ]
  },
  {
   "cell_type": "markdown",
   "id": "b0cc280c",
   "metadata": {},
   "source": [
    "Si ça vous amuse, vous pouvez vérifier le code de la touche en affichant la valeur de `K_LEFT`:"
   ]
  },
  {
   "cell_type": "code",
   "execution_count": 3,
   "id": "027dbc9d",
   "metadata": {},
   "outputs": [
    {
     "name": "stdout",
     "output_type": "stream",
     "text": [
      "1073741904\n"
     ]
    }
   ],
   "source": [
    "print(K_LEFT)"
   ]
  },
  {
   "cell_type": "markdown",
   "id": "d8fb080d",
   "metadata": {},
   "source": [
    "## Initialiser pygame\n",
    "Pour utiliser pygame, il est nécessaire de lui demander de démarrer. On utilise pour cela la fonction `init`. Cette fonction ne prend pas d'argument."
   ]
  },
  {
   "cell_type": "code",
   "execution_count": 4,
   "id": "cf89529b",
   "metadata": {},
   "outputs": [
    {
     "data": {
      "text/plain": [
       "(5, 0)"
      ]
     },
     "execution_count": 4,
     "metadata": {},
     "output_type": "execute_result"
    }
   ],
   "source": [
    "pygame.init()"
   ]
  },
  {
   "cell_type": "markdown",
   "id": "e3decb17",
   "metadata": {},
   "source": [
    "Cette fonction renvoi un `tuple` (on en parlera plus tard). La première valeur représente le nombre de modules correctement initialisés et la seconde le nombre de modules que l'on a pas réussi à démarrer.\n",
    "\n",
    ">Ca sert à quoi?\n",
    "\n",
    "Pour le moment, ça ne sert pas à grand chose de savoir si tout a été initialisé ou pas. Sur PC, il est très probable que tout fonctionne. Si un jour, vous utilisez un programme avec pygame sur une autre machine, il est possible que des modules ne soient pas initialisables. Quand vous en serez à ce niveau là, vous n'aurez sans doute plus besoin d'aide pour savoir comment tirer parti de ce que renvoi la fonction `init`. Généralement, on ne se soucie pas de ce qu'elle renvoi.\n",
    "\n",
    "## Votre première fenêtre\n",
    "Pour ouvrir une fenêtre, on utilise la fonction `set_mode` du module `display` de pygame.\n",
    "\n",
    "Cette fonction prend en argument : \n",
    "- la taille de la fenêtre sous forme d'une `list` ou d'un `tuple` de deux entiers représentant, dans l'ordre, la largeur et la hauteur de la fenêtre en pixel.\n",
    "- des drapeaux (flags). Le plus notable étant peut-être RESIZABLE qui permet de créer une fenêtre que l'on peut redimensionner. Attention: dans ce cas, il faudra rappeler `set_mode` chaque fois qu'un redimensionnement a lieu. Je vous déconseille cette option dans un premier temps. Il existe aussi le drapeau FULLSCREEN. **NE L'UTILISEZ PAS.** Votre fenêtre passerai en plein écran et tant que nous n'avons pas vu comment lire ce qu'il se passe au clavier, vous n'aurez aucun moyen de quitter le programme. Vous serez alors sans doute contraint d'éteindre brutalement votre PC et de le relancer.\n",
    "- d'autres choses que nous n'aborderons pas ici (profondeur des couleurs, écran concerné, synchronisation verticale).\n",
    "\n",
    "La fonction renvoi ce que pygame appelle une `Surface`, c'est-à-dire une zone dans laquelle on peut dessiner. Bien qu'il soit possible de retrouver cette `Surface` à l'aide d'une autre fonction, il est recommandé de la stocker dans une variable qui nous permettra de manipuler le contenu de la fenêtre. Pour faire dans l'original, cette variable sera appelée `fenetre`.\n",
    "\n",
    "On essaye ?"
   ]
  },
  {
   "cell_type": "code",
   "execution_count": 5,
   "id": "bcedc10a",
   "metadata": {},
   "outputs": [],
   "source": [
    "fenetre = pygame.display.set_mode([1000,600])"
   ]
  },
  {
   "cell_type": "markdown",
   "id": "8105fbf7",
   "metadata": {},
   "source": [
    "Zut, on a planté le noyau.\n",
    "\n",
    "C'est normal: on a ouvert une fenêtre graphique, mais notre programme s'arrête là. Le système d'exploitation n'aime pas trop avoir une fenêtre ouverte liée à un programme arrêté. Il va falloir faire faire des choses à notre programme. On ne peut pas se permettre de rentrer dans une boucle infinie qui calculerait sans fin un truc inutile juste pour occuper notre programme. Ca pomperait les resources de l'ordinateur et le système d'exploitation n'aimerait pas non plus.\n",
    "\n",
    "En plus, le notebook jupyter ne va pas être très adapté pour continuer. La ligne de commande python le sera encore moins.\n",
    "On va plutôt écrire un fichier python avec notre éditeur de texte favori (Geany?)\n",
    "\n",
    "A partir d'ici, il ne faudra plus exécuter les cellules du notebook mais copier le code dans un fichier python.\n",
    "\n",
    "On va faire les choses bien et utiliser une fonction `main` dans notre code.\n",
    "\n",
    "**SUPER IMPORTANT AVANT D'ALLER PLUS LOIN:** Vous pouvez appeler votre fichier python comme vous voulez, mais surtout, **il ne faut pas l'appeler `pygame.py`**\n",
    "\n",
    "Pour l'instant, notre programme devrait contenir ça :"
   ]
  },
  {
   "cell_type": "code",
   "execution_count": null,
   "id": "37ad7cb9",
   "metadata": {},
   "outputs": [],
   "source": [
    "#!/usr/bin/env python\n",
    "# -*- coding: utf-8 -*-\n",
    "\n",
    "import pygame\n",
    "from pygame.locals import *\n",
    "\n",
    "def main():\n",
    "\tpygame.init()\n",
    "\tfenetre = pygame.display.set_mode([1000,600])\n",
    "\treturn 0\n",
    "\n",
    "if __name__ == '__main__':\n",
    "\tmain()"
   ]
  },
  {
   "cell_type": "markdown",
   "id": "15b060e6",
   "metadata": {},
   "source": [
    "Si vous exécutez ce programme, la fenêtre va s'ouvrir et se refermer aussitôt.\n",
    "\n",
    "En effet, notre programme appelle la fonction `main` à la ligne 13. Dans cette fonction, après avoir ouvert la fenêtre à la ligne 9, on quitte la fonction par un `return` à la ligne 10 et le programme est ensuite terminé.\n",
    "\n",
    "Il faut maintenir notre programme en action en lui donnant des choses à faire. On va donc rentrer dans une boucle pour le maintenir occupé.\n",
    "\n",
    "Quand est-ce qu'on arrête la boucle ? Quand on a envie de quitter le programme.\n",
    "\n",
    "Comment on le sait ? Il faut se renseigner sur ce que veut faire l'utilisateur.\n",
    "\n",
    "## Les évènements\n",
    "Un évènement est quelque chose qui va émaner d'une action de l'utilisateur :\n",
    "- l'utilisateur appuie sur une touche du clavier: c'est un évènement\n",
    "- l'utilisateur relâche une touche du clavier: c'est un évènement aussi (mais pas le même)\n",
    "- il bouge la souris: encore un évènement\n",
    "- il fait un appui sur un bouton de la souris: pareil\n",
    "- il relâche ce bouton: c'est un autre évènement (un clic est donc une succession de deux évènements)\n",
    "- tout ce qui se passe au niveau du joystick est un évènement\n",
    "- redimensionner la fenêtre (quand c'est possible), c'est un évènement.\n",
    "\n",
    "L'évènement le plus simple, le plus évident et le plus incontournable dans la vie d'un programme, c'est celui que l'on\n",
    "déclenche en cliquant sur la petite croix en haut à droite de la fenêtre pour fermer le programme.\n",
    "C'est l'évènement de type `QUIT`.\n",
    "\n",
    "La liste précédente n'est pas complète. Il y a encore des évènements dont on a pas parlé. Vous vous rendez compte qu'il se passe plein de choses à tout moment.\n",
    "\n",
    "Dans tout programme, il y a une étape dans laquelle on va chercher à traiter les évènements qui ont eu lieu depuis la dernière fois qu'on l'a fait.\n",
    "\n",
    "Pour cela, on utilise la fonction `get` du module `event` de pygame.\n",
    "\n",
    "Nous l'utiliserons sans argument (mais elle en accepte quelques uns). Cette fonction renvoi une `list` de tous les évènements qui ont eu lieu depuis la dernière fois qu'on l'a appelée. Il faut ensuite traiter chaque évènement de la liste en regardant s'il nous intéresse ou pas et en agissant en conséquence.\n",
    "\n",
    "On a donc besoin d'une boucle principale dans laquelle tourne notre programme jusqu'à ce qu'on décide de l'arrêter : c'est donc une boucle `while`.\n",
    "\n",
    "A l'intérieur de cette boucle, on utilise une boucle `for` pour analyser tous les évènements de la `list` générée par `pygame.event.get()`\n",
    "\n",
    "Voici à quoi ressemble le programme:"
   ]
  },
  {
   "cell_type": "code",
   "execution_count": 3,
   "id": "60478483",
   "metadata": {},
   "outputs": [],
   "source": [
    "#!/usr/bin/env python\n",
    "# -*- coding: utf-8 -*-\n",
    "\n",
    "import pygame\n",
    "from pygame.locals import *\n",
    "\n",
    "def main():\n",
    "\tpygame.init()\n",
    "\tfenetre = pygame.display.set_mode([1000,600])\n",
    "\tcontinuer = True\t\t# Variable pour contrôler la boucle principale\n",
    "\t\n",
    "\twhile continuer:\t\t# Entrée dans la boucle principale\n",
    "\t\t# Boucle de gestion des évènements:\n",
    "\t\tfor evenement in pygame.event.get():\n",
    "\t\t\tif evenement.type == QUIT:\t\t\t# On a cliqué sur la croix pour fermer la fenêtre\n",
    "\t\t\t\tcontinuer = False\t\t\t\t# on va donc sortir de la boucle principale\n",
    "\n",
    "\t\t# Mise à jour de l'état des données du programme (le modèle du programme)\n",
    "\t\t\n",
    "\t\t# Mise à jour de l'affichage (les vues du programme)\n",
    "\t\n",
    "\t# Sortie de la boucle principale\n",
    "\tpygame.quit() \t# Nécessaire pour fermer proprement pygame\n",
    "\treturn 0\n",
    "\n",
    "if __name__ == '__main__':\n",
    "\tmain()\n"
   ]
  },
  {
   "cell_type": "markdown",
   "id": "25b24172",
   "metadata": {},
   "source": [
    "Cette fois, la fenêtre reste ouverte sans que rien d'anormal n'ait lieu. Le système d'exploitation n'a pas l'impression que le programme ne répond pas.\n",
    "\n",
    "En apparence, le programme ne fait rien. En réalité, il guette inlassablement un clic sur la croix pour fermer la fenêtre. Quand cela arrive, on modifie le contenu de la variable `continuer` de manière à sortir de la boucle principale. On pourrait très bien demander une confirmation à l'utilisateur pour savoir s'il veut vraiment quitter le programme. On pourrait même ne pas réagir à l'évènement et la fenêtre resterait ouverte.\n",
    "\n",
    "Une fois que l'on quitte la boucle principale, on peut encore faire des choses. Il est recommandé d'utiliser la fonction `quit` de pygame pour le fermer proprement (voir ligne 23). Sans cela, il est possible que la fermeture du programme provoque des problèmes (c'est le cas, si vous utilisez edupython pour lancer le programme. Sans cette ligne, edupython peut planter).\n",
    "\n",
    "Si on programme un jeu qui nécessite une sauvegarde pour reprendre la partie en cours, c'est par exemple dans cette zone après la boucle principale que l'on va sauvegarder les données sur le disque dur.\n",
    "\n",
    "Vous remarquerez les commentaires des lignes 18 et 20. Ils marquent une portion de la boucle principale que nous allons remplir.\n",
    "\n",
    "La boucle principale d'un programme contient 3 parties:\n",
    "- la boucle de gestion des évènements: il s'agit de savoir ce que l'utilisateur veut que l'on face. De manière générale, on peut parler des **contrôles**.\n",
    "- la mise à jour des données décrivant l'état du programme. L'ensemble de ces données correspondant au **modèle** du programme.\n",
    "- la mise à jour de l'affichage. C'est ce qu'on appelle les **vues** du programme.\n",
    "\n",
    "Cette manière d'organiser votre boucle principale est une première approche de l'architecture MVC (pour Modèle-Vues-Contrôles). Cette architecture de programmation est un concept d'organisation d'un programme permettant d'écrire des programmes évolutifs et adaptables.\n",
    "\n",
    "Imaginons que vous écriviez un RPG. Les données caractéristiques du jeu (HP des personnages, positions, inventaires, etc...) sont contenues dans le modèle du programme.\n",
    "\n",
    "On peut imaginer différentes vues pour ce même modèle:\n",
    "- on peut faire un jeu en art ascii avec, pour [représenter les personnages et les décors des caractères dans une fenêtre de ligne de commande](https://fr.wikipedia.org/wiki/Roguelike).\n",
    "- on peut utiliser de [jolis graphismes en 2D](https://www.gamekult.com/jeux/final-fantasy-i-ii-dawn-of-souls-3050610629/images.html)\n",
    "- on peut aussi utiliser [un rendu en 3D](https://www.gamekult.com/jeux/wild-arms-3-3050695421/images.html)\n",
    "\n",
    "Les contrôles peuvent dépendre des vues. Mais si on organise bien son programme, le même modèle peut être utilisé sans aucun changement avec toutes les vues que l'on peut imaginer. On peut même imaginer d'utiliser plusieurs vues différentes simultanément avec le même modèle.\n",
    "\n",
    "> Ouais, enfin, c'est pas ouf. On a ouvert une fenêtre noire et on peut rien faire d'autre que la déplacer ou la fermer.\n",
    "\n",
    "On y vient.\n",
    "\n",
    "Maintenant on va dessiner dans notre fenêtre.\n",
    "\n",
    "## Les bases du dessin\n",
    "Direction [la doc du module draw](https://www.pygame.org/docs/ref/draw.html).\n",
    "\n",
    "Ce module contient toutes les fonctions pour dessiner dans une `Surface`.\n",
    "\n",
    "On peut, par exemple, utiliser la fonction `circle` pour dessiner un cercle.\n",
    "\n",
    "Elle prend en argument:\n",
    "- la `Surface` dans laquelle dessiner (on dessinera dans la `Surface` de notre fenêtre)\n",
    "- la couleur du cercle: soit on utilise le type `Color` de pygame, soit un tuple de 3 ou 4 valeurs (Rouge, Vert, Bleu ou Alpha optionnel), soit une valeur d'un entier codant une couleur sur 24 bits (le sélecteur de couleur de Geany est utile. Il suffit juste de remplacer le # devant la valeur de la couleur par 0x)\n",
    "- le centre du cercle: sous forme d'un tuple de 2 int (x, y)\n",
    "- le rayon du cercle: sous forme d'un int\n",
    "\n",
    "Dans la mise à jour de l'affichage, on peut donc rajouter:"
   ]
  },
  {
   "cell_type": "code",
   "execution_count": 4,
   "id": "7c901d65",
   "metadata": {},
   "outputs": [
    {
     "ename": "NameError",
     "evalue": "name 'fenetre' is not defined",
     "output_type": "error",
     "traceback": [
      "\u001b[1;31m---------------------------------------------------------------------------\u001b[0m",
      "\u001b[1;31mNameError\u001b[0m                                 Traceback (most recent call last)",
      "Cell \u001b[1;32mIn [4], line 1\u001b[0m\n\u001b[1;32m----> 1\u001b[0m pygame\u001b[38;5;241m.\u001b[39mdraw\u001b[38;5;241m.\u001b[39mcircle(\u001b[43mfenetre\u001b[49m, \u001b[38;5;241m0xD53737\u001b[39m, (\u001b[38;5;241m200\u001b[39m, \u001b[38;5;241m400\u001b[39m), \u001b[38;5;241m100\u001b[39m)\n",
      "\u001b[1;31mNameError\u001b[0m: name 'fenetre' is not defined"
     ]
    }
   ],
   "source": [
    "pygame.draw.circle(fenetre, 0xD53737, (200, 400), 100)"
   ]
  },
  {
   "cell_type": "markdown",
   "id": "083f6b6f",
   "metadata": {},
   "source": [
    "Vous n'êtes pas obligé d'utiliser la même couleur ni le même centre, ni le même rayon.\n",
    "\n",
    "> Bah y's pass rien!\n",
    "\n",
    "Ah bon ?\n",
    "\n",
    "> Nan, l'écran reste tout noir\n",
    "\n",
    "Oui, c'est normal.\n",
    "Ajoutez ceci en dessous de la ligne précédente et je vous explique après :"
   ]
  },
  {
   "cell_type": "code",
   "execution_count": 5,
   "id": "63a3b890",
   "metadata": {},
   "outputs": [
    {
     "ename": "error",
     "evalue": "video system not initialized",
     "output_type": "error",
     "traceback": [
      "\u001b[1;31m---------------------------------------------------------------------------\u001b[0m",
      "\u001b[1;31merror\u001b[0m                                     Traceback (most recent call last)",
      "Cell \u001b[1;32mIn [5], line 1\u001b[0m\n\u001b[1;32m----> 1\u001b[0m \u001b[43mpygame\u001b[49m\u001b[38;5;241;43m.\u001b[39;49m\u001b[43mdisplay\u001b[49m\u001b[38;5;241;43m.\u001b[39;49m\u001b[43mflip\u001b[49m\u001b[43m(\u001b[49m\u001b[43m)\u001b[49m\n",
      "\u001b[1;31merror\u001b[0m: video system not initialized"
     ]
    }
   ],
   "source": [
    "pygame.display.flip()"
   ]
  },
  {
   "cell_type": "markdown",
   "id": "35a983bb",
   "metadata": {},
   "source": [
    "> Oh, ça marche!\n",
    "\n",
    "## Actualiser l'affichage\n",
    "\n",
    "Ce que l'on voit à l'écran est contenu dans une zone de la mémoire de l'ordinateur. L'écran accède à cette zone de la mémoire pour lire l'état de chaque pixel et savoir de quelle couleur le dessiner.\n",
    "\n",
    "A l'origine, les écrans à tube cathodique utilisaient le même principe qu'un oscilloscope: un faisceau d'électrons vient frapper l'écran. On le dirige de manière à balayer l'écran de gauche à droite et de haut en bas.\n",
    "[Vous pouvez voir ce qui se passe à l'aide de cette petite animation.](https://fr.wikipedia.org/wiki/Balayage_progressif#/media/Fichier:Progressive_video_animation_(TFF).gif)\n",
    "\n",
    "Même dans les écran actuels, ce balayage est encore effectué, même s'il ne s'agit plus d'un faisceau d'électrons. Tous les pixels ne changent pas d'un coup, mais chacun leur tour. \n",
    "\n",
    "Si on veut dessiner notre cercle et qu'au moment où on le dessine, le balayage a déjà dépassé la moitié du dessin, on ne verra que le bas du cercle et le haut s'affichera lorsque l'on dessinera l'image suivante. Même si l'alternance des images est rapide, on percevrait un clignotement désagréable.\n",
    "\n",
    "Maintenant que nos ordinateurs disposent d'une mémoire suffisante, on peut éviter ces désagréments en préparant la nouvelle image dans une zone tampon de la mémoire. Cette zone n'est pas lue par l'écran. On y prépare l'image suivante à afficher à l'écran et, lorsque l'on est prêt, on attend que le balayage recommence en haut de l'écran et juste avant cela, on recopie très vite le tampon dans la mémoire écran. C'est ce que fait la fonction `flip`.\n",
    "\n",
    "**ATTENTION :** il ne faut pas utiliser cette fonction plus d'une fois par tour de la boucle principale. Si vous voulez dessiner 50 formes différentes à l'écran, il ne faut pas appeler `flip` après chaque dessin, mais une fois que tous les dessins destinés à s'afficher simultanément soient réalisés.\n",
    "\n",
    "Essayez de dessiner plusieurs formes et faites seulement un appel à `flip` à la fin."
   ]
  },
  {
   "cell_type": "code",
   "execution_count": 1,
   "id": "fc574072",
   "metadata": {},
   "outputs": [],
   "source": [
    "# Vous pouvez utiliser cette cellule pour coller votre code\n",
    "# ou vous pouvez vous contenter de l'écrire dans votre fichier python.\n",
    "#!/usr/bin/env python\n",
    "# -*- coding: utf-8 -*-\n",
    "\n",
    "import pygame\n",
    "from pygame.locals import *\n",
    "\n",
    "x = 50\n",
    "y = 70\n",
    "\n",
    "def main():\n",
    "\tpygame.init()\n",
    "\tfenetre = pygame.display.set_mode([1600,700])\n",
    "\tcontinuer = True\t\t# Variable pour contrôler la boucle principale\n",
    "\t\n",
    "\twhile continuer:\t\t# Entrée dans la boucle principale\n",
    "\t\t# Boucle de gestion des évènements:\n",
    "\t\tfor evenement in pygame.event.get():\n",
    "\t\t\tif evenement.type == QUIT:\t\t\t# On a cliqué sur la croix pour fermer la fenêtre\n",
    "\t\t\t\tcontinuer = False\t\t\t\t# on va donc sortir de la boucle principale\n",
    "\n",
    "\t\t# Mise à jour de l'état des données du programme (le modèle du programme)\n",
    "\t\t\n",
    "\t\t# Mise à jour de l'affichage (les vues du programme)\n",
    "\t\tpygame.draw.circle(fenetre, 0xD53737, (200, 400), 100)\n",
    "\t\tpygame.draw.aaline(fenetre, 0x12F5C8, (100, 500), (200, 500))\n",
    "\t\tpygame.draw.rect(fenetre, 0xAE00FF, (300, 100, 80, 160), width=10, border_radius= 3, border_top_left_radius=-1, border_top_right_radius=-1, border_bottom_left_radius=-1, border_bottom_right_radius=-1, )\n",
    "\t\tpygame.display.flip()\n",
    "\t# Sortie de la boucle principale\n",
    "\tpygame.quit() \t# Nécessaire pour fermer proprement pygame\n",
    "\treturn 0\n",
    "\n",
    "if __name__ == '__main__':\n",
    "\tmain()\n"
   ]
  },
  {
   "cell_type": "markdown",
   "id": "3078b25a",
   "metadata": {},
   "source": [
    "## Donner du mouvement\n",
    "Maintenant que vous savez dessiner des formes à l'écran, essayez d'en faire bouger une.\n",
    "\n",
    "Il suffit d'utiliser des variables pour les coordonnées de la forme et de modifier le contenu de ces variables dans la boucle principale.\n",
    "\n",
    "Si la forme se déplace trop vite, vous pouvez demander à votre programme de faire une petite pause avant ou après l'appel à `flip`.\n",
    "\n",
    "La pause s'obtient grâce à la fonction `wait` du module `time` de pygame. Cette fonction prend en argument la durée, en millisecondes, pendant laquelle le programme doit attendre. Pendant l'attente, le programme laisse les autres programmes de l'ordinateur utiliser le processeur. Ces derniers lui rendront la main lorsqu'ils feront eux-mêmes une pause."
   ]
  },
  {
   "cell_type": "code",
   "execution_count": null,
   "id": "279b7440",
   "metadata": {},
   "outputs": [],
   "source": [
    "pygame.time.wait(40)      # Pause de 40 ms"
   ]
  },
  {
   "cell_type": "markdown",
   "id": "c269c6d0",
   "metadata": {},
   "source": [
    "## Contrôler par le clavier\n",
    "\n",
    "Nous avons déjà parlé de la boucle de gestion des évènements.\n",
    "\n",
    "Pour contrôler l'état du clavier, on va repérer les appuis sur les touches en repérant des évènements de type `KEYDOWN` (à ne pas confondre avec `K_DOWN` qui est le code de la touche flèche vers le bas).\n",
    "\n",
    "Une fois qu'on a détecté un évènement de type `KEYDOWN`, il faut repérer le touche concernée par la sous-variable `key` associée à l'évènement.\n",
    "\n",
    "Imaginons que la variable x contienne l'abscisse de la position de la forme que l'on veut déplacer avec les touches. On va déplacer de 10 pixels vers la gauche notre forme avec la boucle de gestion des évènements suivante:"
   ]
  },
  {
   "cell_type": "code",
   "execution_count": null,
   "id": "9835c59d",
   "metadata": {},
   "outputs": [],
   "source": [
    "\tfor evenement in pygame.event.get():\n",
    "\t\tif evenement.type == QUIT:\t\t\t# Evenement quitter pour arrêter le programme\n",
    "\t\t\tcontinuer = False\n",
    "\t\tif evenement.type == KEYDOWN:\t\t# Appui sur une touche (on ne sait pas encore laquelle)\n",
    "\t\t\t# On cherche quelle touche est pressee:\n",
    "\t\t\tif evenement.key == K_LEFT:\n",
    "\t\t\t\tx -= 10         # Modification de la position en x de 10 pixels vers la gauche"
   ]
  },
  {
   "cell_type": "markdown",
   "id": "375c101d",
   "metadata": {},
   "source": [
    "A vous de faire en sorte de déplacer la forme de votre choix avec les touches fléchées.\n",
    "\n",
    "Si vous maintenez une touche enfoncée, aucun nouvel évènement `KEYDOWN` n'est généré pour cette touche. Il faut donc la relâcher pour appuyer à nouveau dessus.\n",
    "\n",
    "Il existe cependant un moyen de générer automatiquement de nouvelle pression sur la touche sans avoir à la relâcher. Pour cela, \n",
    "on utilise la fonction `set_repeat` du module `key` de pygame."
   ]
  },
  {
   "cell_type": "code",
   "execution_count": null,
   "id": "40779333",
   "metadata": {},
   "outputs": [],
   "source": [
    "pygame.key.set_repeat(200, 60)"
   ]
  },
  {
   "cell_type": "markdown",
   "id": "fb6b6051",
   "metadata": {},
   "source": [
    "Cette fonction prend en argument la durée en millisecondes avant la première répétition de l'appui sur la touche et ensuite la durée en millisecondes des répétitions suivantes.\n",
    "\n",
    "Ainsi, avec le code précédent, il faut attendre 200 millisecondes en maintenant la touche enfoncée pour que le deuxième déplacement de la forme ait lieu puis un déplacement sera généré toutes les 60 millisecondes jusqu'à ce qu'on relâche la touche.\n",
    "\n",
    "La fonction `set_repeat` ne doit être appelée qu'une fois. Il faut donc l'appeler avant de rentrer dans la boucle principale du programme. Il reste possible de l'appeler si on souhaite modifier les durées d'attente en cours d'exécution du programme, mais généralement, on évite de le faire.\n",
    "\n",
    "## Les sprites\n",
    "\n",
    "> Ah merci m'sieur, j'ai soif!\n",
    "\n",
    "Meuh non, il ne s'agit pas de la boisson.\n",
    "\n",
    "On va apprendre à afficher de jolies images. Mais avant de commencer, il faut trouver des images à afficher. Même si vous n'envisagez pas de publier un jour votre travail, il faut se préoccuper des droits d'utilisation des ressources que nos projets vont utiliser. Cherchez donc des fichiers libres de droit. [Le site OpenGameArt](https://opengameart.org/) regroupe des ressources utilisables assez librement. Proccurez-vous un fond d'écran ainsi qu'au moins une image d'un personnage. Si vous le souhaitez, vous pouvez aussi chercher un ensemble d'images montrant une animation.\n",
    "\n",
    "Sprite veut dire lutin. C'est le terme qui s'est imposé pour désigner tout ce que l'on peut voir animé à l'écran: personnages, véhicules, vaisseaux, balles,...\n",
    "\n",
    "Le décor de fond peut être constitué d'une image unique, mais on peut aussi le construire en assemblant plusieurs petites images: les tuiles ou tiles en anglais. Ainsi, au lieu d'un fond d'écran unique, vous pouvez opter pour un ensemble de tiles regroupées dans un seul fichier appelé tilesheet (tout comme on peut trouver des spritesheets avec l'ensemble des images utilisées pour représenter un personnage, voire un groupe de personnages).\n",
    "\n",
    "### Charger un fichier image\n",
    "Pour charger un fichier contenant une image (fond d'écran, sprite, spritesheet, tilesheet,...), on utilise la fonction `load` du module `image` de python. \n",
    "\n",
    "Cette fonction prend en argument le **chemin** vers le fichier à charger. Il peut s'agir d'un chemin absolu (c'est rarement une bonne idée car le fichier doit toujours se trouver à cet endroit et si on déplace le dossier du projet, ce chemin risque de ne plus être valide). Mais on utilise plutôt un chemin relatif. Ainsi, si le fichier à charger est dans le même dossier que le fichier python, il suffit d'utiliser le nom du fichier à charger.\n",
    "\n",
    "Attention de ne pas oublier l'extension du nom de fichier.\n",
    "\n",
    "Cette fonction renvoi une `Surface` (comme celle de notre fenêtre). Nous allons la stocker dans une variable pour nous en servir."
   ]
  },
  {
   "cell_type": "code",
   "execution_count": 3,
   "id": "3bac87f8",
   "metadata": {},
   "outputs": [],
   "source": [
    "fond = pygame.image.load(\"background.jpg\")"
   ]
  },
  {
   "cell_type": "markdown",
   "id": "d8c8275f",
   "metadata": {},
   "source": [
    "A cause de la manière de représenter les couleurs, il est possible que l'image que nous avons chargée représente les couleurs différemment de la `Surface` de notre fenêtre. Lorsque l'on voudra coller l'image dans la fenêtre, il risque d'être nécessaire de réaliser une conversion d'une représentation des couleurs dans une autre. Pour éviter des ralentissement dûs à des conversions à chaque nouvel affichage, on va convertir la Surface tout de suite avec la fonction `convert`. Utilisée sans argument, elle va créer une `Surface` optimisée pour être affichée dans notre fenêtre.\n",
    "\n",
    "Il est conseillé de remplacer la `Surface` chargée initialement par celle issue de cette conversion :"
   ]
  },
  {
   "cell_type": "code",
   "execution_count": null,
   "id": "aef9e595",
   "metadata": {},
   "outputs": [],
   "source": [
    "fond = fond.convert()"
   ]
  },
  {
   "cell_type": "markdown",
   "id": "35915ab3",
   "metadata": {},
   "source": [
    "On peut réaliser cette conversion en même temps que le chargement.\n",
    "\n",
    "La ligne suivante remplace les deux précédentes :"
   ]
  },
  {
   "cell_type": "code",
   "execution_count": null,
   "id": "dad60ff7",
   "metadata": {},
   "outputs": [],
   "source": [
    "fond = pygame.image.load(\"background.jpg\").convert()"
   ]
  },
  {
   "cell_type": "markdown",
   "id": "f1bf9c33",
   "metadata": {},
   "source": [
    "> Euh, m'sieur, c'est normal qu'y s'passe rien ?\n",
    "\n",
    "Il se passe quelque chose, mais rien de visible pour l'instant. Nous avons simplement chargé les données du fichier en mémoire. C'est déjà beaucoup, mais il ne s'affiche encore rien. Il faut qu'on dise où coller notre `Surface` (sur quelle autre `Surface` et à quelle position). Et bien entendu, comme quand on dessine, il faut utiliser la fonction `flip` pour que les modifications apparaissent.\n",
    "\n",
    "### Blitter une `Surface` sur une autre\n",
    "On va en quelque sorte *tamponner* notre `Surface` sur celle de la fenêtre. Pour cela, on utilise la fonction `blit`. Cette fonction s'applique à la `Surface` sur laquelle on dessine (la destination). C'est souvent la fenêtre, mais pas obligatoirement.\n",
    "\n",
    "La fonction `blit` prend en argument la `Surface` que l'on veut recopier (la source), et un `tuple` ou une `list` qui va indiquer les coordonnées sur la destination du coin supérieur gauche de la source.\n",
    "\n",
    "Voici le code complet pour charger et blitter le fond d'écran sur la fenêtre :"
   ]
  },
  {
   "cell_type": "code",
   "execution_count": 5,
   "id": "41490149",
   "metadata": {},
   "outputs": [],
   "source": [
    "#!/usr/bin/env python\n",
    "# -*- coding: utf-8 -*-\n",
    "\n",
    "import pygame\n",
    "from pygame.locals import *\n",
    "\n",
    "def main():\n",
    "\tpygame.init()\n",
    "\tfenetre = pygame.display.set_mode([640,480])\n",
    "\tcontinuer = True\t\t# Variable pour contrôler la boucle principale\n",
    "\t\n",
    "\tfond = pygame.image.load(\"background.jpg\").convert()\n",
    "    \n",
    "\twhile continuer:\t\t# Entrée dans la boucle principale\n",
    "\t\t# Boucle de gestion des évènements:\n",
    "\t\tfor evenement in pygame.event.get():\n",
    "\t\t\tif evenement.type == QUIT:\t\t\t# On a cliqué sur la croix pour fermer la fenêtre\n",
    "\t\t\t\tcontinuer = False\t\t\t\t# on va donc sortir de la boucle principale\n",
    "\t\t\n",
    "\t\t# Mise à jour de l'état des données du programme (le modèle du programme)\n",
    "\t\t\n",
    "\t\t# Mise à jour de l'affichage (les vues du programme)\n",
    "\t\tfenetre.blit(fond, (0, 0))     # fenetre est la destination et fond est la source\n",
    "\t\tpygame.display.flip()\n",
    "\t\n",
    "\t# Sortie de la boucle principale\n",
    "\tpygame.quit() \t# Nécessaire pour fermer proprement pygame\n",
    "\treturn 0\n",
    "\n",
    "if __name__ == '__main__':\n",
    "\tmain()\n"
   ]
  },
  {
   "cell_type": "markdown",
   "id": "1b900c4c",
   "metadata": {},
   "source": [
    "### Les sprites et la transparence\n",
    "Pour l'instant, nous avons utilisé l'image que nous voulions mettre dans le fond de la fenêtre. Nous allons rajouter un sprite par dessus.\n",
    "\n",
    "Toute image a la forme d'un rectangle. Mais nos sprites ont des formes bien moins régulières.\n",
    "\n",
    "Si on ne fait rien de particulier, quand on va blitter notre sprite, on va voir le rectangle qui l'entoure. Pour éviter cela, on va utiliser la transparence. Les pixels autour des contours du sprites devront être transparents pour ne pas masquer les pixels de l'image de fond.\n",
    "\n",
    "Le fichier contenant le ou les sprites peut gérer la transparence de deux manières :\n",
    "- en utilisant un format d'image contenant des informations sur la transparence. C'est le cas du format png. Il faut bien sûr que le fichier contienne ces informations.\n",
    "- en utilisant une couleur de pixel spéciale pour les pixels destinés à être transparents. Après le chargement du fichier, on peut préciser quelle est la couleur de transparence. On utilise souvent le magenta car il est rare que cette couleur fasse partie des couleurs à afficher.\n",
    "\n",
    "**ATTENTION**: le format jpg ne peut pas être utilisé pour les sprites. En effet, non seulement ce format ne gère pas la transparence, mais en plus, il compresse avec perte. L'image suivante est au format png :\n",
    "![](Ressources/magenta.png)\n",
    "Celle-ci est la même enregistrée au format jpg :\n",
    "![](Ressources/magenta.jpg)\n",
    "Vous voyez une différence ?\n",
    "\n",
    "> Euh non, c'est la même chose.\n",
    "\n",
    "Maintenant, si on prend le magenta comme couleur de transparence et qu'on blitte ces images sur un fond noir, voici ce qu'on obtient avec le format png :\n",
    "![](Ressources/magentaVersNoir.png)\n",
    "Et maintenant en jpg :\n",
    "![](Ressources/magentaVersNoir.jpg)\n",
    "Certains pixels sont magenta, mais pas exactement du même magenta. Ces pixels ne sont donc pas transparents.\n",
    "\n",
    "Quelle que soit la technique utilisée, il faudra donc éviter les formats de compression d'image avec perte.\n",
    "\n",
    "Voyons maintenant la première technique : une image avec la transparence. Il faut utiliser la fonction `convert_alpha` plutôt que `convert` pour garder la transparence."
   ]
  },
  {
   "cell_type": "code",
   "execution_count": 10,
   "id": "bb3fa7ed",
   "metadata": {},
   "outputs": [],
   "source": [
    "#!/usr/bin/env python\n",
    "# -*- coding: utf-8 -*-\n",
    "\n",
    "import pygame\n",
    "from pygame.locals import *\n",
    "\n",
    "def main():\n",
    "\tpygame.init()\n",
    "\tfenetre = pygame.display.set_mode([640,480])\n",
    "\tcontinuer = True\t\t# Variable pour contrôler la boucle principale\n",
    "\t\n",
    "\tfond = pygame.image.load(\"background.jpg\").convert()\n",
    "\tsprite = pygame.image.load(\"perso.png\").convert_alpha()\n",
    "    \n",
    "\twhile continuer:\t\t# Entrée dans la boucle principale\n",
    "\t\t# Boucle de gestion des évènements:\n",
    "\t\tfor evenement in pygame.event.get():\n",
    "\t\t\tif evenement.type == QUIT:\t\t\t# On a cliqué sur la croix pour fermer la fenêtre\n",
    "\t\t\t\tcontinuer = False\t\t\t\t# on va donc sortir de la boucle principale\n",
    "\t\t\n",
    "\t\t# Mise à jour de l'état des données du programme (le modèle du programme)\n",
    "\t\t\n",
    "\t\t# Mise à jour de l'affichage (les vues du programme)\n",
    "\t\tfenetre.blit(fond, (0, 0))\n",
    "\t\tfenetre.blit(sprite, (200, 50))\n",
    "\t\tpygame.display.flip()\n",
    "\t\n",
    "\t# Sortie de la boucle principale\n",
    "\tpygame.quit() \t# Nécessaire pour fermer proprement pygame\n",
    "\treturn 0\n",
    "\n",
    "if __name__ == '__main__':\n",
    "\tmain()"
   ]
  },
  {
   "cell_type": "markdown",
   "id": "0d93ee60",
   "metadata": {},
   "source": [
    "Avec la deuxième technique, on utilise `convert`, mais il faut ensuite utiliser la fonction `set_colorkey` qui prend en argument la couleur de transparence. Sans argument, cette fonction annule la transparence.\n",
    "\n",
    "Dans l'image utilisée, la couleur de transparence est le magenta (R:255 / V:0 / B:255)."
   ]
  },
  {
   "cell_type": "code",
   "execution_count": 9,
   "id": "618c91dd",
   "metadata": {},
   "outputs": [],
   "source": [
    "#!/usr/bin/env python\n",
    "# -*- coding: utf-8 -*-\n",
    "\n",
    "import pygame\n",
    "from pygame.locals import *\n",
    "\n",
    "def main():\n",
    "\tpygame.init()\n",
    "\tfenetre = pygame.display.set_mode([640,480])\n",
    "\tcontinuer = True\t\t# Variable pour contrôler la boucle principale\n",
    "\t\n",
    "\tfond = pygame.image.load(\"background.jpg\").convert()\n",
    "\tsprite = pygame.image.load(\"perso2.png\").convert()\n",
    "\tsprite.set_colorkey((255, 0, 255))\n",
    "    \n",
    "\twhile continuer:\t\t# Entrée dans la boucle principale\n",
    "\t\t# Boucle de gestion des évènements:\n",
    "\t\tfor evenement in pygame.event.get():\n",
    "\t\t\tif evenement.type == QUIT:\t\t\t# On a cliqué sur la croix pour fermer la fenêtre\n",
    "\t\t\t\tcontinuer = False\t\t\t\t# on va donc sortir de la boucle principale\n",
    "\t\t\n",
    "\t\t# Mise à jour de l'état des données du programme (le modèle du programme)\n",
    "\t\t\n",
    "\t\t# Mise à jour de l'affichage (les vues du programme)\n",
    "\t\tfenetre.blit(fond, (0, 0))\n",
    "\t\tfenetre.blit(sprite, (200, 50))\n",
    "\t\tpygame.display.flip()\n",
    "\t\n",
    "\t# Sortie de la boucle principale\n",
    "\tpygame.quit() \t# Nécessaire pour fermer proprement pygame\n",
    "\treturn 0\n",
    "\n",
    "if __name__ == '__main__':\n",
    "\tmain()"
   ]
  },
  {
   "cell_type": "markdown",
   "id": "fdd88575",
   "metadata": {},
   "source": [
    "Le résultat est un peu moins joli car l'image utilisée dispose de contour semi-transparents dans sa version d'origine. En coloriant en magenta les pixels transparents, ceux qui étaient semi-transparents ne sont pas coloriés et deviennent blancs. Il aurait fallu apporter plus de soin à la modification de l'image d'origine, mais dans tous les cas, les bords auraient été moins doux.\n",
    "\n",
    "### Le fond, les tuiles, les autres sprites\n",
    "Un blit recouvre la `Surface` d'origine. Il est donc nécessaire de blitter le fond en premier. Si vous construisez le fond avec des tuiles, il faut les blitter dans le bon ordre. Par exemple, si le personnage peut passer derrière certains éléments du décor, il faut les blitter après lui. Si notre personnage passe près d'un arbre, alors s'il passe devant, il faut blitter l'arbre en premier pour voir le personnage devant l'arbre, mais si le personnage passe derrière l'arbre, alors il faut blitter d'abord le personnage puis l'arbre qui masquera en partie le personnage.\n",
    "\n",
    "Vous remarquerez qu'à chaque tour de boucle on blitte le fond. En effet, quand on va déplacer le sprite, si on blitte le fond une seule fois avant la boucle principale, l'image va être recouverte par toutes les positions successives du sprite, mais vous allez voir ça dans la suite.\n",
    "\n",
    "## Entrainez-vous\n",
    "Maintenant que vous savez manipuler de jolies images, faites en sorte de déplacer le sprite avec les touches fléchées.\n",
    "\n",
    "Vous pouvez ajouter un deuxième sprite que vous pouvez diriger avec d'autres touches (Z, Q, S, D).\n",
    "\n",
    "Faites en sorte que l'on ne puisse pas sortir de l'écran.\n",
    "\n",
    "Bref, amusez-vous et apprenez..."
   ]
  }
 ],
 "metadata": {
  "kernelspec": {
   "display_name": "Python 3 (ipykernel)",
   "language": "python",
   "name": "python3"
  },
  "language_info": {
   "codemirror_mode": {
    "name": "ipython",
    "version": 3
   },
   "file_extension": ".py",
   "mimetype": "text/x-python",
   "name": "python",
   "nbconvert_exporter": "python",
   "pygments_lexer": "ipython3",
   "version": "3.11.0"
  }
 },
 "nbformat": 4,
 "nbformat_minor": 5
}
