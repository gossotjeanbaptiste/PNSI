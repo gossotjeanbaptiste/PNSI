{
 "cells": [
  {
   "cell_type": "markdown",
   "id": "db488d08",
   "metadata": {},
   "source": [
    "NOMS: GOSSOT Jean-Baptiste GUERIN Léa GUERRE Soline FRATTINI Juliette"
   ]
  },
  {
   "cell_type": "markdown",
   "id": "f1afbb92",
   "metadata": {},
   "source": [
    "# TP : Les pays du monde  - Importation d'une table\n",
    "\n",
    "## Présentation\n",
    "\n",
    "Vous disposez d'un fichier nommé `pays.csv`.\n",
    "\n",
    "Le format csv, pour Comma-Separated Values, est un format très simple. Il s'agit d'un fichier texte qui permet de stocker une table (tableau à deux dimensions utilisé dans les bases de données).\n",
    "\n",
    "Si vous ouvrez ce fichier avec un éditeur de texte tel que le bloc-notes ou Geany, vous pourrez constater que le fichier contient plusieurs lignes. Chacune d'entre elles donne des informations sur un pays. Des points-virgules marquent le passage d'une colonne à l'autre.\n",
    "\n",
    "```\n",
    "AFG;Afghanistan;Asia;Southern and Central Asia;652090.00;1919;22720000;45.9;5976.00;NULL;Afganistan/Afqanestan;Islamic Emirate;Mohammad Omar;1;AF\n",
    "NLD;Netherlands;Europe;Western Europe;41526.00;1581;15864000;78.3;371362.00;360478.00;Nederland;Constitutional Monarchy;Beatrix;5;NL\n",
    "ANT;Netherlands Antilles;North America;Caribbean;800.00;NULL;217000;74.7;1941.00;NULL;Nederlandse Antillen;Nonmetropolitan Territory of The Netherlands;Beatrix;33;AN\n",
    "ALB;Albania;Europe;Southern Europe;28748.00;1912;3401200;71.6;3205.00;2500.00;Shqipëria;Republic;Rexhep Mejdani;34;AL\n",
    "DZA;Algeria;Africa;Northern Africa;2381741.00;1962;31471000;69.7;49982.00;46966.00;Al-Jaza’ir/Algérie;Republic;Abdelaziz Bouteflika;35;DZ\n",
    "ASM;American Samoa;Oceania;Polynesia;199.00;NULL;68000;75.1;334.00;NULL;Amerika Samoa;US Territory;George W. Bush;54;AS\n",
    "AND;Andorra;Europe;Southern Europe;468.00;1278;78000;83.5;1630.00;NULL;Andorra;Parliamentary Coprincipality;;55;AD\n",
    "AGO;Angola;Africa;Central Africa;1246700.00;1975;12878000;38.3;6648.00;7984.00;Angola;Republic;José Eduardo dos Santos;56;AO\n",
    "```\n",
    "\n",
    "Ce qui correspond au tableau suivant (les entêtes de colonnes ont été rajoutés):\n",
    "\n",
    "Code | Nom | Continent| Region | Aire | AnneeIndependance | Population | EsperanceVie | GNP | GNPAncien | NomLocal | FormeGouvernement | ChefEtat | Capitale | Code2\n",
    "----|---------------------------------------------|--------------|--------------------------|-----------|------|-----------|-----|----------|----------|---------------------------------------------|---------------------------------------------|----------------------------------|-----|---\n",
    "AFG |Afghanistan                                  |Asia          |Southern and Central Asia |652090.0   |1919  |22720000   |45.9 |5976.0    |NULL      |Afganistan/Afqanestan                        |Islamic Emirate                              |Mohammad Omar                     |1    |AF \n",
    "NLD |Netherlands                                  |Europe        |Western Europe            |41526.0    |1581  |15864000   |78.3 |371362.0  |360478.0  |Nederland                                    |Constitutional Monarchy                      |Beatrix                           |5    |NL \n",
    "ANT |Netherlands Antilles                         |North America |Caribbean                 |800.0      |NULL  |217000     |74.7 |1941.0    |NULL      |Nederlandse Antillen                         |Nonmetropolitan Territory of The Netherlands |Beatrix                           |33   |AN \n",
    "ALB |Albania                                      |Europe        |Southern Europe           |28748.0    |1912  |3401200    |71.6 |3205.0    |2500.0    |Shqipëria                                    |Republic                                     |Rexhep Mejdani                    |34   |AL \n",
    "DZA |Algeria                                      |Africa        |Northern Africa           |2381741.0  |1962  |31471000   |69.7 |49982.0   |46966.0   |Al-Jaza’ir/Algérie                           |Republic                                     |Abdelaziz Bouteflika              |35   |DZ \n",
    "ASM |American Samoa                               |Oceania       |Polynesia                 |199.0      |NULL  |68000      |75.1 |334.0     |NULL      |Amerika Samoa                                |US Territory                                 |George W. Bush                    |54   |AS \n",
    "AND |Andorra                                      |Europe        |Southern Europe           |468.0      |1278  |78000      |83.5 |1630.0    |NULL      |Andorra                                      |Parliamentary Coprincipality                 |                                  |55   |AD \n",
    "AGO |Angola                                       |Africa        |Central Africa            |1246700.0  |1975  |12878000   |38.3 |6648.0    |7984.0    |Angola                                       |Republic                                     |José Eduardo dos Santos           |56   |AO \n",
    "\n",
    "\n",
    "\n",
    "Notre objectif est de manipuler cette table à l'aide d'un programme en python.\n",
    "\n",
    "Dans ce TP, nous allons commencer par apprendre à lire le fichier et à stocker les informations qu'il contient dans une structure de données adaptée.\n",
    "\n",
    "## Lecture de fichier\n",
    "\n",
    "Avant de chercher à lire le fichier `pays.csv`, nous allons voir comment on peut lire un fichier texte dans un programme python.  \n",
    "Pour cela, vous allez créer un petit fichier texte dans le même dossier que ce notebook.  \n",
    "Ce fichier se trouve sur une mémoire de stockage (disque dur, carte SD, clé USB,...). Pour avoir accès aux données qu'il contient et pouvoir traiter ces données, il faut commencer par les charger en mémoire vive.\n",
    "\n",
    "### Ouverture du fichier\n",
    "L'ouverture d'un fichier se fait grâce à la fonction `open`.  \n",
    "Cette fonction prend en argument:\n",
    "- un `str` contenant le chemin vers le fichier à ouvrir. Ce chemin peut être absolu ou relatif. Cet argument est obligatoire.\n",
    "- un `str` indiquant le mode d'ouverture du fichier. Cet argument est facultatif.\n",
    "- divers arguments facultatifs que nous ne détaillerons pas ici.\n",
    "\n",
    "Un fichier peut être ouvert en lecture ou en écriture. Les modes d'ouverture possibles sont ainsi:\n",
    "- `'r'` pour l'ouverture en lecture. C'est la valeur par défaut.\n",
    "- `'w'` pour l'ouverture en écriture. Si le fichier n'existe pas, il sera créé. **S'il existe, il sera effacé et remplacé par ce qu'on va écrire.**\n",
    "- `'a'` pour ouvrir un fichier en écriture. Si le fichier existe déjà, les données écrites seront ajoutées après les données existantes.\n",
    "\n",
    "Par défaut, l'ouverture se fait en mode texte (la lecture produit des `str`, l'écriture fonctionne comme un `print` qui aurait lieu dans le fichier au lieu de la sortie écran).  \n",
    "Si on ajoute `b` dans le mode d'ouverture, le fichier sera ouvert en mode binaire. On lira ainsi les octets constituants le fichier. Comme nous souhaitons lire un fichier texte, nous n'utiliserons pas ce mode pour l'instant.\n",
    "\n",
    "La fonction renvoi un objet de type `file`. Il faut obligatoirement le stocker dans une variable pour avoir accès au fichier après l'ouverture.\n",
    "\n",
    "Exemple d'utilisation de `open`:\n",
    "```python\n",
    "fichier = open(\"mon fichier.txt\", \"r\")\n",
    "```\n",
    "\n",
    "Utilisez la cellule ci-dessous pour ouvrir votre fichier."
   ]
  },
  {
   "cell_type": "code",
   "execution_count": null,
   "id": "af7cf1b0",
   "metadata": {},
   "outputs": [],
   "source": [
    "fichier = open(\"fichier test.txt\", \"r\")"
   ]
  },
  {
   "cell_type": "markdown",
   "id": "5155e420",
   "metadata": {},
   "source": [
    "Attention, si le fichier n'existe pas, une erreur se produira. Dans un programme, cela provoquera l'arrêt du programme. Il existe cependant des manières de sécuriser l'opération pour éviter un plantage en cas de fichier introuvable.\n",
    "\n",
    "### Lecture des données du fichier\n",
    "\n",
    "Pour lire le fichier, on va appliquer des méthodes à l'objet `file` obtenu.\n",
    "\n",
    "- La méthode `read` permet de lire un certain nombre de caractères dans le fichier.  \n",
    "Elle prend en argument le nombre de caractères à lire. Si ce nombre est négatif, si on utilise `None` ou si on utilise la méthode sans argument, tout le fichier sera lu.  \n",
    "La méthode renvoi un `str` de ce qu'elle a lu.\n",
    "```python\n",
    "a = fichier.read(10)    # stocke dans a les 10 premiers caractères du fichier\n",
    "b = fichier.read()      # stocke dans b tous les caractères suivants\n",
    "c = fichier.read(5)     # stocke un str vide dans c car on a déjà tout lu\n",
    "```\n",
    "\n",
    "- la méthode `readline` permet de lire une ligne du fichier.  \n",
    "Elle s'arrête donc de lire dès qu'un saut de ligne est rencontré (ou dès qu'on atteint la fin du fichier).  \n",
    "Cette méthode peut prendre en argument un nombre maximum de caractères à lire.  \n",
    "Le saut de ligne est inclus dans le `str` renvoyé par la fonction. Ainsi, une ligne vide produira un `str` contenant uniquement un saut de ligne. On sait qu'on a atteint la fin du fichier quand la fonction renvoi un `str` vide (`\"\"`).\n",
    "```python\n",
    "a = fichier.readline()  # stocke dans a la première ligne du fichier\n",
    "b = fichier.readline()  # stocke dans b la ligne suivante\n",
    "```\n",
    "\n",
    "Utilisez la cellule suivante pour lire dans le fichier en utilisant les méthodes précédentes. N'oubliez pas d'afficher ce que vous avez lu."
   ]
  },
  {
   "cell_type": "code",
   "execution_count": null,
   "id": "33b5512c",
   "metadata": {},
   "outputs": [],
   "source": [
    "a = fichier.read(None)\n",
    "print(a)"
   ]
  },
  {
   "cell_type": "markdown",
   "id": "9bc1d2f0",
   "metadata": {},
   "source": [
    "En plus de ces méthodes, on peut utiliser une boucle `for` pour parcourir le fichier.  \n",
    "Ainsi, le code suivant:\n",
    "```python\n",
    "for ligne in fichier:\n",
    "    print(ligne)\n",
    "```\n",
    "va lire à chaque tour de boucle une nouvelle ligne du fichier et l'afficher à l'écran. (Vous remarquerez qu'il y a une ligne vide entre chaque ligne. En effet, le saut de ligne à la fin de la ligne lue est présent à la fin du `str` et la fonction `print` en ajoute automatiquement un après l'affichage).\n",
    "\n",
    "### Fermeture du fichier\n",
    "\n",
    "Une fois que l'on n'a plus besoin d'accéder au support de stockage, il est important de fermer le signaler. En effet, si on travaille sur un fichier en écriture, ce que l'on écrit n'est pas toujours immédiatement transféré au support de stockage (il peut y avoir différents tampons de mémoire). La fermeture du fichier va nous assurer que la totalité de ce que l'on veut écrire a bien été écrite.  \n",
    "De plus, un fichier ouvert, que ce soit en écriture ou en lecture, ne peut pas être à nouveau ouvert par un autre programme.\n",
    "\n",
    "Nous allons donc utiliser la méthode `close` pour fermer le fichier. Cette méthode ne prend pas d'argument et ne renvoi rien. Si on essaye d'accéder au fichier après avoir appelé cette méthode, cela provoquera une erreur. Il est toujours possible d'utiliser la fonction `open` pour ouvrir à nouveau le fichier.\n",
    "\n",
    "```python\n",
    "fichier.close()\n",
    "```\n",
    "\n",
    "Utilisez la cellule suivante pour fermer votre fichier (vous pouvez essayer d'accéder à son contenu ensuite pour voir que cela produit bien une erreur)."
   ]
  },
  {
   "cell_type": "code",
   "execution_count": null,
   "id": "25c6f891",
   "metadata": {},
   "outputs": [],
   "source": [
    "fichier.close()"
   ]
  },
  {
   "cell_type": "markdown",
   "id": "2d92e64e",
   "metadata": {},
   "source": [
    "## Manipuler des `str`\n",
    "\n",
    "Nous savons maintenant lire un fichier texte. Il est dès lors possible de lire le fichier `pays.csv` pour obtenir des `str`. \n",
    "\n",
    "Plusieurs approches sont possibles. \n",
    "\n",
    "On peut ainsi lire le fichier un caractère à la fois et réagir aux points-virgules `\";\"` (changement de colonne de la table), aux sauts de ligne `\"\\n\"` (changement de ligne de la table) et aux chaînes vides `\"\"` (fin du fichier).  \n",
    "On doit alors se charger de concaténer les caractères obtenus pour reconstituer les mots (ou nombres) de la table.\n",
    "\n",
    "On peut aussi lire le fichier ligne par ligne. A l'intérieur d'une ligne, on peut alors parcourir le `str` obtenu pour le découper manuellement à chaque point-virgule, mais on peut aussi utiliser les fonctionnalités offertes par Python pour manipuler les `str`.\n",
    "\n",
    "Ainsi, puisque nous devons séparer le contenu d'une ligne en différentes valeurs à chaque point-virgule rencontré, nous pouvons utilisé la méthode `split` des `str`. Cette méthode s'applique à un `str` et prend en argument un `str` représentant le séparateur qui sert à découper le texte. Elle renvoi une `list` de `str` correspondant aux différentes parties obtenues.\n",
    "\n",
    "Exemple:"
   ]
  },
  {
   "cell_type": "code",
   "execution_count": 3,
   "id": "db6e6fb6",
   "metadata": {},
   "outputs": [
    {
     "name": "stdout",
     "output_type": "stream",
     "text": [
      "['B', 'nj', 'ur']\n",
      "['Appelée', 'sans', 'argument,', 'la', 'méthode', 'split', 'sépare', 'le', 'str', 'selon', 'ses', 'espaces.']\n"
     ]
    }
   ],
   "source": [
    "texte = \"Bonjour\"\n",
    "morceaux = texte.split(\"o\")\n",
    "print(morceaux)\n",
    "\n",
    "texte = \"Appelée sans argument, la méthode split sépare le str selon ses espaces.\"\n",
    "morceaux = texte.split()\n",
    "print(morceaux)"
   ]
  },
  {
   "cell_type": "markdown",
   "id": "daa3bdac",
   "metadata": {},
   "source": [
    "La cellule suivante contient le texte de la première ligne de la table. Faites en sorte d'obtenir une `list` de chaque cellule de cette ligne et affichez les éléments de cette `list` un par un sur des lignes séparées."
   ]
  },
  {
   "cell_type": "code",
   "execution_count": 4,
   "id": "67cfb8f1",
   "metadata": {},
   "outputs": [
    {
     "name": "stdout",
     "output_type": "stream",
     "text": [
      "['AFG']\n",
      "['Afghanistan']\n",
      "['Asia']\n",
      "['Southern and Central Asia']\n",
      "['652090.00']\n",
      "['1919']\n",
      "['22720000']\n",
      "['45.9']\n",
      "['5976.00']\n",
      "['NULL']\n",
      "['Afganistan/Afqanestan']\n",
      "['Islamic Emirate']\n",
      "['Mohammad Omar']\n",
      "['1']\n",
      "['AF']\n"
     ]
    }
   ],
   "source": [
    "ligne = \"AFG;Afghanistan;Asia;Southern and Central Asia;652090.00;1919;22720000;45.9;5976.00;NULL;Afganistan/Afqanestan;Islamic Emirate;Mohammad Omar;1;AF\"\n",
    "morceaux = ligne.split(\";\")\n",
    "\n",
    "for element in morceaux:\n",
    "    print([element])"
   ]
  },
  {
   "cell_type": "markdown",
   "id": "1f4851dd",
   "metadata": {},
   "source": [
    "## Type des données\n",
    "\n",
    "Lorsque nous allons charger la table, il est nécessaire de stocker les données dans le bon type.\n",
    "\n",
    "Les colonnes de cette table représentent, dans l'ordre: \n",
    "- Le code du pays : c'est un `str` de 3 caractères identifiant le pays. Nous verrons plus tard à quoi il peut servir.\n",
    "- Le nom du pays (an anglais) : c'est aussi un `str`\n",
    "- Le continent auquel appartient le pays: pour rester simple, nous utiliserons un `str`\n",
    "- La région du monde (une sous-partie du continent): `str`\n",
    "- La superficie (en km²) du pays: elle doit être un nombre à virgule, donc de type `float`\n",
    "- L'année d'independance: c'est un nombre entier, on utilisera donc le type `int`\n",
    "- La population: `int`\n",
    "- L'espérance de vie: `float`\n",
    "- Le PIB: `float`\n",
    "- Le PIB précédent: `float`\n",
    "- Le nom local (dans la langue locale): `str`\n",
    "- La forme de gouvernement: `str`\n",
    "- Le nom du chef d'état: `str`  (Si vous observez la table, vous comprendrez qu'elle date un peu)\n",
    "- La capitale: il s'agit d'un nombre entier `int`. Nous verrons plus tard à quoi il sert\n",
    "- Un deuxième code, de deux lettres: `str`  (il n'a pas d'utilité, mais il figurait dans les données récupérées)\n",
    "\n",
    "Puisque les données lues depuis le fichier sont toutes de type `str`, il va falloir changer le type lorsque l'on voudra manipuler des nombres. En effet, on voudra prochainement faire des opérations sur les données.  \n",
    "Par exemple, on voudra pouvoir répondre à une question telle que: \"quelle est la population de l'Europe ?\"  \n",
    "Il faudra donc pouvoir additionner les populations de différents pays. Si les données sont sous forme de `str`, ne nous pourrons pas y arriver.\n",
    "\n",
    "Il va donc nous falloir transformer certains `str` dans le bon type. Ainsi, tout ce qui sera lu dans la colonne \"population\" devra être stocké en mémoire sous forme d'`int`; la superficie, sous forme de `float`, etc...\n",
    "\n",
    "Attention, certaines cellules de la table contiennent la valeur `NULL`. Dans ce cas, nous les transformeront en `None`.\n",
    "\n",
    "Dans la cellule ci-dessous, faites en sorte d'obtenir une `list` représentant la première ligne de la table avec les bons types pour chaque cellule.  \n",
    "Efforcez-vous de trouver un code élégant en utilisant une boucle et une liste des types voulus par colonne."
   ]
  },
  {
   "cell_type": "code",
   "execution_count": 1,
   "id": "c0900c9c",
   "metadata": {},
   "outputs": [
    {
     "name": "stdout",
     "output_type": "stream",
     "text": [
      "['AFG;Afghanistan;Asia;Southern and Central Asia;652090.00;1919;22720000;45.9;5976.00;NULL;Afganistan/Afqanestan;Islamic Emirate;Mohammad Omar;1;AF']\n"
     ]
    }
   ],
   "source": [
    "import csv\n",
    "\n",
    "# Ouvrir le fichier CSV et créer un objet lecteur csv.reader\n",
    "with open('pays.csv', newline='', encoding = \"utf-8\") as csvfile:\n",
    "    reader = csv.reader(csvfile, delimiter=',')\n",
    "\n",
    "    # Lire la première ligne de la table\n",
    "    first_row = next(reader)\n",
    "\n",
    "    # Définir la liste des types de données souhaités pour chaque colonne\n",
    "    # Dans cet exemple, la première colonne est une chaîne de caractères et la deuxième colonne est un nombre décimal\n",
    "    types = [str, float]\n",
    "\n",
    "    # Convertir chaque cellule de la première ligne au type de données souhaité pour sa colonne\n",
    "    converted_row = []\n",
    "    for i in range(len(first_row)):\n",
    "        converted_cell = types[i](first_row[i])\n",
    "        converted_row.append(converted_cell)\n",
    "\n",
    "print(converted_row)\n"
   ]
  },
  {
   "cell_type": "markdown",
   "id": "47363958",
   "metadata": {},
   "source": [
    "## Représentation de la table\n",
    "\n",
    "Nous allons maintenant chercher à charger la table entière en mémoire. Il va falloir trouver une structure permettant de stocker ses informations pour réussir à les manipuler facilement.\n",
    "\n",
    "Nous allons donc créer une `list` des différents pays. Chaque élément de cette liste sera donc une ligne de la table.\n",
    "\n",
    "Pour représenter une ligne, vous devrez choisir une manière de procéder:\n",
    "- une ligne pourrait être représentée par une `list`\n",
    "- une ligne pourrait être représentée par un `tuple`\n",
    "- une ligne pourrait être représentée par un `namedtuple`\n",
    "\n",
    "Il y a encore d'autres possibilités. Votre choix de représentation influera sur votre manière de manipuler les données de la table pour répondre à différentes questions dans un autre TP.\n",
    "\n",
    "Utilisez la cellule suivante pour charger le fichier `pays.csv` dans une variable.\n",
    "\n",
    "N'oubliez pas que les cellules doivent être du bon type."
   ]
  },
  {
   "cell_type": "code",
   "execution_count": 2,
   "id": "d888d14e",
   "metadata": {},
   "outputs": [],
   "source": [
    "import csv\n",
    "\n",
    "# Définir les types de données souhaités pour chaque colonne\n",
    "# Dans cet exemple, la première colonne est une chaîne de caractères, la deuxième colonne est une chaîne de caractères, la troisième colonne est une chaîne de caractères, etc.\n",
    "types = [str, str, str, str, float, int, int,\n",
    "         float, float, str, str, str, str, int, str]\n",
    "\n",
    "# Ouvrir le fichier CSV et créer un objet lecteur csv.reader\n",
    "with open('pays.csv', newline='', encoding='utf-8') as csvfile:\n",
    "    reader = csv.reader(csvfile, delimiter=';')\n",
    "\n",
    "    # Lire la première ligne de la table et la convertir en utilisant les types de données souhaités\n",
    "    headers = next(reader)\n",
    "    headers_converted = [types[i](headers[i]) for i in range(len(headers))]\n",
    "\n",
    "    # Lire les lignes suivantes de la table et les convertir en utilisant les types de données souhaités\n",
    "    rows = []\n",
    "    for row in reader:\n",
    "        if row[6] is None or row[6] == 'NULL':\n",
    "            pop = None\n",
    "        else:\n",
    "            pop = int(row[6])\n",
    "        row_converted = [types[i](row[i]) if row[i] !=\n",
    "                         'NULL' else None for i in range(len(row))]\n",
    "        row_converted[6] = pop\n",
    "        rows.append(tuple(row_converted))\n",
    "\n",
    "# Créer la liste des pays en combinant les en-têtes et les lignes\n",
    "pays = [headers_converted] + rows\n",
    "\n",
    "\n",
    "\n",
    "\n"
   ]
  },
  {
   "cell_type": "markdown",
   "id": "21c22c97",
   "metadata": {},
   "source": [
    "## Une première utilisation de la table\n",
    "\n",
    "Maintenant que vous disposez d'une variable contenant l'intégralité des données de la table, vous allez l'utiliser, dans la cellule suivante, pour afficher tous les pays d'Europe."
   ]
  },
  {
   "cell_type": "code",
   "execution_count": 3,
   "id": "c4730eb8",
   "metadata": {},
   "outputs": [
    {
     "name": "stdout",
     "output_type": "stream",
     "text": [
      "Netherlands\n",
      "Albania\n",
      "Andorra\n",
      "Belgium\n",
      "Bosnia and Herzegovina\n",
      "Bulgaria\n",
      "Spain\n",
      "Gibraltar\n",
      "Italy\n",
      "Austria\n",
      "Yugoslavia\n",
      "Greece\n",
      "Croatia\n",
      "Liechtenstein\n",
      "Luxembourg\n",
      "Macedonia\n",
      "Malta\n",
      "Moldova\n",
      "Monaco\n",
      "Portugal\n",
      "Poland\n",
      "France\n",
      "Romania\n",
      "Germany\n",
      "San Marino\n",
      "Slovakia\n",
      "Slovenia\n",
      "Switzerland\n",
      "Czech Republic\n",
      "Ukraine\n",
      "Hungary\n",
      "Belarus\n",
      "Holy See (Vatican City State)\n",
      "Russian Federation\n"
     ]
    }
   ],
   "source": [
    "# Afficher les noms des pays\n",
    "for row in pays:\n",
    "    if row[3] in [\"Eastern Europe\", \"Southern Europe\", \"Western Europe\", \"Europe\"]:\n",
    "        print(row[1])\n"
   ]
  },
  {
   "cell_type": "markdown",
   "id": "3af22b5a",
   "metadata": {},
   "source": [
    "C'est déjà bien pour ce TP. Nous continuerons de manipuler la table la prochaine fois."
   ]
  }
 ],
 "metadata": {
  "kernelspec": {
   "display_name": "Python 3 (ipykernel)",
   "language": "python",
   "name": "python3"
  },
  "language_info": {
   "codemirror_mode": {
    "name": "ipython",
    "version": 3
   },
   "file_extension": ".py",
   "mimetype": "text/x-python",
   "name": "python",
   "nbconvert_exporter": "python",
   "pygments_lexer": "ipython3",
   "version": "3.11.3"
  }
 },
 "nbformat": 4,
 "nbformat_minor": 5
}
