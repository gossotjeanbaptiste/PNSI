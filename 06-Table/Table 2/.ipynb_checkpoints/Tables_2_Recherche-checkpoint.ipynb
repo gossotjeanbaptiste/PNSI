{
 "cells": [
  {
   "cell_type": "markdown",
   "id": "4fe463d9",
   "metadata": {},
   "source": [
    "# TP Les pays du monde - Recherche dans une table\n",
    "\n",
    "### Previously on NSI\n",
    "\n",
    "Dans le TP précédent, nous avons appris à charger les données d'une table en mémoire vive dans notre programme.  \n",
    "\n",
    "Vous trouverez un exemple de correction dans le fichier `chargement.py`. Ce fichier contient une fonction `chargePays` qui permet de charger la table des pays en donnant une `list` de `namedtuple`.\n",
    "\n",
    "**Attention:** la fonction `chargePays` ne permet d'importer que les données de `pays.csv`. Elle échouera à charger une table qui n'a pas exactement le mêmes nombres de colonnes ou dont les colonnes ne seront pas exactement du même type (entier, nombres à virgules). Une fonction pour charger d'autres tables sera fournie ultérieurement.\n",
    "\n",
    "Ce fichier contient aussi, dans une fonction `main` un petit programme qui affiche la table complète ainsi que la table restreinte aux seuls pays d'Europe (dernière étape du TP précédent). Cette partie du programme utilise le module `affichage.py` aussi fourni.\n",
    "\n",
    "Le module `affichage.py` contient une fonction `afficher_table` qui prend en argument:\n",
    "- la table à afficher (une `list` de `namedtuple`, `tuple` ou `list`)\n",
    "- le titre sous forme d'un `str` du titre à afficher avant la table (à la fois en haut de la fenêtre et dans la barre de titre). Cet argument est optionnel.\n",
    "- l'indice (`int`) de la première ligne que l'on veut afficher. Par défaut: 0\n",
    "- l'indice (`int`) de la dernière ligne que l'on veut afficher. Si fin est à None (valeur par défaut), on affiche jusqu'à la dernière ligne.\n",
    "\n",
    "Cette fonction affiche la table dans une fenêtre `tkinter`. Vous pouvez utiliser les deux modules `affichage.py` et `chargement.py` dans ce TP. Vous pouvez aussi utiliser le TP précédent pour le chargement de la table et/ou écrire votre propre programme pour afficher une table.\n",
    "\n",
    "Le cellule suivante vous permet de copier-coller les fonctions utiles du TP précédent. Vous pouvez aussi les copier dans un fichier `.py` et vous contenter de l'importer. Dans ce cas, ce fichier devra être dans le même dossier que ce notebook."
   ]
  },
  {
   "cell_type": "code",
   "execution_count": 2,
   "id": "4f7cf460",
   "metadata": {},
   "outputs": [],
   "source": [
    "from collections import namedtuple\n",
    "def chargePays(cheminFichier):\n",
    "    \"\"\"\n",
    "    Fonction pour charger la table \"pays.csv\".\n",
    "\n",
    "    Argument:\n",
    "            - cheminFichier: str du chemin du fichier à charger\n",
    "\n",
    "    Renvoi:\n",
    "            Les données chargées sous forme d'une list de namedtuple.\n",
    "\n",
    "    Le choix du namedtuple permet un accès aux données d'une ligne\n",
    "    de la table à partir du numéro de colonne ou du nom du champ\n",
    "    correspondant à cette colonne.\n",
    "\n",
    "    Le fichier doit être cohérent avec la table attendue\n",
    "    \"\"\"\n",
    "    # Ouverture du fichier en lecture:\n",
    "    # L'argument encoding permet d'utiliser le bon charset lors du chargement du fichier. Les versions récentes de python devraient utiliser UTF-8 par défaut, mais cette précaution assure le compatibilité lors de l'ouverture.\n",
    "    with open('pays.csv', \"r\", encoding=\"UTF-8\") as fichier:\n",
    "        # Création du namedtuple Pays:\n",
    "        Pays = namedtuple(\"Pays\", [\"Code\", \"Nom\", \"Continent\", \"Region\",  \"Aire\", \"AnneeIndependance\", \"Population\",\n",
    "                          \"EsperanceVie\", \"PIB\", \"PIBAncien\", \"NomLocal\", \"FormeGouvernement\", \"ChefEtat\", \"Capitale\", \"Code2\"])\n",
    "        # List pour accueillir les données de la table\n",
    "        table = []\n",
    "\n",
    "        for ligne in fichier:\n",
    "            # Il faut penser à enlever le retour à la ligne en fin de ligne\n",
    "            ligne = ligne.rstrip(\"\\n\")\n",
    "            # On crée la liste des éléments en coupant au séparateur \";\"\n",
    "            cellules = ligne.split(\";\")\n",
    "            # Il faut convertir les cellules dans le type voulu\n",
    "            # Pour le faire de manière automatique, on utilise un tuple des types attendus.\n",
    "            types = (str, str, str, str, float, int, int, float,\n",
    "                     float, float, str, str, str, int, str)\n",
    "            for i in range(len(cellules)):\n",
    "                if cellules[i] == \"NULL\":  # Précaution pour gérer les NULL\n",
    "                    cellules[i] = None\n",
    "                else:\n",
    "                    # Equivalent à str(cellules[i]), int(cellules[i]), float(cellules[i]),... selon le type rencontré dans types\n",
    "                    cellules[i] = types[i](cellules[i])\n",
    "            # Ajout d'un nouveau namedtuple dans la table:\n",
    "            # Le * unpack la list en ses composants.\n",
    "            table.append(Pays(*cellules))\n",
    "\n",
    "    return table\n",
    "\n",
    "from affichage import * "
   ]
  },
  {
   "cell_type": "markdown",
   "id": "ef17a527",
   "metadata": {},
   "source": [
    "## Recherches dans la table\n",
    "\n",
    "Maintenant que vous savez charger la table et que vous avez déjà fait une recherche à l'intérieur, nous allons nous servir de la table pour y effectuer des recherches et en extraire de l'information.\n",
    "\n",
    "Si vous utilisez `chargement.py`, la table est une `list` de `namedtuple` dont les champs sont, dans cet ordre:\n",
    "`\"Code\", \"Nom\", \"Continent\", \"Region\",  \"Aire\", \"AnneeIndependance\", \"Population\", \"EsperanceVie\", \"PIB\", \"PIBAncien\", \"NomLocal\", \"FormeGouvernement\", \"ChefEtat\", \"Capitale\", \"Code2\"`\n",
    "\n",
    "### Les monarchies\n",
    "\n",
    "Afficher la table de tous les pays dont la forme de gouvernement est une monarchie (`\"Monarchy\"`)"
   ]
  },
  {
   "cell_type": "code",
   "execution_count": 10,
   "id": "eaadcc43",
   "metadata": {},
   "outputs": [],
   "source": [
    "pays = chargePays(\"pays.csv\")\n",
    "monarchy = [(p.Nom, p.FormeGouvernement) for p in pays if \"Monarchy\" in p.FormeGouvernement]\n",
    "afficher_table(monarchy, \"Les pays d'une monarchie\")"
   ]
  },
  {
   "cell_type": "markdown",
   "id": "082393e2",
   "metadata": {},
   "source": [
    "### Petit pays\n",
    "\n",
    "Afficher la table de tous les pays dont la surface fait moins de 100 km²."
   ]
  },
  {
   "cell_type": "code",
   "execution_count": 31,
   "id": "ca5c6c19",
   "metadata": {},
   "outputs": [],
   "source": [
    "petitpays = [(p.Nom, p.Aire) for p in pays if p.Aire < 100]\n",
    "afficher_table(petitpays, \"Les plus petit pays du Monde\")"
   ]
  },
  {
   "cell_type": "markdown",
   "id": "2f9a1ead",
   "metadata": {},
   "source": [
    "### Là où on vit vieux\n",
    "\n",
    "Donner table de tous les pays dans lesquels l'espérance de vie est supérieure à 79 ans.\n",
    "\n",
    "**Attention:** L'espérance de vie peut avoir la valeur `None` pour certains pays. Or, on ne peut pas comparer `None` à un nombre."
   ]
  },
  {
   "cell_type": "code",
   "execution_count": 32,
   "id": "7627438e",
   "metadata": {},
   "outputs": [],
   "source": [
    "lesvieux = [(p.Nom, p.EsperanceVie) for p in pays if p.EsperanceVie and p.EsperanceVie >= 79]\n",
    "afficher_table(lesvieux, \"Les pays dans lesquels on vit VIEUX\")"
   ]
  },
  {
   "cell_type": "markdown",
   "id": "a56721e5",
   "metadata": {},
   "source": [
    "### Là où on a moins de chance\n",
    "\n",
    "Donner **le** pays dans lesquels l'espérance de vie est la plus faible."
   ]
  },
  {
   "cell_type": "code",
   "execution_count": 35,
   "id": "745b375f",
   "metadata": {},
   "outputs": [],
   "source": [
    "def pays_esperance_vie_faible(pays):\n",
    "    \"\"\"\n",
    "    Renvoie le namedtuple du pays avec la plus faible espérance de vie.\n",
    "\n",
    "    Arguments:\n",
    "    - pays : list de namedtuple de pays\n",
    "\n",
    "    Renvoi:\n",
    "    - namedtuple : le namedtuple du pays avec la plus faible espérance de vie\n",
    "\n",
    "    \"\"\"\n",
    "    # Initialisation du pays avec la plus faible espérance de vie\n",
    "    pays_faible_esperance_vie = pays[0]\n",
    "\n",
    "    # Parcours de tous les pays pour trouver celui avec la plus faible espérance de vie\n",
    "    for p in pays:\n",
    "        if p.EsperanceVie is not None and p.EsperanceVie < pays_faible_esperance_vie.EsperanceVie:\n",
    "            pays_faible_esperance_vie = p\n",
    "\n",
    "    return pays_faible_esperance_vie\n",
    "\n",
    "\n",
    "afficher_table([pays_esperance_vie_faible(pays)], \"Pays dont l'espérance de vie est la plus faible\")\n"
   ]
  },
  {
   "cell_type": "code",
   "execution_count": 36,
   "id": "ee69ecd8",
   "metadata": {},
   "outputs": [
    {
     "name": "stdout",
     "output_type": "stream",
     "text": [
      "0.9999999999999999\n"
     ]
    }
   ],
   "source": [
    "#Attention en cas d'ex-aequo ne pas test l'égalité \n",
    "\n",
    "a = 0 \n",
    "for i in range(10):\n",
    "    a += 0.1\n",
    "print(a)\n",
    "\n",
    "#a == 1.0 FAUX\n",
    "#abs(a-1.0) < 0.0000001 VRAI"
   ]
  },
  {
   "cell_type": "markdown",
   "id": "2fae25e5",
   "metadata": {},
   "source": [
    "### Son boulot de dans plein de pays\n",
    "\n",
    "Donner la table de tous les pays dont le chef d'état est le président français."
   ]
  },
  {
   "cell_type": "code",
   "execution_count": 22,
   "id": "dd577fe1",
   "metadata": {},
   "outputs": [],
   "source": [
    "president_francais = [(p.Nom, p.ChefEtat) for p in pays if p.ChefEtat == \"Jacques Chirac\"]\n",
    "afficher_table(president_francais, \"Les pays où le président est le président français\")"
   ]
  },
  {
   "cell_type": "markdown",
   "id": "efd7a1ec",
   "metadata": {},
   "source": [
    "### Le même en bref\n",
    "\n",
    "La table précédente contenant beaucoup de colonnes, n'affichez que les colonnes du nom du pays, du continent et du chef d'état (pour vérifier que c'est toujours le même)."
   ]
  },
  {
   "cell_type": "code",
   "execution_count": 23,
   "id": "8291574c",
   "metadata": {},
   "outputs": [],
   "source": [
    "def construire_table_pays_continent_chef(pays):\n",
    "    \"\"\"\n",
    "    Construit une table de pays avec leur continent et chef d'état.\n",
    "    Arguments :\n",
    "        pays : une liste de tuples contenant le nom, le continent et le chef d'état de chaque pays.\n",
    "    Returns :\n",
    "        Une liste de namedtuple PaysAffichage contenant le nom, le continent et le chef d'état de chaque pays.\n",
    "    \"\"\"\n",
    "    PaysAffichage = namedtuple(\n",
    "        'PaysAffichage', ['Nom', 'Continent', 'ChefEtat'])\n",
    "    table_affichage = [PaysAffichage(p[0], p[1], p[2]) for p in pays]\n",
    "    return table_affichage\n",
    "\n",
    "\n",
    "table_pays_continent_chef = construire_table_pays_continent_chef(pays)\n",
    "afficher_table(table_pays_continent_chef, \"Noms des pays, Continent, ChefEtat\")\n"
   ]
  },
  {
   "cell_type": "markdown",
   "id": "8d50a4c4",
   "metadata": {},
   "source": [
    "### Y a un monde fou ici!\n",
    "\n",
    "Donner la table de tous les pays dont la densité de population dépasse 500 habitants par km².\n",
    "\n",
    "La table ne montrera que le nom du pays, sa population, sa superficie et sa densité de population."
   ]
  },
  {
   "cell_type": "code",
   "execution_count": 24,
   "id": "a2a89c00",
   "metadata": {},
   "outputs": [],
   "source": [
    "def table_densite(pays):\n",
    "    \"\"\"\n",
    "    Construit une table de pays dont la densité de population est supérieure à 500.\n",
    "    Arguments :\n",
    "        pays : Une liste de namedtuple Pays contenant les informations sur chaque pays.\n",
    "    Returns :\n",
    "        Une liste de namedtuple PaysDensite contenant le nom, la population, la superficie et la densité de population de chaque pays.\n",
    "    \"\"\"\n",
    "    PaysDensite = namedtuple(\n",
    "        'PaysDensite', ['Nom', 'Population', 'Aire', 'Densite'])\n",
    "\n",
    "    table_affichage = [PaysDensite(\n",
    "        \"Nom\", \"Population\", \"Aire\", \"Densite\")]\n",
    "\n",
    "    table_affichage += [PaysDensite(p.Nom, p.Population, p.Aire, p.Population / p.Aire)\n",
    "                        for p in pays if p.Population / p.Aire > 500]\n",
    "\n",
    "    return table_affichage\n",
    "\n",
    "\n",
    "\n",
    "table_pays_densite = table_densite(pays)\n",
    "afficher_table(table_pays_densite,\n",
    "               \"Noms des pays, Population, Aire, Densite de population\")\n"
   ]
  },
  {
   "cell_type": "markdown",
   "id": "e654e546",
   "metadata": {},
   "source": [
    "### Plusieurs critères\n",
    "\n",
    "Donner la table de tous les pays dont le PIB dépasse 100 000 et dont l'espérance de vie est inférieure à 78 ans."
   ]
  },
  {
   "cell_type": "code",
   "execution_count": 25,
   "id": "b8606f94",
   "metadata": {},
   "outputs": [],
   "source": [
    "pib_espvie = [(p.Nom, p.PIB, p.EsperanceVie) for p in pays if p.PIB > 100000 and p.EsperanceVie < 78]\n",
    "afficher_table(pib_espvie, \"Les pays avec un PIB supérieur à 100 000 et une espérance de vie inférieur à 78 ans\")"
   ]
  },
  {
   "cell_type": "markdown",
   "id": "8552bcc1",
   "metadata": {},
   "source": [
    "Donner la table de toutes les républiques ayant accédé à l'indépendance après la 2ème guerre mondiale."
   ]
  },
  {
   "cell_type": "code",
   "execution_count": 27,
   "id": "e5c376a9",
   "metadata": {},
   "outputs": [],
   "source": [
    "respublica_wwii = [(p.Nom, p.FormeGouvernement, p.AnneeIndependance) for p in pays if p.FormeGouvernement == \"Republic\" and p.AnneeIndependance > 1945]\n",
    "afficher_table(respublica_wwii, \"Les pays qui sont une république et qui sont indépendant après la seconde guerre mondiale\")"
   ]
  },
  {
   "cell_type": "markdown",
   "id": "6c5807b6",
   "metadata": {},
   "source": [
    "## Un peu de calcul\n",
    "\n",
    "### C'est grand comment l'Amérique ?\n",
    "\n",
    "Donnez la surface totale de l'Amérique du nord."
   ]
  },
  {
   "cell_type": "code",
   "execution_count": 9,
   "id": "19224916",
   "metadata": {},
   "outputs": [
    {
     "name": "stdout",
     "output_type": "stream",
     "text": [
      "21500515.0km²\n"
     ]
    }
   ],
   "source": [
    "aire_northusa = 0\n",
    "for p in pays:\n",
    "    if p.Region == \"North America\":\n",
    "        aire_northusa += p.Aire\n",
    "print(f\"{aire_northusa}km²\")"
   ]
  },
  {
   "cell_type": "markdown",
   "id": "49c4a98f",
   "metadata": {},
   "source": [
    "### Recensement mondial\n",
    "\n",
    "Construire une table dont les lignes représentent les différents continents existants. Cette table aura deux colonnes: le nom du continent et sa population totale."
   ]
  },
  {
   "cell_type": "code",
   "execution_count": 28,
   "id": "03e602bb",
   "metadata": {},
   "outputs": [],
   "source": [
    "def construire_table_continents(pays):\n",
    "    \"\"\"\n",
    "    Construit une table de continents avec leur population totale.\n",
    "    Arguments :\n",
    "        pays : Une liste de namedtuple Pays contenant les informations sur chaque pays.\n",
    "    Returns :\n",
    "        Une liste de namedtuple Continents contenant le nom du continent et sa population totale.\n",
    "    \"\"\"\n",
    "    Continents = namedtuple('Continents', ['Region', 'Population'])\n",
    "\n",
    "    continents_population = {p.Region: 0 for p in pays}\n",
    "\n",
    "    for p in pays:\n",
    "        continents_population[p.Region] += p.Population\n",
    "\n",
    "    return [Continents(region, population) for region, population in continents_population.items()]\n",
    "\n",
    "table_continents = construire_table_continents(pays)\n",
    "afficher_table(table_continents, \"Noms des continents, Population\")\n"
   ]
  },
  {
   "cell_type": "markdown",
   "id": "cd48bdc6",
   "metadata": {},
   "source": [
    "### La classe moyenne\n",
    "\n",
    "Calculer la moyenne des PIB de tous les pays."
   ]
  },
  {
   "cell_type": "code",
   "execution_count": 29,
   "id": "a84decb3",
   "metadata": {},
   "outputs": [
    {
     "name": "stdout",
     "output_type": "stream",
     "text": [
      "La moyenne des PIB de tous les pays est : 122823.0$\n"
     ]
    }
   ],
   "source": [
    "somme_pib = 0\n",
    "nombre_pays = 0\n",
    "\n",
    "for p in pays:\n",
    "    somme_pib += p.PIB\n",
    "    nombre_pays += 1\n",
    "\n",
    "moyenne_pib = somme_pib // nombre_pays\n",
    "\n",
    "print(f\"La moyenne des PIB de tous les pays est : {moyenne_pib}$\")\n"
   ]
  },
  {
   "cell_type": "markdown",
   "id": "96883bf6",
   "metadata": {},
   "source": [
    "### Des croissants?\n",
    "\n",
    "Trouvez le pays dont l'évolution du PIB est la plus faible en pourcentage (calcul: `(PIB - PIBAncien) / PIBAncien * 100`). Affichez le nom du pays et l'évolution de son PIB en pourcentage."
   ]
  },
  {
   "cell_type": "code",
   "execution_count": 30,
   "id": "48b2acff",
   "metadata": {},
   "outputs": [
    {
     "name": "stdout",
     "output_type": "stream",
     "text": [
      "La plus faible évolution du PIB est de -60.47385605715295% pour le pays Indonesia\n"
     ]
    }
   ],
   "source": [
    "def pays_evolution_pib_faible(pays):\n",
    "    \"\"\"\n",
    "    Calcule l'évolution du PIB la plus faible parmi une liste de pays\n",
    "    \"\"\"\n",
    "    # Initialisation de la valeur minimale\n",
    "    faible_evolution = None\n",
    "    nom_pays_faible = None\n",
    "    # On parcourt chaque pays de la table\n",
    "    for p in pays:\n",
    "        # On calcule l'évolution du PIB en pourcentage\n",
    "        if p.PIBAncien is not None:\n",
    "            evolution = (p.PIB - p.PIBAncien) / p.PIBAncien * 100\n",
    "            # Si cette évolution est la plus faible rencontrée jusqu'à présent, on met à jour le résultat\n",
    "            if faible_evolution is None or evolution < faible_evolution:\n",
    "                faible_evolution = evolution\n",
    "                nom_pays_faible = p.Nom\n",
    "    # On retourne le résultat\n",
    "    return faible_evolution, nom_pays_faible\n",
    "\n",
    "\n",
    "# Calculer l'évolution du PIB la plus faible\n",
    "pourcentage, nom_pays_faible = pays_evolution_pib_faible(pays)\n",
    "\n",
    "pays = chargePays(\"pays.csv\")\n",
    "\n",
    "# Affichage du résultat\n",
    "if pourcentage is not None and nom_pays_faible is not None:\n",
    "    print(\"La plus faible évolution du PIB est de {}% pour le pays {}\".format(\n",
    "        pourcentage, nom_pays_faible))\n",
    "else:\n",
    "    print(\"Aucun pays avec un PIB ancien n'a été trouvé\")\n"
   ]
  },
  {
   "cell_type": "markdown",
   "id": "f3be6399",
   "metadata": {},
   "source": [
    "C'est la fin de ce TP, mais maintenant que vous savez rechercher de dans la table selon certains critères, vous pouvez imaginer vos propres questions et chercher à y répondre."
   ]
  }
 ],
 "metadata": {
  "kernelspec": {
   "display_name": "Python 3 (ipykernel)",
   "language": "python",
   "name": "python3"
  },
  "language_info": {
   "codemirror_mode": {
    "name": "ipython",
    "version": 3
   },
   "file_extension": ".py",
   "mimetype": "text/x-python",
   "name": "python",
   "nbconvert_exporter": "python",
   "pygments_lexer": "ipython3",
   "version": "3.11.3"
  }
 },
 "nbformat": 4,
 "nbformat_minor": 5
}
